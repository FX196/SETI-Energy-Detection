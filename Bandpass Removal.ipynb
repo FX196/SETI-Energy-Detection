{
 "cells": [
  {
   "cell_type": "code",
   "execution_count": 1,
   "metadata": {},
   "outputs": [],
   "source": [
    "%matplotlib inline\n",
    "import numpy as np\n",
    "from scipy import stats, interpolate\n",
    "from blimpy import Waterfall\n",
    "from matplotlib import pyplot as plt\n",
    "from bisect import bisect_left\n",
    "from tqdm import tqdm\n",
    "import dask.array as da\n",
    "import h5py as h5\n",
    "import os\n",
    "\n",
    "from utils import *\n",
    "\n",
    "fil_path = \"data/filterbanks/\"\n",
    "h5_path = \"data/h5/\"\n",
    "\n",
    "test_fil = fil_path + \"blc20_guppi_57991_48899_3C161_0007.gpuspec.0000.fil\"\n",
    "\n",
    "fri_obs = h5_path + \"GBT_57532_09539_HIP56445_fine.h5\""
   ]
  },
  {
   "cell_type": "code",
   "execution_count": 2,
   "metadata": {},
   "outputs": [
    {
     "name": "stdout",
     "output_type": "stream",
     "text": [
      "blimpy.file_wrapper INFO     Skipping loading data ...\n",
      "\n",
      "--- File Info ---\n",
      "b'DIMENSION_LABELS' : [b'frequency' b'feed_id' b'time']\n",
      "     b'az_start' :                              0.0\n",
      "    b'data_type' :                                1\n",
      "         b'fch1' :                    1926.26953125\n",
      "         b'foff' :           -2.835503418452676e-06\n",
      "   b'machine_id' :                               20\n",
      "        b'nbits' :                               32\n",
      "       b'nchans' :                        318230528\n",
      "         b'nifs' :                                1\n",
      "  b'source_name' :                      b'HIP56445'\n",
      "      b'src_dej' :                     3d03m34.006s\n",
      "      b'src_raj' :                    11h34m21.699s\n",
      " b'telescope_id' :                                6\n",
      "        b'tsamp' :                     17.986224128\n",
      "       b'tstart' :                57532.11040509259\n",
      "     b'za_start' :                              0.0\n",
      "\n",
      "Num ints in file :                               16\n",
      "      File shape :               (16, 1, 318230528)\n",
      "--- Selection Info ---\n",
      "Data selection shape :               (16, 1, 318230528)\n",
      "Minimum freq (MHz) :               1023.9257812499999\n",
      "Maximum freq (MHz) :                    1926.26953125\n"
     ]
    },
    {
     "name": "stderr",
     "output_type": "stream",
     "text": [
      "/Users/yuhongc/PycharmProjects/BSRC_Env/lib/python3.6/site-packages/blimpy/file_wrapper.py:326: H5pyDeprecationWarning: The default file mode will change to 'r' (read-only) in h5py 3.0. To suppress this warning, pass the mode you need to h5py.File(), or set the global default h5.get_config().default_file_mode, or set the environment variable H5PY_DEFAULT_READONLY=1. Available modes are: 'r', 'r+', 'w', 'w-'/'x', 'a'. See the docs for details.\n",
      "  self.h5 = h5py.File(self.filename)\n"
     ]
    }
   ],
   "source": [
    "# Show Info\n",
    "wf = Waterfall(fri_obs, load_data=False)\n",
    "wf.info()"
   ]
  },
  {
   "cell_type": "code",
   "execution_count": 3,
   "metadata": {},
   "outputs": [
    {
     "data": {
      "text/plain": [
       "1033216"
      ]
     },
     "execution_count": 3,
     "metadata": {},
     "output_type": "execute_result"
    }
   ],
   "source": [
    "coarse_channel_width = np.int(np.round(187.5/64/abs(wf.header[b'foff'])))\n",
    "coarse_channel_width"
   ]
  },
  {
   "cell_type": "markdown",
   "metadata": {},
   "source": [
    "freqs, data = wf.grab_data(f_start=0, f_stop=1070)\n",
    "print(data.shape)\n",
    "freqs = freqs[::-1]\n",
    "data = data[:,::-1]"
   ]
  },
  {
   "cell_type": "markdown",
   "metadata": {},
   "source": [
    "data = data[:, :15 * coarse_channel_width]\n",
    "freqs = freqs[:15 * coarse_channel_width]\n",
    "\n",
    "integrated = np.sum(data, axis=0)/len(data)\n",
    "for n in np.nonzero(integrated > 10**13):\n",
    "    integrated[n] = (integrated[n-1] + integrated[n+1]) /2\n",
    "plt.figure()\n",
    "plt.plot(freqs[:15*1033216], np.log(integrated))"
   ]
  },
  {
   "cell_type": "markdown",
   "metadata": {},
   "source": [
    "channels = np.reshape(integrated, (-1, coarse_channel_width))"
   ]
  },
  {
   "cell_type": "markdown",
   "metadata": {},
   "source": [
    "# plot spectrum and selected channel (logged)\n",
    "\n",
    "channel_ind = 4\n",
    "chan_freqs = freqs[coarse_channel_width * channel_ind: coarse_channel_width * (channel_ind+1)]\n",
    "plt.figure()\n",
    "plt.plot(freqs[:15*coarse_channel_width], np.log(integrated))\n",
    "\n",
    "\n",
    "plt.plot(chan_freqs, np.log(channels[channel_ind]))"
   ]
  },
  {
   "cell_type": "markdown",
   "metadata": {},
   "source": [
    "plt.figure()\n",
    "plt.plot(chan_freqs, channels[channel_ind])"
   ]
  },
  {
   "cell_type": "code",
   "execution_count": 7,
   "metadata": {},
   "outputs": [
    {
     "name": "stdout",
     "output_type": "stream",
     "text": [
      "Downsampling by a factor of (1, 3531)\n"
     ]
    },
    {
     "data": {
      "image/png": "[encoded data removed]",
      "text/plain": [
       "<Figure size 720x432 with 1 Axes>"
      ]
     },
     "metadata": {
      "needs_background": "light"
     },
     "output_type": "display_data"
    }
   ],
   "source": [
    "orig_block1 = np.load(\"GBT_57532_09539_HIP56445_fine/original/0.npy\")\n",
    "orig_block1 = orig_block1[:,0,:]\n",
    "plot_segment(orig_block1)"
   ]
  },
  {
   "cell_type": "code",
   "execution_count": 8,
   "metadata": {},
   "outputs": [
    {
     "name": "stdout",
     "output_type": "stream",
     "text": [
      "Downsampling by a factor of (1, 3531)\n",
      "(16, 14465024)\n"
     ]
    },
    {
     "data": {
      "image/png": "[encoded data removed]",
      "text/plain": [
       "<Figure size 720x432 with 1 Axes>"
      ]
     },
     "metadata": {
      "needs_background": "light"
     },
     "output_type": "display_data"
    }
   ],
   "source": [
    "block1 = np.load(\"GBT_57532_09539_HIP56445_fine/normalized/0.npy\")\n",
    "block2 = np.load(\"GBT_57532_09539_HIP56445_fine/normalized/1.npy\")\n",
    "\n",
    "block1 = block1[:, 0, :]\n",
    "block2 = block2[:, 0, :]\n",
    "\n",
    "plot_segment(block1)\n",
    "print(block1.shape)"
   ]
  },
  {
   "cell_type": "code",
   "execution_count": 9,
   "metadata": {},
   "outputs": [
    {
     "data": {
      "text/plain": [
       "(14, 1033216)"
      ]
     },
     "execution_count": 9,
     "metadata": {},
     "output_type": "execute_result"
    }
   ],
   "source": [
    "integrated = np.mean(block1, axis=0)\n",
    "for n in np.nonzero(integrated > 800):\n",
    "    integrated[n] = (integrated[n-1] + integrated[n+1]) /2\n",
    "channels = np.reshape(integrated, (-1, coarse_channel_width))\n",
    "channels.shape"
   ]
  },
  {
   "cell_type": "code",
   "execution_count": 10,
   "metadata": {},
   "outputs": [
    {
     "data": {
      "text/plain": [
       "[<matplotlib.lines.Line2D at 0x12c9f49e8>]"
      ]
     },
     "execution_count": 10,
     "metadata": {},
     "output_type": "execute_result"
    },
    {
     "data": {
      "image/png": "[encoded data removed]",
      "text/plain": [
       "<Figure size 432x288 with 1 Axes>"
      ]
     },
     "metadata": {
      "needs_background": "light"
     },
     "output_type": "display_data"
    }
   ],
   "source": [
    "order = 16\n",
    "channel_ind = 7\n",
    "x = np.arange(coarse_channel_width)\n",
    "knots = np.arange(0, coarse_channel_width, coarse_channel_width//order+1)\n",
    "spl = interpolate.splrep(x, channels[channel_ind], t=knots[1:])\n",
    "chan_fit = interpolate.splev(x, spl)\n",
    "\n",
    "plt.figure()\n",
    "plt.plot(x, channels[channel_ind])\n",
    "plt.plot(x, chan_fit)"
   ]
  },
  {
   "cell_type": "code",
   "execution_count": null,
   "metadata": {},
   "outputs": [],
   "source": [
    "residuals = channels[channel_ind] - chan_fit\n",
    "plt.figure()\n",
    "plt.plot(x, residuals)"
   ]
  },
  {
   "cell_type": "code",
   "execution_count": null,
   "metadata": {
    "scrolled": false
   },
   "outputs": [],
   "source": [
    "norm_chan = block1[:, channel_ind*coarse_channel_width:(channel_ind+1)*coarse_channel_width] - chan_fit\n",
    "\n",
    "norm_chan[norm_chan > 800] = 0\n",
    "    \n",
    "plot_segment(norm_chan)"
   ]
  },
  {
   "cell_type": "code",
   "execution_count": null,
   "metadata": {},
   "outputs": [],
   "source": []
  },
  {
   "cell_type": "code",
   "execution_count": null,
   "metadata": {},
   "outputs": [],
   "source": [
    "fit_1 = fit_channel_bandpass(block1[:, :coarse_channel_width], channels[0])"
   ]
  },
  {
   "cell_type": "code",
   "execution_count": null,
   "metadata": {},
   "outputs": [],
   "source": [
    "np.allclose(norm_chan0, block1[:, :coarse_channel_width]-chan_fit)"
   ]
  },
  {
   "cell_type": "code",
   "execution_count": null,
   "metadata": {},
   "outputs": [],
   "source": [
    "np.allclose(norm_chan0, remove_channel_bandpass(block1[:, :coarse_channel_width], channels[0]))"
   ]
  },
  {
   "cell_type": "code",
   "execution_count": null,
   "metadata": {},
   "outputs": [],
   "source": [
    "remove_channel_bandpass(block1[:, coarse_channel_width*(channel_ind):coarse_channel_width*(channel_ind+1)],\n",
    "                       channels[channel_ind])"
   ]
  },
  {
   "cell_type": "code",
   "execution_count": null,
   "metadata": {},
   "outputs": [],
   "source": [
    "def clean(channel_ind):\n",
    "        return remove_channel_bandpass(block1[:, coarse_channel_width*(channel_ind):coarse_channel_width*(channel_ind+1)],\n",
    "                       channels[channel_ind], coarse_channel_width)\n",
    "\n",
    "def normalize_block():\n",
    "    from multiprocessing import Pool\n",
    "    with Pool(12) as p:\n",
    "        cleaned = p.map(clean, range(14))\n",
    "    return cleaned"
   ]
  },
  {
   "cell_type": "code",
   "execution_count": null,
   "metadata": {},
   "outputs": [],
   "source": [
    "normalized = normalize_block()"
   ]
  },
  {
   "cell_type": "code",
   "execution_count": null,
   "metadata": {},
   "outputs": [],
   "source": [
    "plot_segment(normalized)"
   ]
  },
  {
   "cell_type": "code",
   "execution_count": null,
   "metadata": {},
   "outputs": [],
   "source": [
    "np.concatenate(normalized, axis=1).shape == block1.shape"
   ]
  },
  {
   "cell_type": "code",
   "execution_count": 6,
   "metadata": {},
   "outputs": [],
   "source": [
    "blocks = [block1]"
   ]
  },
  {
   "cell_type": "code",
   "execution_count": 14,
   "metadata": {},
   "outputs": [
    {
     "name": "stdout",
     "output_type": "stream",
     "text": [
      "ForkPoolWorker-91\n",
      "ForkPoolWorker-89\n",
      "ForkPoolWorker-86\n",
      "ForkPoolWorker-90\n",
      "ForkPoolWorker-87\n",
      "ForkPoolWorker-85\n",
      "ForkPoolWorker-92\n",
      "ForkPoolWorker-88\n",
      "ForkPoolWorker-95\n",
      "ForkPoolWorker-94\n",
      "ForkPoolWorker-93\n",
      "ForkPoolWorker-96\n",
      "ForkPoolWorker-87\n",
      "ForkPoolWorker-94\n"
     ]
    }
   ],
   "source": [
    "for block in blocks:\n",
    "    from multiprocessing import Pool, current_process\n",
    "    def clean(channel_ind):\n",
    "        print(current_process().name)\n",
    "        return remove_channel_bandpass(block[:, coarse_channel_width*(channel_ind):coarse_channel_width*(channel_ind+1)],\n",
    "                       channels[channel_ind], coarse_channel_width)\n",
    "\n",
    "    def normalize_block():\n",
    "        with Pool(12) as p:\n",
    "            cleaned = p.map(clean, range(14))\n",
    "        return cleaned\n",
    "    normalized = normalize_block()\n",
    "    normalized = np.concatenate(normalized, axis=1)"
   ]
  },
  {
   "cell_type": "code",
   "execution_count": null,
   "metadata": {},
   "outputs": [],
   "source": [
    "plot_data = normalized[:, 1400*3531:1700*3531]\n",
    "plot_data[plot_data > 900]=0\n",
    "plot_segment(plot_data)"
   ]
  },
  {
   "cell_type": "code",
   "execution_count": null,
   "metadata": {},
   "outputs": [],
   "source": [
    "plot_data = block1[:, 1530*3531:1540*3531]\n",
    "plot_segment(plot_data)"
   ]
  },
  {
   "cell_type": "code",
   "execution_count": null,
   "metadata": {},
   "outputs": [],
   "source": [
    "plt.imshow(plot_data, aspect=\"auto\")"
   ]
  },
  {
   "cell_type": "code",
   "execution_count": 15,
   "metadata": {},
   "outputs": [
    {
     "data": {
      "text/plain": [
       "['20.npy',\n",
       " '21.npy',\n",
       " '19.npy',\n",
       " '18.npy',\n",
       " '5.npy',\n",
       " '4.npy',\n",
       " '6.npy',\n",
       " '7.npy',\n",
       " '3.npy',\n",
       " '2.npy',\n",
       " '0.npy',\n",
       " '1.npy',\n",
       " 'info',\n",
       " '9.npy',\n",
       " '8.npy',\n",
       " '15.npy',\n",
       " '14.npy',\n",
       " '16.npy',\n",
       " '17.npy',\n",
       " '13.npy',\n",
       " '12.npy',\n",
       " '10.npy',\n",
       " '11.npy']"
      ]
     },
     "execution_count": 15,
     "metadata": {},
     "output_type": "execute_result"
    }
   ],
   "source": [
    "import os\n",
    "source_dir = \"normalized_a/\"\n",
    "blocks = os.listdir(source_dir)\n",
    "blocks"
   ]
  },
  {
   "cell_type": "code",
   "execution_count": 18,
   "metadata": {},
   "outputs": [
    {
     "name": "stdout",
     "output_type": "stream",
     "text": [
      "loading 20.npy from normalized_a/\n",
      "ForkPoolWorker-121\n",
      "ForkPoolWorker-124\n",
      "ForkPoolWorker-123\n",
      "ForkPoolWorker-128\n",
      "ForkPoolWorker-126\n",
      "ForkPoolWorker-125\n",
      "ForkPoolWorker-122\n",
      "ForkPoolWorker-127\n",
      "ForkPoolWorker-129\n",
      "ForkPoolWorker-131\n",
      "ForkPoolWorker-130\n",
      "ForkPoolWorker-132\n",
      "ForkPoolWorker-128\n",
      "ForkPoolWorker-129\n",
      "loading 21.npy from normalized_a/\n",
      "ForkPoolWorker-133\n",
      "ForkPoolWorker-136\n",
      "ForkPoolWorker-135\n",
      "ForkPoolWorker-134\n",
      "ForkPoolWorker-140\n",
      "ForkPoolWorker-142\n",
      "ForkPoolWorker-138\n",
      "ForkPoolWorker-143\n",
      "ForkPoolWorker-141\n",
      "ForkPoolWorker-139\n",
      "ForkPoolWorker-137\n",
      "ForkPoolWorker-144\n",
      "ForkPoolWorker-135\n",
      "ForkPoolWorker-134\n"
     ]
    }
   ],
   "source": [
    "for block in blocks[:2]:\n",
    "    print(\"loading %s from %s\" % (block, source_dir))\n",
    "    block_data = np.load(source_dir+block)\n",
    "    block_data = block_data[:, 0, :]\n",
    "    integrated = np.mean(block1, axis=0)\n",
    "    for n in np.nonzero(integrated > 800):\n",
    "        integrated[n] = (integrated[n-1] + integrated[n+1]) /2\n",
    "    channels = np.reshape(integrated, (-1, coarse_channel_width))\n",
    "    \n",
    "    \n",
    "    from multiprocessing import Pool, current_process\n",
    "    def clean(channel_ind):\n",
    "        print(current_process().name)\n",
    "        return remove_channel_bandpass(block_data[:, coarse_channel_width*(channel_ind):coarse_channel_width*(channel_ind+1)],\n",
    "                       channels[channel_ind], coarse_channel_width)\n",
    "\n",
    "    def normalize_block():\n",
    "        with Pool(12) as p:\n",
    "            cleaned = p.map(clean, range(14))\n",
    "        return cleaned\n",
    "    normalized = normalize_block()\n",
    "    normalized = np.concatenate(normalized, axis=1)"
   ]
  },
  {
   "cell_type": "code",
   "execution_count": 19,
   "metadata": {},
   "outputs": [
    {
     "data": {
      "text/plain": [
       "'21.npy'"
      ]
     },
     "execution_count": 19,
     "metadata": {},
     "output_type": "execute_result"
    }
   ],
   "source": [
    "block"
   ]
  },
  {
   "cell_type": "code",
   "execution_count": 20,
   "metadata": {},
   "outputs": [],
   "source": [
    "np.save(\"clean\"+block, normalized)"
   ]
  },
  {
   "cell_type": "code",
   "execution_count": null,
   "metadata": {},
   "outputs": [],
   "source": []
  }
 ],
 "metadata": {
  "kernelspec": {
   "display_name": "BSRC_Env",
   "language": "python",
   "name": "bsrc_env"
  },
  "language_info": {
   "codemirror_mode": {
    "name": "ipython",
    "version": 3
   },
   "file_extension": ".py",
   "mimetype": "text/x-python",
   "name": "python",
   "nbconvert_exporter": "python",
   "pygments_lexer": "ipython3",
   "version": "3.6.5"
  }
 },
 "nbformat": 4,
 "nbformat_minor": 2
}
