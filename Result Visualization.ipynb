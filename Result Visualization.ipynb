{
 "cells": [
  {
   "cell_type": "code",
   "execution_count": 2,
   "metadata": {},
   "outputs": [],
   "source": [
    "import pandas as pd\n",
    "import numpy as np\n",
    "from matplotlib import pyplot as plt"
   ]
  },
  {
   "cell_type": "code",
   "execution_count": 3,
   "metadata": {},
   "outputs": [
    {
     "data": {
      "text/html": [
       "<div>\n",
       "<style scoped>\n",
       "    .dataframe tbody tr th:only-of-type {\n",
       "        vertical-align: middle;\n",
       "    }\n",
       "\n",
       "    .dataframe tbody tr th {\n",
       "        vertical-align: top;\n",
       "    }\n",
       "\n",
       "    .dataframe thead th {\n",
       "        text-align: right;\n",
       "    }\n",
       "</style>\n",
       "<table border=\"1\" class=\"dataframe\">\n",
       "  <thead>\n",
       "    <tr style=\"text-align: right;\">\n",
       "      <th></th>\n",
       "      <th>statistic</th>\n",
       "      <th>pvalue</th>\n",
       "      <th>freqs</th>\n",
       "    </tr>\n",
       "    <tr>\n",
       "      <th>index</th>\n",
       "      <th></th>\n",
       "      <th></th>\n",
       "      <th></th>\n",
       "    </tr>\n",
       "  </thead>\n",
       "  <tbody>\n",
       "    <tr>\n",
       "      <td>289301080</td>\n",
       "      <td>6219.655813</td>\n",
       "      <td>0.000000e+00</td>\n",
       "      <td>1105.955330</td>\n",
       "    </tr>\n",
       "    <tr>\n",
       "      <td>289301180</td>\n",
       "      <td>6234.612421</td>\n",
       "      <td>0.000000e+00</td>\n",
       "      <td>1105.955046</td>\n",
       "    </tr>\n",
       "    <tr>\n",
       "      <td>289302380</td>\n",
       "      <td>301.247182</td>\n",
       "      <td>3.845966e-66</td>\n",
       "      <td>1105.951644</td>\n",
       "    </tr>\n",
       "    <tr>\n",
       "      <td>289302480</td>\n",
       "      <td>295.603308</td>\n",
       "      <td>6.464831e-65</td>\n",
       "      <td>1105.951360</td>\n",
       "    </tr>\n",
       "    <tr>\n",
       "      <td>289460580</td>\n",
       "      <td>1892.986158</td>\n",
       "      <td>0.000000e+00</td>\n",
       "      <td>1105.503067</td>\n",
       "    </tr>\n",
       "    <tr>\n",
       "      <td>...</td>\n",
       "      <td>...</td>\n",
       "      <td>...</td>\n",
       "      <td>...</td>\n",
       "    </tr>\n",
       "    <tr>\n",
       "      <td>172513356</td>\n",
       "      <td>273.589265</td>\n",
       "      <td>3.898037e-60</td>\n",
       "      <td>1437.107321</td>\n",
       "    </tr>\n",
       "    <tr>\n",
       "      <td>172641072</td>\n",
       "      <td>925.144163</td>\n",
       "      <td>1.280848e-201</td>\n",
       "      <td>1436.745181</td>\n",
       "    </tr>\n",
       "    <tr>\n",
       "      <td>172641172</td>\n",
       "      <td>901.779106</td>\n",
       "      <td>1.517593e-196</td>\n",
       "      <td>1436.744898</td>\n",
       "    </tr>\n",
       "    <tr>\n",
       "      <td>173063572</td>\n",
       "      <td>5932.901913</td>\n",
       "      <td>0.000000e+00</td>\n",
       "      <td>1435.547181</td>\n",
       "    </tr>\n",
       "    <tr>\n",
       "      <td>173063672</td>\n",
       "      <td>5932.901832</td>\n",
       "      <td>0.000000e+00</td>\n",
       "      <td>1435.546898</td>\n",
       "    </tr>\n",
       "  </tbody>\n",
       "</table>\n",
       "<p>347731 rows × 3 columns</p>\n",
       "</div>"
      ],
      "text/plain": [
       "             statistic         pvalue        freqs\n",
       "index                                             \n",
       "289301080  6219.655813   0.000000e+00  1105.955330\n",
       "289301180  6234.612421   0.000000e+00  1105.955046\n",
       "289302380   301.247182   3.845966e-66  1105.951644\n",
       "289302480   295.603308   6.464831e-65  1105.951360\n",
       "289460580  1892.986158   0.000000e+00  1105.503067\n",
       "...                ...            ...          ...\n",
       "172513356   273.589265   3.898037e-60  1437.107321\n",
       "172641072   925.144163  1.280848e-201  1436.745181\n",
       "172641172   901.779106  1.517593e-196  1436.744898\n",
       "173063572  5932.901913   0.000000e+00  1435.547181\n",
       "173063672  5932.901832   0.000000e+00  1435.546898\n",
       "\n",
       "[347731 rows x 3 columns]"
      ]
     },
     "execution_count": 3,
     "metadata": {},
     "output_type": "execute_result"
    }
   ],
   "source": [
    "df0 = pd.read_pickle(\"GBT_57532_09539_HIP56445_fine/info.pkl\")\n",
    "df0 = df0.set_index(\"index\")\n",
    "df0"
   ]
  },
  {
   "cell_type": "code",
   "execution_count": 4,
   "metadata": {},
   "outputs": [
    {
     "data": {
      "text/html": [
       "<div>\n",
       "<style scoped>\n",
       "    .dataframe tbody tr th:only-of-type {\n",
       "        vertical-align: middle;\n",
       "    }\n",
       "\n",
       "    .dataframe tbody tr th {\n",
       "        vertical-align: top;\n",
       "    }\n",
       "\n",
       "    .dataframe thead th {\n",
       "        text-align: right;\n",
       "    }\n",
       "</style>\n",
       "<table border=\"1\" class=\"dataframe\">\n",
       "  <thead>\n",
       "    <tr style=\"text-align: right;\">\n",
       "      <th></th>\n",
       "      <th>statistic</th>\n",
       "      <th>pvalue</th>\n",
       "      <th>block_num</th>\n",
       "      <th>freqs</th>\n",
       "    </tr>\n",
       "    <tr>\n",
       "      <th>index</th>\n",
       "      <th></th>\n",
       "      <th></th>\n",
       "      <th></th>\n",
       "      <th></th>\n",
       "    </tr>\n",
       "  </thead>\n",
       "  <tbody>\n",
       "    <tr>\n",
       "      <td>144650240</td>\n",
       "      <td>23.706093</td>\n",
       "      <td>7.116842e-06</td>\n",
       "      <td>10</td>\n",
       "      <td>1516.113281</td>\n",
       "    </tr>\n",
       "    <tr>\n",
       "      <td>144650340</td>\n",
       "      <td>16.291228</td>\n",
       "      <td>2.900046e-04</td>\n",
       "      <td>10</td>\n",
       "      <td>1516.112998</td>\n",
       "    </tr>\n",
       "    <tr>\n",
       "      <td>144650440</td>\n",
       "      <td>19.844449</td>\n",
       "      <td>4.907188e-05</td>\n",
       "      <td>10</td>\n",
       "      <td>1516.112714</td>\n",
       "    </tr>\n",
       "    <tr>\n",
       "      <td>144650540</td>\n",
       "      <td>32.538668</td>\n",
       "      <td>8.596429e-08</td>\n",
       "      <td>10</td>\n",
       "      <td>1516.112431</td>\n",
       "    </tr>\n",
       "    <tr>\n",
       "      <td>144650640</td>\n",
       "      <td>55.228122</td>\n",
       "      <td>1.017105e-12</td>\n",
       "      <td>10</td>\n",
       "      <td>1516.112147</td>\n",
       "    </tr>\n",
       "    <tr>\n",
       "      <td>...</td>\n",
       "      <td>...</td>\n",
       "      <td>...</td>\n",
       "      <td>...</td>\n",
       "      <td>...</td>\n",
       "    </tr>\n",
       "    <tr>\n",
       "      <td>57859580</td>\n",
       "      <td>26.128031</td>\n",
       "      <td>2.120168e-06</td>\n",
       "      <td>3</td>\n",
       "      <td>1762.208494</td>\n",
       "    </tr>\n",
       "    <tr>\n",
       "      <td>57859680</td>\n",
       "      <td>20.256921</td>\n",
       "      <td>3.992690e-05</td>\n",
       "      <td>3</td>\n",
       "      <td>1762.208211</td>\n",
       "    </tr>\n",
       "    <tr>\n",
       "      <td>57859780</td>\n",
       "      <td>33.136980</td>\n",
       "      <td>6.373767e-08</td>\n",
       "      <td>3</td>\n",
       "      <td>1762.207927</td>\n",
       "    </tr>\n",
       "    <tr>\n",
       "      <td>57859880</td>\n",
       "      <td>53.243936</td>\n",
       "      <td>2.743003e-12</td>\n",
       "      <td>3</td>\n",
       "      <td>1762.207644</td>\n",
       "    </tr>\n",
       "    <tr>\n",
       "      <td>57859980</td>\n",
       "      <td>24.605677</td>\n",
       "      <td>4.538843e-06</td>\n",
       "      <td>3</td>\n",
       "      <td>1762.207360</td>\n",
       "    </tr>\n",
       "  </tbody>\n",
       "</table>\n",
       "<p>3182256 rows × 4 columns</p>\n",
       "</div>"
      ],
      "text/plain": [
       "           statistic        pvalue  block_num        freqs\n",
       "index                                                     \n",
       "144650240  23.706093  7.116842e-06         10  1516.113281\n",
       "144650340  16.291228  2.900046e-04         10  1516.112998\n",
       "144650440  19.844449  4.907188e-05         10  1516.112714\n",
       "144650540  32.538668  8.596429e-08         10  1516.112431\n",
       "144650640  55.228122  1.017105e-12         10  1516.112147\n",
       "...              ...           ...        ...          ...\n",
       "57859580   26.128031  2.120168e-06          3  1762.208494\n",
       "57859680   20.256921  3.992690e-05          3  1762.208211\n",
       "57859780   33.136980  6.373767e-08          3  1762.207927\n",
       "57859880   53.243936  2.743003e-12          3  1762.207644\n",
       "57859980   24.605677  4.538843e-06          3  1762.207360\n",
       "\n",
       "[3182256 rows x 4 columns]"
      ]
     },
     "execution_count": 4,
     "metadata": {},
     "output_type": "execute_result"
    }
   ],
   "source": [
    "df = pd.read_pickle(\"info_all.pkl\")\n",
    "df = df.set_index(\"index\")\n",
    "df"
   ]
  },
  {
   "cell_type": "code",
   "execution_count": 5,
   "metadata": {},
   "outputs": [
    {
     "data": {
      "text/html": [
       "<div>\n",
       "<style scoped>\n",
       "    .dataframe tbody tr th:only-of-type {\n",
       "        vertical-align: middle;\n",
       "    }\n",
       "\n",
       "    .dataframe tbody tr th {\n",
       "        vertical-align: top;\n",
       "    }\n",
       "\n",
       "    .dataframe thead th {\n",
       "        text-align: right;\n",
       "    }\n",
       "</style>\n",
       "<table border=\"1\" class=\"dataframe\">\n",
       "  <thead>\n",
       "    <tr style=\"text-align: right;\">\n",
       "      <th></th>\n",
       "      <th>statistic</th>\n",
       "      <th>pvalue</th>\n",
       "      <th>block_num</th>\n",
       "      <th>freqs</th>\n",
       "    </tr>\n",
       "    <tr>\n",
       "      <th>index</th>\n",
       "      <th></th>\n",
       "      <th></th>\n",
       "      <th></th>\n",
       "      <th></th>\n",
       "    </tr>\n",
       "  </thead>\n",
       "  <tbody>\n",
       "    <tr>\n",
       "      <td>0</td>\n",
       "      <td>1458.939302</td>\n",
       "      <td>0.000000e+00</td>\n",
       "      <td>0</td>\n",
       "      <td>1926.269531</td>\n",
       "    </tr>\n",
       "    <tr>\n",
       "      <td>100</td>\n",
       "      <td>1164.556241</td>\n",
       "      <td>1.317726e-253</td>\n",
       "      <td>0</td>\n",
       "      <td>1926.269248</td>\n",
       "    </tr>\n",
       "    <tr>\n",
       "      <td>200</td>\n",
       "      <td>1242.913410</td>\n",
       "      <td>1.272865e-270</td>\n",
       "      <td>0</td>\n",
       "      <td>1926.268964</td>\n",
       "    </tr>\n",
       "    <tr>\n",
       "      <td>300</td>\n",
       "      <td>1533.651612</td>\n",
       "      <td>0.000000e+00</td>\n",
       "      <td>0</td>\n",
       "      <td>1926.268681</td>\n",
       "    </tr>\n",
       "    <tr>\n",
       "      <td>400</td>\n",
       "      <td>1585.480041</td>\n",
       "      <td>0.000000e+00</td>\n",
       "      <td>0</td>\n",
       "      <td>1926.268397</td>\n",
       "    </tr>\n",
       "    <tr>\n",
       "      <td>...</td>\n",
       "      <td>...</td>\n",
       "      <td>...</td>\n",
       "      <td>...</td>\n",
       "      <td>...</td>\n",
       "    </tr>\n",
       "    <tr>\n",
       "      <td>318230012</td>\n",
       "      <td>24.068235</td>\n",
       "      <td>5.938123e-06</td>\n",
       "      <td>21</td>\n",
       "      <td>1023.927244</td>\n",
       "    </tr>\n",
       "    <tr>\n",
       "      <td>318230112</td>\n",
       "      <td>20.517493</td>\n",
       "      <td>3.504959e-05</td>\n",
       "      <td>21</td>\n",
       "      <td>1023.926961</td>\n",
       "    </tr>\n",
       "    <tr>\n",
       "      <td>318230212</td>\n",
       "      <td>25.032166</td>\n",
       "      <td>3.667197e-06</td>\n",
       "      <td>21</td>\n",
       "      <td>1023.926677</td>\n",
       "    </tr>\n",
       "    <tr>\n",
       "      <td>318230312</td>\n",
       "      <td>25.777356</td>\n",
       "      <td>2.526494e-06</td>\n",
       "      <td>21</td>\n",
       "      <td>1023.926394</td>\n",
       "    </tr>\n",
       "    <tr>\n",
       "      <td>318230412</td>\n",
       "      <td>11.520460</td>\n",
       "      <td>3.150387e-03</td>\n",
       "      <td>21</td>\n",
       "      <td>1023.926110</td>\n",
       "    </tr>\n",
       "  </tbody>\n",
       "</table>\n",
       "<p>3182256 rows × 4 columns</p>\n",
       "</div>"
      ],
      "text/plain": [
       "             statistic         pvalue  block_num        freqs\n",
       "index                                                        \n",
       "0          1458.939302   0.000000e+00          0  1926.269531\n",
       "100        1164.556241  1.317726e-253          0  1926.269248\n",
       "200        1242.913410  1.272865e-270          0  1926.268964\n",
       "300        1533.651612   0.000000e+00          0  1926.268681\n",
       "400        1585.480041   0.000000e+00          0  1926.268397\n",
       "...                ...            ...        ...          ...\n",
       "318230012    24.068235   5.938123e-06         21  1023.927244\n",
       "318230112    20.517493   3.504959e-05         21  1023.926961\n",
       "318230212    25.032166   3.667197e-06         21  1023.926677\n",
       "318230312    25.777356   2.526494e-06         21  1023.926394\n",
       "318230412    11.520460   3.150387e-03         21  1023.926110\n",
       "\n",
       "[3182256 rows x 4 columns]"
      ]
     },
     "execution_count": 5,
     "metadata": {},
     "output_type": "execute_result"
    }
   ],
   "source": [
    "df0.sort_index()\n",
    "df.sort_index()"
   ]
  },
  {
   "cell_type": "code",
   "execution_count": 6,
   "metadata": {},
   "outputs": [
    {
     "data": {
      "text/html": [
       "<div>\n",
       "<style scoped>\n",
       "    .dataframe tbody tr th:only-of-type {\n",
       "        vertical-align: middle;\n",
       "    }\n",
       "\n",
       "    .dataframe tbody tr th {\n",
       "        vertical-align: top;\n",
       "    }\n",
       "\n",
       "    .dataframe thead th {\n",
       "        text-align: right;\n",
       "    }\n",
       "</style>\n",
       "<table border=\"1\" class=\"dataframe\">\n",
       "  <thead>\n",
       "    <tr style=\"text-align: right;\">\n",
       "      <th></th>\n",
       "      <th>statistic</th>\n",
       "      <th>pvalue</th>\n",
       "      <th>block_num</th>\n",
       "      <th>freqs</th>\n",
       "    </tr>\n",
       "  </thead>\n",
       "  <tbody>\n",
       "    <tr>\n",
       "      <td>count</td>\n",
       "      <td>3.182256e+06</td>\n",
       "      <td>3.182256e+06</td>\n",
       "      <td>3.182256e+06</td>\n",
       "      <td>3.182256e+06</td>\n",
       "    </tr>\n",
       "    <tr>\n",
       "      <td>mean</td>\n",
       "      <td>2.177388e+02</td>\n",
       "      <td>1.382241e-03</td>\n",
       "      <td>1.050000e+01</td>\n",
       "      <td>1.475098e+03</td>\n",
       "    </tr>\n",
       "    <tr>\n",
       "      <td>std</td>\n",
       "      <td>8.034907e+02</td>\n",
       "      <td>1.293470e-02</td>\n",
       "      <td>6.344290e+00</td>\n",
       "      <td>2.604842e+02</td>\n",
       "    </tr>\n",
       "    <tr>\n",
       "      <td>min</td>\n",
       "      <td>3.119978e-03</td>\n",
       "      <td>0.000000e+00</td>\n",
       "      <td>0.000000e+00</td>\n",
       "      <td>1.023926e+03</td>\n",
       "    </tr>\n",
       "    <tr>\n",
       "      <td>25%</td>\n",
       "      <td>1.971069e+01</td>\n",
       "      <td>5.846351e-10</td>\n",
       "      <td>5.000000e+00</td>\n",
       "      <td>1.249512e+03</td>\n",
       "    </tr>\n",
       "    <tr>\n",
       "      <td>50%</td>\n",
       "      <td>2.813181e+01</td>\n",
       "      <td>7.784932e-07</td>\n",
       "      <td>1.050000e+01</td>\n",
       "      <td>1.475098e+03</td>\n",
       "    </tr>\n",
       "    <tr>\n",
       "      <td>75%</td>\n",
       "      <td>4.252007e+01</td>\n",
       "      <td>5.246614e-05</td>\n",
       "      <td>1.600000e+01</td>\n",
       "      <td>1.700684e+03</td>\n",
       "    </tr>\n",
       "    <tr>\n",
       "      <td>max</td>\n",
       "      <td>1.049079e+04</td>\n",
       "      <td>9.984412e-01</td>\n",
       "      <td>2.100000e+01</td>\n",
       "      <td>1.926270e+03</td>\n",
       "    </tr>\n",
       "  </tbody>\n",
       "</table>\n",
       "</div>"
      ],
      "text/plain": [
       "          statistic        pvalue     block_num         freqs\n",
       "count  3.182256e+06  3.182256e+06  3.182256e+06  3.182256e+06\n",
       "mean   2.177388e+02  1.382241e-03  1.050000e+01  1.475098e+03\n",
       "std    8.034907e+02  1.293470e-02  6.344290e+00  2.604842e+02\n",
       "min    3.119978e-03  0.000000e+00  0.000000e+00  1.023926e+03\n",
       "25%    1.971069e+01  5.846351e-10  5.000000e+00  1.249512e+03\n",
       "50%    2.813181e+01  7.784932e-07  1.050000e+01  1.475098e+03\n",
       "75%    4.252007e+01  5.246614e-05  1.600000e+01  1.700684e+03\n",
       "max    1.049079e+04  9.984412e-01  2.100000e+01  1.926270e+03"
      ]
     },
     "execution_count": 6,
     "metadata": {},
     "output_type": "execute_result"
    }
   ],
   "source": [
    "df.describe()"
   ]
  },
  {
   "cell_type": "code",
   "execution_count": 7,
   "metadata": {},
   "outputs": [],
   "source": [
    "filtered_freqs = df[\"freqs\"]\n",
    "p_vals = df[\"pvalue\"]\n",
    "stats = df[\"statistic\"]"
   ]
  },
  {
   "cell_type": "code",
   "execution_count": null,
   "metadata": {},
   "outputs": [],
   "source": [
    "num_bins = int(1000000//(1926.269531 - 1025.390648))\n",
    "plt.figure()\n",
    "plt.title(f\"Histogram of Hits (bin size = {(1926.269531 - 1025.390648) / num_bins} MHz)\")\n",
    "plt.ylabel(\"number of hits\")\n",
    "plt.xlabel(\"frequency [MHz]\")\n",
    "n, bins, patches = plt.hist(filtered_freqs, bins=num_bins)"
   ]
  },
  {
   "cell_type": "code",
   "execution_count": 8,
   "metadata": {},
   "outputs": [
    {
     "data": {
      "text/plain": [
       "[<matplotlib.lines.Line2D at 0x110c122e8>]"
      ]
     },
     "execution_count": 8,
     "metadata": {},
     "output_type": "execute_result"
    },
    {
     "data": {
      "image/png": "[encoded data removed]",
      "text/plain": [
       "<Figure size 432x288 with 1 Axes>"
      ]
     },
     "metadata": {
      "needs_background": "light"
     },
     "output_type": "display_data"
    }
   ],
   "source": [
    "plt.figure()\n",
    "plt.yscale(\"log\")\n",
    "plt.ylabel(\"p-value\")\n",
    "plt.xlabel(\"frequency [MHz]\")\n",
    "plt.plot(filtered_freqs, p_vals,'b,')"
   ]
  },
  {
   "cell_type": "code",
   "execution_count": 9,
   "metadata": {},
   "outputs": [
    {
     "data": {
      "text/plain": [
       "[<matplotlib.lines.Line2D at 0x12b009470>]"
      ]
     },
     "execution_count": 9,
     "metadata": {},
     "output_type": "execute_result"
    },
    {
     "data": {
      "image/png": "[encoded data removed]",
      "text/plain": [
       "<Figure size 432x288 with 1 Axes>"
      ]
     },
     "metadata": {
      "needs_background": "light"
     },
     "output_type": "display_data"
    }
   ],
   "source": [
    "plt.figure()\n",
    "plt.ylabel(\"statistic\")\n",
    "plt.xlabel(\"frequency [MHz]\")\n",
    "plt.plot(filtered_freqs, stats,'b,')"
   ]
  },
  {
   "cell_type": "code",
   "execution_count": 14,
   "metadata": {},
   "outputs": [
    {
     "data": {
      "image/png": "[encoded data removed]",
      "text/plain": [
       "<Figure size 432x288 with 1 Axes>"
      ]
     },
     "metadata": {
      "needs_background": "light"
     },
     "output_type": "display_data"
    }
   ],
   "source": [
    "plt.figure()\n",
    "plt.yscale(\"log\")\n",
    "n, bins, patches = plt.hist(np.log(p_vals+1e-50), bins=10000)"
   ]
  },
  {
   "cell_type": "code",
   "execution_count": null,
   "metadata": {},
   "outputs": [],
   "source": [
    "plt.figure()\n",
    "plt.yscale(\"log\")\n",
    "n, bins, patches = plt.hist(stats, bins=10000)"
   ]
  },
  {
   "cell_type": "code",
   "execution_count": null,
   "metadata": {},
   "outputs": [],
   "source": []
  },
  {
   "cell_type": "code",
   "execution_count": 44,
   "metadata": {},
   "outputs": [
    {
     "data": {
      "text/plain": [
       "statistic     8.635740e+02\n",
       "pvalue       3.001089e-188\n",
       "freqs         1.183392e+03\n",
       "Name: 261991248, dtype: float64"
      ]
     },
     "execution_count": 44,
     "metadata": {},
     "output_type": "execute_result"
    }
   ],
   "source": [
    "df0.sort_values(\"pvalue\").iloc[347723//2]"
   ]
  },
  {
   "cell_type": "code",
   "execution_count": 45,
   "metadata": {},
   "outputs": [],
   "source": [
    "a = np.load(\"136007196.npy\")\n",
    "b = np.load(\"261625748.npy\")\n",
    "c = np.load(\"261991248.npy\")"
   ]
  },
  {
   "cell_type": "code",
   "execution_count": 46,
   "metadata": {},
   "outputs": [
    {
     "data": {
      "text/plain": [
       "<matplotlib.image.AxesImage at 0x1515e1940>"
      ]
     },
     "execution_count": 46,
     "metadata": {},
     "output_type": "execute_result"
    },
    {
     "data": {
      "image/png": "[encoded data removed]",
      "text/plain": [
       "<Figure size 432x288 with 1 Axes>"
      ]
     },
     "metadata": {
      "needs_background": "light"
     },
     "output_type": "display_data"
    }
   ],
   "source": [
    "plt.imshow(a, aspect=\"auto\")"
   ]
  },
  {
   "cell_type": "code",
   "execution_count": 47,
   "metadata": {},
   "outputs": [
    {
     "data": {
      "text/plain": [
       "<matplotlib.image.AxesImage at 0x151b5a1d0>"
      ]
     },
     "execution_count": 47,
     "metadata": {},
     "output_type": "execute_result"
    },
    {
     "data": {
      "image/png": "[encoded data removed]",
      "text/plain": [
       "<Figure size 432x288 with 1 Axes>"
      ]
     },
     "metadata": {
      "needs_background": "light"
     },
     "output_type": "display_data"
    }
   ],
   "source": [
    "plt.imshow(b, aspect=\"auto\")"
   ]
  },
  {
   "cell_type": "code",
   "execution_count": 48,
   "metadata": {},
   "outputs": [
    {
     "data": {
      "text/plain": [
       "<matplotlib.image.AxesImage at 0x151535a20>"
      ]
     },
     "execution_count": 48,
     "metadata": {},
     "output_type": "execute_result"
    },
    {
     "data": {
      "image/png": "[encoded data removed]",
      "text/plain": [
       "<Figure size 432x288 with 1 Axes>"
      ]
     },
     "metadata": {
      "needs_background": "light"
     },
     "output_type": "display_data"
    }
   ],
   "source": [
    "plt.imshow(c, aspect=\"auto\")"
   ]
  },
  {
   "cell_type": "code",
   "execution_count": null,
   "metadata": {},
   "outputs": [],
   "source": []
  }
 ],
 "metadata": {
  "kernelspec": {
   "display_name": "BSRC_Env",
   "language": "python",
   "name": "bsrc_env"
  },
  "language_info": {
   "codemirror_mode": {
    "name": "ipython",
    "version": 3
   },
   "file_extension": ".py",
   "mimetype": "text/x-python",
   "name": "python",
   "nbconvert_exporter": "python",
   "pygments_lexer": "ipython3",
   "version": "3.6.5"
  }
 },
 "nbformat": 4,
 "nbformat_minor": 2
}
