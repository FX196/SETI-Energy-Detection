{
 "cells": [
  {
   "cell_type": "code",
   "execution_count": 1,
   "metadata": {},
   "outputs": [],
   "source": [
    "import pandas as pd\n",
    "import numpy as np\n",
    "from matplotlib import pyplot as plt\n",
    "\n",
    "\n",
    "f_off = -2.835503418452676e-06\n",
    "tsamp = 17.986224128\n",
    "plt_args = {\n",
    "            'aspect':'auto',\n",
    "            'origin':'lower',\n",
    "            'rasterized':True,\n",
    "            'interpolation':'nearest',\n",
    "            'cmap':'viridis'\n",
    "            }"
   ]
  },
  {
   "cell_type": "code",
   "execution_count": 2,
   "metadata": {},
   "outputs": [],
   "source": [
    "import ipywidgets as widgets\n",
    "from ipywidgets import interact, interact_manual"
   ]
  },
  {
   "cell_type": "code",
   "execution_count": 3,
   "metadata": {},
   "outputs": [
    {
     "data": {
      "text/html": [
       "<div>\n",
       "<style scoped>\n",
       "    .dataframe tbody tr th:only-of-type {\n",
       "        vertical-align: middle;\n",
       "    }\n",
       "\n",
       "    .dataframe tbody tr th {\n",
       "        vertical-align: top;\n",
       "    }\n",
       "\n",
       "    .dataframe thead th {\n",
       "        text-align: right;\n",
       "    }\n",
       "</style>\n",
       "<table border=\"1\" class=\"dataframe\">\n",
       "  <thead>\n",
       "    <tr style=\"text-align: right;\">\n",
       "      <th></th>\n",
       "      <th>statistic</th>\n",
       "      <th>pvalue</th>\n",
       "      <th>block_num</th>\n",
       "      <th>freqs</th>\n",
       "    </tr>\n",
       "    <tr>\n",
       "      <th>index</th>\n",
       "      <th></th>\n",
       "      <th></th>\n",
       "      <th></th>\n",
       "      <th></th>\n",
       "    </tr>\n",
       "  </thead>\n",
       "  <tbody>\n",
       "    <tr>\n",
       "      <td>0</td>\n",
       "      <td>1458.939302</td>\n",
       "      <td>0.000000e+00</td>\n",
       "      <td>0</td>\n",
       "      <td>1926.269531</td>\n",
       "    </tr>\n",
       "    <tr>\n",
       "      <td>100</td>\n",
       "      <td>1164.556241</td>\n",
       "      <td>1.317726e-253</td>\n",
       "      <td>0</td>\n",
       "      <td>1926.269248</td>\n",
       "    </tr>\n",
       "    <tr>\n",
       "      <td>200</td>\n",
       "      <td>1242.913410</td>\n",
       "      <td>1.272865e-270</td>\n",
       "      <td>0</td>\n",
       "      <td>1926.268964</td>\n",
       "    </tr>\n",
       "    <tr>\n",
       "      <td>300</td>\n",
       "      <td>1533.651612</td>\n",
       "      <td>0.000000e+00</td>\n",
       "      <td>0</td>\n",
       "      <td>1926.268681</td>\n",
       "    </tr>\n",
       "    <tr>\n",
       "      <td>400</td>\n",
       "      <td>1585.480041</td>\n",
       "      <td>0.000000e+00</td>\n",
       "      <td>0</td>\n",
       "      <td>1926.268397</td>\n",
       "    </tr>\n",
       "    <tr>\n",
       "      <td>...</td>\n",
       "      <td>...</td>\n",
       "      <td>...</td>\n",
       "      <td>...</td>\n",
       "      <td>...</td>\n",
       "    </tr>\n",
       "    <tr>\n",
       "      <td>318230012</td>\n",
       "      <td>24.068235</td>\n",
       "      <td>5.938123e-06</td>\n",
       "      <td>21</td>\n",
       "      <td>1023.927244</td>\n",
       "    </tr>\n",
       "    <tr>\n",
       "      <td>318230112</td>\n",
       "      <td>20.517493</td>\n",
       "      <td>3.504959e-05</td>\n",
       "      <td>21</td>\n",
       "      <td>1023.926961</td>\n",
       "    </tr>\n",
       "    <tr>\n",
       "      <td>318230212</td>\n",
       "      <td>25.032166</td>\n",
       "      <td>3.667197e-06</td>\n",
       "      <td>21</td>\n",
       "      <td>1023.926677</td>\n",
       "    </tr>\n",
       "    <tr>\n",
       "      <td>318230312</td>\n",
       "      <td>25.777356</td>\n",
       "      <td>2.526494e-06</td>\n",
       "      <td>21</td>\n",
       "      <td>1023.926394</td>\n",
       "    </tr>\n",
       "    <tr>\n",
       "      <td>318230412</td>\n",
       "      <td>11.520460</td>\n",
       "      <td>3.150387e-03</td>\n",
       "      <td>21</td>\n",
       "      <td>1023.926110</td>\n",
       "    </tr>\n",
       "  </tbody>\n",
       "</table>\n",
       "<p>3182256 rows × 4 columns</p>\n",
       "</div>"
      ],
      "text/plain": [
       "             statistic         pvalue  block_num        freqs\n",
       "index                                                        \n",
       "0          1458.939302   0.000000e+00          0  1926.269531\n",
       "100        1164.556241  1.317726e-253          0  1926.269248\n",
       "200        1242.913410  1.272865e-270          0  1926.268964\n",
       "300        1533.651612   0.000000e+00          0  1926.268681\n",
       "400        1585.480041   0.000000e+00          0  1926.268397\n",
       "...                ...            ...        ...          ...\n",
       "318230012    24.068235   5.938123e-06         21  1023.927244\n",
       "318230112    20.517493   3.504959e-05         21  1023.926961\n",
       "318230212    25.032166   3.667197e-06         21  1023.926677\n",
       "318230312    25.777356   2.526494e-06         21  1023.926394\n",
       "318230412    11.520460   3.150387e-03         21  1023.926110\n",
       "\n",
       "[3182256 rows x 4 columns]"
      ]
     },
     "execution_count": 3,
     "metadata": {},
     "output_type": "execute_result"
    }
   ],
   "source": [
    "df = pd.read_pickle(\"info_all.pkl\")\n",
    "df = df.set_index(\"index\")\n",
    "df.sort_index()"
   ]
  },
  {
   "cell_type": "code",
   "execution_count": 4,
   "metadata": {},
   "outputs": [
    {
     "data": {
      "text/html": [
       "<div>\n",
       "<style scoped>\n",
       "    .dataframe tbody tr th:only-of-type {\n",
       "        vertical-align: middle;\n",
       "    }\n",
       "\n",
       "    .dataframe tbody tr th {\n",
       "        vertical-align: top;\n",
       "    }\n",
       "\n",
       "    .dataframe thead th {\n",
       "        text-align: right;\n",
       "    }\n",
       "</style>\n",
       "<table border=\"1\" class=\"dataframe\">\n",
       "  <thead>\n",
       "    <tr style=\"text-align: right;\">\n",
       "      <th></th>\n",
       "      <th>statistic</th>\n",
       "      <th>pvalue</th>\n",
       "      <th>block_num</th>\n",
       "      <th>freqs</th>\n",
       "    </tr>\n",
       "  </thead>\n",
       "  <tbody>\n",
       "    <tr>\n",
       "      <td>count</td>\n",
       "      <td>3.182256e+06</td>\n",
       "      <td>3.182256e+06</td>\n",
       "      <td>3.182256e+06</td>\n",
       "      <td>3.182256e+06</td>\n",
       "    </tr>\n",
       "    <tr>\n",
       "      <td>mean</td>\n",
       "      <td>2.177388e+02</td>\n",
       "      <td>1.382241e-03</td>\n",
       "      <td>1.050000e+01</td>\n",
       "      <td>1.475098e+03</td>\n",
       "    </tr>\n",
       "    <tr>\n",
       "      <td>std</td>\n",
       "      <td>8.034907e+02</td>\n",
       "      <td>1.293470e-02</td>\n",
       "      <td>6.344290e+00</td>\n",
       "      <td>2.604842e+02</td>\n",
       "    </tr>\n",
       "    <tr>\n",
       "      <td>min</td>\n",
       "      <td>3.119978e-03</td>\n",
       "      <td>0.000000e+00</td>\n",
       "      <td>0.000000e+00</td>\n",
       "      <td>1.023926e+03</td>\n",
       "    </tr>\n",
       "    <tr>\n",
       "      <td>25%</td>\n",
       "      <td>1.971069e+01</td>\n",
       "      <td>5.846351e-10</td>\n",
       "      <td>5.000000e+00</td>\n",
       "      <td>1.249512e+03</td>\n",
       "    </tr>\n",
       "    <tr>\n",
       "      <td>50%</td>\n",
       "      <td>2.813181e+01</td>\n",
       "      <td>7.784932e-07</td>\n",
       "      <td>1.050000e+01</td>\n",
       "      <td>1.475098e+03</td>\n",
       "    </tr>\n",
       "    <tr>\n",
       "      <td>75%</td>\n",
       "      <td>4.252007e+01</td>\n",
       "      <td>5.246614e-05</td>\n",
       "      <td>1.600000e+01</td>\n",
       "      <td>1.700684e+03</td>\n",
       "    </tr>\n",
       "    <tr>\n",
       "      <td>max</td>\n",
       "      <td>1.049079e+04</td>\n",
       "      <td>9.984412e-01</td>\n",
       "      <td>2.100000e+01</td>\n",
       "      <td>1.926270e+03</td>\n",
       "    </tr>\n",
       "  </tbody>\n",
       "</table>\n",
       "</div>"
      ],
      "text/plain": [
       "          statistic        pvalue     block_num         freqs\n",
       "count  3.182256e+06  3.182256e+06  3.182256e+06  3.182256e+06\n",
       "mean   2.177388e+02  1.382241e-03  1.050000e+01  1.475098e+03\n",
       "std    8.034907e+02  1.293470e-02  6.344290e+00  2.604842e+02\n",
       "min    3.119978e-03  0.000000e+00  0.000000e+00  1.023926e+03\n",
       "25%    1.971069e+01  5.846351e-10  5.000000e+00  1.249512e+03\n",
       "50%    2.813181e+01  7.784932e-07  1.050000e+01  1.475098e+03\n",
       "75%    4.252007e+01  5.246614e-05  1.600000e+01  1.700684e+03\n",
       "max    1.049079e+04  9.984412e-01  2.100000e+01  1.926270e+03"
      ]
     },
     "execution_count": 4,
     "metadata": {},
     "output_type": "execute_result"
    }
   ],
   "source": [
    "df.describe()"
   ]
  },
  {
   "cell_type": "code",
   "execution_count": 5,
   "metadata": {},
   "outputs": [],
   "source": [
    "filtered_freqs = df[\"freqs\"]\n",
    "p_vals = df[\"pvalue\"]\n",
    "stats = df[\"statistic\"]"
   ]
  },
  {
   "cell_type": "code",
   "execution_count": 6,
   "metadata": {},
   "outputs": [
    {
     "data": {
      "text/plain": [
       "[<matplotlib.lines.Line2D at 0x10356ef60>]"
      ]
     },
     "execution_count": 6,
     "metadata": {},
     "output_type": "execute_result"
    },
    {
     "data": {
      "image/png": "[encoded data removed]",
      "text/plain": [
       "<Figure size 432x288 with 1 Axes>"
      ]
     },
     "metadata": {
      "needs_background": "light"
     },
     "output_type": "display_data"
    }
   ],
   "source": [
    "plt.figure()\n",
    "plt.yscale(\"log\")\n",
    "plt.ylabel(\"p-value\")\n",
    "plt.xlabel(\"frequency [MHz]\")\n",
    "plt.plot(filtered_freqs, p_vals,'b,')"
   ]
  },
  {
   "cell_type": "code",
   "execution_count": 7,
   "metadata": {},
   "outputs": [],
   "source": [
    "# plt.figure()\n",
    "# plt.ylabel(\"statistic\")\n",
    "# plt.xlabel(\"frequency [MHz]\")\n",
    "# plt.plot(filtered_freqs, stats,'b,')"
   ]
  },
  {
   "cell_type": "code",
   "execution_count": 8,
   "metadata": {},
   "outputs": [
    {
     "data": {
      "image/png": "[encoded data removed]",
      "text/plain": [
       "<Figure size 432x288 with 1 Axes>"
      ]
     },
     "metadata": {
      "needs_background": "light"
     },
     "output_type": "display_data"
    }
   ],
   "source": [
    "plt.figure()\n",
    "plt.yscale(\"log\")\n",
    "n, bins, patches = plt.hist(np.log(p_vals+1e-256), bins=1000)"
   ]
  },
  {
   "cell_type": "code",
   "execution_count": 9,
   "metadata": {},
   "outputs": [],
   "source": [
    "# plt.figure()\n",
    "# plt.yscale(\"log\")\n",
    "# n, bins, patches = plt.hist(stats, bins=1000)"
   ]
  },
  {
   "cell_type": "code",
   "execution_count": 10,
   "metadata": {},
   "outputs": [
    {
     "data": {
      "text/html": [
       "<div>\n",
       "<style scoped>\n",
       "    .dataframe tbody tr th:only-of-type {\n",
       "        vertical-align: middle;\n",
       "    }\n",
       "\n",
       "    .dataframe tbody tr th {\n",
       "        vertical-align: top;\n",
       "    }\n",
       "\n",
       "    .dataframe thead th {\n",
       "        text-align: right;\n",
       "    }\n",
       "</style>\n",
       "<table border=\"1\" class=\"dataframe\">\n",
       "  <thead>\n",
       "    <tr style=\"text-align: right;\">\n",
       "      <th></th>\n",
       "      <th>index</th>\n",
       "      <th>statistic</th>\n",
       "      <th>pvalue</th>\n",
       "      <th>block_num</th>\n",
       "      <th>freqs</th>\n",
       "    </tr>\n",
       "  </thead>\n",
       "  <tbody>\n",
       "    <tr>\n",
       "      <td>0</td>\n",
       "      <td>289301080</td>\n",
       "      <td>6219.655813</td>\n",
       "      <td>0.000000e+00</td>\n",
       "      <td>20</td>\n",
       "      <td>1105.955330</td>\n",
       "    </tr>\n",
       "    <tr>\n",
       "      <td>1</td>\n",
       "      <td>289301180</td>\n",
       "      <td>6234.612421</td>\n",
       "      <td>0.000000e+00</td>\n",
       "      <td>20</td>\n",
       "      <td>1105.955046</td>\n",
       "    </tr>\n",
       "    <tr>\n",
       "      <td>2</td>\n",
       "      <td>289302380</td>\n",
       "      <td>301.247182</td>\n",
       "      <td>3.845966e-66</td>\n",
       "      <td>20</td>\n",
       "      <td>1105.951644</td>\n",
       "    </tr>\n",
       "    <tr>\n",
       "      <td>3</td>\n",
       "      <td>289302480</td>\n",
       "      <td>295.603308</td>\n",
       "      <td>6.464831e-65</td>\n",
       "      <td>20</td>\n",
       "      <td>1105.951360</td>\n",
       "    </tr>\n",
       "    <tr>\n",
       "      <td>4</td>\n",
       "      <td>289460580</td>\n",
       "      <td>1892.986158</td>\n",
       "      <td>0.000000e+00</td>\n",
       "      <td>20</td>\n",
       "      <td>1105.503067</td>\n",
       "    </tr>\n",
       "    <tr>\n",
       "      <td>...</td>\n",
       "      <td>...</td>\n",
       "      <td>...</td>\n",
       "      <td>...</td>\n",
       "      <td>...</td>\n",
       "      <td>...</td>\n",
       "    </tr>\n",
       "    <tr>\n",
       "      <td>347175</td>\n",
       "      <td>172380956</td>\n",
       "      <td>2502.516644</td>\n",
       "      <td>0.000000e+00</td>\n",
       "      <td>11</td>\n",
       "      <td>1437.482741</td>\n",
       "    </tr>\n",
       "    <tr>\n",
       "      <td>347176</td>\n",
       "      <td>172513256</td>\n",
       "      <td>292.050280</td>\n",
       "      <td>3.820213e-64</td>\n",
       "      <td>11</td>\n",
       "      <td>1437.107604</td>\n",
       "    </tr>\n",
       "    <tr>\n",
       "      <td>347177</td>\n",
       "      <td>172513356</td>\n",
       "      <td>273.589265</td>\n",
       "      <td>3.898037e-60</td>\n",
       "      <td>11</td>\n",
       "      <td>1437.107321</td>\n",
       "    </tr>\n",
       "    <tr>\n",
       "      <td>347178</td>\n",
       "      <td>172641072</td>\n",
       "      <td>925.144163</td>\n",
       "      <td>1.280848e-201</td>\n",
       "      <td>11</td>\n",
       "      <td>1436.745181</td>\n",
       "    </tr>\n",
       "    <tr>\n",
       "      <td>347179</td>\n",
       "      <td>172641172</td>\n",
       "      <td>901.779106</td>\n",
       "      <td>1.517593e-196</td>\n",
       "      <td>11</td>\n",
       "      <td>1436.744898</td>\n",
       "    </tr>\n",
       "  </tbody>\n",
       "</table>\n",
       "<p>347180 rows × 5 columns</p>\n",
       "</div>"
      ],
      "text/plain": [
       "            index    statistic         pvalue  block_num        freqs\n",
       "0       289301080  6219.655813   0.000000e+00         20  1105.955330\n",
       "1       289301180  6234.612421   0.000000e+00         20  1105.955046\n",
       "2       289302380   301.247182   3.845966e-66         20  1105.951644\n",
       "3       289302480   295.603308   6.464831e-65         20  1105.951360\n",
       "4       289460580  1892.986158   0.000000e+00         20  1105.503067\n",
       "...           ...          ...            ...        ...          ...\n",
       "347175  172380956  2502.516644   0.000000e+00         11  1437.482741\n",
       "347176  172513256   292.050280   3.820213e-64         11  1437.107604\n",
       "347177  172513356   273.589265   3.898037e-60         11  1437.107321\n",
       "347178  172641072   925.144163  1.280848e-201         11  1436.745181\n",
       "347179  172641172   901.779106  1.517593e-196         11  1436.744898\n",
       "\n",
       "[347180 rows x 5 columns]"
      ]
     },
     "execution_count": 10,
     "metadata": {},
     "output_type": "execute_result"
    }
   ],
   "source": [
    "source_dir = \"GBT_57532_09539_HIP56445_fine/\"\n",
    "filtered_dir = source_dir+\"filtered_s/\"\n",
    "info_df = pd.read_pickle(source_dir+\"info_df.pkl\").astype({\"index\":int, \"block_num\":int})\n",
    "info_df.set_index(\"index\")\n",
    "info_df.sort_index()"
   ]
  },
  {
   "cell_type": "code",
   "execution_count": 11,
   "metadata": {},
   "outputs": [],
   "source": [
    "filtered_freqs = info_df[\"freqs\"]\n",
    "p_vals = info_df[\"pvalue\"]\n",
    "stats = info_df[\"statistic\"]"
   ]
  },
  {
   "cell_type": "code",
   "execution_count": 12,
   "metadata": {},
   "outputs": [
    {
     "data": {
      "image/png": "[encoded data removed]",
      "text/plain": [
       "<Figure size 432x288 with 1 Axes>"
      ]
     },
     "metadata": {
      "needs_background": "light"
     },
     "output_type": "display_data"
    }
   ],
   "source": [
    "num_bins = int(1000000//(1926.269531 - 1025.390648))\n",
    "plt.figure()\n",
    "plt.title(f\"Histogram of Hits (bin size = {(1926.269531 - 1025.390648) / num_bins} MHz)\")\n",
    "plt.ylabel(\"number of hits\")\n",
    "plt.xlabel(\"frequency [MHz]\")\n",
    "n, bins, patches = plt.hist(filtered_freqs, bins=num_bins)"
   ]
  },
  {
   "cell_type": "code",
   "execution_count": 13,
   "metadata": {},
   "outputs": [
    {
     "data": {
      "text/plain": [
       "[<matplotlib.lines.Line2D at 0x12a1c7ba8>]"
      ]
     },
     "execution_count": 13,
     "metadata": {},
     "output_type": "execute_result"
    },
    {
     "data": {
      "image/png": "[encoded data removed]",
      "text/plain": [
       "<Figure size 432x288 with 1 Axes>"
      ]
     },
     "metadata": {
      "needs_background": "light"
     },
     "output_type": "display_data"
    }
   ],
   "source": [
    "plt.figure()\n",
    "plt.yscale(\"log\")\n",
    "plt.ylabel(\"p-value\")\n",
    "plt.xlabel(\"frequency [MHz]\")\n",
    "plt.plot(filtered_freqs, p_vals,'b,')"
   ]
  },
  {
   "cell_type": "code",
   "execution_count": 14,
   "metadata": {},
   "outputs": [
    {
     "data": {
      "image/png": "[encoded data removed]",
      "text/plain": [
       "<Figure size 432x288 with 1 Axes>"
      ]
     },
     "metadata": {
      "needs_background": "light"
     },
     "output_type": "display_data"
    }
   ],
   "source": [
    "plt.figure()\n",
    "plt.yscale(\"log\")\n",
    "n, bins, patches = plt.hist(np.log(p_vals+1e-256), bins=1000)"
   ]
  },
  {
   "cell_type": "code",
   "execution_count": 15,
   "metadata": {},
   "outputs": [],
   "source": [
    "# plt.figure()\n",
    "# plt.yscale(\"log\")\n",
    "# n, bins, patches = plt.hist(stats, bins=1000)"
   ]
  },
  {
   "cell_type": "code",
   "execution_count": 16,
   "metadata": {},
   "outputs": [
    {
     "data": {
      "text/html": [
       "<div>\n",
       "<style scoped>\n",
       "    .dataframe tbody tr th:only-of-type {\n",
       "        vertical-align: middle;\n",
       "    }\n",
       "\n",
       "    .dataframe tbody tr th {\n",
       "        vertical-align: top;\n",
       "    }\n",
       "\n",
       "    .dataframe thead th {\n",
       "        text-align: right;\n",
       "    }\n",
       "</style>\n",
       "<table border=\"1\" class=\"dataframe\">\n",
       "  <thead>\n",
       "    <tr style=\"text-align: right;\">\n",
       "      <th></th>\n",
       "      <th>index</th>\n",
       "      <th>statistic</th>\n",
       "      <th>pvalue</th>\n",
       "      <th>block_num</th>\n",
       "      <th>freqs</th>\n",
       "    </tr>\n",
       "  </thead>\n",
       "  <tbody>\n",
       "    <tr>\n",
       "      <td>133079</td>\n",
       "      <td>132546148</td>\n",
       "      <td>5554.296217</td>\n",
       "      <td>0.000000e+00</td>\n",
       "      <td>9</td>\n",
       "      <td>1550.434475</td>\n",
       "    </tr>\n",
       "    <tr>\n",
       "      <td>109040</td>\n",
       "      <td>113162744</td>\n",
       "      <td>1602.655391</td>\n",
       "      <td>0.000000e+00</td>\n",
       "      <td>7</td>\n",
       "      <td>1605.396184</td>\n",
       "    </tr>\n",
       "    <tr>\n",
       "      <td>327472</td>\n",
       "      <td>191430060</td>\n",
       "      <td>4789.686183</td>\n",
       "      <td>0.000000e+00</td>\n",
       "      <td>13</td>\n",
       "      <td>1383.468942</td>\n",
       "    </tr>\n",
       "    <tr>\n",
       "      <td>335273</td>\n",
       "      <td>192475776</td>\n",
       "      <td>6460.630113</td>\n",
       "      <td>0.000000e+00</td>\n",
       "      <td>13</td>\n",
       "      <td>1380.503810</td>\n",
       "    </tr>\n",
       "    <tr>\n",
       "      <td>201357</td>\n",
       "      <td>217932260</td>\n",
       "      <td>1485.645024</td>\n",
       "      <td>0.000000e+00</td>\n",
       "      <td>15</td>\n",
       "      <td>1308.321863</td>\n",
       "    </tr>\n",
       "    <tr>\n",
       "      <td>20006</td>\n",
       "      <td>263356064</td>\n",
       "      <td>4569.454109</td>\n",
       "      <td>0.000000e+00</td>\n",
       "      <td>18</td>\n",
       "      <td>1179.522512</td>\n",
       "    </tr>\n",
       "    <tr>\n",
       "      <td>48842</td>\n",
       "      <td>266652328</td>\n",
       "      <td>4289.288090</td>\n",
       "      <td>0.000000e+00</td>\n",
       "      <td>18</td>\n",
       "      <td>1170.175944</td>\n",
       "    </tr>\n",
       "    <tr>\n",
       "      <td>238386</td>\n",
       "      <td>227339920</td>\n",
       "      <td>1320.829351</td>\n",
       "      <td>1.533030e-287</td>\n",
       "      <td>15</td>\n",
       "      <td>1281.646411</td>\n",
       "    </tr>\n",
       "    <tr>\n",
       "      <td>299132</td>\n",
       "      <td>242190744</td>\n",
       "      <td>1074.387869</td>\n",
       "      <td>5.007703e-234</td>\n",
       "      <td>16</td>\n",
       "      <td>1239.536849</td>\n",
       "    </tr>\n",
       "    <tr>\n",
       "      <td>105125</td>\n",
       "      <td>109325080</td>\n",
       "      <td>944.466607</td>\n",
       "      <td>8.159850e-206</td>\n",
       "      <td>7</td>\n",
       "      <td>1616.277893</td>\n",
       "    </tr>\n",
       "    <tr>\n",
       "      <td>152071</td>\n",
       "      <td>137684928</td>\n",
       "      <td>796.971312</td>\n",
       "      <td>8.707199e-174</td>\n",
       "      <td>9</td>\n",
       "      <td>1535.863447</td>\n",
       "    </tr>\n",
       "    <tr>\n",
       "      <td>217691</td>\n",
       "      <td>220026592</td>\n",
       "      <td>670.092270</td>\n",
       "      <td>3.099648e-146</td>\n",
       "      <td>15</td>\n",
       "      <td>1302.383377</td>\n",
       "    </tr>\n",
       "    <tr>\n",
       "      <td>62217</td>\n",
       "      <td>84833612</td>\n",
       "      <td>582.459373</td>\n",
       "      <td>3.315539e-127</td>\n",
       "      <td>5</td>\n",
       "      <td>1685.723534</td>\n",
       "    </tr>\n",
       "    <tr>\n",
       "      <td>96266</td>\n",
       "      <td>108439164</td>\n",
       "      <td>524.785232</td>\n",
       "      <td>1.107477e-114</td>\n",
       "      <td>7</td>\n",
       "      <td>1618.789911</td>\n",
       "    </tr>\n",
       "    <tr>\n",
       "      <td>293051</td>\n",
       "      <td>237463864</td>\n",
       "      <td>478.633315</td>\n",
       "      <td>1.164384e-104</td>\n",
       "      <td>16</td>\n",
       "      <td>1252.939933</td>\n",
       "    </tr>\n",
       "    <tr>\n",
       "      <td>103362</td>\n",
       "      <td>109148780</td>\n",
       "      <td>434.175053</td>\n",
       "      <td>5.249103e-95</td>\n",
       "      <td>7</td>\n",
       "      <td>1616.777792</td>\n",
       "    </tr>\n",
       "    <tr>\n",
       "      <td>306166</td>\n",
       "      <td>243926776</td>\n",
       "      <td>376.730123</td>\n",
       "      <td>1.563483e-82</td>\n",
       "      <td>16</td>\n",
       "      <td>1234.614324</td>\n",
       "    </tr>\n",
       "    <tr>\n",
       "      <td>120873</td>\n",
       "      <td>1713316</td>\n",
       "      <td>316.910277</td>\n",
       "      <td>1.526890e-69</td>\n",
       "      <td>0</td>\n",
       "      <td>1921.411418</td>\n",
       "    </tr>\n",
       "    <tr>\n",
       "      <td>151924</td>\n",
       "      <td>137666728</td>\n",
       "      <td>263.205189</td>\n",
       "      <td>7.010022e-58</td>\n",
       "      <td>9</td>\n",
       "      <td>1535.915053</td>\n",
       "    </tr>\n",
       "    <tr>\n",
       "      <td>65040</td>\n",
       "      <td>86418628</td>\n",
       "      <td>208.882464</td>\n",
       "      <td>4.382775e-46</td>\n",
       "      <td>5</td>\n",
       "      <td>1681.229216</td>\n",
       "    </tr>\n",
       "  </tbody>\n",
       "</table>\n",
       "</div>"
      ],
      "text/plain": [
       "            index    statistic         pvalue  block_num        freqs\n",
       "133079  132546148  5554.296217   0.000000e+00          9  1550.434475\n",
       "109040  113162744  1602.655391   0.000000e+00          7  1605.396184\n",
       "327472  191430060  4789.686183   0.000000e+00         13  1383.468942\n",
       "335273  192475776  6460.630113   0.000000e+00         13  1380.503810\n",
       "201357  217932260  1485.645024   0.000000e+00         15  1308.321863\n",
       "20006   263356064  4569.454109   0.000000e+00         18  1179.522512\n",
       "48842   266652328  4289.288090   0.000000e+00         18  1170.175944\n",
       "238386  227339920  1320.829351  1.533030e-287         15  1281.646411\n",
       "299132  242190744  1074.387869  5.007703e-234         16  1239.536849\n",
       "105125  109325080   944.466607  8.159850e-206          7  1616.277893\n",
       "152071  137684928   796.971312  8.707199e-174          9  1535.863447\n",
       "217691  220026592   670.092270  3.099648e-146         15  1302.383377\n",
       "62217    84833612   582.459373  3.315539e-127          5  1685.723534\n",
       "96266   108439164   524.785232  1.107477e-114          7  1618.789911\n",
       "293051  237463864   478.633315  1.164384e-104         16  1252.939933\n",
       "103362  109148780   434.175053   5.249103e-95          7  1616.777792\n",
       "306166  243926776   376.730123   1.563483e-82         16  1234.614324\n",
       "120873    1713316   316.910277   1.526890e-69          0  1921.411418\n",
       "151924  137666728   263.205189   7.010022e-58          9  1535.915053\n",
       "65040    86418628   208.882464   4.382775e-46          5  1681.229216"
      ]
     },
     "execution_count": 16,
     "metadata": {},
     "output_type": "execute_result"
    }
   ],
   "source": [
    "sample_size = 20\n",
    "num_rows, num_cols = info_df.shape\n",
    "step_size = num_rows//sample_size\n",
    "start = np.random.randint(step_size)\n",
    "sample_indexes = np.arange(start, num_rows, step_size)\n",
    "samples = info_df.sort_values(\"pvalue\").iloc[sample_indexes]\n",
    "samples"
   ]
  },
  {
   "cell_type": "code",
   "execution_count": 24,
   "metadata": {
    "scrolled": false
   },
   "outputs": [
    {
     "data": {
      "application/vnd.jupyter.widget-view+json": {
       "model_id": "2ec849744d604a0ba8669659143fe423",
       "version_major": 2,
       "version_minor": 0
      },
      "text/plain": [
       "interactive(children=(IntSlider(value=5, description='index', max=20), Output()), _dom_classes=('widget-intera…"
      ]
     },
     "metadata": {},
     "output_type": "display_data"
    },
    {
     "data": {
      "text/plain": [
       "<function __main__.load_plot_samples.<locals>.plot_sample(index)>"
      ]
     },
     "execution_count": 24,
     "metadata": {},
     "output_type": "execute_result"
    }
   ],
   "source": [
    "def load_plot_samples(n):\n",
    "    rows, data_sections = [], []\n",
    "    for ind in range(n):\n",
    "        rows.append(samples.iloc[ind])\n",
    "        i, s, p, block_num, start_freq = rows[-1]\n",
    "        data_sections.append(np.load(f\"{filtered_dir}{int(block_num)}/{int(i)}.npy\"))\n",
    "\n",
    "    def plot_sample(index):\n",
    "        i, s, p, block_num, start_freq = rows[index]\n",
    "        i, block_num = int(i), int(block_num)\n",
    "        sub_freqs = np.arange(start_freq, start_freq+f_off*201, f_off)\n",
    "\n",
    "        plt.figure(figsize=(10, 6))\n",
    "        plt.title(f\"Sample {index}, Index {i} in Block {block_num}, p-value={p:6E}\")\n",
    "        plt.yticks(np.arange(0, 16), list(map(lambda x: \"%.2f\" % x, np.arange(0, tsamp*18, tsamp))))\n",
    "        plt.xticks(np.arange(0, 200, 49), list(map(lambda x: \"%.5f\" % x, sub_freqs[np.arange(0, 200, 49)])))\n",
    "        plt.ylabel(\"time from obs start [s]\")\n",
    "        plt.xlabel(\"frequency [MHz]\")\n",
    "        plt.imshow(data_sections[index], **plt_args)\n",
    "    return plot_sample\n",
    "    \n",
    "interact(load_plot_samples(20),index=widgets.IntSlider(min=0, max=20, step=1, value=5))"
   ]
  },
  {
   "cell_type": "code",
   "execution_count": 18,
   "metadata": {},
   "outputs": [
    {
     "data": {
      "application/vnd.jupyter.widget-view+json": {
       "model_id": "5f9e1b4b54a54387a29ecf5c4e9e69cd",
       "version_major": 2,
       "version_minor": 0
      },
      "text/plain": [
       "interactive(children=(IntSlider(value=5, description='index', max=9), Button(description='Run Interact', style…"
      ]
     },
     "metadata": {},
     "output_type": "display_data"
    },
    {
     "data": {
      "text/plain": [
       "<function __main__.load_hist_samples.<locals>.plot_sample(index)>"
      ]
     },
     "execution_count": 18,
     "metadata": {},
     "output_type": "execute_result"
    }
   ],
   "source": [
    "def load_hist_samples(n):\n",
    "    rows, data_sections = [], []\n",
    "    for ind in range(n):\n",
    "        rows.append(samples.iloc[ind])\n",
    "        i, s, p, block_num, start_freq = rows[-1]\n",
    "        data_sections.append(np.load(f\"{filtered_dir}{int(block_num)}/{int(i)}.npy\"))\n",
    "    \n",
    "    def plot_sample(index):\n",
    "        i, s, p, block_num, start_freq = rows[index]\n",
    "        i, block_num = int(i), int(block_num)\n",
    "        sub_freqs = np.arange(start_freq, start_freq+f_off*201, f_off)\n",
    "\n",
    "        plt.figure(figsize=(10, 6))\n",
    "        plt.title(f\"Sample {index}, Index {i} in Block {block_num}, p-value={p:6E}\")\n",
    "        plt.ylabel(\"Counts\")\n",
    "        plt.xlabel(\"Normalized Power\")\n",
    "        plt.hist(data_sections[index], bins=16)\n",
    "    return plot_sample\n",
    "interact_manual(load_hist_samples(20),index=widgets.IntSlider(min=0, max=9, step=1, value=5))"
   ]
  },
  {
   "cell_type": "code",
   "execution_count": 19,
   "metadata": {},
   "outputs": [
    {
     "data": {
      "text/plain": [
       "<matplotlib.image.AxesImage at 0x1263c0a90>"
      ]
     },
     "execution_count": 19,
     "metadata": {},
     "output_type": "execute_result"
    },
    {
     "data": {
      "image/png": "[encoded data removed]",
      "text/plain": [
       "<Figure size 720x432 with 1 Axes>"
      ]
     },
     "metadata": {
      "needs_background": "light"
     },
     "output_type": "display_data"
    }
   ],
   "source": [
    "# for Github where interactive doesn't render\n",
    "\n",
    "i, s, p, block_num, start_freq = samples.iloc[6]\n",
    "i, block_num = int(i), int(block_num)\n",
    "data_section = np.load(f\"{filtered_dir}{int(block_num)}/{int(i)}.npy\")\n",
    "sub_freqs = np.arange(start_freq, start_freq+f_off*201, f_off)\n",
    "\n",
    "plt.figure(figsize=(10, 6))\n",
    "plt.title(f\"Index {i} in Block {block_num}, p-value={p:6E}\")\n",
    "plt.yticks(np.arange(0, 16), list(map(lambda x: \"%.2f\" % x, np.arange(0, tsamp*18, tsamp))))\n",
    "plt.xticks(np.arange(0, 200, 49), list(map(lambda x: \"%.5f\" % x, sub_freqs[np.arange(0, 200, 49)])))\n",
    "plt.ylabel(\"time from obs start [s]\")\n",
    "plt.xlabel(\"frequency [MHz]\")\n",
    "plt.imshow(data_section, **plt_args)"
   ]
  },
  {
   "cell_type": "code",
   "execution_count": 20,
   "metadata": {},
   "outputs": [
    {
     "data": {
      "image/png": "[encoded data removed]",
      "text/plain": [
       "<Figure size 720x432 with 1 Axes>"
      ]
     },
     "metadata": {
      "needs_background": "light"
     },
     "output_type": "display_data"
    }
   ],
   "source": [
    "# for Github where interactive doesn't render\n",
    "i, s, p, block_num, start_freq = samples.iloc[6]\n",
    "i, block_num = int(i), int(block_num)\n",
    "sub_freqs = np.arange(start_freq, start_freq+f_off*201, f_off)\n",
    "\n",
    "plt.figure(figsize=(10, 6))\n",
    "plt.title(f\"Index {i} in Block {block_num}, p-value={p:6E}\")\n",
    "plt.ylabel(\"Counts\")\n",
    "plt.xlabel(\"Normalized Power\")\n",
    "hist = plt.hist(data_section, bins=16)"
   ]
  },
  {
   "cell_type": "code",
   "execution_count": 21,
   "metadata": {},
   "outputs": [],
   "source": [
    "import os\n",
    "from utils import *"
   ]
  },
  {
   "cell_type": "code",
   "execution_count": 22,
   "metadata": {},
   "outputs": [
    {
     "data": {
      "application/vnd.jupyter.widget-view+json": {
       "model_id": "629bda45fd8e4621955c5edc617350d3",
       "version_major": 2,
       "version_minor": 0
      },
      "text/plain": [
       "interactive(children=(IntSlider(value=29, description='ind', max=534), Output()), _dom_classes=('widget-intera…"
      ]
     },
     "metadata": {},
     "output_type": "display_data"
    },
    {
     "data": {
      "text/plain": [
       "<function __main__.view(ind)>"
      ]
     },
     "execution_count": 22,
     "metadata": {},
     "output_type": "execute_result"
    }
   ],
   "source": [
    "block_files = [os.path.join(filtered_dir+\"/6\", x) for x in os.listdir(filtered_dir+\"/6\")]\n",
    "\n",
    "def view(ind):\n",
    "    data = np.load(block_files[ind])\n",
    "    plot_segment(data)\n",
    "    \n",
    "interact(view, ind=widgets.IntSlider(min=0, max=len(block_files), step=1, value=29))"
   ]
  },
  {
   "cell_type": "code",
   "execution_count": 23,
   "metadata": {},
   "outputs": [
    {
     "data": {
      "application/vnd.jupyter.widget-view+json": {
       "model_id": "a51774d740d046b0b2ea5503c516e026",
       "version_major": 2,
       "version_minor": 0
      },
      "text/plain": [
       "interactive(children=(IntSlider(value=0, description='ind', max=15), Output()), _dom_classes=('widget-interact…"
      ]
     },
     "metadata": {},
     "output_type": "display_data"
    },
    {
     "data": {
      "text/plain": [
       "<function __main__.view2(ind)>"
      ]
     },
     "execution_count": 23,
     "metadata": {},
     "output_type": "execute_result"
    }
   ],
   "source": [
    "block_files2 = [os.path.join(source_dir+\"filtered/4\", x) for x in os.listdir(source_dir+\"filtered/4\")]\n",
    "\n",
    "def view2(ind):\n",
    "    data = np.load(block_files2[ind])\n",
    "    plot_segment(data)\n",
    "    \n",
    "interact(view2, ind=widgets.IntSlider(min=0, max=len(block_files2)-1, step=1, value=0))"
   ]
  },
  {
   "cell_type": "code",
   "execution_count": null,
   "metadata": {},
   "outputs": [],
   "source": []
  }
 ],
 "metadata": {
  "kernelspec": {
   "display_name": "BSRC_Env",
   "language": "python",
   "name": "bsrc_env"
  },
  "language_info": {
   "codemirror_mode": {
    "name": "ipython",
    "version": 3
   },
   "file_extension": ".py",
   "mimetype": "text/x-python",
   "name": "python",
   "nbconvert_exporter": "python",
   "pygments_lexer": "ipython3",
   "version": "3.6.5"
  }
 },
 "nbformat": 4,
 "nbformat_minor": 2
}
