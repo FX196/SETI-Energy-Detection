{
 "cells": [
  {
   "cell_type": "code",
   "execution_count": 30,
   "metadata": {},
   "outputs": [],
   "source": [
    "import pandas as pd\n",
    "import numpy as np\n",
    "from matplotlib import pyplot as plt"
   ]
  },
  {
   "cell_type": "code",
   "execution_count": 20,
   "metadata": {},
   "outputs": [
    {
     "data": {
      "text/html": [
       "<div>\n",
       "<style scoped>\n",
       "    .dataframe tbody tr th:only-of-type {\n",
       "        vertical-align: middle;\n",
       "    }\n",
       "\n",
       "    .dataframe tbody tr th {\n",
       "        vertical-align: top;\n",
       "    }\n",
       "\n",
       "    .dataframe thead th {\n",
       "        text-align: right;\n",
       "    }\n",
       "</style>\n",
       "<table border=\"1\" class=\"dataframe\">\n",
       "  <thead>\n",
       "    <tr style=\"text-align: right;\">\n",
       "      <th></th>\n",
       "      <th>statistic</th>\n",
       "      <th>pvalue</th>\n",
       "      <th>freqs</th>\n",
       "    </tr>\n",
       "    <tr>\n",
       "      <th>index</th>\n",
       "      <th></th>\n",
       "      <th></th>\n",
       "      <th></th>\n",
       "    </tr>\n",
       "  </thead>\n",
       "  <tbody>\n",
       "    <tr>\n",
       "      <td>289301080</td>\n",
       "      <td>6219.655813</td>\n",
       "      <td>0.000000e+00</td>\n",
       "      <td>1105.955330</td>\n",
       "    </tr>\n",
       "    <tr>\n",
       "      <td>289301180</td>\n",
       "      <td>6234.612421</td>\n",
       "      <td>0.000000e+00</td>\n",
       "      <td>1105.955046</td>\n",
       "    </tr>\n",
       "    <tr>\n",
       "      <td>289302380</td>\n",
       "      <td>301.247182</td>\n",
       "      <td>3.845966e-66</td>\n",
       "      <td>1105.951644</td>\n",
       "    </tr>\n",
       "    <tr>\n",
       "      <td>289302480</td>\n",
       "      <td>295.603308</td>\n",
       "      <td>6.464831e-65</td>\n",
       "      <td>1105.951360</td>\n",
       "    </tr>\n",
       "    <tr>\n",
       "      <td>289460580</td>\n",
       "      <td>1892.986158</td>\n",
       "      <td>0.000000e+00</td>\n",
       "      <td>1105.503067</td>\n",
       "    </tr>\n",
       "    <tr>\n",
       "      <td>...</td>\n",
       "      <td>...</td>\n",
       "      <td>...</td>\n",
       "      <td>...</td>\n",
       "    </tr>\n",
       "    <tr>\n",
       "      <td>172513356</td>\n",
       "      <td>273.589265</td>\n",
       "      <td>3.898037e-60</td>\n",
       "      <td>1437.107321</td>\n",
       "    </tr>\n",
       "    <tr>\n",
       "      <td>172641072</td>\n",
       "      <td>925.144163</td>\n",
       "      <td>1.280848e-201</td>\n",
       "      <td>1436.745181</td>\n",
       "    </tr>\n",
       "    <tr>\n",
       "      <td>172641172</td>\n",
       "      <td>901.779106</td>\n",
       "      <td>1.517593e-196</td>\n",
       "      <td>1436.744898</td>\n",
       "    </tr>\n",
       "    <tr>\n",
       "      <td>173063572</td>\n",
       "      <td>5932.901913</td>\n",
       "      <td>0.000000e+00</td>\n",
       "      <td>1435.547181</td>\n",
       "    </tr>\n",
       "    <tr>\n",
       "      <td>173063672</td>\n",
       "      <td>5932.901832</td>\n",
       "      <td>0.000000e+00</td>\n",
       "      <td>1435.546898</td>\n",
       "    </tr>\n",
       "  </tbody>\n",
       "</table>\n",
       "<p>347731 rows × 3 columns</p>\n",
       "</div>"
      ],
      "text/plain": [
       "             statistic         pvalue        freqs\n",
       "index                                             \n",
       "289301080  6219.655813   0.000000e+00  1105.955330\n",
       "289301180  6234.612421   0.000000e+00  1105.955046\n",
       "289302380   301.247182   3.845966e-66  1105.951644\n",
       "289302480   295.603308   6.464831e-65  1105.951360\n",
       "289460580  1892.986158   0.000000e+00  1105.503067\n",
       "...                ...            ...          ...\n",
       "172513356   273.589265   3.898037e-60  1437.107321\n",
       "172641072   925.144163  1.280848e-201  1436.745181\n",
       "172641172   901.779106  1.517593e-196  1436.744898\n",
       "173063572  5932.901913   0.000000e+00  1435.547181\n",
       "173063672  5932.901832   0.000000e+00  1435.546898\n",
       "\n",
       "[347731 rows x 3 columns]"
      ]
     },
     "execution_count": 20,
     "metadata": {},
     "output_type": "execute_result"
    }
   ],
   "source": [
    "df = pd.read_pickle(\"GBT_57532_09539_HIP56445_fine/info.pkl\")\n",
    "df = df.set_index(\"index\")\n",
    "df"
   ]
  },
  {
   "cell_type": "code",
   "execution_count": 21,
   "metadata": {},
   "outputs": [
    {
     "data": {
      "text/html": [
       "<div>\n",
       "<style scoped>\n",
       "    .dataframe tbody tr th:only-of-type {\n",
       "        vertical-align: middle;\n",
       "    }\n",
       "\n",
       "    .dataframe tbody tr th {\n",
       "        vertical-align: top;\n",
       "    }\n",
       "\n",
       "    .dataframe thead th {\n",
       "        text-align: right;\n",
       "    }\n",
       "</style>\n",
       "<table border=\"1\" class=\"dataframe\">\n",
       "  <thead>\n",
       "    <tr style=\"text-align: right;\">\n",
       "      <th></th>\n",
       "      <th>statistic</th>\n",
       "      <th>pvalue</th>\n",
       "      <th>freqs</th>\n",
       "    </tr>\n",
       "    <tr>\n",
       "      <th>index</th>\n",
       "      <th></th>\n",
       "      <th></th>\n",
       "      <th></th>\n",
       "    </tr>\n",
       "  </thead>\n",
       "  <tbody>\n",
       "    <tr>\n",
       "      <td>0</td>\n",
       "      <td>1458.939302</td>\n",
       "      <td>0.000000e+00</td>\n",
       "      <td>1926.269531</td>\n",
       "    </tr>\n",
       "    <tr>\n",
       "      <td>100</td>\n",
       "      <td>1164.556241</td>\n",
       "      <td>1.317726e-253</td>\n",
       "      <td>1926.269248</td>\n",
       "    </tr>\n",
       "    <tr>\n",
       "      <td>200</td>\n",
       "      <td>1242.913410</td>\n",
       "      <td>1.272865e-270</td>\n",
       "      <td>1926.268964</td>\n",
       "    </tr>\n",
       "    <tr>\n",
       "      <td>300</td>\n",
       "      <td>1533.651612</td>\n",
       "      <td>0.000000e+00</td>\n",
       "      <td>1926.268681</td>\n",
       "    </tr>\n",
       "    <tr>\n",
       "      <td>400</td>\n",
       "      <td>1585.480041</td>\n",
       "      <td>0.000000e+00</td>\n",
       "      <td>1926.268397</td>\n",
       "    </tr>\n",
       "    <tr>\n",
       "      <td>...</td>\n",
       "      <td>...</td>\n",
       "      <td>...</td>\n",
       "      <td>...</td>\n",
       "    </tr>\n",
       "    <tr>\n",
       "      <td>317505712</td>\n",
       "      <td>3069.314525</td>\n",
       "      <td>0.000000e+00</td>\n",
       "      <td>1025.980999</td>\n",
       "    </tr>\n",
       "    <tr>\n",
       "      <td>317506012</td>\n",
       "      <td>249.485305</td>\n",
       "      <td>6.682737e-55</td>\n",
       "      <td>1025.980149</td>\n",
       "    </tr>\n",
       "    <tr>\n",
       "      <td>317506112</td>\n",
       "      <td>283.567870</td>\n",
       "      <td>2.654724e-62</td>\n",
       "      <td>1025.979865</td>\n",
       "    </tr>\n",
       "    <tr>\n",
       "      <td>317713812</td>\n",
       "      <td>5932.885392</td>\n",
       "      <td>0.000000e+00</td>\n",
       "      <td>1025.390931</td>\n",
       "    </tr>\n",
       "    <tr>\n",
       "      <td>317713912</td>\n",
       "      <td>5932.885392</td>\n",
       "      <td>0.000000e+00</td>\n",
       "      <td>1025.390648</td>\n",
       "    </tr>\n",
       "  </tbody>\n",
       "</table>\n",
       "<p>347731 rows × 3 columns</p>\n",
       "</div>"
      ],
      "text/plain": [
       "             statistic         pvalue        freqs\n",
       "index                                             \n",
       "0          1458.939302   0.000000e+00  1926.269531\n",
       "100        1164.556241  1.317726e-253  1926.269248\n",
       "200        1242.913410  1.272865e-270  1926.268964\n",
       "300        1533.651612   0.000000e+00  1926.268681\n",
       "400        1585.480041   0.000000e+00  1926.268397\n",
       "...                ...            ...          ...\n",
       "317505712  3069.314525   0.000000e+00  1025.980999\n",
       "317506012   249.485305   6.682737e-55  1025.980149\n",
       "317506112   283.567870   2.654724e-62  1025.979865\n",
       "317713812  5932.885392   0.000000e+00  1025.390931\n",
       "317713912  5932.885392   0.000000e+00  1025.390648\n",
       "\n",
       "[347731 rows x 3 columns]"
      ]
     },
     "execution_count": 21,
     "metadata": {},
     "output_type": "execute_result"
    }
   ],
   "source": [
    "df.sort_index()"
   ]
  },
  {
   "cell_type": "code",
   "execution_count": 37,
   "metadata": {},
   "outputs": [
    {
     "data": {
      "text/html": [
       "<div>\n",
       "<style scoped>\n",
       "    .dataframe tbody tr th:only-of-type {\n",
       "        vertical-align: middle;\n",
       "    }\n",
       "\n",
       "    .dataframe tbody tr th {\n",
       "        vertical-align: top;\n",
       "    }\n",
       "\n",
       "    .dataframe thead th {\n",
       "        text-align: right;\n",
       "    }\n",
       "</style>\n",
       "<table border=\"1\" class=\"dataframe\">\n",
       "  <thead>\n",
       "    <tr style=\"text-align: right;\">\n",
       "      <th></th>\n",
       "      <th>statistic</th>\n",
       "      <th>pvalue</th>\n",
       "      <th>freqs</th>\n",
       "    </tr>\n",
       "  </thead>\n",
       "  <tbody>\n",
       "    <tr>\n",
       "      <td>count</td>\n",
       "      <td>347731.000000</td>\n",
       "      <td>3.477310e+05</td>\n",
       "      <td>347731.000000</td>\n",
       "    </tr>\n",
       "    <tr>\n",
       "      <td>mean</td>\n",
       "      <td>1741.487502</td>\n",
       "      <td>2.503382e-43</td>\n",
       "      <td>1400.197519</td>\n",
       "    </tr>\n",
       "    <tr>\n",
       "      <td>std</td>\n",
       "      <td>1816.019592</td>\n",
       "      <td>3.526365e-42</td>\n",
       "      <td>189.148057</td>\n",
       "    </tr>\n",
       "    <tr>\n",
       "      <td>min</td>\n",
       "      <td>184.208014</td>\n",
       "      <td>0.000000e+00</td>\n",
       "      <td>1025.390648</td>\n",
       "    </tr>\n",
       "    <tr>\n",
       "      <td>25%</td>\n",
       "      <td>453.684501</td>\n",
       "      <td>0.000000e+00</td>\n",
       "      <td>1253.251980</td>\n",
       "    </tr>\n",
       "    <tr>\n",
       "      <td>50%</td>\n",
       "      <td>863.545447</td>\n",
       "      <td>3.044309e-188</td>\n",
       "      <td>1308.182923</td>\n",
       "    </tr>\n",
       "    <tr>\n",
       "      <td>75%</td>\n",
       "      <td>2566.099809</td>\n",
       "      <td>3.045527e-99</td>\n",
       "      <td>1559.883218</td>\n",
       "    </tr>\n",
       "    <tr>\n",
       "      <td>max</td>\n",
       "      <td>10490.787847</td>\n",
       "      <td>9.993970e-41</td>\n",
       "      <td>1926.269531</td>\n",
       "    </tr>\n",
       "  </tbody>\n",
       "</table>\n",
       "</div>"
      ],
      "text/plain": [
       "           statistic         pvalue          freqs\n",
       "count  347731.000000   3.477310e+05  347731.000000\n",
       "mean     1741.487502   2.503382e-43    1400.197519\n",
       "std      1816.019592   3.526365e-42     189.148057\n",
       "min       184.208014   0.000000e+00    1025.390648\n",
       "25%       453.684501   0.000000e+00    1253.251980\n",
       "50%       863.545447  3.044309e-188    1308.182923\n",
       "75%      2566.099809   3.045527e-99    1559.883218\n",
       "max     10490.787847   9.993970e-41    1926.269531"
      ]
     },
     "execution_count": 37,
     "metadata": {},
     "output_type": "execute_result"
    }
   ],
   "source": [
    "df.describe()"
   ]
  },
  {
   "cell_type": "code",
   "execution_count": 51,
   "metadata": {},
   "outputs": [],
   "source": [
    "filtered_freqs = df[\"freqs\"]\n",
    "p_vals = df[\"pvalue\"]\n",
    "stats = df[\"statistic\"]"
   ]
  },
  {
   "cell_type": "code",
   "execution_count": 76,
   "metadata": {},
   "outputs": [
    {
     "data": {
      "image/png": "[encoded data removed]",
      "text/plain": [
       "<Figure size 432x288 with 1 Axes>"
      ]
     },
     "metadata": {
      "needs_background": "light"
     },
     "output_type": "display_data"
    }
   ],
   "source": [
    "num_bins = int(1000000//(1926.269531 - 1025.390648))\n",
    "plt.figure()\n",
    "plt.title(f\"Histogram of Hits (bin size = {(1926.269531 - 1025.390648) / num_bins} MHz)\")\n",
    "plt.ylabel(\"number of hits\")\n",
    "plt.xlabel(\"frequency [MHz]\")\n",
    "n, bins, patches = plt.hist(filtered_freqs, bins=num_bins)"
   ]
  },
  {
   "cell_type": "code",
   "execution_count": 64,
   "metadata": {},
   "outputs": [
    {
     "data": {
      "text/plain": [
       "[<matplotlib.lines.Line2D at 0x13cf2fb38>]"
      ]
     },
     "execution_count": 64,
     "metadata": {},
     "output_type": "execute_result"
    },
    {
     "data": {
      "image/png": "[encoded data removed]",
      "text/plain": [
       "<Figure size 432x288 with 1 Axes>"
      ]
     },
     "metadata": {
      "needs_background": "light"
     },
     "output_type": "display_data"
    }
   ],
   "source": [
    "plt.figure()\n",
    "plt.ylabel(\"p-value\")\n",
    "plt.xlabel(\"frequency [MHz]\")\n",
    "plt.plot(filtered_freqs, p_vals,'b,')"
   ]
  },
  {
   "cell_type": "code",
   "execution_count": 77,
   "metadata": {},
   "outputs": [
    {
     "data": {
      "text/plain": [
       "[<matplotlib.lines.Line2D at 0x1433e6dd8>]"
      ]
     },
     "execution_count": 77,
     "metadata": {},
     "output_type": "execute_result"
    },
    {
     "data": {
      "image/png": "[encoded data removed]",
      "text/plain": [
       "<Figure size 432x288 with 1 Axes>"
      ]
     },
     "metadata": {
      "needs_background": "light"
     },
     "output_type": "display_data"
    }
   ],
   "source": [
    "plt.figure()\n",
    "plt.ylabel(\"statistic\")\n",
    "plt.xlabel(\"frequency [MHz]\")\n",
    "plt.plot(filtered_freqs, stats,'b,')"
   ]
  },
  {
   "cell_type": "code",
   "execution_count": 85,
   "metadata": {},
   "outputs": [
    {
     "data": {
      "image/png": "[encoded data removed]",
      "text/plain": [
       "<Figure size 432x288 with 1 Axes>"
      ]
     },
     "metadata": {
      "needs_background": "light"
     },
     "output_type": "display_data"
    }
   ],
   "source": [
    "plt.figure()\n",
    "plt.yscale(\"log\")\n",
    "n, bins, patches = plt.hist(p_vals, bins=100)"
   ]
  },
  {
   "cell_type": "code",
   "execution_count": null,
   "metadata": {},
   "outputs": [],
   "source": []
  }
 ],
 "metadata": {
  "kernelspec": {
   "display_name": "BSRC_Env",
   "language": "python",
   "name": "bsrc_env"
  },
  "language_info": {
   "codemirror_mode": {
    "name": "ipython",
    "version": 3
   },
   "file_extension": ".py",
   "mimetype": "text/x-python",
   "name": "python",
   "nbconvert_exporter": "python",
   "pygments_lexer": "ipython3",
   "version": "3.6.5"
  }
 },
 "nbformat": 4,
 "nbformat_minor": 2
}
