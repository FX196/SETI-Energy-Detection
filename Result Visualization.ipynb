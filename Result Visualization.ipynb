{
 "cells": [
  {
   "cell_type": "code",
   "execution_count": 1,
   "metadata": {},
   "outputs": [],
   "source": [
    "import pandas as pd\n",
    "import numpy as np\n",
    "from matplotlib import pyplot as plt\n",
    "\n",
    "\n",
    "f_off = -2.835503418452676e-06\n",
    "tsamp = 17.986224128\n",
    "plt_args = {\n",
    "            'aspect':'auto',\n",
    "            'origin':'lower',\n",
    "            'rasterized':True,\n",
    "            'interpolation':'nearest',\n",
    "            'cmap':'viridis'\n",
    "            }"
   ]
  },
  {
   "cell_type": "code",
   "execution_count": 2,
   "metadata": {},
   "outputs": [],
   "source": [
    "import ipywidgets as widgets\n",
    "from ipywidgets import interact, interact_manual"
   ]
  },
  {
   "cell_type": "code",
   "execution_count": 3,
   "metadata": {},
   "outputs": [
    {
     "data": {
      "text/html": [
       "<div>\n",
       "<style scoped>\n",
       "    .dataframe tbody tr th:only-of-type {\n",
       "        vertical-align: middle;\n",
       "    }\n",
       "\n",
       "    .dataframe tbody tr th {\n",
       "        vertical-align: top;\n",
       "    }\n",
       "\n",
       "    .dataframe thead th {\n",
       "        text-align: right;\n",
       "    }\n",
       "</style>\n",
       "<table border=\"1\" class=\"dataframe\">\n",
       "  <thead>\n",
       "    <tr style=\"text-align: right;\">\n",
       "      <th></th>\n",
       "      <th>statistic</th>\n",
       "      <th>pvalue</th>\n",
       "      <th>block_num</th>\n",
       "      <th>freqs</th>\n",
       "    </tr>\n",
       "    <tr>\n",
       "      <th>index</th>\n",
       "      <th></th>\n",
       "      <th></th>\n",
       "      <th></th>\n",
       "      <th></th>\n",
       "    </tr>\n",
       "  </thead>\n",
       "  <tbody>\n",
       "    <tr>\n",
       "      <td>0</td>\n",
       "      <td>1458.939302</td>\n",
       "      <td>0.000000e+00</td>\n",
       "      <td>0</td>\n",
       "      <td>1926.269531</td>\n",
       "    </tr>\n",
       "    <tr>\n",
       "      <td>100</td>\n",
       "      <td>1164.556241</td>\n",
       "      <td>1.317726e-253</td>\n",
       "      <td>0</td>\n",
       "      <td>1926.269248</td>\n",
       "    </tr>\n",
       "    <tr>\n",
       "      <td>200</td>\n",
       "      <td>1242.913410</td>\n",
       "      <td>1.272865e-270</td>\n",
       "      <td>0</td>\n",
       "      <td>1926.268964</td>\n",
       "    </tr>\n",
       "    <tr>\n",
       "      <td>300</td>\n",
       "      <td>1533.651612</td>\n",
       "      <td>0.000000e+00</td>\n",
       "      <td>0</td>\n",
       "      <td>1926.268681</td>\n",
       "    </tr>\n",
       "    <tr>\n",
       "      <td>400</td>\n",
       "      <td>1585.480041</td>\n",
       "      <td>0.000000e+00</td>\n",
       "      <td>0</td>\n",
       "      <td>1926.268397</td>\n",
       "    </tr>\n",
       "    <tr>\n",
       "      <td>...</td>\n",
       "      <td>...</td>\n",
       "      <td>...</td>\n",
       "      <td>...</td>\n",
       "      <td>...</td>\n",
       "    </tr>\n",
       "    <tr>\n",
       "      <td>318230012</td>\n",
       "      <td>24.068235</td>\n",
       "      <td>5.938123e-06</td>\n",
       "      <td>21</td>\n",
       "      <td>1023.927244</td>\n",
       "    </tr>\n",
       "    <tr>\n",
       "      <td>318230112</td>\n",
       "      <td>20.517493</td>\n",
       "      <td>3.504959e-05</td>\n",
       "      <td>21</td>\n",
       "      <td>1023.926961</td>\n",
       "    </tr>\n",
       "    <tr>\n",
       "      <td>318230212</td>\n",
       "      <td>25.032166</td>\n",
       "      <td>3.667197e-06</td>\n",
       "      <td>21</td>\n",
       "      <td>1023.926677</td>\n",
       "    </tr>\n",
       "    <tr>\n",
       "      <td>318230312</td>\n",
       "      <td>25.777356</td>\n",
       "      <td>2.526494e-06</td>\n",
       "      <td>21</td>\n",
       "      <td>1023.926394</td>\n",
       "    </tr>\n",
       "    <tr>\n",
       "      <td>318230412</td>\n",
       "      <td>11.520460</td>\n",
       "      <td>3.150387e-03</td>\n",
       "      <td>21</td>\n",
       "      <td>1023.926110</td>\n",
       "    </tr>\n",
       "  </tbody>\n",
       "</table>\n",
       "<p>3182256 rows × 4 columns</p>\n",
       "</div>"
      ],
      "text/plain": [
       "             statistic         pvalue  block_num        freqs\n",
       "index                                                        \n",
       "0          1458.939302   0.000000e+00          0  1926.269531\n",
       "100        1164.556241  1.317726e-253          0  1926.269248\n",
       "200        1242.913410  1.272865e-270          0  1926.268964\n",
       "300        1533.651612   0.000000e+00          0  1926.268681\n",
       "400        1585.480041   0.000000e+00          0  1926.268397\n",
       "...                ...            ...        ...          ...\n",
       "318230012    24.068235   5.938123e-06         21  1023.927244\n",
       "318230112    20.517493   3.504959e-05         21  1023.926961\n",
       "318230212    25.032166   3.667197e-06         21  1023.926677\n",
       "318230312    25.777356   2.526494e-06         21  1023.926394\n",
       "318230412    11.520460   3.150387e-03         21  1023.926110\n",
       "\n",
       "[3182256 rows x 4 columns]"
      ]
     },
     "execution_count": 3,
     "metadata": {},
     "output_type": "execute_result"
    }
   ],
   "source": [
    "df = pd.read_pickle(\"info_all.pkl\")\n",
    "df = df.set_index(\"index\")\n",
    "df.sort_index()"
   ]
  },
  {
   "cell_type": "code",
   "execution_count": 4,
   "metadata": {},
   "outputs": [
    {
     "data": {
      "text/html": [
       "<div>\n",
       "<style scoped>\n",
       "    .dataframe tbody tr th:only-of-type {\n",
       "        vertical-align: middle;\n",
       "    }\n",
       "\n",
       "    .dataframe tbody tr th {\n",
       "        vertical-align: top;\n",
       "    }\n",
       "\n",
       "    .dataframe thead th {\n",
       "        text-align: right;\n",
       "    }\n",
       "</style>\n",
       "<table border=\"1\" class=\"dataframe\">\n",
       "  <thead>\n",
       "    <tr style=\"text-align: right;\">\n",
       "      <th></th>\n",
       "      <th>statistic</th>\n",
       "      <th>pvalue</th>\n",
       "      <th>block_num</th>\n",
       "      <th>freqs</th>\n",
       "    </tr>\n",
       "  </thead>\n",
       "  <tbody>\n",
       "    <tr>\n",
       "      <td>count</td>\n",
       "      <td>3.182256e+06</td>\n",
       "      <td>3.182256e+06</td>\n",
       "      <td>3.182256e+06</td>\n",
       "      <td>3.182256e+06</td>\n",
       "    </tr>\n",
       "    <tr>\n",
       "      <td>mean</td>\n",
       "      <td>2.177388e+02</td>\n",
       "      <td>1.382241e-03</td>\n",
       "      <td>1.050000e+01</td>\n",
       "      <td>1.475098e+03</td>\n",
       "    </tr>\n",
       "    <tr>\n",
       "      <td>std</td>\n",
       "      <td>8.034907e+02</td>\n",
       "      <td>1.293470e-02</td>\n",
       "      <td>6.344290e+00</td>\n",
       "      <td>2.604842e+02</td>\n",
       "    </tr>\n",
       "    <tr>\n",
       "      <td>min</td>\n",
       "      <td>3.119978e-03</td>\n",
       "      <td>0.000000e+00</td>\n",
       "      <td>0.000000e+00</td>\n",
       "      <td>1.023926e+03</td>\n",
       "    </tr>\n",
       "    <tr>\n",
       "      <td>25%</td>\n",
       "      <td>1.971069e+01</td>\n",
       "      <td>5.846351e-10</td>\n",
       "      <td>5.000000e+00</td>\n",
       "      <td>1.249512e+03</td>\n",
       "    </tr>\n",
       "    <tr>\n",
       "      <td>50%</td>\n",
       "      <td>2.813181e+01</td>\n",
       "      <td>7.784932e-07</td>\n",
       "      <td>1.050000e+01</td>\n",
       "      <td>1.475098e+03</td>\n",
       "    </tr>\n",
       "    <tr>\n",
       "      <td>75%</td>\n",
       "      <td>4.252007e+01</td>\n",
       "      <td>5.246614e-05</td>\n",
       "      <td>1.600000e+01</td>\n",
       "      <td>1.700684e+03</td>\n",
       "    </tr>\n",
       "    <tr>\n",
       "      <td>max</td>\n",
       "      <td>1.049079e+04</td>\n",
       "      <td>9.984412e-01</td>\n",
       "      <td>2.100000e+01</td>\n",
       "      <td>1.926270e+03</td>\n",
       "    </tr>\n",
       "  </tbody>\n",
       "</table>\n",
       "</div>"
      ],
      "text/plain": [
       "          statistic        pvalue     block_num         freqs\n",
       "count  3.182256e+06  3.182256e+06  3.182256e+06  3.182256e+06\n",
       "mean   2.177388e+02  1.382241e-03  1.050000e+01  1.475098e+03\n",
       "std    8.034907e+02  1.293470e-02  6.344290e+00  2.604842e+02\n",
       "min    3.119978e-03  0.000000e+00  0.000000e+00  1.023926e+03\n",
       "25%    1.971069e+01  5.846351e-10  5.000000e+00  1.249512e+03\n",
       "50%    2.813181e+01  7.784932e-07  1.050000e+01  1.475098e+03\n",
       "75%    4.252007e+01  5.246614e-05  1.600000e+01  1.700684e+03\n",
       "max    1.049079e+04  9.984412e-01  2.100000e+01  1.926270e+03"
      ]
     },
     "execution_count": 4,
     "metadata": {},
     "output_type": "execute_result"
    }
   ],
   "source": [
    "df.describe()"
   ]
  },
  {
   "cell_type": "code",
   "execution_count": 5,
   "metadata": {},
   "outputs": [],
   "source": [
    "filtered_freqs = df[\"freqs\"]\n",
    "p_vals = df[\"pvalue\"]\n",
    "stats = df[\"statistic\"]"
   ]
  },
  {
   "cell_type": "code",
   "execution_count": 6,
   "metadata": {},
   "outputs": [
    {
     "data": {
      "text/plain": [
       "[<matplotlib.lines.Line2D at 0x130f1ae48>]"
      ]
     },
     "execution_count": 6,
     "metadata": {},
     "output_type": "execute_result"
    },
    {
     "data": {
      "image/png": "[encoded data removed]",
      "text/plain": [
       "<Figure size 432x288 with 1 Axes>"
      ]
     },
     "metadata": {
      "needs_background": "light"
     },
     "output_type": "display_data"
    }
   ],
   "source": [
    "plt.figure()\n",
    "plt.yscale(\"log\")\n",
    "plt.ylabel(\"p-value\")\n",
    "plt.xlabel(\"frequency [MHz]\")\n",
    "plt.plot(filtered_freqs, p_vals,'b,')"
   ]
  },
  {
   "cell_type": "code",
   "execution_count": 7,
   "metadata": {},
   "outputs": [],
   "source": [
    "# plt.figure()\n",
    "# plt.ylabel(\"statistic\")\n",
    "# plt.xlabel(\"frequency [MHz]\")\n",
    "# plt.plot(filtered_freqs, stats,'b,')"
   ]
  },
  {
   "cell_type": "code",
   "execution_count": 8,
   "metadata": {},
   "outputs": [
    {
     "data": {
      "image/png": "[encoded data removed]",
      "text/plain": [
       "<Figure size 432x288 with 1 Axes>"
      ]
     },
     "metadata": {
      "needs_background": "light"
     },
     "output_type": "display_data"
    }
   ],
   "source": [
    "plt.figure()\n",
    "plt.yscale(\"log\")\n",
    "n, bins, patches = plt.hist(np.log(p_vals+1e-256), bins=1000)"
   ]
  },
  {
   "cell_type": "code",
   "execution_count": 9,
   "metadata": {},
   "outputs": [],
   "source": [
    "# plt.figure()\n",
    "# plt.yscale(\"log\")\n",
    "# n, bins, patches = plt.hist(stats, bins=1000)"
   ]
  },
  {
   "cell_type": "code",
   "execution_count": 10,
   "metadata": {},
   "outputs": [
    {
     "data": {
      "text/html": [
       "<div>\n",
       "<style scoped>\n",
       "    .dataframe tbody tr th:only-of-type {\n",
       "        vertical-align: middle;\n",
       "    }\n",
       "\n",
       "    .dataframe tbody tr th {\n",
       "        vertical-align: top;\n",
       "    }\n",
       "\n",
       "    .dataframe thead th {\n",
       "        text-align: right;\n",
       "    }\n",
       "</style>\n",
       "<table border=\"1\" class=\"dataframe\">\n",
       "  <thead>\n",
       "    <tr style=\"text-align: right;\">\n",
       "      <th></th>\n",
       "      <th>index</th>\n",
       "      <th>statistic</th>\n",
       "      <th>pvalue</th>\n",
       "      <th>block_num</th>\n",
       "      <th>freqs</th>\n",
       "    </tr>\n",
       "  </thead>\n",
       "  <tbody>\n",
       "    <tr>\n",
       "      <td>0</td>\n",
       "      <td>130185216</td>\n",
       "      <td>3690.222177</td>\n",
       "      <td>0.0</td>\n",
       "      <td>9</td>\n",
       "      <td>1557.128906</td>\n",
       "    </tr>\n",
       "    <tr>\n",
       "      <td>1</td>\n",
       "      <td>130185316</td>\n",
       "      <td>2934.611212</td>\n",
       "      <td>0.0</td>\n",
       "      <td>9</td>\n",
       "      <td>1557.128623</td>\n",
       "    </tr>\n",
       "    <tr>\n",
       "      <td>2</td>\n",
       "      <td>130185416</td>\n",
       "      <td>3244.844843</td>\n",
       "      <td>0.0</td>\n",
       "      <td>9</td>\n",
       "      <td>1557.128339</td>\n",
       "    </tr>\n",
       "    <tr>\n",
       "      <td>3</td>\n",
       "      <td>130185516</td>\n",
       "      <td>3844.339809</td>\n",
       "      <td>0.0</td>\n",
       "      <td>9</td>\n",
       "      <td>1557.128056</td>\n",
       "    </tr>\n",
       "    <tr>\n",
       "      <td>4</td>\n",
       "      <td>130185616</td>\n",
       "      <td>2167.550337</td>\n",
       "      <td>0.0</td>\n",
       "      <td>9</td>\n",
       "      <td>1557.127772</td>\n",
       "    </tr>\n",
       "    <tr>\n",
       "      <td>...</td>\n",
       "      <td>...</td>\n",
       "      <td>...</td>\n",
       "      <td>...</td>\n",
       "      <td>...</td>\n",
       "      <td>...</td>\n",
       "    </tr>\n",
       "    <tr>\n",
       "      <td>347726</td>\n",
       "      <td>130184700</td>\n",
       "      <td>4102.562260</td>\n",
       "      <td>0.0</td>\n",
       "      <td>8</td>\n",
       "      <td>1557.130369</td>\n",
       "    </tr>\n",
       "    <tr>\n",
       "      <td>347727</td>\n",
       "      <td>130184800</td>\n",
       "      <td>4913.978469</td>\n",
       "      <td>0.0</td>\n",
       "      <td>8</td>\n",
       "      <td>1557.130086</td>\n",
       "    </tr>\n",
       "    <tr>\n",
       "      <td>347728</td>\n",
       "      <td>130184900</td>\n",
       "      <td>3044.633179</td>\n",
       "      <td>0.0</td>\n",
       "      <td>8</td>\n",
       "      <td>1557.129802</td>\n",
       "    </tr>\n",
       "    <tr>\n",
       "      <td>347729</td>\n",
       "      <td>130185000</td>\n",
       "      <td>3288.789078</td>\n",
       "      <td>0.0</td>\n",
       "      <td>8</td>\n",
       "      <td>1557.129519</td>\n",
       "    </tr>\n",
       "    <tr>\n",
       "      <td>347730</td>\n",
       "      <td>130185100</td>\n",
       "      <td>1743.678781</td>\n",
       "      <td>0.0</td>\n",
       "      <td>8</td>\n",
       "      <td>1557.129235</td>\n",
       "    </tr>\n",
       "  </tbody>\n",
       "</table>\n",
       "<p>347731 rows × 5 columns</p>\n",
       "</div>"
      ],
      "text/plain": [
       "            index    statistic  pvalue  block_num        freqs\n",
       "0       130185216  3690.222177     0.0          9  1557.128906\n",
       "1       130185316  2934.611212     0.0          9  1557.128623\n",
       "2       130185416  3244.844843     0.0          9  1557.128339\n",
       "3       130185516  3844.339809     0.0          9  1557.128056\n",
       "4       130185616  2167.550337     0.0          9  1557.127772\n",
       "...           ...          ...     ...        ...          ...\n",
       "347726  130184700  4102.562260     0.0          8  1557.130369\n",
       "347727  130184800  4913.978469     0.0          8  1557.130086\n",
       "347728  130184900  3044.633179     0.0          8  1557.129802\n",
       "347729  130185000  3288.789078     0.0          8  1557.129519\n",
       "347730  130185100  1743.678781     0.0          8  1557.129235\n",
       "\n",
       "[347731 rows x 5 columns]"
      ]
     },
     "execution_count": 10,
     "metadata": {},
     "output_type": "execute_result"
    }
   ],
   "source": [
    "source_dir = \"GBT_57532_09539_HIP56445_fine/\"\n",
    "filtered_dir = source_dir+\"filtered/\"\n",
    "info_df = pd.read_pickle(source_dir+\"info_df.pkl\").astype({\"index\":int, \"block_num\":int})\n",
    "info_df.set_index(\"index\")\n",
    "info_df.sort_index()"
   ]
  },
  {
   "cell_type": "code",
   "execution_count": 11,
   "metadata": {},
   "outputs": [],
   "source": [
    "filtered_freqs = info_df[\"freqs\"]\n",
    "p_vals = info_df[\"pvalue\"]\n",
    "stats = info_df[\"statistic\"]"
   ]
  },
  {
   "cell_type": "code",
   "execution_count": 12,
   "metadata": {},
   "outputs": [
    {
     "data": {
      "image/png": "[encoded data removed]",
      "text/plain": [
       "<Figure size 432x288 with 1 Axes>"
      ]
     },
     "metadata": {
      "needs_background": "light"
     },
     "output_type": "display_data"
    }
   ],
   "source": [
    "num_bins = int(1000000//(1926.269531 - 1025.390648))\n",
    "plt.figure()\n",
    "plt.title(f\"Histogram of Hits (bin size = {(1926.269531 - 1025.390648) / num_bins} MHz)\")\n",
    "plt.ylabel(\"number of hits\")\n",
    "plt.xlabel(\"frequency [MHz]\")\n",
    "n, bins, patches = plt.hist(filtered_freqs, bins=num_bins)"
   ]
  },
  {
   "cell_type": "code",
   "execution_count": 13,
   "metadata": {},
   "outputs": [
    {
     "data": {
      "text/plain": [
       "[<matplotlib.lines.Line2D at 0x140129e80>]"
      ]
     },
     "execution_count": 13,
     "metadata": {},
     "output_type": "execute_result"
    },
    {
     "data": {
      "image/png": "[encoded data removed]",
      "text/plain": [
       "<Figure size 432x288 with 1 Axes>"
      ]
     },
     "metadata": {
      "needs_background": "light"
     },
     "output_type": "display_data"
    }
   ],
   "source": [
    "plt.figure()\n",
    "plt.yscale(\"log\")\n",
    "plt.ylabel(\"p-value\")\n",
    "plt.xlabel(\"frequency [MHz]\")\n",
    "plt.plot(filtered_freqs, p_vals,'b,')"
   ]
  },
  {
   "cell_type": "code",
   "execution_count": 14,
   "metadata": {},
   "outputs": [
    {
     "data": {
      "image/png": "[encoded data removed]",
      "text/plain": [
       "<Figure size 432x288 with 1 Axes>"
      ]
     },
     "metadata": {
      "needs_background": "light"
     },
     "output_type": "display_data"
    }
   ],
   "source": [
    "plt.figure()\n",
    "plt.yscale(\"log\")\n",
    "n, bins, patches = plt.hist(np.log(p_vals+1e-256), bins=1000)"
   ]
  },
  {
   "cell_type": "code",
   "execution_count": 15,
   "metadata": {},
   "outputs": [],
   "source": [
    "# plt.figure()\n",
    "# plt.yscale(\"log\")\n",
    "# n, bins, patches = plt.hist(stats, bins=1000)"
   ]
  },
  {
   "cell_type": "code",
   "execution_count": 21,
   "metadata": {},
   "outputs": [
    {
     "data": {
      "text/html": [
       "<div>\n",
       "<style scoped>\n",
       "    .dataframe tbody tr th:only-of-type {\n",
       "        vertical-align: middle;\n",
       "    }\n",
       "\n",
       "    .dataframe tbody tr th {\n",
       "        vertical-align: top;\n",
       "    }\n",
       "\n",
       "    .dataframe thead th {\n",
       "        text-align: right;\n",
       "    }\n",
       "</style>\n",
       "<table border=\"1\" class=\"dataframe\">\n",
       "  <thead>\n",
       "    <tr style=\"text-align: right;\">\n",
       "      <th></th>\n",
       "      <th>index</th>\n",
       "      <th>statistic</th>\n",
       "      <th>pvalue</th>\n",
       "      <th>block_num</th>\n",
       "      <th>freqs</th>\n",
       "    </tr>\n",
       "  </thead>\n",
       "  <tbody>\n",
       "    <tr>\n",
       "      <td>187380</td>\n",
       "      <td>218149276</td>\n",
       "      <td>3567.994408</td>\n",
       "      <td>0.000000e+00</td>\n",
       "      <td>15</td>\n",
       "      <td>1307.706513</td>\n",
       "    </tr>\n",
       "    <tr>\n",
       "      <td>150260</td>\n",
       "      <td>106968348</td>\n",
       "      <td>3446.263746</td>\n",
       "      <td>0.000000e+00</td>\n",
       "      <td>7</td>\n",
       "      <td>1622.960415</td>\n",
       "    </tr>\n",
       "    <tr>\n",
       "      <td>330557</td>\n",
       "      <td>123761104</td>\n",
       "      <td>2051.607313</td>\n",
       "      <td>0.000000e+00</td>\n",
       "      <td>8</td>\n",
       "      <td>1575.344498</td>\n",
       "    </tr>\n",
       "    <tr>\n",
       "      <td>294491</td>\n",
       "      <td>264866496</td>\n",
       "      <td>4563.676042</td>\n",
       "      <td>0.000000e+00</td>\n",
       "      <td>18</td>\n",
       "      <td>1175.239676</td>\n",
       "    </tr>\n",
       "    <tr>\n",
       "      <td>301982</td>\n",
       "      <td>265696412</td>\n",
       "      <td>5108.247595</td>\n",
       "      <td>0.000000e+00</td>\n",
       "      <td>18</td>\n",
       "      <td>1172.886447</td>\n",
       "    </tr>\n",
       "    <tr>\n",
       "      <td>48432</td>\n",
       "      <td>140890276</td>\n",
       "      <td>1505.290589</td>\n",
       "      <td>0.000000e+00</td>\n",
       "      <td>9</td>\n",
       "      <td>1526.774672</td>\n",
       "    </tr>\n",
       "    <tr>\n",
       "      <td>4554</td>\n",
       "      <td>131237032</td>\n",
       "      <td>4556.282500</td>\n",
       "      <td>0.000000e+00</td>\n",
       "      <td>9</td>\n",
       "      <td>1554.146478</td>\n",
       "    </tr>\n",
       "    <tr>\n",
       "      <td>310952</td>\n",
       "      <td>266869228</td>\n",
       "      <td>1338.484650</td>\n",
       "      <td>2.247767e-291</td>\n",
       "      <td>18</td>\n",
       "      <td>1169.560923</td>\n",
       "    </tr>\n",
       "    <tr>\n",
       "      <td>230309</td>\n",
       "      <td>228145520</td>\n",
       "      <td>1081.667378</td>\n",
       "      <td>1.314962e-235</td>\n",
       "      <td>15</td>\n",
       "      <td>1279.362129</td>\n",
       "    </tr>\n",
       "    <tr>\n",
       "      <td>227912</td>\n",
       "      <td>227905820</td>\n",
       "      <td>950.421136</td>\n",
       "      <td>4.155971e-207</td>\n",
       "      <td>15</td>\n",
       "      <td>1280.041800</td>\n",
       "    </tr>\n",
       "    <tr>\n",
       "      <td>320908</td>\n",
       "      <td>302690672</td>\n",
       "      <td>803.450085</td>\n",
       "      <td>3.412171e-175</td>\n",
       "      <td>20</td>\n",
       "      <td>1067.989096</td>\n",
       "    </tr>\n",
       "    <tr>\n",
       "      <td>314797</td>\n",
       "      <td>267665344</td>\n",
       "      <td>674.801736</td>\n",
       "      <td>2.942151e-147</td>\n",
       "      <td>18</td>\n",
       "      <td>1167.303533</td>\n",
       "    </tr>\n",
       "    <tr>\n",
       "      <td>173312</td>\n",
       "      <td>109278480</td>\n",
       "      <td>585.388222</td>\n",
       "      <td>7.665890e-128</td>\n",
       "      <td>7</td>\n",
       "      <td>1616.410028</td>\n",
       "    </tr>\n",
       "    <tr>\n",
       "      <td>237750</td>\n",
       "      <td>228889636</td>\n",
       "      <td>526.742075</td>\n",
       "      <td>4.163051e-115</td>\n",
       "      <td>15</td>\n",
       "      <td>1277.252186</td>\n",
       "    </tr>\n",
       "    <tr>\n",
       "      <td>213432</td>\n",
       "      <td>223359556</td>\n",
       "      <td>480.211452</td>\n",
       "      <td>5.289421e-105</td>\n",
       "      <td>15</td>\n",
       "      <td>1292.932747</td>\n",
       "    </tr>\n",
       "    <tr>\n",
       "      <td>171406</td>\n",
       "      <td>109087880</td>\n",
       "      <td>435.812795</td>\n",
       "      <td>2.314483e-95</td>\n",
       "      <td>7</td>\n",
       "      <td>1616.950475</td>\n",
       "    </tr>\n",
       "    <tr>\n",
       "      <td>110433</td>\n",
       "      <td>244312576</td>\n",
       "      <td>378.732867</td>\n",
       "      <td>5.743848e-83</td>\n",
       "      <td>16</td>\n",
       "      <td>1233.520387</td>\n",
       "    </tr>\n",
       "    <tr>\n",
       "      <td>265041</td>\n",
       "      <td>82986680</td>\n",
       "      <td>318.682911</td>\n",
       "      <td>6.293398e-70</td>\n",
       "      <td>5</td>\n",
       "      <td>1690.960516</td>\n",
       "    </tr>\n",
       "    <tr>\n",
       "      <td>176035</td>\n",
       "      <td>112911044</td>\n",
       "      <td>264.942051</td>\n",
       "      <td>2.941471e-58</td>\n",
       "      <td>7</td>\n",
       "      <td>1606.109880</td>\n",
       "    </tr>\n",
       "    <tr>\n",
       "      <td>319040</td>\n",
       "      <td>298592608</td>\n",
       "      <td>210.284930</td>\n",
       "      <td>2.173740e-46</td>\n",
       "      <td>20</td>\n",
       "      <td>1079.609171</td>\n",
       "    </tr>\n",
       "  </tbody>\n",
       "</table>\n",
       "</div>"
      ],
      "text/plain": [
       "            index    statistic         pvalue  block_num        freqs\n",
       "187380  218149276  3567.994408   0.000000e+00         15  1307.706513\n",
       "150260  106968348  3446.263746   0.000000e+00          7  1622.960415\n",
       "330557  123761104  2051.607313   0.000000e+00          8  1575.344498\n",
       "294491  264866496  4563.676042   0.000000e+00         18  1175.239676\n",
       "301982  265696412  5108.247595   0.000000e+00         18  1172.886447\n",
       "48432   140890276  1505.290589   0.000000e+00          9  1526.774672\n",
       "4554    131237032  4556.282500   0.000000e+00          9  1554.146478\n",
       "310952  266869228  1338.484650  2.247767e-291         18  1169.560923\n",
       "230309  228145520  1081.667378  1.314962e-235         15  1279.362129\n",
       "227912  227905820   950.421136  4.155971e-207         15  1280.041800\n",
       "320908  302690672   803.450085  3.412171e-175         20  1067.989096\n",
       "314797  267665344   674.801736  2.942151e-147         18  1167.303533\n",
       "173312  109278480   585.388222  7.665890e-128          7  1616.410028\n",
       "237750  228889636   526.742075  4.163051e-115         15  1277.252186\n",
       "213432  223359556   480.211452  5.289421e-105         15  1292.932747\n",
       "171406  109087880   435.812795   2.314483e-95          7  1616.950475\n",
       "110433  244312576   378.732867   5.743848e-83         16  1233.520387\n",
       "265041   82986680   318.682911   6.293398e-70          5  1690.960516\n",
       "176035  112911044   264.942051   2.941471e-58          7  1606.109880\n",
       "319040  298592608   210.284930   2.173740e-46         20  1079.609171"
      ]
     },
     "execution_count": 21,
     "metadata": {},
     "output_type": "execute_result"
    }
   ],
   "source": [
    "sample_size = 20\n",
    "num_rows, num_cols = info_df.shape\n",
    "step_size = num_rows//sample_size\n",
    "start = np.random.randint(step_size)\n",
    "sample_indexes = np.arange(start, num_rows, step_size)\n",
    "samples = info_df.sort_values(\"pvalue\").iloc[sample_indexes]\n",
    "samples"
   ]
  },
  {
   "cell_type": "code",
   "execution_count": 22,
   "metadata": {
    "scrolled": false
   },
   "outputs": [
    {
     "data": {
      "application/vnd.jupyter.widget-view+json": {
       "model_id": "f52fc7e9bcc84e8783a3ea5568e483b4",
       "version_major": 2,
       "version_minor": 0
      },
      "text/plain": [
       "interactive(children=(IntSlider(value=5, description='index', max=9), Output()), _dom_classes=('widget-interac…"
      ]
     },
     "metadata": {},
     "output_type": "display_data"
    },
    {
     "data": {
      "text/plain": [
       "<function __main__.load_plot_samples.<locals>.plot_sample(index)>"
      ]
     },
     "execution_count": 22,
     "metadata": {},
     "output_type": "execute_result"
    }
   ],
   "source": [
    "def load_plot_samples(n):\n",
    "    rows, data_sections = [], []\n",
    "    for ind in range(n):\n",
    "        rows.append(samples.iloc[ind])\n",
    "        i, s, p, block_num, start_freq = rows[-1]\n",
    "        data_sections.append(np.load(f\"{filtered_dir}{int(block_num)}/{int(i)}.npy\"))\n",
    "\n",
    "    def plot_sample(index):\n",
    "        i, s, p, block_num, start_freq = rows[index]\n",
    "        i, block_num = int(i), int(block_num)\n",
    "        sub_freqs = np.arange(start_freq, start_freq+f_off*201, f_off)\n",
    "\n",
    "        plt.figure(figsize=(10, 6))\n",
    "        plt.title(f\"Sample {index}, Index {i} in Block {block_num}, p-value={p:6E}\")\n",
    "        plt.yticks(np.arange(0, 16), list(map(lambda x: \"%.2f\" % x, np.arange(0, tsamp*18, tsamp))))\n",
    "        plt.xticks(np.arange(0, 200, 49), list(map(lambda x: \"%.5f\" % x, sub_freqs[np.arange(0, 200, 49)])))\n",
    "        plt.ylabel(\"time from obs start [s]\")\n",
    "        plt.xlabel(\"frequency [MHz]\")\n",
    "        plt.imshow(data_sections[index], **plt_args)\n",
    "    return plot_sample\n",
    "    \n",
    "interact(load_plot_samples(20),index=widgets.IntSlider(min=0, max=9, step=1, value=5))"
   ]
  },
  {
   "cell_type": "code",
   "execution_count": 18,
   "metadata": {},
   "outputs": [
    {
     "data": {
      "application/vnd.jupyter.widget-view+json": {
       "model_id": "0f3c121c02e14281a36f7e4464521eff",
       "version_major": 2,
       "version_minor": 0
      },
      "text/plain": [
       "interactive(children=(IntSlider(value=5, description='index', max=9), Button(description='Run Interact', style…"
      ]
     },
     "metadata": {},
     "output_type": "display_data"
    },
    {
     "data": {
      "text/plain": [
       "<function __main__.load_hist_samples.<locals>.plot_sample(index)>"
      ]
     },
     "execution_count": 18,
     "metadata": {},
     "output_type": "execute_result"
    }
   ],
   "source": [
    "def load_hist_samples(n):\n",
    "    rows, data_sections = [], []\n",
    "    for ind in range(n):\n",
    "        rows.append(samples.iloc[ind])\n",
    "        i, s, p, block_num, start_freq = rows[-1]\n",
    "        data_sections.append(np.load(f\"{filtered_dir}{int(block_num)}/{int(i)}.npy\"))\n",
    "    \n",
    "    def plot_sample(index):\n",
    "        i, s, p, block_num, start_freq = rows[index]\n",
    "        i, block_num = int(i), int(block_num)\n",
    "        sub_freqs = np.arange(start_freq, start_freq+f_off*201, f_off)\n",
    "\n",
    "        plt.figure(figsize=(10, 6))\n",
    "        plt.title(f\"Sample {index}, Index {i} in Block {block_num}, p-value={p:6E}\")\n",
    "        plt.ylabel(\"Counts\")\n",
    "        plt.xlabel(\"Normalized Power\")\n",
    "        plt.hist(data_sections[index], bins=16)\n",
    "    return plot_sample\n",
    "interact_manual(load_hist_samples(20),index=widgets.IntSlider(min=0, max=9, step=1, value=5))"
   ]
  },
  {
   "cell_type": "code",
   "execution_count": 19,
   "metadata": {},
   "outputs": [
    {
     "data": {
      "text/plain": [
       "<matplotlib.image.AxesImage at 0x13284c7f0>"
      ]
     },
     "execution_count": 19,
     "metadata": {},
     "output_type": "execute_result"
    },
    {
     "data": {
      "image/png": "[encoded data removed]",
      "text/plain": [
       "<Figure size 720x432 with 1 Axes>"
      ]
     },
     "metadata": {
      "needs_background": "light"
     },
     "output_type": "display_data"
    }
   ],
   "source": [
    "# for Github where interactive doesn't render\n",
    "\n",
    "i, s, p, block_num, start_freq = samples.iloc[6]\n",
    "i, block_num = int(i), int(block_num)\n",
    "data_section = np.load(f\"{filtered_dir}{int(block_num)}/{int(i)}.npy\")\n",
    "sub_freqs = np.arange(start_freq, start_freq+f_off*201, f_off)\n",
    "\n",
    "plt.figure(figsize=(10, 6))\n",
    "plt.title(f\"Index {i} in Block {block_num}, p-value={p:6E}\")\n",
    "plt.yticks(np.arange(0, 16), list(map(lambda x: \"%.2f\" % x, np.arange(0, tsamp*18, tsamp))))\n",
    "plt.xticks(np.arange(0, 200, 49), list(map(lambda x: \"%.5f\" % x, sub_freqs[np.arange(0, 200, 49)])))\n",
    "plt.ylabel(\"time from obs start [s]\")\n",
    "plt.xlabel(\"frequency [MHz]\")\n",
    "plt.imshow(data_section, **plt_args)"
   ]
  },
  {
   "cell_type": "code",
   "execution_count": 20,
   "metadata": {},
   "outputs": [
    {
     "data": {
      "image/png": "[encoded data removed]",
      "text/plain": [
       "<Figure size 720x432 with 1 Axes>"
      ]
     },
     "metadata": {
      "needs_background": "light"
     },
     "output_type": "display_data"
    }
   ],
   "source": [
    "# for Github where interactive doesn't render\n",
    "i, s, p, block_num, start_freq = samples.iloc[6]\n",
    "i, block_num = int(i), int(block_num)\n",
    "sub_freqs = np.arange(start_freq, start_freq+f_off*201, f_off)\n",
    "\n",
    "plt.figure(figsize=(10, 6))\n",
    "plt.title(f\"Index {i} in Block {block_num}, p-value={p:6E}\")\n",
    "plt.ylabel(\"Counts\")\n",
    "plt.xlabel(\"Normalized Power\")\n",
    "hist = plt.hist(data_section, bins=16)"
   ]
  },
  {
   "cell_type": "code",
   "execution_count": null,
   "metadata": {},
   "outputs": [],
   "source": []
  }
 ],
 "metadata": {
  "kernelspec": {
   "display_name": "BSRC_Env",
   "language": "python",
   "name": "bsrc_env"
  },
  "language_info": {
   "codemirror_mode": {
    "name": "ipython",
    "version": 3
   },
   "file_extension": ".py",
   "mimetype": "text/x-python",
   "name": "python",
   "nbconvert_exporter": "python",
   "pygments_lexer": "ipython3",
   "version": "3.6.5"
  }
 },
 "nbformat": 4,
 "nbformat_minor": 2
}
