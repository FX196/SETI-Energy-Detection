{
 "cells": [
  {
   "cell_type": "code",
   "execution_count": 1,
   "metadata": {},
   "outputs": [],
   "source": [
    "%matplotlib inline\n",
    "import numpy as np\n",
    "from scipy import stats\n",
    "from blimpy import Waterfall\n",
    "from blimpy.utils import rebin\n",
    "from matplotlib import pyplot as plt\n",
    "from bisect import bisect_left\n",
    "from tqdm import tqdm\n",
    "\n",
    "MAX_PLT_POINTS      = 65536                  # Max number of points in matplotlib plot\n",
    "MAX_IMSHOW_POINTS   = (8192, 4096)           # Max number of points in imshow plot\n",
    "\n",
    "fil_path = \"data/filterbanks/\"\n",
    "h5_path = \"data/h5/\"\n",
    "\n",
    "test_fil = fil_path + \"blc20_guppi_57991_48899_3C161_0007.gpuspec.0000.fil\"\n",
    "\n",
    "fri_obs = h5_path + \"GBT_57532_09539_HIP56445_fine.h5\"\n",
    "\n",
    "plt_args = {\n",
    "            'aspect':'auto',\n",
    "            'origin':'lower',\n",
    "            'rasterized':True,\n",
    "            'interpolation':'nearest',\n",
    "            'cmap':'viridis'\n",
    "            }"
   ]
  },
  {
   "cell_type": "code",
   "execution_count": 2,
   "metadata": {},
   "outputs": [],
   "source": [
    "def norm_test(arr):\n",
    "    return stats.normaltest(arr.flatten())"
   ]
  },
  {
   "cell_type": "code",
   "execution_count": 3,
   "metadata": {
    "scrolled": true
   },
   "outputs": [],
   "source": [
    "def show_stamp(window, i):\n",
    "    test_data = window[:, i:i+200]\n",
    "    plt.figure()\n",
    "    plt.imshow(test_data, **plt_args)\n",
    "    \n",
    "def show_stamp_f(freqs, data, f):\n",
    "    ind = bisect_left(freqs, f)\n",
    "    test_data = data[:, ind:ind+200]\n",
    "    plt.figure()\n",
    "    plt.imshow(test_data, **plt_args)\n",
    "    \n",
    "def plot_segment(plot_data):\n",
    "    dec_fac_x, dec_fac_y = 1, 1\n",
    "    if plot_data.shape[0] > MAX_IMSHOW_POINTS[0]:\n",
    "        dec_fac_x = int(plot_data.shape[0] / MAX_IMSHOW_POINTS[0])\n",
    "\n",
    "    if plot_data.shape[1] > MAX_IMSHOW_POINTS[1]:\n",
    "        dec_fac_y = int(plot_data.shape[1] / MAX_IMSHOW_POINTS[1])\n",
    "\n",
    "    print(f'Downsampling by a factor of ({dec_fac_x}, {dec_fac_y})')\n",
    "    plot_data = rebin(plot_data, dec_fac_x, dec_fac_y)\n",
    "    plt.figure(figsize=(10, 6))\n",
    "    plt.imshow(plot_data, **plt_args)"
   ]
  },
  {
   "cell_type": "code",
   "execution_count": 42,
   "metadata": {},
   "outputs": [
    {
     "name": "stdout",
     "output_type": "stream",
     "text": [
      "blimpy.file_wrapper INFO     Skipping loading data ...\n",
      "\n",
      "--- File Info ---\n",
      "b'DIMENSION_LABELS' : [b'frequency' b'feed_id' b'time']\n",
      "     b'az_start' :                              0.0\n",
      "    b'data_type' :                                1\n",
      "         b'fch1' :                    1926.26953125\n",
      "         b'foff' :           -2.835503418452676e-06\n",
      "   b'machine_id' :                               20\n",
      "        b'nbits' :                               32\n",
      "       b'nchans' :                        318230528\n",
      "         b'nifs' :                                1\n",
      "  b'source_name' :                      b'HIP56445'\n",
      "      b'src_dej' :                     3d03m34.006s\n",
      "      b'src_raj' :                    11h34m21.699s\n",
      " b'telescope_id' :                                6\n",
      "        b'tsamp' :                     17.986224128\n",
      "       b'tstart' :                57532.11040509259\n",
      "     b'za_start' :                              0.0\n",
      "\n",
      "Num ints in file :                               16\n",
      "      File shape :               (16, 1, 318230528)\n",
      "--- Selection Info ---\n",
      "Data selection shape :               (16, 1, 318230528)\n",
      "Minimum freq (MHz) :               1023.9257812499999\n",
      "Maximum freq (MHz) :                    1926.26953125\n"
     ]
    },
    {
     "data": {
      "text/plain": [
       "{b'DIMENSION_LABELS': array([b'frequency', b'feed_id', b'time'], dtype=object),\n",
       " b'az_start': 0.0,\n",
       " b'data_type': 1,\n",
       " b'fch1': 1926.26953125,\n",
       " b'foff': -2.835503418452676e-06,\n",
       " b'machine_id': 20,\n",
       " b'nbits': 32,\n",
       " b'nchans': 318230528,\n",
       " b'nifs': 1,\n",
       " b'source_name': b'HIP56445',\n",
       " b'src_dej': <Angle 3.05944611 deg>,\n",
       " b'src_raj': <Angle 11.57269417 hourangle>,\n",
       " b'telescope_id': 6,\n",
       " b'tsamp': 17.986224128,\n",
       " b'tstart': 57532.11040509259,\n",
       " b'za_start': 0.0}"
      ]
     },
     "execution_count": 42,
     "metadata": {},
     "output_type": "execute_result"
    }
   ],
   "source": [
    "# Show Info\n",
    "wf = Waterfall(fri_obs, load_data=False)\n",
    "wf.info()\n",
    "wf.header"
   ]
  },
  {
   "cell_type": "code",
   "execution_count": 34,
   "metadata": {},
   "outputs": [
    {
     "name": "stdout",
     "output_type": "stream",
     "text": [
      "blimpy.file_wrapper WARNING  Setting data limit > 1GB, please handle with care!\n"
     ]
    },
    {
     "name": "stderr",
     "output_type": "stream",
     "text": [
      "/Users/yuhongc/PycharmProjects/BSRC_Env/lib/python3.6/site-packages/blimpy/file_wrapper.py:326: H5pyDeprecationWarning: The default file mode will change to 'r' (read-only) in h5py 3.0. To suppress this warning, pass the mode you need to h5py.File(), or set the global default h5.get_config().default_file_mode, or set the environment variable H5PY_DEFAULT_READONLY=1. Available modes are: 'r', 'r+', 'w', 'w-'/'x', 'a'. See the docs for details.\n",
      "  self.h5 = h5py.File(self.filename)\n"
     ]
    },
    {
     "name": "stdout",
     "output_type": "stream",
     "text": [
      "\n",
      "--- File Info ---\n",
      "b'DIMENSION_LABELS' : [b'frequency' b'feed_id' b'time']\n",
      "     b'az_start' :                              0.0\n",
      "    b'data_type' :                                1\n",
      "         b'fch1' :                    1926.26953125\n",
      "         b'foff' :           -2.835503418452676e-06\n",
      "   b'machine_id' :                               20\n",
      "        b'nbits' :                               32\n",
      "       b'nchans' :                        318230528\n",
      "         b'nifs' :                                1\n",
      "  b'source_name' :                      b'HIP56445'\n",
      "      b'src_dej' :                     3d03m34.006s\n",
      "      b'src_raj' :                    11h34m21.699s\n",
      " b'telescope_id' :                                6\n",
      "        b'tsamp' :                     17.986224128\n",
      "       b'tstart' :                57532.11040509259\n",
      "     b'za_start' :                              0.0\n",
      "\n",
      "Num ints in file :                               16\n",
      "      File shape :               (16, 1, 318230528)\n",
      "--- Selection Info ---\n",
      "Data selection shape :                (16, 1, 19775754)\n",
      "Minimum freq (MHz) :               1023.9257812499999\n",
      "Maximum freq (MHz) :               1079.9999993194792\n"
     ]
    }
   ],
   "source": [
    "wf = Waterfall(fri_obs, f_stop=1080, max_load=2)\n",
    "wf.info()"
   ]
  },
  {
   "cell_type": "code",
   "execution_count": 35,
   "metadata": {},
   "outputs": [],
   "source": [
    "channel_len = np.int(np.round(187.5/64/abs(wf.header[b'foff'])))"
   ]
  },
  {
   "cell_type": "code",
   "execution_count": 36,
   "metadata": {},
   "outputs": [
    {
     "data": {
      "image/png": "[encoded data removed]",
      "text/plain": [
       "<Figure size 432x288 with 2 Axes>"
      ]
     },
     "metadata": {
      "needs_background": "light"
     },
     "output_type": "display_data"
    }
   ],
   "source": [
    "plt.figure()\n",
    "wf.plot_waterfall(f_start=0, f_stop=1080)"
   ]
  },
  {
   "cell_type": "code",
   "execution_count": 37,
   "metadata": {},
   "outputs": [
    {
     "name": "stdout",
     "output_type": "stream",
     "text": [
      "(16, 19775754)\n"
     ]
    }
   ],
   "source": [
    "freqs, data = wf.grab_data(f_start=0, f_stop=1080)\n",
    "print(data.shape)\n",
    "freqs = freqs[::-1]\n",
    "data = data[:,::-1]"
   ]
  },
  {
   "cell_type": "code",
   "execution_count": 41,
   "metadata": {},
   "outputs": [
    {
     "data": {
      "text/plain": [
       "19.139999767715558"
      ]
     },
     "execution_count": 41,
     "metadata": {},
     "output_type": "execute_result"
    }
   ],
   "source": [
    "len(freqs)/channel_len"
   ]
  },
  {
   "cell_type": "code",
   "execution_count": 44,
   "metadata": {
    "scrolled": false
   },
   "outputs": [
    {
     "data": {
      "text/plain": [
       "[<matplotlib.lines.Line2D at 0x1301694e0>]"
      ]
     },
     "execution_count": 44,
     "metadata": {},
     "output_type": "execute_result"
    },
    {
     "data": {
      "image/png": "[encoded data removed]",
      "text/plain": [
       "<Figure size 432x288 with 1 Axes>"
      ]
     },
     "metadata": {
      "needs_background": "light"
     },
     "output_type": "display_data"
    }
   ],
   "source": [
    "data = data[:, :16 * 1033216]\n",
    "freqs = freqs[:16 * 1033216]\n",
    "\n",
    "integrated = np.sum(data, axis=0)/len(data)\n",
    "for n in np.nonzero(integrated > 10**13):\n",
    "    integrated[n] = (integrated[n-1] + integrated[n+1]) /2\n",
    "plt.figure()\n",
    "plt.plot(freqs, np.log(integrated))\n"
   ]
  },
  {
   "cell_type": "code",
   "execution_count": 45,
   "metadata": {},
   "outputs": [
    {
     "name": "stdout",
     "output_type": "stream",
     "text": [
      "Downsampling by a factor of (1, 252)\n"
     ]
    },
    {
     "data": {
      "image/png": "[encoded data removed]",
      "text/plain": [
       "<Figure size 720x432 with 1 Axes>"
      ]
     },
     "metadata": {
      "needs_background": "light"
     },
     "output_type": "display_data"
    }
   ],
   "source": [
    "c = 6\n",
    "\n",
    "window = data[:, channel_len*(c):channel_len*(c+1)]\n",
    "plot_segment(np.log(window))"
   ]
  },
  {
   "cell_type": "code",
   "execution_count": 46,
   "metadata": {},
   "outputs": [
    {
     "data": {
      "text/plain": [
       "array([[1.8034956e+09, 1.7789466e+09, 1.6850761e+09, ..., 1.8884800e+09,\n",
       "        1.7214487e+09, 1.3809622e+09],\n",
       "       [1.7263657e+09, 1.7499603e+09, 1.7450801e+09, ..., 1.8666890e+09,\n",
       "        2.0712874e+09, 1.7819872e+09],\n",
       "       [1.7078250e+09, 2.0026440e+09, 1.9118678e+09, ..., 1.6442719e+09,\n",
       "        1.5118506e+09, 1.6894335e+09],\n",
       "       ...,\n",
       "       [1.7899773e+09, 1.7129288e+09, 1.8505032e+09, ..., 1.9386944e+09,\n",
       "        1.8534162e+09, 1.7500471e+09],\n",
       "       [1.8657156e+09, 1.6503720e+09, 1.9404667e+09, ..., 1.7936076e+09,\n",
       "        1.6499114e+09, 1.8753235e+09],\n",
       "       [1.9375962e+09, 1.7814765e+09, 1.7064093e+09, ..., 1.9241290e+09,\n",
       "        1.6184998e+09, 1.7303356e+09]], dtype=float32)"
      ]
     },
     "execution_count": 46,
     "metadata": {},
     "output_type": "execute_result"
    }
   ],
   "source": [
    "window"
   ]
  },
  {
   "cell_type": "code",
   "execution_count": 23,
   "metadata": {},
   "outputs": [
    {
     "name": "stderr",
     "output_type": "stream",
     "text": [
      "  0%|          | 0/15 [00:00<?, ?it/s]/Users/yuhongc/PycharmProjects/BSRC_Env/lib/python3.6/site-packages/scipy/stats/stats.py:979: RuntimeWarning: overflow encountered in multiply\n",
      "  s *= a_zero_mean\n",
      "/Users/yuhongc/PycharmProjects/BSRC_Env/lib/python3.6/site-packages/scipy/stats/stats.py:977: RuntimeWarning: overflow encountered in square\n",
      "  s = s**2\n",
      " 13%|█▎        | 2/15 [00:14<01:32,  7.13s/it]/Users/yuhongc/PycharmProjects/BSRC_Env/lib/python3.6/site-packages/numpy/core/_methods.py:75: RuntimeWarning: overflow encountered in reduce\n",
      "  ret = umr_sum(arr, axis, dtype, out, keepdims)\n",
      "100%|██████████| 15/15 [01:47<00:00,  7.08s/it]\n"
     ]
    }
   ],
   "source": [
    "res = []\n",
    "for chan in tqdm(range(15)):\n",
    "    res.append([])\n",
    "    window = data[:, channel_len*(chan):channel_len*(chan+1)]\n",
    "    window_f = freqs[channel_len*(chan):channel_len*(chan+1)]\n",
    "    for i in range(0, (len(window[0])//200*200), 100):\n",
    "        test_data = window[:, i:i+200]\n",
    "        s, p = norm_test(test_data)\n",
    "        if p < 1e-25:\n",
    "            res[chan].append((window_f[i], s, p))"
   ]
  },
  {
   "cell_type": "code",
   "execution_count": 52,
   "metadata": {},
   "outputs": [
    {
     "name": "stdout",
     "output_type": "stream",
     "text": [
      "22.503838062286377\n"
     ]
    }
   ],
   "source": [
    "from multiprocessing import Pool\n",
    "from time import time\n",
    "\n",
    "import warnings\n",
    "warnings.filterwarnings(\"ignore\")\n",
    "\n",
    "\n",
    "def threshold_hits(chan):\n",
    "    res = list()\n",
    "    window = data[:, channel_len*(chan):channel_len*(chan+1)]\n",
    "    window_f = freqs[channel_len*(chan):channel_len*(chan+1)]\n",
    "    for i in range(0, (len(window[0])//200*200), 100):\n",
    "        test_data = window[:, i:i+200]\n",
    "        s, p = norm_test(test_data)\n",
    "        if p < 1e-25:\n",
    "            res.append((window_f[i], s, p))\n",
    "    return res\n",
    "\n",
    "start = time()\n",
    "with Pool(12) as p:\n",
    "    chan_hits = p.map(threshold_hits, range(16))\n",
    "end = time()\n",
    "print(end-start)"
   ]
  },
  {
   "cell_type": "code",
   "execution_count": 48,
   "metadata": {},
   "outputs": [
    {
     "data": {
      "text/plain": [
       "84"
      ]
     },
     "execution_count": 48,
     "metadata": {},
     "output_type": "execute_result"
    }
   ],
   "source": []
  },
  {
   "cell_type": "code",
   "execution_count": 49,
   "metadata": {},
   "outputs": [
    {
     "data": {
      "image/png": "[encoded data removed]",
      "text/plain": [
       "<Figure size 432x288 with 1 Axes>"
      ]
     },
     "metadata": {
      "needs_background": "light"
     },
     "output_type": "display_data"
    }
   ],
   "source": [
    "show_stamp_f(freqs, data, 1025.0100805927195)"
   ]
  },
  {
   "cell_type": "code",
   "execution_count": 50,
   "metadata": {},
   "outputs": [
    {
     "name": "stdout",
     "output_type": "stream",
     "text": [
      "[12, 1616, 2179, 5, 16, 50, 272, 4254, 87, 109, 1450, 17, 404, 356, 658]\n",
      "11485\n"
     ]
    }
   ],
   "source": [
    "hits = [len(e) for e in chan_hits]\n",
    "print(hits)\n",
    "print(sum(hits))"
   ]
  },
  {
   "cell_type": "code",
   "execution_count": null,
   "metadata": {},
   "outputs": [],
   "source": [
    "sorted_hits = sorted(res[7], key=lambda x: x[2])\n",
    "sorted_hits"
   ]
  },
  {
   "cell_type": "code",
   "execution_count": null,
   "metadata": {},
   "outputs": [],
   "source": [
    "top = [x[0] for x in sorted_hits[:20]]\n",
    "top"
   ]
  },
  {
   "cell_type": "code",
   "execution_count": null,
   "metadata": {
    "scrolled": false
   },
   "outputs": [],
   "source": [
    "for i in top:\n",
    "    print(i)\n",
    "    show_stamp(window, i)"
   ]
  },
  {
   "cell_type": "code",
   "execution_count": null,
   "metadata": {},
   "outputs": [],
   "source": [
    "res[:15]"
   ]
  },
  {
   "cell_type": "code",
   "execution_count": null,
   "metadata": {},
   "outputs": [],
   "source": [
    "plt.figure()\n",
    "plt.imshow(data[:, 8:8+128])"
   ]
  },
  {
   "cell_type": "code",
   "execution_count": null,
   "metadata": {},
   "outputs": [],
   "source": []
  },
  {
   "cell_type": "code",
   "execution_count": null,
   "metadata": {},
   "outputs": [],
   "source": [
    "with open(\"pfb512coef.txt\", \"r\") as f:\n",
    "    coef_file = f.read()"
   ]
  },
  {
   "cell_type": "code",
   "execution_count": null,
   "metadata": {},
   "outputs": [],
   "source": [
    "lines = coef_file.splitlines()\n",
    "filter_coefs = []\n",
    "for line in lines:\n",
    "    filter_coefs.append(float(line))"
   ]
  },
  {
   "cell_type": "code",
   "execution_count": null,
   "metadata": {},
   "outputs": [],
   "source": [
    "coefs = np.array(filter_coefs)/2**17"
   ]
  },
  {
   "cell_type": "code",
   "execution_count": null,
   "metadata": {},
   "outputs": [],
   "source": [
    "plt.figure()\n",
    "plt.plot(coefs)"
   ]
  },
  {
   "cell_type": "code",
   "execution_count": null,
   "metadata": {},
   "outputs": [],
   "source": [
    "from numpy import fft\n",
    "l = 2**16\n",
    "f = fft.fft(coefs, l)\n",
    "plt.figure()\n",
    "plt.plot(np.log(np.abs(f)**2))"
   ]
  },
  {
   "cell_type": "code",
   "execution_count": null,
   "metadata": {},
   "outputs": [],
   "source": []
  },
  {
   "cell_type": "code",
   "execution_count": null,
   "metadata": {
    "scrolled": true
   },
   "outputs": [],
   "source": [
    "stacked = np.reshape(integrated, (15, 1033216))\n",
    "plt.figure()\n",
    "for i in range(15):\n",
    "    plt.plot(np.log(stacked[i]))"
   ]
  },
  {
   "cell_type": "code",
   "execution_count": null,
   "metadata": {},
   "outputs": [],
   "source": [
    "rebined = rebin(stacked, 1, 64)"
   ]
  },
  {
   "cell_type": "code",
   "execution_count": null,
   "metadata": {
    "scrolled": true
   },
   "outputs": [],
   "source": [
    "plt.figure()\n",
    "plt.imshow(np.log(rebined), **plt_args)"
   ]
  },
  {
   "cell_type": "code",
   "execution_count": null,
   "metadata": {},
   "outputs": [],
   "source": [
    "model_shape = np.sum(stacked, axis=0)/15\n",
    "model_shape[model_shape > 10**10] = np.mean(model_shape)"
   ]
  },
  {
   "cell_type": "code",
   "execution_count": null,
   "metadata": {
    "scrolled": true
   },
   "outputs": [],
   "source": [
    "plt.figure()\n",
    "plt.plot(model_shape)"
   ]
  }
 ],
 "metadata": {
  "kernelspec": {
   "display_name": "BSRC_Env",
   "language": "python",
   "name": "bsrc_env"
  },
  "language_info": {
   "codemirror_mode": {
    "name": "ipython",
    "version": 3
   },
   "file_extension": ".py",
   "mimetype": "text/x-python",
   "name": "python",
   "nbconvert_exporter": "python",
   "pygments_lexer": "ipython3",
   "version": "3.6.5"
  }
 },
 "nbformat": 4,
 "nbformat_minor": 2
}
