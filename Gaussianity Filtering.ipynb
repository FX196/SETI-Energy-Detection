{
 "cells": [
  {
   "cell_type": "code",
   "execution_count": 1,
   "metadata": {},
   "outputs": [],
   "source": [
    "%matplotlib inline\n",
    "import numpy as np\n",
    "from scipy import stats\n",
    "from blimpy import Waterfall\n",
    "from blimpy.utils import rebin\n",
    "from matplotlib import pyplot as plt\n",
    "from bisect import bisect_left\n",
    "from tqdm import tqdm\n",
    "import dask.array as da\n",
    "import h5py\n",
    "from time import time\n",
    "\n",
    "from utils import *\n",
    "\n",
    "fil_path = \"data/filterbanks/\"\n",
    "h5_path = \"data/h5/\"\n",
    "\n",
    "test_fil = fil_path + \"blc20_guppi_57991_48899_3C161_0007.gpuspec.0000.fil\"\n",
    "\n",
    "fri_obs = h5_path + \"GBT_57532_09539_HIP56445_fine.h5\"\n",
    "\n",
    "plt_args = {\n",
    "            'aspect':'auto',\n",
    "            'origin':'lower',\n",
    "            'rasterized':True,\n",
    "            'interpolation':'nearest',\n",
    "            'cmap':'viridis'\n",
    "            }\n",
    "# try:\n",
    "#     client.close()\n",
    "# except NameError:\n",
    "#     pass\n",
    "# from dask.distributed import Client, progress\n",
    "# client = Client(processes=False, threads_per_worker=3,\n",
    "#                 n_workers=4, memory_limit='8GB')\n",
    "# client"
   ]
  },
  {
   "cell_type": "code",
   "execution_count": 2,
   "metadata": {},
   "outputs": [
    {
     "name": "stdout",
     "output_type": "stream",
     "text": [
      "blimpy.file_wrapper INFO     Skipping loading data ...\n",
      "\n",
      "--- File Info ---\n",
      "b'DIMENSION_LABELS' : [b'frequency' b'feed_id' b'time']\n",
      "     b'az_start' :                              0.0\n",
      "    b'data_type' :                                1\n",
      "         b'fch1' :                    1926.26953125\n",
      "         b'foff' :           -2.835503418452676e-06\n",
      "   b'machine_id' :                               20\n",
      "        b'nbits' :                               32\n",
      "       b'nchans' :                        318230528\n",
      "         b'nifs' :                                1\n",
      "  b'source_name' :                      b'HIP56445'\n",
      "      b'src_dej' :                     3d03m34.006s\n",
      "      b'src_raj' :                    11h34m21.699s\n",
      " b'telescope_id' :                                6\n",
      "        b'tsamp' :                     17.986224128\n",
      "       b'tstart' :                57532.11040509259\n",
      "     b'za_start' :                              0.0\n",
      "\n",
      "Num ints in file :                               16\n",
      "      File shape :               (16, 1, 318230528)\n",
      "--- Selection Info ---\n",
      "Data selection shape :               (16, 1, 318230528)\n",
      "Minimum freq (MHz) :               1023.9257812499999\n",
      "Maximum freq (MHz) :                    1926.26953125\n"
     ]
    },
    {
     "name": "stderr",
     "output_type": "stream",
     "text": [
      "/Users/yuhongc/PycharmProjects/BSRC_Env/lib/python3.6/site-packages/blimpy/file_wrapper.py:326: H5pyDeprecationWarning: The default file mode will change to 'r' (read-only) in h5py 3.0. To suppress this warning, pass the mode you need to h5py.File(), or set the global default h5.get_config().default_file_mode, or set the environment variable H5PY_DEFAULT_READONLY=1. Available modes are: 'r', 'r+', 'w', 'w-'/'x', 'a'. See the docs for details.\n",
      "  self.h5 = h5py.File(self.filename)\n"
     ]
    }
   ],
   "source": [
    "# Show Info\n",
    "wf = Waterfall(fri_obs, load_data=False)\n",
    "wf.info()\n",
    "header = wf.header"
   ]
  },
  {
   "cell_type": "code",
   "execution_count": null,
   "metadata": {},
   "outputs": [],
   "source": [
    "freqs = wf.populate_freqs()"
   ]
  },
  {
   "cell_type": "code",
   "execution_count": null,
   "metadata": {},
   "outputs": [],
   "source": []
  },
  {
   "cell_type": "code",
   "execution_count": null,
   "metadata": {},
   "outputs": [],
   "source": [
    "channel_len = 1033216\n",
    "channel_len"
   ]
  },
  {
   "cell_type": "code",
   "execution_count": null,
   "metadata": {
    "scrolled": false
   },
   "outputs": [],
   "source": [
    "data = data[:, :16 * 1033216]\n",
    "freqs = freqs[:16 * 1033216]\n",
    "\n",
    "integrated = np.sum(data, axis=0)/len(data)\n",
    "for n in np.nonzero(integrated > 10**13):\n",
    "    integrated[n] = (integrated[n-1] + integrated[n+1]) /2\n",
    "plt.figure()\n",
    "plt.plot(freqs, np.log(integrated))\n"
   ]
  },
  {
   "cell_type": "code",
   "execution_count": null,
   "metadata": {},
   "outputs": [],
   "source": [
    "block21 = np.load(\"GBT_57532_09539_HIP56445_fine/cleaned/21.npy\")"
   ]
  },
  {
   "cell_type": "code",
   "execution_count": null,
   "metadata": {},
   "outputs": [],
   "source": [
    "plot_segment(block21)"
   ]
  },
  {
   "cell_type": "code",
   "execution_count": null,
   "metadata": {},
   "outputs": [],
   "source": [
    "data = block21"
   ]
  },
  {
   "cell_type": "code",
   "execution_count": null,
   "metadata": {},
   "outputs": [],
   "source": [
    "res = []\n",
    "for chan in tqdm(range(14)):\n",
    "    res.append([])\n",
    "    window = data[:, channel_len*(chan):channel_len*(chan+1)]\n",
    "    # window_f = freqs[channel_len*(chan):channel_len*(chan+1)]\n",
    "    for i in range(0, (len(window[0])//200*200), 100):\n",
    "        test_data = window[:, i:i+200]\n",
    "        s, p = norm_test(test_data)\n",
    "        if p < 1e-25:\n",
    "            res[chan].append((i, s, p))"
   ]
  },
  {
   "cell_type": "code",
   "execution_count": null,
   "metadata": {},
   "outputs": [],
   "source": [
    "from multiprocessing import Pool\n",
    "from time import time\n",
    "\n",
    "import warnings\n",
    "warnings.filterwarnings(\"ignore\")\n",
    "\n",
    "\n",
    "def threshold_hits(chan):\n",
    "    res = list()\n",
    "    window = data[:, channel_len*(chan):channel_len*(chan+1)]\n",
    "    # window_f = freqs[channel_len*(chan):channel_len*(chan+1)]\n",
    "    for i in range(0, (len(window[0])//200*200), 100):\n",
    "        test_data = window[:, i:i+200]\n",
    "        s, p = norm_test(test_data)\n",
    "        if p < 1e-40:\n",
    "            res.append([channel_len*(chan) + i, s, p])\n",
    "    return res\n",
    "\n",
    "start = time()\n",
    "with Pool(12) as p:\n",
    "    chan_hits = p.map(threshold_hits, range(14))\n",
    "end = time()\n",
    "print(end-start)"
   ]
  },
  {
   "cell_type": "code",
   "execution_count": null,
   "metadata": {
    "scrolled": true
   },
   "outputs": [],
   "source": [
    "sum([len(chan) for chan in chan_hits])"
   ]
  },
  {
   "cell_type": "code",
   "execution_count": null,
   "metadata": {},
   "outputs": [],
   "source": [
    "chan_hits"
   ]
  },
  {
   "cell_type": "code",
   "execution_count": null,
   "metadata": {},
   "outputs": [],
   "source": [
    "left = 824400\n",
    "plot_segment(block21[:, left:left+200])"
   ]
  },
  {
   "cell_type": "code",
   "execution_count": null,
   "metadata": {},
   "outputs": [],
   "source": [
    "sub_freqs = freqs[21*channel_len+left:21*channel_len+left+201]\n",
    "plt.figure(figsize=(10, 6))\n",
    "plt.yticks(np.arange(0, 16), list(map(lambda x: \"%.2f\" % x, np.arange(0, wf.header[b'tsamp']*18, wf.header[b'tsamp']))))\n",
    "plt.xticks(np.arange(0, 200, 49), list(map(lambda x: \"%.5f\" % x, sub_freqs[np.arange(0, 200, 49)])))\n",
    "plt.ylabel(\"time from obs start [s]\")\n",
    "plt.xlabel(\"frequency [MHz]\")\n",
    "plt.imshow(rebin(block21[:, left:left+200], 1, 1), **plt_args)"
   ]
  },
  {
   "cell_type": "code",
   "execution_count": null,
   "metadata": {},
   "outputs": [],
   "source": [
    "foff = freqs[1] - freqs[0]\n",
    "foff, a, b\n",
    "np.arange(b, a, -foff*100)"
   ]
  },
  {
   "cell_type": "code",
   "execution_count": null,
   "metadata": {},
   "outputs": [],
   "source": [
    "show_stamp_f(freqs, data, 1025.0100805927195)"
   ]
  },
  {
   "cell_type": "code",
   "execution_count": null,
   "metadata": {},
   "outputs": [],
   "source": [
    "hits = [len(e) for e in chan_hits]\n",
    "print(hits)\n",
    "print(sum(hits))"
   ]
  },
  {
   "cell_type": "code",
   "execution_count": null,
   "metadata": {},
   "outputs": [],
   "source": [
    "sorted_hits = sorted(res[7], key=lambda x: x[2])\n",
    "sorted_hits"
   ]
  },
  {
   "cell_type": "code",
   "execution_count": null,
   "metadata": {},
   "outputs": [],
   "source": [
    "top = [x[0] for x in sorted_hits[:20]]\n",
    "top"
   ]
  },
  {
   "cell_type": "code",
   "execution_count": null,
   "metadata": {
    "scrolled": false
   },
   "outputs": [],
   "source": [
    "for i in top:\n",
    "    print(i)\n",
    "    show_stamp(window, i)"
   ]
  },
  {
   "cell_type": "code",
   "execution_count": null,
   "metadata": {},
   "outputs": [],
   "source": [
    "res[:15]"
   ]
  },
  {
   "cell_type": "code",
   "execution_count": null,
   "metadata": {},
   "outputs": [],
   "source": [
    "plt.figure()\n",
    "plt.imshow(data[:, 8:8+128])"
   ]
  },
  {
   "cell_type": "code",
   "execution_count": null,
   "metadata": {},
   "outputs": [],
   "source": []
  },
  {
   "cell_type": "code",
   "execution_count": null,
   "metadata": {},
   "outputs": [],
   "source": [
    "with open(\"pfb512coef.txt\", \"r\") as f:\n",
    "    coef_file = f.read()"
   ]
  },
  {
   "cell_type": "code",
   "execution_count": null,
   "metadata": {},
   "outputs": [],
   "source": [
    "lines = coef_file.splitlines()\n",
    "filter_coefs = []\n",
    "for line in lines:\n",
    "    filter_coefs.append(float(line))"
   ]
  },
  {
   "cell_type": "code",
   "execution_count": null,
   "metadata": {},
   "outputs": [],
   "source": [
    "coefs = np.array(filter_coefs)/2**17"
   ]
  },
  {
   "cell_type": "code",
   "execution_count": null,
   "metadata": {},
   "outputs": [],
   "source": [
    "plt.figure()\n",
    "plt.plot(coefs)"
   ]
  },
  {
   "cell_type": "code",
   "execution_count": null,
   "metadata": {},
   "outputs": [],
   "source": [
    "from numpy import fft\n",
    "l = 2**16\n",
    "f = fft.fft(coefs, l)\n",
    "plt.figure()\n",
    "plt.plot(np.log(np.abs(f)**2))"
   ]
  },
  {
   "cell_type": "code",
   "execution_count": null,
   "metadata": {},
   "outputs": [],
   "source": []
  },
  {
   "cell_type": "code",
   "execution_count": null,
   "metadata": {
    "scrolled": true
   },
   "outputs": [],
   "source": [
    "stacked = np.reshape(integrated, (15, 1033216))\n",
    "plt.figure()\n",
    "for i in range(15):\n",
    "    plt.plot(np.log(stacked[i]))"
   ]
  },
  {
   "cell_type": "code",
   "execution_count": null,
   "metadata": {},
   "outputs": [],
   "source": [
    "rebined = rebin(stacked, 1, 64)"
   ]
  },
  {
   "cell_type": "code",
   "execution_count": null,
   "metadata": {
    "scrolled": true
   },
   "outputs": [],
   "source": [
    "plt.figure()\n",
    "plt.imshow(np.log(rebined), **plt_args)"
   ]
  },
  {
   "cell_type": "code",
   "execution_count": null,
   "metadata": {},
   "outputs": [],
   "source": [
    "model_shape = np.sum(stacked, axis=0)/15\n",
    "model_shape[model_shape > 10**10] = np.mean(model_shape)"
   ]
  },
  {
   "cell_type": "code",
   "execution_count": null,
   "metadata": {
    "scrolled": true
   },
   "outputs": [],
   "source": [
    "plt.figure()\n",
    "plt.plot(model_shape)"
   ]
  },
  {
   "cell_type": "code",
   "execution_count": null,
   "metadata": {},
   "outputs": [],
   "source": []
  },
  {
   "cell_type": "code",
   "execution_count": null,
   "metadata": {},
   "outputs": [],
   "source": [
    "h5_file = h5py.File(fri_obs, \"r\")\n",
    "a = da.from_array(h5_file[\"data\"], chunks=(2, 1, channel_len*14))\n",
    "a = a\n",
    "a"
   ]
  },
  {
   "cell_type": "code",
   "execution_count": null,
   "metadata": {},
   "outputs": [],
   "source": [
    "start = time()\n",
    "a.persist()\n",
    "da.to_npy_stack(\"original_a\", a, axis=2)\n",
    "end = time()\n",
    "print(f\"{end-start}\")"
   ]
  },
  {
   "cell_type": "code",
   "execution_count": null,
   "metadata": {},
   "outputs": [],
   "source": [
    "a = da.from_npy_stack(\"original_a\")\n",
    "a"
   ]
  },
  {
   "cell_type": "code",
   "execution_count": null,
   "metadata": {},
   "outputs": [],
   "source": [
    "start = time()\n",
    "means = da.mean(a, axis=2)\n",
    "# means_data = means.compute()\n",
    "# means_data\n",
    "end = time()\n",
    "\n",
    "print(f\"{end-start}\")\n",
    "means = da.reshape(means, (16,1,1))\n",
    "means"
   ]
  },
  {
   "cell_type": "code",
   "execution_count": null,
   "metadata": {},
   "outputs": [],
   "source": [
    "a"
   ]
  },
  {
   "cell_type": "code",
   "execution_count": null,
   "metadata": {},
   "outputs": [],
   "source": [
    "308/14"
   ]
  },
  {
   "cell_type": "code",
   "execution_count": null,
   "metadata": {},
   "outputs": [],
   "source": [
    "normalized_a = da.divide(a, means)\n",
    "normalized_a"
   ]
  },
  {
   "cell_type": "code",
   "execution_count": null,
   "metadata": {},
   "outputs": [],
   "source": [
    "start = time()\n",
    "\n",
    "da.to_npy_stack('normalized_a/', normalized_a, axis=2)\n",
    "\n",
    "end = time()\n",
    "\n",
    "print(f\"{end-start}\")"
   ]
  },
  {
   "cell_type": "code",
   "execution_count": null,
   "metadata": {},
   "outputs": [],
   "source": [
    "print(normalized_a.shape)\n",
    "print(normalized_a.chunks)"
   ]
  },
  {
   "cell_type": "code",
   "execution_count": null,
   "metadata": {},
   "outputs": [],
   "source": [
    "start = time()\n",
    "normalized_a_data = normalized_a.compute()\n",
    "end = time()\n",
    "print(f\"{end-start}\")"
   ]
  },
  {
   "cell_type": "code",
   "execution_count": null,
   "metadata": {
    "scrolled": true
   },
   "outputs": [],
   "source": [
    "start = time()\n",
    "\n",
    "original_a_data = a[:, 0, :16 * 1033216].compute()\n",
    "\n",
    "end = time()\n",
    "print(f\"{end-start}\")"
   ]
  },
  {
   "cell_type": "code",
   "execution_count": null,
   "metadata": {},
   "outputs": [],
   "source": [
    "read_a = da.from_array(original_a_data)\n",
    "read_and_normalize = da.divide(read_a, means_data)\n",
    "\n",
    "start = time()\n",
    "normalized_a_data = read_and_normalize.compute()\n",
    "end = time()\n",
    "print(f\"{end-start}\")\n",
    "\n",
    "# 1.6420118808746338"
   ]
  },
  {
   "cell_type": "code",
   "execution_count": null,
   "metadata": {},
   "outputs": [],
   "source": [
    "del normalized_a_data"
   ]
  },
  {
   "cell_type": "code",
   "execution_count": null,
   "metadata": {},
   "outputs": [],
   "source": [
    "start = time()\n",
    "\n",
    "numpy_normalized_a_data = original_a_data / means_data\n",
    "\n",
    "end = time()\n",
    "print(f\"{end-start}\")\n",
    "\n",
    "# 0.6659681797027588"
   ]
  },
  {
   "cell_type": "code",
   "execution_count": null,
   "metadata": {},
   "outputs": [],
   "source": [
    "del numpy_normalized_a_data"
   ]
  },
  {
   "cell_type": "code",
   "execution_count": null,
   "metadata": {},
   "outputs": [],
   "source": [
    "numpy_normalized_a_data.shape"
   ]
  },
  {
   "cell_type": "code",
   "execution_count": null,
   "metadata": {},
   "outputs": [],
   "source": [
    "plot_segment(normalized_a_data)"
   ]
  },
  {
   "cell_type": "code",
   "execution_count": null,
   "metadata": {},
   "outputs": [],
   "source": [
    "plot_segment(original_a_data)"
   ]
  },
  {
   "cell_type": "code",
   "execution_count": null,
   "metadata": {},
   "outputs": [],
   "source": [
    "print(normalized_a_data.shape == numpy_normalized_a_data.shape)\n",
    "print(np.allclose(normalized_a_data, numpy_normalized_a_data))"
   ]
  },
  {
   "cell_type": "code",
   "execution_count": null,
   "metadata": {},
   "outputs": [],
   "source": []
  }
 ],
 "metadata": {
  "kernelspec": {
   "display_name": "BSRC_Env",
   "language": "python",
   "name": "bsrc_env"
  },
  "language_info": {
   "codemirror_mode": {
    "name": "ipython",
    "version": 3
   },
   "file_extension": ".py",
   "mimetype": "text/x-python",
   "name": "python",
   "nbconvert_exporter": "python",
   "pygments_lexer": "ipython3",
   "version": "3.6.5"
  }
 },
 "nbformat": 4,
 "nbformat_minor": 2
}
