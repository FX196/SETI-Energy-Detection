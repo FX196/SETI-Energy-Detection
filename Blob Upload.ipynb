{
 "cells": [
  {
   "cell_type": "code",
   "execution_count": 1,
   "metadata": {},
   "outputs": [
    {
     "name": "stdout",
     "output_type": "stream",
     "text": [
      "env: GOOGLE_APPLICATION_CREDENTIALS=/tf/mounted/bl-scale_key.json\n",
      "{\n",
      "  \"type\": \"service_account\",\n",
      "  \"project_id\": \"breakthrough-listen-sandbox\",\n"
     ]
    }
   ],
   "source": [
    "%env GOOGLE_APPLICATION_CREDENTIALS=/tf/mounted/bl-scale_key.json\n",
    "!head -n 3 $GOOGLE_APPLICATION_CREDENTIALS"
   ]
  },
  {
   "cell_type": "code",
   "execution_count": 2,
   "metadata": {},
   "outputs": [],
   "source": [
    "from google.cloud import storage\n",
    "import os\n",
    "from tqdm import tqdm\n",
    "from multiprocessing import Pool, current_process\n",
    "import time"
   ]
  },
  {
   "cell_type": "code",
   "execution_count": 31,
   "metadata": {},
   "outputs": [],
   "source": [
    "def upload_blob(bucket_name, source_file_name, destination_blob_name):\n",
    "    \"\"\"Uploads a file to the bucket.\"\"\"\n",
    "    # bucket_name = \"your-bucket-name\"\n",
    "    # source_file_name = \"local/path/to/file\"\n",
    "    # destination_blob_name = \"storage-object-name\"\n",
    "\n",
    "    storage_client = storage.Client()\n",
    "    bucket = storage_client.bucket(bucket_name)\n",
    "    blob = bucket.blob(destination_blob_name)\n",
    "\n",
    "    blob.upload_from_filename(source_file_name)\n",
    "    \n",
    "def upload_dir(bucket_name, dir_name):\n",
    "    start = time.time()\n",
    "    paths = []\n",
    "    for root, dirs, files in os.walk(os.path.join(dir_name, \"filtered\")):\n",
    "        paths_temp = filter(lambda x: x.endswith(\".png\"), files)\n",
    "        paths_temp = [os.path.join(root, path) for path in paths_temp]\n",
    "        paths.extend(paths_temp)\n",
    "        \n",
    "    print(f\"Found {len(paths)} stamps in {dir_name}, uploading\")\n",
    "        \n",
    "    global upload_file\n",
    "    def upload_file(path):\n",
    "        upload_blob(\"bl-scale\", path, \"/\".join(path.split(\"/\")[-4:]))\n",
    "        \n",
    "    start_png = time.time()\n",
    "    with Pool(os.cpu_count()) as p:\n",
    "        p.map(upload_file, paths)\n",
    "    del upload_file\n",
    "        \n",
    "    end_png = time.time()\n",
    "    \n",
    "    print(f\"Uploaded {len(paths)} stamps in {end_png-start_png} seconds\")\n",
    "    print(f\"Average upload time: {(end_png-start_png) / len(paths)}\")\n",
    "    \n",
    "    print(f\"Uploading metadata\")\n",
    "    \n",
    "    upload_blob(\"bl-scale\", os.path.join(dir_name, \"header.pkl\"),\n",
    "                os.path.join(os.path.basename(dir_name), \"header.pkl\"))\n",
    "    upload_blob(\"bl-scale\", os.path.join(dir_name, \"info_df.pkl\"),\n",
    "                os.path.join(os.path.basename(dir_name), \"info_df.pkl\"))\n",
    "    \n",
    "    end = time.time()\n",
    "    \n",
    "    print(f\"Metadata uploaded\")\n",
    "    print(f\"Outputs for {os.path.basename(dir_name)} uploaded in {end-start} seconds\")\n",
    "    "
   ]
  },
  {
   "cell_type": "code",
   "execution_count": 4,
   "metadata": {},
   "outputs": [
    {
     "name": "stdout",
     "output_type": "stream",
     "text": [
      "GBT_58010_50176_HIP61317_fine\tGBT_58210_40853_HIP106147_fine\r\n",
      "GBT_58014_69579_HIP77629_fine\tGBT_58210_41185_HIP105761_fine\r\n",
      "GBT_58110_60123_HIP91926_fine\tGBT_58307_26947_J1935+1616_fine\r\n",
      "GBT_58202_60970_B0329+54_fine\tGBT_58452_79191_HIP115687_fine\r\n",
      "GBT_58210_37805_HIP103730_fine\tused\r\n",
      "GBT_58210_39862_HIP105504_fine\r\n"
     ]
    }
   ],
   "source": [
    "!ls /tf/data/S-band-high/"
   ]
  },
  {
   "cell_type": "code",
   "execution_count": 5,
   "metadata": {},
   "outputs": [
    {
     "name": "stderr",
     "output_type": "stream",
     "text": [
      "12it [00:00, 32.99it/s]"
     ]
    },
    {
     "name": "stdout",
     "output_type": "stream",
     "text": [
      "82137\n"
     ]
    },
    {
     "name": "stderr",
     "output_type": "stream",
     "text": [
      "\n"
     ]
    }
   ],
   "source": [
    "paths = []\n",
    "for root, dirs, files in tqdm(os.walk(os.path.join(\"/tf/data/S-band-high/\", \"GBT_58014_69579_HIP77629_fine/filtered\"))):\n",
    "    paths_temp = filter(lambda x: x.endswith(\".png\"), files)\n",
    "    paths_temp = [os.path.join(root, path) for path in paths_temp]\n",
    "    paths.extend(paths_temp)\n",
    "print(len(paths))"
   ]
  },
  {
   "cell_type": "code",
   "execution_count": 21,
   "metadata": {},
   "outputs": [],
   "source": [
    "upload = os.listdir(\"/tf/data/S-band-high/\")"
   ]
  },
  {
   "cell_type": "code",
   "execution_count": 27,
   "metadata": {},
   "outputs": [
    {
     "data": {
      "text/plain": [
       "'GBT_58014_69579_HIP77629_fine'"
      ]
     },
     "execution_count": 27,
     "metadata": {},
     "output_type": "execute_result"
    }
   ],
   "source": [
    "upload.pop(5)"
   ]
  },
  {
   "cell_type": "code",
   "execution_count": 28,
   "metadata": {},
   "outputs": [
    {
     "data": {
      "text/plain": [
       "['GBT_58210_40853_HIP106147_fine',\n",
       " 'GBT_58210_39862_HIP105504_fine',\n",
       " 'GBT_58210_37805_HIP103730_fine',\n",
       " 'GBT_58452_79191_HIP115687_fine',\n",
       " 'GBT_58210_41185_HIP105761_fine',\n",
       " 'GBT_58202_60970_B0329+54_fine',\n",
       " 'GBT_58307_26947_J1935+1616_fine']"
      ]
     },
     "execution_count": 28,
     "metadata": {},
     "output_type": "execute_result"
    }
   ],
   "source": [
    "upload"
   ]
  },
  {
   "cell_type": "code",
   "execution_count": 32,
   "metadata": {},
   "outputs": [
    {
     "name": "stderr",
     "output_type": "stream",
     "text": [
      "\r",
      "  0%|          | 0/7 [00:00<?, ?it/s]"
     ]
    },
    {
     "name": "stdout",
     "output_type": "stream",
     "text": [
      "Found 77098 stamps in /tf/data/S-band-high/GBT_58210_40853_HIP106147_fine, uploading\n",
      "Uploaded 77098 stamps in 990.0112552642822 seconds\n",
      "Average upload time: 0.012840946007215262\n",
      "Uploading metadata\n"
     ]
    },
    {
     "name": "stderr",
     "output_type": "stream",
     "text": [
      "\r",
      " 14%|█▍        | 1/7 [16:31<1:39:06, 991.06s/it]"
     ]
    },
    {
     "name": "stdout",
     "output_type": "stream",
     "text": [
      "Metadata uploaded\n",
      "Outputs for GBT_58210_40853_HIP106147_fine uploaded in 991.0523264408112 seconds\n",
      "Found 65335 stamps in /tf/data/S-band-high/GBT_58210_39862_HIP105504_fine, uploading\n",
      "Uploaded 65335 stamps in 930.648256778717 seconds\n",
      "Average upload time: 0.014244252801388491\n",
      "Uploading metadata\n"
     ]
    },
    {
     "name": "stderr",
     "output_type": "stream",
     "text": [
      "\r",
      " 29%|██▊       | 2/7 [32:03<1:21:07, 973.58s/it]"
     ]
    },
    {
     "name": "stdout",
     "output_type": "stream",
     "text": [
      "Metadata uploaded\n",
      "Outputs for GBT_58210_39862_HIP105504_fine uploaded in 932.8136796951294 seconds\n",
      "Found 70384 stamps in /tf/data/S-band-high/GBT_58210_37805_HIP103730_fine, uploading\n",
      "Uploaded 70384 stamps in 950.5225944519043 seconds\n",
      "Average upload time: 0.013504810673617645\n",
      "Uploading metadata\n"
     ]
    },
    {
     "name": "stderr",
     "output_type": "stream",
     "text": [
      "\r",
      " 43%|████▎     | 3/7 [47:57<1:04:29, 967.46s/it]"
     ]
    },
    {
     "name": "stdout",
     "output_type": "stream",
     "text": [
      "Metadata uploaded\n",
      "Outputs for GBT_58210_37805_HIP103730_fine uploaded in 953.1683096885681 seconds\n",
      "Found 76978 stamps in /tf/data/S-band-high/GBT_58452_79191_HIP115687_fine, uploading\n",
      "Uploaded 76978 stamps in 970.8817493915558 seconds\n",
      "Average upload time: 0.01261245744747273\n",
      "Uploading metadata\n"
     ]
    },
    {
     "name": "stderr",
     "output_type": "stream",
     "text": [
      "\r",
      " 57%|█████▋    | 4/7 [1:04:10<48:27, 969.25s/it]"
     ]
    },
    {
     "name": "stdout",
     "output_type": "stream",
     "text": [
      "Metadata uploaded\n",
      "Outputs for GBT_58452_79191_HIP115687_fine uploaded in 973.4266831874847 seconds\n",
      "Found 68430 stamps in /tf/data/S-band-high/GBT_58210_41185_HIP105761_fine, uploading\n",
      "Uploaded 68430 stamps in 962.5659806728363 seconds\n",
      "Average upload time: 0.014066432568651708\n",
      "Uploading metadata\n"
     ]
    },
    {
     "name": "stderr",
     "output_type": "stream",
     "text": [
      "\r",
      " 71%|███████▏  | 5/7 [1:20:15<32:15, 967.94s/it]"
     ]
    },
    {
     "name": "stdout",
     "output_type": "stream",
     "text": [
      "Metadata uploaded\n",
      "Outputs for GBT_58210_41185_HIP105761_fine uploaded in 964.8655440807343 seconds\n",
      "Found 48472 stamps in /tf/data/S-band-high/GBT_58202_60970_B0329+54_fine, uploading\n",
      "Uploaded 48472 stamps in 617.5165219306946 seconds\n",
      "Average upload time: 0.012739654273202974\n",
      "Uploading metadata\n"
     ]
    },
    {
     "name": "stderr",
     "output_type": "stream",
     "text": [
      "\r",
      " 86%|████████▌ | 6/7 [1:30:34<14:23, 863.36s/it]"
     ]
    },
    {
     "name": "stdout",
     "output_type": "stream",
     "text": [
      "Metadata uploaded\n",
      "Outputs for GBT_58202_60970_B0329+54_fine uploaded in 619.3381230831146 seconds\n",
      "Found 66973 stamps in /tf/data/S-band-high/GBT_58307_26947_J1935+1616_fine, uploading\n",
      "Uploaded 66973 stamps in 840.3162631988525 seconds\n",
      "Average upload time: 0.012547090069115203\n",
      "Uploading metadata\n"
     ]
    },
    {
     "name": "stderr",
     "output_type": "stream",
     "text": [
      "\r",
      "100%|██████████| 7/7 [1:44:37<00:00, 857.15s/it]"
     ]
    },
    {
     "name": "stdout",
     "output_type": "stream",
     "text": [
      "Metadata uploaded\n",
      "Outputs for GBT_58307_26947_J1935+1616_fine uploaded in 842.6606967449188 seconds\n"
     ]
    },
    {
     "name": "stderr",
     "output_type": "stream",
     "text": [
      "\n"
     ]
    }
   ],
   "source": [
    "for d in tqdm(upload):\n",
    "    upload_dir(\"bl-scale\", os.path.join(\"/tf/data/S-band-high/\", d))"
   ]
  },
  {
   "cell_type": "code",
   "execution_count": 33,
   "metadata": {},
   "outputs": [
    {
     "data": {
      "text/plain": [
       "4785.15625"
      ]
     },
     "execution_count": 33,
     "metadata": {},
     "output_type": "execute_result"
    }
   ],
   "source": [
    "7*70000*10 / 1024"
   ]
  },
  {
   "cell_type": "code",
   "execution_count": null,
   "metadata": {},
   "outputs": [],
   "source": []
  },
  {
   "cell_type": "code",
   "execution_count": 1,
   "metadata": {},
   "outputs": [],
   "source": [
    "import h5py"
   ]
  },
  {
   "cell_type": "code",
   "execution_count": 2,
   "metadata": {},
   "outputs": [],
   "source": [
    "hf = h5py.File(\"/tf/data/S-band-high/used/GBT_58307_26947_J1935+1616_fine.h5\")"
   ]
  },
  {
   "cell_type": "code",
   "execution_count": 3,
   "metadata": {},
   "outputs": [
    {
     "ename": "OSError",
     "evalue": "Can't read data (can't open directory: /usr/local/hdf5/lib/plugin)",
     "output_type": "error",
     "traceback": [
      "\u001b[0;31m---------------------------------------------------------------------------\u001b[0m",
      "\u001b[0;31mOSError\u001b[0m                                   Traceback (most recent call last)",
      "\u001b[0;32m<ipython-input-3-b0bc895a2518>\u001b[0m in \u001b[0;36m<module>\u001b[0;34m\u001b[0m\n\u001b[0;32m----> 1\u001b[0;31m \u001b[0marr\u001b[0m \u001b[0;34m=\u001b[0m \u001b[0mhf\u001b[0m\u001b[0;34m[\u001b[0m\u001b[0;34m\"data\"\u001b[0m\u001b[0;34m]\u001b[0m\u001b[0;34m[\u001b[0m\u001b[0;34m:\u001b[0m\u001b[0;34m]\u001b[0m\u001b[0;34m\u001b[0m\u001b[0;34m\u001b[0m\u001b[0m\n\u001b[0m",
      "\u001b[0;32mh5py/_objects.pyx\u001b[0m in \u001b[0;36mh5py._objects.with_phil.wrapper\u001b[0;34m()\u001b[0m\n",
      "\u001b[0;32mh5py/_objects.pyx\u001b[0m in \u001b[0;36mh5py._objects.with_phil.wrapper\u001b[0;34m()\u001b[0m\n",
      "\u001b[0;32m/usr/local/lib/python3.6/dist-packages/h5py/_hl/dataset.py\u001b[0m in \u001b[0;36m__getitem__\u001b[0;34m(self, args)\u001b[0m\n\u001b[1;32m    571\u001b[0m         \u001b[0mmspace\u001b[0m \u001b[0;34m=\u001b[0m \u001b[0mh5s\u001b[0m\u001b[0;34m.\u001b[0m\u001b[0mcreate_simple\u001b[0m\u001b[0;34m(\u001b[0m\u001b[0mmshape\u001b[0m\u001b[0;34m)\u001b[0m\u001b[0;34m\u001b[0m\u001b[0;34m\u001b[0m\u001b[0m\n\u001b[1;32m    572\u001b[0m         \u001b[0mfspace\u001b[0m \u001b[0;34m=\u001b[0m \u001b[0mselection\u001b[0m\u001b[0;34m.\u001b[0m\u001b[0mid\u001b[0m\u001b[0;34m\u001b[0m\u001b[0;34m\u001b[0m\u001b[0m\n\u001b[0;32m--> 573\u001b[0;31m         \u001b[0mself\u001b[0m\u001b[0;34m.\u001b[0m\u001b[0mid\u001b[0m\u001b[0;34m.\u001b[0m\u001b[0mread\u001b[0m\u001b[0;34m(\u001b[0m\u001b[0mmspace\u001b[0m\u001b[0;34m,\u001b[0m \u001b[0mfspace\u001b[0m\u001b[0;34m,\u001b[0m \u001b[0marr\u001b[0m\u001b[0;34m,\u001b[0m \u001b[0mmtype\u001b[0m\u001b[0;34m,\u001b[0m \u001b[0mdxpl\u001b[0m\u001b[0;34m=\u001b[0m\u001b[0mself\u001b[0m\u001b[0;34m.\u001b[0m\u001b[0m_dxpl\u001b[0m\u001b[0;34m)\u001b[0m\u001b[0;34m\u001b[0m\u001b[0;34m\u001b[0m\u001b[0m\n\u001b[0m\u001b[1;32m    574\u001b[0m \u001b[0;34m\u001b[0m\u001b[0m\n\u001b[1;32m    575\u001b[0m         \u001b[0;31m# Patch up the output for NumPy\u001b[0m\u001b[0;34m\u001b[0m\u001b[0;34m\u001b[0m\u001b[0;34m\u001b[0m\u001b[0m\n",
      "\u001b[0;32mh5py/_objects.pyx\u001b[0m in \u001b[0;36mh5py._objects.with_phil.wrapper\u001b[0;34m()\u001b[0m\n",
      "\u001b[0;32mh5py/_objects.pyx\u001b[0m in \u001b[0;36mh5py._objects.with_phil.wrapper\u001b[0;34m()\u001b[0m\n",
      "\u001b[0;32mh5py/h5d.pyx\u001b[0m in \u001b[0;36mh5py.h5d.DatasetID.read\u001b[0;34m()\u001b[0m\n",
      "\u001b[0;32mh5py/_proxy.pyx\u001b[0m in \u001b[0;36mh5py._proxy.dset_rw\u001b[0;34m()\u001b[0m\n",
      "\u001b[0;32mh5py/_proxy.pyx\u001b[0m in \u001b[0;36mh5py._proxy.H5PY_H5Dread\u001b[0;34m()\u001b[0m\n",
      "\u001b[0;31mOSError\u001b[0m: Can't read data (can't open directory: /usr/local/hdf5/lib/plugin)"
     ]
    }
   ],
   "source": [
    "arr = hf[\"data\"][:]"
   ]
  },
  {
   "cell_type": "code",
   "execution_count": null,
   "metadata": {},
   "outputs": [],
   "source": []
  }
 ],
 "metadata": {
  "kernelspec": {
   "display_name": "Python 3",
   "language": "python",
   "name": "python3"
  },
  "language_info": {
   "codemirror_mode": {
    "name": "ipython",
    "version": 3
   },
   "file_extension": ".py",
   "mimetype": "text/x-python",
   "name": "python",
   "nbconvert_exporter": "python",
   "pygments_lexer": "ipython3",
   "version": "3.6.9"
  }
 },
 "nbformat": 4,
 "nbformat_minor": 2
}
