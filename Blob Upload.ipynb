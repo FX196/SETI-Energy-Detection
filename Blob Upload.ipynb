{
 "cells": [
  {
   "cell_type": "code",
   "execution_count": null,
   "metadata": {},
   "outputs": [],
   "source": [
    "%env GOOGLE_APPLICATION_CREDENTIALS=/tf/mounted/bl-scale_key.json\n",
    "!head -n 3 $GOOGLE_APPLICATION_CREDENTIALS"
   ]
  },
  {
   "cell_type": "code",
   "execution_count": null,
   "metadata": {},
   "outputs": [],
   "source": [
    "!pip3 install google-cloud-storage"
   ]
  },
  {
   "cell_type": "code",
   "execution_count": null,
   "metadata": {},
   "outputs": [],
   "source": [
    "from google.cloud import storage\n",
    "import os\n",
    "from tqdm import tqdm\n",
    "from multiprocessing import Pool, current_process\n",
    "import time"
   ]
  },
  {
   "cell_type": "code",
   "execution_count": null,
   "metadata": {},
   "outputs": [],
   "source": [
    "def upload_blob(bucket_name, source_file_name, destination_blob_name):\n",
    "    \"\"\"Uploads a file to the bucket.\"\"\"\n",
    "    # bucket_name = \"your-bucket-name\"\n",
    "    # source_file_name = \"local/path/to/file\"\n",
    "    # destination_blob_name = \"storage-object-name\"\n",
    "\n",
    "    storage_client = storage.Client()\n",
    "    bucket = storage_client.bucket(bucket_name)\n",
    "    blob = bucket.blob(destination_blob_name)\n",
    "\n",
    "    blob.upload_from_filename(source_file_name)\n",
    "    \n",
    "def upload_dir(bucket_name, dir_name):\n",
    "    start = time.time()\n",
    "    paths = []\n",
    "    for root, dirs, files in os.walk(os.path.join(dir_name, \"filtered\")):\n",
    "        paths_temp = filter(lambda x: x.endswith(\".png\"), files)\n",
    "        paths_temp = [os.path.join(root, path) for path in paths_temp]\n",
    "        paths.extend(paths_temp)\n",
    "        \n",
    "    print(f\"Found {len(paths)} stamps in {dir_name}, uploading\")\n",
    "        \n",
    "    global upload_file\n",
    "    def upload_file(path):\n",
    "        upload_blob(\"bl-scale\", path, \"/\".join(path.split(\"/\")[-4:]))\n",
    "        \n",
    "    start_png = time.time()\n",
    "    with Pool(os.cpu_count()) as p:\n",
    "        p.map(upload_file, paths)\n",
    "    del upload_file\n",
    "        \n",
    "    end_png = time.time()\n",
    "    \n",
    "    print(f\"Uploaded {len(paths)} stamps in {end_png-start_png} seconds\")\n",
    "    print(f\"Average upload time: {(end_png-start_png) / len(paths)}\")\n",
    "    \n",
    "    print(f\"Uploading metadata\")\n",
    "    \n",
    "    upload_blob(\"bl-scale\", os.path.join(dir_name, \"header.pkl\"),\n",
    "                os.path.join(os.path.basename(dir_name), \"header.pkl\"))\n",
    "    upload_blob(\"bl-scale\", os.path.join(dir_name, \"info_df.pkl\"),\n",
    "                os.path.join(os.path.basename(dir_name), \"info_df.pkl\"))\n",
    "    \n",
    "    end = time.time()\n",
    "    \n",
    "    print(f\"Metadata uploaded\")\n",
    "    print(f\"Outputs for {os.path.basename(dir_name)} uploaded in {end-start} seconds\")\n",
    "    "
   ]
  },
  {
   "cell_type": "code",
   "execution_count": null,
   "metadata": {},
   "outputs": [],
   "source": [
    "!ls /tf/data/S-band-high/new/GBT_57578_74449_HIP34498_fine/"
   ]
  },
  {
   "cell_type": "code",
   "execution_count": null,
   "metadata": {},
   "outputs": [],
   "source": [
    "paths = []\n",
    "for root, dirs, files in tqdm(os.walk(os.path.join(\"/tf/data/S-band-high/\", \"GBT_58014_69579_HIP77629_fine/filtered\"))):\n",
    "    paths_temp = filter(lambda x: x.endswith(\".png\"), files)\n",
    "    paths_temp = [os.path.join(root, path) for path in paths_temp]\n",
    "    paths.extend(paths_temp)\n",
    "print(len(paths))"
   ]
  },
  {
   "cell_type": "code",
   "execution_count": null,
   "metadata": {},
   "outputs": [],
   "source": [
    "dir_name = os.path.join(\"/tf/data/S-band-high/new\", \"GBT_57578_74449_HIP34498_fine/\")\n",
    "for root, dirs, files in tqdm(os.walk(dir_name)):\n",
    "    for file in files:\n",
    "        print(os.path.join(os.path.dirname(dir_name).split(\"/\")[-1], os.path.relpath(os.path.join(root, file), start=dir_name)))"
   ]
  },
  {
   "cell_type": "code",
   "execution_count": null,
   "metadata": {},
   "outputs": [],
   "source": []
  }
 ],
 "metadata": {
  "kernelspec": {
   "display_name": "Python 3",
   "language": "python",
   "name": "python3"
  },
  "language_info": {
   "codemirror_mode": {
    "name": "ipython",
    "version": 3
   },
   "file_extension": ".py",
   "mimetype": "text/x-python",
   "name": "python",
   "nbconvert_exporter": "python",
   "pygments_lexer": "ipython3",
   "version": "3.6.9"
  }
 },
 "nbformat": 4,
 "nbformat_minor": 2
}
