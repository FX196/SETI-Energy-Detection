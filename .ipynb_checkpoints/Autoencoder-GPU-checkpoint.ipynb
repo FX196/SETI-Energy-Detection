{
 "cells": [
  {
   "cell_type": "code",
   "execution_count": 1,
   "metadata": {},
   "outputs": [
    {
     "name": "stderr",
     "output_type": "stream",
     "text": [
      "Using TensorFlow backend.\n"
     ]
    }
   ],
   "source": [
    "import numpy as np\n",
    "from matplotlib import pyplot as plt\n",
    "import keras\n",
    "from keras.models import Model\n",
    "from keras.layers import Input, Dense, Reshape, Flatten, Conv2D, MaxPooling2D, Conv2DTranspose, UpSampling2D, BatchNormalization\n",
    "import os\n",
    "import random\n",
    "import ipywidgets as widgets\n",
    "from ipywidgets import interact, interact_manual\n",
    "from keras import regularizers"
   ]
  },
  {
   "cell_type": "code",
   "execution_count": 2,
   "metadata": {},
   "outputs": [
    {
     "data": {
      "text/plain": [
       "[PhysicalDevice(name='/physical_device:GPU:0', device_type='GPU')]"
      ]
     },
     "execution_count": 2,
     "metadata": {},
     "output_type": "execute_result"
    }
   ],
   "source": [
    "import tensorflow as tf\n",
    "tf.config.list_physical_devices('GPU')"
   ]
  },
  {
   "cell_type": "code",
   "execution_count": 3,
   "metadata": {},
   "outputs": [
    {
     "name": "stdout",
     "output_type": "stream",
     "text": [
      "Wed Apr  8 22:38:38 2020       \n",
      "+-----------------------------------------------------------------------------+\n",
      "| NVIDIA-SMI 440.33.01    Driver Version: 440.33.01    CUDA Version: 10.2     |\n",
      "|-------------------------------+----------------------+----------------------+\n",
      "| GPU  Name        Persistence-M| Bus-Id        Disp.A | Volatile Uncorr. ECC |\n",
      "| Fan  Temp  Perf  Pwr:Usage/Cap|         Memory-Usage | GPU-Util  Compute M. |\n",
      "|===============================+======================+======================|\n",
      "|   0  Tesla T4            On   | 00000000:00:04.0 Off |                    0 |\n",
      "| N/A   38C    P8    10W /  70W |     11MiB / 15109MiB |      0%      Default |\n",
      "+-------------------------------+----------------------+----------------------+\n",
      "                                                                               \n",
      "+-----------------------------------------------------------------------------+\n",
      "| Processes:                                                       GPU Memory |\n",
      "|  GPU       PID   Type   Process name                             Usage      |\n",
      "|=============================================================================|\n",
      "|  No running processes found                                                 |\n",
      "+-----------------------------------------------------------------------------+\n"
     ]
    }
   ],
   "source": [
    "!nvidia-smi"
   ]
  },
  {
   "cell_type": "code",
   "execution_count": 4,
   "metadata": {},
   "outputs": [],
   "source": [
    "class DataGenerator(keras.utils.Sequence):\n",
    "    'Generates data for Keras'\n",
    "    def __init__(self, batch_size=32, dim=(16, 200), n_channels=1, shuffle=True):\n",
    "        'Initialization'\n",
    "        self.files = []\n",
    "        self.indexes = None\n",
    "        self.dim = dim\n",
    "        self.batch_size = batch_size\n",
    "        self.n_channels = n_channels\n",
    "        self.shuffle = shuffle\n",
    "\n",
    "    def __len__(self):\n",
    "        'Denotes the number of batches per epoch'\n",
    "        return int(np.floor(len(self.files)/self.batch_size))\n",
    "\n",
    "    def __getitem__(self, index):\n",
    "        'Generate one batch of data'\n",
    "        # Generate indexes of the batch\n",
    "        indexes = self.indexes[index*self.batch_size:(index+1)*self.batch_size]\n",
    "\n",
    "        # Find list of IDs\n",
    "        files_temp = [self.files[k] for k in indexes]\n",
    "\n",
    "        # Generate data\n",
    "        dat = self._load_files(files_temp)\n",
    "#         X = np.log(dat + 100)\n",
    "        X = dat\n",
    "\n",
    "        return X, X\n",
    "    \n",
    "    def load_directory(self, directory, extension=\"npy\"):\n",
    "        orig_len = len(self.files)\n",
    "        self.files.extend([os.path.join(directory, x) for x in os.listdir(directory) if x.endswith(extension)])\n",
    "        self.files = list(set(self.files))\n",
    "        print(\"%d files added\" % (len(self.files) - orig_len))\n",
    "        print(\"%d files in total\" % len(self.files))\n",
    "        if self.shuffle:\n",
    "            random.shuffle(self.files)\n",
    "        self.indexes = np.arange(len(self.files))\n",
    "\n",
    "    def on_epoch_end(self):\n",
    "        'Updates indexes after each epoch'\n",
    "        if self.shuffle:\n",
    "            random.shuffle(self.files)\n",
    "\n",
    "    def _load_files(self, files):\n",
    "        'Generates data containing batch_size samples' # X : (n_samples, *dim, n_channels)\n",
    "        # Initialization\n",
    "        X = np.empty((self.batch_size, *self.dim, self.n_channels))\n",
    "\n",
    "        # Generate data\n",
    "        for i, file in enumerate(files):\n",
    "            # Store sample\n",
    "            arr = np.load(file)\n",
    "#             if arr.shape != (16, 200):\n",
    "#                 print(arr.shape)\n",
    "#                 print(file)\n",
    "            X[i,] = np.expand_dims(arr, axis=2)\n",
    "\n",
    "        return X"
   ]
  },
  {
   "cell_type": "code",
   "execution_count": 5,
   "metadata": {},
   "outputs": [],
   "source": [
    "filtered_dir = \"../filtered\"\n",
    "data_gen = DataGenerator()"
   ]
  },
  {
   "cell_type": "code",
   "execution_count": 6,
   "metadata": {},
   "outputs": [
    {
     "name": "stdout",
     "output_type": "stream",
     "text": [
      "7091 files added\n",
      "7091 files in total\n",
      "9 files added\n",
      "7100 files in total\n",
      "15 files added\n",
      "7115 files in total\n",
      "14 files added\n",
      "7129 files in total\n"
     ]
    }
   ],
   "source": [
    "for i in range(4):\n",
    "    data_gen.load_directory(f\"{filtered_dir}/{i}\")\n",
    "# for i in [18, 20]:\n",
    "#     data_gen.load_directory(f\"{filtered_dir}/{i}\")"
   ]
  },
  {
   "cell_type": "code",
   "execution_count": 7,
   "metadata": {},
   "outputs": [],
   "source": [
    "input_img = Input(shape=(16, 200, 1))\n",
    "x = Conv2D(32, (3, 3), activation=\"relu\", padding=\"same\")(input_img)\n",
    "x = Conv2D(32, (3, 3), activation=\"relu\", padding=\"same\")(x)\n",
    "x = Conv2D(32, (3, 3), activation=\"relu\", padding=\"same\")(x)\n",
    "x = MaxPooling2D((2, 2), padding=\"same\")(x)\n",
    "# x = BatchNormalization()(x)\n",
    "x = Conv2D(32, (3, 3), activation=\"relu\", padding=\"same\")(x)\n",
    "x = Conv2D(32, (3, 3), activation=\"relu\", padding=\"same\")(x)\n",
    "x = Conv2D(32, (3, 3), activation=\"relu\", padding=\"same\")(x)\n",
    "x = BatchNormalization()(x)\n",
    "x = Conv2D(8, (3, 3), activation=\"relu\", padding=\"same\")(x)\n",
    "# x = MaxPooling2D((2, 2), padding=\"same\")(x)\n",
    "flat = Flatten()(x)\n",
    "x = Dense(512, activation='relu')(flat)\n",
    "encoded = Dense(256, activation='relu', activity_regularizer=regularizers.l1(10e-10))(x)\n",
    "x = Dense(512, activation='relu')(encoded)\n",
    "x = Dense(3200, activation='relu')(x)\n",
    "x = Reshape((8, 100, 4))(x)\n",
    "x = Conv2DTranspose(32, (3, 3), activation=\"relu\", padding=\"same\")(x)\n",
    "x = Conv2DTranspose(32, (3, 3), activation=\"relu\", padding=\"same\")(x)\n",
    "x = Conv2DTranspose(32, (3, 3), activation=\"relu\", padding=\"same\")(x)\n",
    "x = UpSampling2D((2, 2))(x)\n",
    "x = Conv2DTranspose(32, (3, 3), activation=\"relu\", padding=\"same\")(x)\n",
    "x = Conv2DTranspose(32, (3, 3), activation=\"relu\", padding=\"same\")(x)\n",
    "x = Conv2DTranspose(32, (3, 3), activation=\"relu\", padding=\"same\")(x)\n",
    "x = BatchNormalization()(x)\n",
    "# x = UpSampling2D((2, 2))(x)\n",
    "decoded = Conv2DTranspose(1, (3, 3), padding=\"same\")(x)\n",
    "\n",
    "model = Model(inputs=input_img, outputs=decoded)\n"
   ]
  },
  {
   "cell_type": "code",
   "execution_count": 8,
   "metadata": {},
   "outputs": [
    {
     "name": "stdout",
     "output_type": "stream",
     "text": [
      "Model: \"model_1\"\n",
      "_________________________________________________________________\n",
      "Layer (type)                 Output Shape              Param #   \n",
      "=================================================================\n",
      "input_1 (InputLayer)         (None, 16, 200, 1)        0         \n",
      "_________________________________________________________________\n",
      "conv2d_1 (Conv2D)            (None, 16, 200, 32)       320       \n",
      "_________________________________________________________________\n",
      "conv2d_2 (Conv2D)            (None, 16, 200, 32)       9248      \n",
      "_________________________________________________________________\n",
      "conv2d_3 (Conv2D)            (None, 16, 200, 32)       9248      \n",
      "_________________________________________________________________\n",
      "max_pooling2d_1 (MaxPooling2 (None, 8, 100, 32)        0         \n",
      "_________________________________________________________________\n",
      "conv2d_4 (Conv2D)            (None, 8, 100, 32)        9248      \n",
      "_________________________________________________________________\n",
      "conv2d_5 (Conv2D)            (None, 8, 100, 32)        9248      \n",
      "_________________________________________________________________\n",
      "conv2d_6 (Conv2D)            (None, 8, 100, 32)        9248      \n",
      "_________________________________________________________________\n",
      "conv2d_7 (Conv2D)            (None, 8, 100, 8)         2312      \n",
      "_________________________________________________________________\n",
      "flatten_1 (Flatten)          (None, 6400)              0         \n",
      "_________________________________________________________________\n",
      "dense_1 (Dense)              (None, 512)               3277312   \n",
      "_________________________________________________________________\n",
      "dense_2 (Dense)              (None, 256)               131328    \n",
      "_________________________________________________________________\n",
      "dense_3 (Dense)              (None, 512)               131584    \n",
      "_________________________________________________________________\n",
      "dense_4 (Dense)              (None, 3200)              1641600   \n",
      "_________________________________________________________________\n",
      "reshape_1 (Reshape)          (None, 8, 100, 4)         0         \n",
      "_________________________________________________________________\n",
      "conv2d_transpose_1 (Conv2DTr (None, 8, 100, 32)        1184      \n",
      "_________________________________________________________________\n",
      "conv2d_transpose_2 (Conv2DTr (None, 8, 100, 32)        9248      \n",
      "_________________________________________________________________\n",
      "conv2d_transpose_3 (Conv2DTr (None, 8, 100, 32)        9248      \n",
      "_________________________________________________________________\n",
      "up_sampling2d_1 (UpSampling2 (None, 16, 200, 32)       0         \n",
      "_________________________________________________________________\n",
      "conv2d_transpose_4 (Conv2DTr (None, 16, 200, 32)       9248      \n",
      "_________________________________________________________________\n",
      "conv2d_transpose_5 (Conv2DTr (None, 16, 200, 32)       9248      \n",
      "_________________________________________________________________\n",
      "conv2d_transpose_6 (Conv2DTr (None, 16, 200, 32)       9248      \n",
      "_________________________________________________________________\n",
      "conv2d_8 (Conv2D)            (None, 16, 200, 1)        289       \n",
      "=================================================================\n",
      "Total params: 5,278,409\n",
      "Trainable params: 5,278,409\n",
      "Non-trainable params: 0\n",
      "_________________________________________________________________\n"
     ]
    }
   ],
   "source": [
    "model.summary()"
   ]
  },
  {
   "cell_type": "code",
   "execution_count": 9,
   "metadata": {},
   "outputs": [],
   "source": [
    "encoder = Model(inputs=input_img, outputs=encoded)"
   ]
  },
  {
   "cell_type": "code",
   "execution_count": 10,
   "metadata": {},
   "outputs": [],
   "source": [
    "class DataShuffleCallback(keras.callbacks.Callback):\n",
    "    def on_epoch_end(self, epoch, logs=None):\n",
    "        data_gen.on_epoch_end()\n",
    "    "
   ]
  },
  {
   "cell_type": "code",
   "execution_count": 11,
   "metadata": {},
   "outputs": [],
   "source": [
    "model.compile(\"adam\", loss=\"msle\")"
   ]
  },
  {
   "cell_type": "code",
   "execution_count": 12,
   "metadata": {},
   "outputs": [
    {
     "name": "stdout",
     "output_type": "stream",
     "text": [
      "Epoch 1/20\n",
      "222/222 [==============================] - 114s 515ms/step - loss: 3.5962e-04\n",
      "Epoch 2/20\n",
      "222/222 [==============================] - 6s 25ms/step - loss: 7.5878e-04\n",
      "Epoch 3/20\n",
      "222/222 [==============================] - 6s 25ms/step - loss: 3.6890e-04\n",
      "Epoch 4/20\n",
      "222/222 [==============================] - 6s 25ms/step - loss: 3.6922e-04\n",
      "Epoch 5/20\n",
      "222/222 [==============================] - 6s 25ms/step - loss: 3.6778e-04\n",
      "Epoch 6/20\n",
      "222/222 [==============================] - 6s 25ms/step - loss: 3.6902e-04\n",
      "Epoch 7/20\n",
      "222/222 [==============================] - 6s 25ms/step - loss: 3.6918e-04\n",
      "Epoch 8/20\n",
      "222/222 [==============================] - 6s 25ms/step - loss: 3.6921e-04\n",
      "Epoch 9/20\n",
      "222/222 [==============================] - 6s 26ms/step - loss: 3.6925e-04\n",
      "Epoch 10/20\n",
      "222/222 [==============================] - 6s 26ms/step - loss: 3.6912e-04\n",
      "Epoch 11/20\n",
      "222/222 [==============================] - 6s 26ms/step - loss: 3.6918e-04\n",
      "Epoch 12/20\n",
      "222/222 [==============================] - 6s 26ms/step - loss: 3.6918e-04\n",
      "Epoch 13/20\n",
      "222/222 [==============================] - 6s 26ms/step - loss: 3.6886e-04\n",
      "Epoch 14/20\n",
      "222/222 [==============================] - 6s 26ms/step - loss: 3.6900e-04\n",
      "Epoch 15/20\n",
      "222/222 [==============================] - 6s 26ms/step - loss: 3.6925e-04\n",
      "Epoch 16/20\n",
      "222/222 [==============================] - 6s 26ms/step - loss: 3.6913e-04\n",
      "Epoch 17/20\n",
      "222/222 [==============================] - 6s 26ms/step - loss: 3.6917e-04\n",
      "Epoch 18/20\n",
      "222/222 [==============================] - 6s 26ms/step - loss: 3.6919e-04\n",
      "Epoch 19/20\n",
      "222/222 [==============================] - 6s 26ms/step - loss: 3.6902e-04\n",
      "Epoch 20/20\n",
      "222/222 [==============================] - 6s 26ms/step - loss: 3.6918e-04\n"
     ]
    },
    {
     "data": {
      "text/plain": [
       "<keras.callbacks.callbacks.History at 0x7f818f9d7b70>"
      ]
     },
     "execution_count": 12,
     "metadata": {},
     "output_type": "execute_result"
    }
   ],
   "source": [
    "model.fit_generator(generator=data_gen, epochs=20, callbacks=[DataShuffleCallback()])"
   ]
  },
  {
   "cell_type": "code",
   "execution_count": 13,
   "metadata": {},
   "outputs": [
    {
     "data": {
      "text/plain": [
       "(32, 16, 200, 1)"
      ]
     },
     "execution_count": 13,
     "metadata": {},
     "output_type": "execute_result"
    }
   ],
   "source": [
    "test_data = data_gen.__getitem__(2)\n",
    "test_data[0].shape"
   ]
  },
  {
   "cell_type": "code",
   "execution_count": null,
   "metadata": {},
   "outputs": [],
   "source": []
  },
  {
   "cell_type": "code",
   "execution_count": 14,
   "metadata": {},
   "outputs": [
    {
     "data": {
      "text/plain": [
       "<matplotlib.image.AxesImage at 0x7f80787c78d0>"
      ]
     },
     "execution_count": 14,
     "metadata": {},
     "output_type": "execute_result"
    },
    {
     "data": {
      "image/png": "[encoded data removed]",
      "text/plain": [
       "<Figure size 432x288 with 1 Axes>"
      ]
     },
     "metadata": {
      "needs_background": "light"
     },
     "output_type": "display_data"
    }
   ],
   "source": [
    "plt.imshow(test_data[0][0, :, :, 0])"
   ]
  },
  {
   "cell_type": "code",
   "execution_count": 15,
   "metadata": {},
   "outputs": [
    {
     "data": {
      "text/plain": [
       "(32, 16, 200, 1)"
      ]
     },
     "execution_count": 15,
     "metadata": {},
     "output_type": "execute_result"
    }
   ],
   "source": [
    "test_data[0].shape"
   ]
  },
  {
   "cell_type": "code",
   "execution_count": null,
   "metadata": {},
   "outputs": [],
   "source": []
  },
  {
   "cell_type": "code",
   "execution_count": 16,
   "metadata": {},
   "outputs": [],
   "source": [
    "pred = model.predict(test_data[0])"
   ]
  },
  {
   "cell_type": "code",
   "execution_count": 17,
   "metadata": {},
   "outputs": [],
   "source": [
    "encoded_pred = encoder.predict(test_data[0])"
   ]
  },
  {
   "cell_type": "code",
   "execution_count": 18,
   "metadata": {},
   "outputs": [
    {
     "data": {
      "text/plain": [
       "(32, 256)"
      ]
     },
     "execution_count": 18,
     "metadata": {},
     "output_type": "execute_result"
    }
   ],
   "source": [
    "encoded_pred.shape"
   ]
  },
  {
   "cell_type": "code",
   "execution_count": 19,
   "metadata": {},
   "outputs": [],
   "source": [
    "import ipywidgets as widgets\n",
    "from ipywidgets import interact, interact_manual"
   ]
  },
  {
   "cell_type": "code",
   "execution_count": 20,
   "metadata": {},
   "outputs": [
    {
     "data": {
      "application/vnd.jupyter.widget-view+json": {
       "model_id": "3e2e57fd934a41d9a2133f615e3739d3",
       "version_major": 2,
       "version_minor": 0
      },
      "text/plain": [
       "interactive(children=(IntSlider(value=5, description='ind', max=31), Output()), _dom_classes=('widget-interact…"
      ]
     },
     "metadata": {},
     "output_type": "display_data"
    },
    {
     "data": {
      "text/plain": [
       "<function __main__.foo(ind)>"
      ]
     },
     "execution_count": 20,
     "metadata": {},
     "output_type": "execute_result"
    }
   ],
   "source": [
    "def foo(ind):\n",
    "    plt.figure()\n",
    "    plt.title(\"ground truth\")\n",
    "    plt.imshow(np.squeeze(test_data[0][ind]))\n",
    "    pred0 = np.squeeze(pred[ind])\n",
    "    plt.figure()\n",
    "    plt.title(\"prediction\")\n",
    "    plt.imshow(pred0)\n",
    "    \n",
    "interact(foo,ind=widgets.IntSlider(min=0, max=31, step=1, value=5))"
   ]
  },
  {
   "cell_type": "code",
   "execution_count": null,
   "metadata": {},
   "outputs": [],
   "source": [
    "sample = data_gen.__getitem__(0)[0]\n",
    "for i in range(200):\n",
    "    sample = np.append(sample, data_gen.__getitem__(i)[0], axis=0)"
   ]
  },
  {
   "cell_type": "code",
   "execution_count": null,
   "metadata": {},
   "outputs": [],
   "source": [
    "sample.shape"
   ]
  },
  {
   "cell_type": "code",
   "execution_count": null,
   "metadata": {},
   "outputs": [],
   "source": [
    "from sklearn import manifold\n",
    "import matplotlib.colors as mcolors\n",
    "color_set = mcolors.TABLEAU_COLORS\n",
    "cnames = list(color_set.keys())"
   ]
  },
  {
   "cell_type": "code",
   "execution_count": null,
   "metadata": {},
   "outputs": [],
   "source": [
    "encoded_samp = encoder.predict(sample)"
   ]
  },
  {
   "cell_type": "code",
   "execution_count": null,
   "metadata": {},
   "outputs": [],
   "source": [
    "tsne = manifold.TSNE(n_components=2, init='random', perplexity=100, n_jobs=-1, verbose=1)\n",
    "embedded_samp = tsne.fit_transform(encoded_samp)"
   ]
  },
  {
   "cell_type": "code",
   "execution_count": null,
   "metadata": {},
   "outputs": [],
   "source": [
    "from mpl_toolkits import mplot3d\n",
    "%matplotlib inline"
   ]
  },
  {
   "cell_type": "code",
   "execution_count": null,
   "metadata": {},
   "outputs": [],
   "source": [
    "# 2D\n",
    "embedded_x, embedded_y = np.split(embedded_samp, 2, axis=1)\n",
    "plt.scatter(embedded_x, embedded_y)\n",
    "\n",
    "# # 3D\n",
    "# fig = plt.figure()\n",
    "# ax = plt.axes(projection='3d')\n",
    "\n",
    "# embedded_x, embedded_y, embedded_z = np.split(embedded_samp, 3, axis=1)\n",
    "# ax.scatter3D(embedded_x, embedded_y, embedded_z)"
   ]
  },
  {
   "cell_type": "code",
   "execution_count": null,
   "metadata": {},
   "outputs": [],
   "source": [
    "inds = np.nonzero((embedded_x > 30) * (embedded_y < 0))[0]"
   ]
  },
  {
   "cell_type": "code",
   "execution_count": null,
   "metadata": {},
   "outputs": [],
   "source": [
    "sample_inds = np.random.choice(inds, size=6)\n",
    "figure, axes = plt.subplots(nrows=6, ncols=1)\n",
    "plt.subplot(611)\n",
    "plt.imshow(sample[sample_inds[0], :, :, 0])\n",
    "plt.subplot(612)\n",
    "plt.imshow(sample[sample_inds[1], :, :, 0])\n",
    "plt.subplot(613)\n",
    "plt.imshow(sample[sample_inds[2], :, :, 0])\n",
    "plt.subplot(614)\n",
    "plt.imshow(sample[sample_inds[3], :, :, 0])\n",
    "plt.subplot(615)\n",
    "plt.imshow(sample[sample_inds[4], :, :, 0])\n",
    "plt.subplot(616)\n",
    "plt.imshow(sample[sample_inds[5], :, :, 0])\n",
    "figure.tight_layout(pad=3.0)"
   ]
  },
  {
   "cell_type": "code",
   "execution_count": null,
   "metadata": {},
   "outputs": [],
   "source": [
    "from sklearn.cluster import DBSCAN\n",
    "from sklearn import metrics\n",
    "from sklearn.datasets import make_blobs\n",
    "from sklearn.preprocessing import StandardScaler"
   ]
  },
  {
   "cell_type": "code",
   "execution_count": null,
   "metadata": {},
   "outputs": [],
   "source": [
    "scaled_samp = StandardScaler().fit_transform(encoded_samp)"
   ]
  },
  {
   "cell_type": "code",
   "execution_count": null,
   "metadata": {},
   "outputs": [],
   "source": [
    "db = DBSCAN(eps=0.5, min_samples=6).fit(scaled_samp)\n",
    "core_samples_mask = np.zeros_like(db.labels_, dtype=bool)\n",
    "core_samples_mask[db.core_sample_indices_] = True\n",
    "labels = db.labels_\n",
    "\n",
    "# Number of clusters in labels, ignoring noise if present.\n",
    "n_clusters_ = len(set(labels)) - (1 if -1 in labels else 0)\n",
    "n_noise_ = list(labels).count(-1)\n",
    "\n",
    "print('Estimated number of clusters: %d' % n_clusters_)\n",
    "print('Estimated number of noise points: %d' % n_noise_)"
   ]
  },
  {
   "cell_type": "code",
   "execution_count": null,
   "metadata": {},
   "outputs": [],
   "source": [
    "print(len(labels))"
   ]
  },
  {
   "cell_type": "code",
   "execution_count": null,
   "metadata": {},
   "outputs": [],
   "source": [
    "inds = np.where(labels==1)[0]\n",
    "print(f\"Number of samples: {len(inds)}\")"
   ]
  },
  {
   "cell_type": "code",
   "execution_count": null,
   "metadata": {},
   "outputs": [],
   "source": [
    "sample_inds = np.random.choice(inds, size=6)\n",
    "figure, axes = plt.subplots(nrows=6, ncols=1)\n",
    "plt.subplot(611)\n",
    "plt.imshow(sample[sample_inds[0], :, :, 0])\n",
    "plt.subplot(612)\n",
    "plt.imshow(sample[sample_inds[1], :, :, 0])\n",
    "plt.subplot(613)\n",
    "plt.imshow(sample[sample_inds[2], :, :, 0])\n",
    "plt.subplot(614)\n",
    "plt.imshow(sample[sample_inds[3], :, :, 0])\n",
    "plt.subplot(615)\n",
    "plt.imshow(sample[sample_inds[4], :, :, 0])\n",
    "plt.subplot(616)\n",
    "plt.imshow(sample[sample_inds[5], :, :, 0])\n",
    "figure.tight_layout(pad=3.0)"
   ]
  },
  {
   "cell_type": "code",
   "execution_count": null,
   "metadata": {},
   "outputs": [],
   "source": []
  }
 ],
 "metadata": {
  "kernelspec": {
   "display_name": "Python 3",
   "language": "python",
   "name": "python3"
  },
  "language_info": {
   "codemirror_mode": {
    "name": "ipython",
    "version": 3
   },
   "file_extension": ".py",
   "mimetype": "text/x-python",
   "name": "python",
   "nbconvert_exporter": "python",
   "pygments_lexer": "ipython3",
   "version": "3.6.9"
  }
 },
 "nbformat": 4,
 "nbformat_minor": 2
}
