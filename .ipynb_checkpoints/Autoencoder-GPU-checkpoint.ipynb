{
 "cells": [
  {
   "cell_type": "markdown",
   "metadata": {},
   "source": [
    "# Imports and System Check"
   ]
  },
  {
   "cell_type": "code",
   "execution_count": 1,
   "metadata": {},
   "outputs": [
    {
     "name": "stderr",
     "output_type": "stream",
     "text": [
      "Using TensorFlow backend.\n"
     ]
    }
   ],
   "source": [
    "import numpy as np\n",
    "from matplotlib import pyplot as plt\n",
    "from tqdm import tqdm\n",
    "import keras\n",
    "import keras.backend as K\n",
    "from keras.models import Model\n",
    "from keras.layers import Add, Input, Dense, Reshape, Flatten, Conv2D, MaxPooling2D, Conv2DTranspose, UpSampling2D, BatchNormalization\n",
    "from keras.engine.topology import Layer, InputSpec\n",
    "import os\n",
    "import random\n",
    "import ipywidgets as widgets\n",
    "from ipywidgets import interact, interact_manual\n",
    "from keras import regularizers\n",
    "from keras.preprocessing.image import ImageDataGenerator\n",
    "from collections import defaultdict\n",
    "from sklearn.cluster import KMeans\n",
    "from sklearn import metrics\n",
    "from keras.utils.vis_utils import plot_model\n",
    "import pickle\n",
    "\n",
    "from sklearn import manifold\n",
    "import matplotlib.colors as mcolors\n",
    "color_set = mcolors.TABLEAU_COLORS\n",
    "cnames = list(color_set.keys())"
   ]
  },
  {
   "cell_type": "code",
   "execution_count": 2,
   "metadata": {},
   "outputs": [
    {
     "data": {
      "text/plain": [
       "[PhysicalDevice(name='/physical_device:GPU:0', device_type='GPU')]"
      ]
     },
     "execution_count": 2,
     "metadata": {},
     "output_type": "execute_result"
    }
   ],
   "source": [
    "import tensorflow as tf\n",
    "tf.config.list_physical_devices('GPU')"
   ]
  },
  {
   "cell_type": "code",
   "execution_count": 3,
   "metadata": {},
   "outputs": [
    {
     "name": "stdout",
     "output_type": "stream",
     "text": [
      "Mon May 11 05:59:39 2020       \r\n",
      "+-----------------------------------------------------------------------------+\r\n",
      "| NVIDIA-SMI 440.33.01    Driver Version: 440.33.01    CUDA Version: 10.2     |\r\n",
      "|-------------------------------+----------------------+----------------------+\r\n",
      "| GPU  Name        Persistence-M| Bus-Id        Disp.A | Volatile Uncorr. ECC |\r\n",
      "| Fan  Temp  Perf  Pwr:Usage/Cap|         Memory-Usage | GPU-Util  Compute M. |\r\n",
      "|===============================+======================+======================|\r\n",
      "|   0  Tesla T4            On   | 00000000:00:04.0 Off |                    0 |\r\n",
      "| N/A   52C    P8    12W /  70W |     11MiB / 15109MiB |      0%      Default |\r\n",
      "+-------------------------------+----------------------+----------------------+\r\n",
      "                                                                               \r\n",
      "+-----------------------------------------------------------------------------+\r\n",
      "| Processes:                                                       GPU Memory |\r\n",
      "|  GPU       PID   Type   Process name                             Usage      |\r\n",
      "|=============================================================================|\r\n",
      "|  No running processes found                                                 |\r\n",
      "+-----------------------------------------------------------------------------+\r\n"
     ]
    }
   ],
   "source": [
    "!nvidia-smi"
   ]
  },
  {
   "cell_type": "markdown",
   "metadata": {},
   "source": [
    "# Model Setup"
   ]
  },
  {
   "cell_type": "code",
   "execution_count": 4,
   "metadata": {},
   "outputs": [],
   "source": [
    "# task = \"MNIST\"\n",
    "task = \"SETI_Narrow_Band\""
   ]
  },
  {
   "cell_type": "markdown",
   "metadata": {},
   "source": [
    "## Residual Block and Clustering Layer Definition"
   ]
  },
  {
   "cell_type": "code",
   "execution_count": 5,
   "metadata": {},
   "outputs": [],
   "source": [
    "def res_conv_block(inp, units, num_layers, activ=\"relu\"):\n",
    "    x = inp\n",
    "    for i in range(num_layers):\n",
    "        x = Conv2D(units, (3, 3), activation=activ, padding=\"same\")(x)\n",
    "    return Add()([x, inp])\n",
    "\n",
    "def res_deconv_block(inp, units, num_layers, activ=\"relu\"):\n",
    "    x = inp\n",
    "    for i in range(num_layers):\n",
    "        x = Conv2DTranspose(units, (3, 3), activation=activ, padding=\"same\")(x)\n",
    "    return Add()([x, inp])"
   ]
  },
  {
   "cell_type": "code",
   "execution_count": 6,
   "metadata": {},
   "outputs": [],
   "source": [
    "class ClusteringLayer(Layer):\n",
    "    \"\"\"\n",
    "    Clustering layer converts input sample (feature) to soft label, i.e. a vector that represents the probability of the\n",
    "    sample belonging to each cluster. The probability is calculated with student's t-distribution.\n",
    "    # Example\n",
    "    ```\n",
    "        model.add(ClusteringLayer(n_clusters=10))\n",
    "    ```\n",
    "    # Arguments\n",
    "        n_clusters: number of clusters.\n",
    "        weights: list of Numpy array with shape `(n_clusters, n_features)` witch represents the initial cluster centers.\n",
    "        alpha: parameter in Student's t-distribution. Default to 1.0.\n",
    "    # Input shape\n",
    "        2D tensor with shape: `(n_samples, n_features)`.\n",
    "    # Output shape\n",
    "        2D tensor with shape: `(n_samples, n_clusters)`.\n",
    "    \"\"\"\n",
    "\n",
    "    def __init__(self, n_clusters, weights=None, alpha=1.0, **kwargs):\n",
    "        if 'input_shape' not in kwargs and 'input_dim' in kwargs:\n",
    "            kwargs['input_shape'] = (kwargs.pop('input_dim'),)\n",
    "        super(ClusteringLayer, self).__init__(**kwargs)\n",
    "        self.n_clusters = n_clusters\n",
    "        self.alpha = alpha\n",
    "        self.initial_weights = weights\n",
    "        self.input_spec = InputSpec(ndim=2)\n",
    "\n",
    "    def build(self, input_shape):\n",
    "        assert len(input_shape) == 2\n",
    "        input_dim = input_shape[1]\n",
    "        self.input_spec = InputSpec(dtype=K.floatx(), shape=(None, input_dim))\n",
    "        self.clusters = self.add_weight(shape=(self.n_clusters, input_dim), initializer='glorot_uniform', name='clusters')\n",
    "        if self.initial_weights is not None:\n",
    "            self.set_weights(self.initial_weights)\n",
    "            del self.initial_weights\n",
    "        self.built = True\n",
    "\n",
    "    def call(self, inputs, **kwargs):\n",
    "        \"\"\" student t-distribution, as same as used in t-SNE algorithm.\n",
    "                 q_ij = 1/(1+dist(x_i, u_j)^2), then normalize it.\n",
    "        Arguments:\n",
    "            inputs: the variable containing data, shape=(n_samples, n_features)\n",
    "        Return:\n",
    "            q: student's t-distribution, or soft labels for each sample. shape=(n_samples, n_clusters)\n",
    "        \"\"\"\n",
    "        q = 1.0 / (1.0 + (K.sum(K.square(K.expand_dims(inputs, axis=1) - self.clusters), axis=2) / self.alpha))\n",
    "        q **= (self.alpha + 1.0) / 2.0\n",
    "        q = K.transpose(K.transpose(q) / K.sum(q, axis=1))\n",
    "        return q\n",
    "\n",
    "    def compute_output_shape(self, input_shape):\n",
    "        assert input_shape and len(input_shape) == 2\n",
    "        return input_shape[0], self.n_clusters\n",
    "\n",
    "    def get_config(self):\n",
    "        config = {'n_clusters': self.n_clusters}\n",
    "        base_config = super(ClusteringLayer, self).get_config()\n",
    "        return dict(list(base_config.items()) + list(config.items()))\n",
    "    \n",
    "def target_distribution(q):\n",
    "        weight = q ** 2 / q.sum(0)\n",
    "        return (weight.T / weight.sum(1)).T"
   ]
  },
  {
   "cell_type": "markdown",
   "metadata": {},
   "source": [
    "## Model Definition (SETI Narrow Band)"
   ]
  },
  {
   "cell_type": "code",
   "execution_count": 7,
   "metadata": {},
   "outputs": [],
   "source": [
    "if task == \"SETI_Narrow_Band\":\n",
    "    n_clusters = 32\n",
    "\n",
    "    input_img = Input(shape=(16, 200, 1))\n",
    "    x = res_conv_block(input_img, 64, 2)\n",
    "\n",
    "    pool_1 = MaxPooling2D((1, 2), padding=\"same\")(x)\n",
    "    x = res_conv_block(pool_1, 64, 2)\n",
    "\n",
    "    pool_2 = MaxPooling2D((2, 2), padding=\"same\")(x)\n",
    "    x = res_conv_block(pool_2, 64, 2)\n",
    "\n",
    "    x = Conv2D(8, (3, 3), activation=\"relu\", padding=\"same\")(x)\n",
    "    x = MaxPooling2D((2, 2), padding=\"same\")(x)\n",
    "\n",
    "\n",
    "    flat = Flatten()(x)\n",
    "    x = Dense(256, activation='relu')(flat)\n",
    "    encoded = Dense(64, activation='relu', name=\"encoded\")(x)\n",
    "    x = Dense(256, activation='relu')(encoded)\n",
    "    x = Dense(800, activation='relu')(x)\n",
    "    x = Reshape((4, 25, 8))(x)\n",
    "\n",
    "    x = UpSampling2D((2, 2))(x)\n",
    "    up_1 = Conv2DTranspose(64, (3, 3), activation=\"relu\", padding=\"same\")(x)\n",
    "\n",
    "    x = res_deconv_block(up_1, 64, 2)\n",
    "    up_2 = UpSampling2D((2, 2))(x)\n",
    "\n",
    "    x = res_deconv_block(up_2, 64, 2)\n",
    "    up_3 = UpSampling2D((1, 2))(x)\n",
    "\n",
    "    x = res_deconv_block(up_3, 64, 2)\n",
    "    decoded = Conv2DTranspose(1, (3, 3), padding=\"same\", name=\"decoded\")(x)\n",
    "\n",
    "    autoencoder, encoder = Model(inputs=input_img, outputs=decoded, name=\"autoencoder\"), Model(inputs=input_img, outputs=encoded, name=\"encoder\")\n",
    "    clustering_layer = ClusteringLayer(n_clusters, name='clustering_layer')(encoder.output)\n",
    "    idec = Model(inputs=autoencoder.input, outputs=[clustering_layer, decoded])"
   ]
  },
  {
   "cell_type": "code",
   "execution_count": null,
   "metadata": {},
   "outputs": [],
   "source": [
    "if task == \"SETI_Narrow_Band\":\n",
    "    n_clusters = 10\n",
    "\n",
    "    input_img = Input(shape=(16, 200, 1))\n",
    "    x = Flatten()(input_img)\n",
    "    x = Dense(1024, activation=\"relu\")(x)\n",
    "    x = Dense(1024, activation=\"relu\")(x)\n",
    "    x = Dense(2048, activation=\"relu\")(x)\n",
    "    encoded = Dense(20, activation='relu', name=\"encoded\",\n",
    "                    activity_regularizer=None)(x)\n",
    "    x = Dense(2048, activation=\"relu\")(encoded)\n",
    "    x = Dense(1024, activation=\"relu\")(x)\n",
    "    x = Dense(1024, activation=\"relu\")(x)\n",
    "    x = Dense(3200, activation=\"relu\")(x)\n",
    "    decoded = Reshape(shape=(16, 200, 1), name=\"decoded\")(x)\n",
    "    \n",
    "    autoencoder, encoder = Model(inputs=input_img, outputs=decoded, name=\"autoencoder\"), Model(inputs=input_img, outputs=encoded, name=\"encoder\")\n",
    "    clustering_layer = ClusteringLayer(n_clusters, name='clustering_layer')(encoder.output)\n",
    "    idec = Model(inputs=autoencoder.input, outputs=[clustering_layer, decoded], name=\"orig-idec\")\n",
    "    "
   ]
  },
  {
   "cell_type": "markdown",
   "metadata": {},
   "source": [
    "## Model Definition (MNIST)"
   ]
  },
  {
   "cell_type": "code",
   "execution_count": null,
   "metadata": {},
   "outputs": [],
   "source": [
    "if task == \"MNIST\":\n",
    "    n_clusters = 10\n",
    "\n",
    "    input_img = Input(shape=(28, 28, 1))\n",
    "    x = res_conv_block(input_img, 32, 2)\n",
    "\n",
    "    pool_1 = MaxPooling2D((2, 2), padding=\"same\")(x)\n",
    "#     pool_1 = x\n",
    "    x = res_conv_block(pool_1, 32, 2)\n",
    "\n",
    "    pool_2 = MaxPooling2D((2, 2), padding=\"same\")(x)\n",
    "    x = res_conv_block(pool_2, 32, 2)\n",
    "\n",
    "    x = Conv2D(8, (3, 3), activation=\"relu\", padding=\"same\")(x)\n",
    "\n",
    "\n",
    "    flat = Flatten()(x)\n",
    "    x = Dense(1024, activation='relu')(flat)\n",
    "    encoded = Dense(20, activation='relu', name=\"encoded\",\n",
    "                    activity_regularizer=None)(x)\n",
    "    x = Dense(1024, activation='relu')(encoded)\n",
    "    x = Dense(49*8, activation='relu')(x)\n",
    "    x = Reshape((7, 7, 8))(x)\n",
    "#     x = Dense(49*4, activation='relu')(x)\n",
    "#     x = Reshape((14, 14, 1))(x)\n",
    "    \n",
    "\n",
    "    up_1 = Conv2DTranspose(32, (3, 3), activation=\"relu\", padding=\"same\")(x)\n",
    "\n",
    "    x = res_deconv_block(up_1, 32, 2)\n",
    "    up_2 = UpSampling2D((2, 2))(x)\n",
    "\n",
    "    x = res_deconv_block(up_2, 32, 2)\n",
    "    up_3 = UpSampling2D((2, 2))(x)\n",
    "#     up_3 = x\n",
    "\n",
    "    x = res_deconv_block(up_3, 32, 2)\n",
    "    decoded = Conv2DTranspose(1, (3, 3), padding=\"same\", name=\"decoded\")(x)\n",
    "\n",
    "    autoencoder, encoder = Model(inputs=input_img, outputs=decoded, name=\"autoencoder\"), Model(inputs=input_img, outputs=encoded, name=\"encoder\")\n",
    "    clustering_layer = ClusteringLayer(n_clusters, name='clustering_layer')(encoder.output)\n",
    "    idec = Model(inputs=autoencoder.input, outputs=[clustering_layer, decoded], name=\"res-idec\")"
   ]
  },
  {
   "cell_type": "code",
   "execution_count": null,
   "metadata": {},
   "outputs": [],
   "source": [
    "if task == \"MNIST\":\n",
    "    n_clusters = 10\n",
    "\n",
    "    input_img = Input(shape=(28, 28, 1))\n",
    "    x = Flatten()(input_img)\n",
    "    x = Dense(500, activation=\"relu\")(x)\n",
    "    x = Dense(500, activation=\"relu\")(x)\n",
    "    x = Dense(2000, activation=\"relu\")(x)\n",
    "    encoded = Dense(10, activation='relu', name=\"encoded\",\n",
    "                    activity_regularizer=None)(x)\n",
    "    x = Dense(2000, activation=\"relu\")(encoded)\n",
    "    x = Dense(500, activation=\"relu\")(x)\n",
    "    x = Dense(500, activation=\"relu\")(x)\n",
    "    x = Dense(784, activation=\"relu\")(x)\n",
    "    decoded = Reshape((28, 28, 1), name=\"decoded\")(x)\n",
    "    \n",
    "    autoencoder, encoder = Model(inputs=input_img, outputs=decoded, name=\"autoencoder\"), Model(inputs=input_img, outputs=encoded, name=\"encoder\")\n",
    "    clustering_layer = ClusteringLayer(n_clusters, name='clustering_layer')(encoder.output)\n",
    "    idec = Model(inputs=autoencoder.input, outputs=[clustering_layer, decoded], name=\"orig-idec\")\n",
    "    "
   ]
  },
  {
   "cell_type": "code",
   "execution_count": 8,
   "metadata": {},
   "outputs": [
    {
     "name": "stdout",
     "output_type": "stream",
     "text": [
      "Model: \"model_1\"\n",
      "__________________________________________________________________________________________________\n",
      "Layer (type)                    Output Shape         Param #     Connected to                     \n",
      "==================================================================================================\n",
      "input_1 (InputLayer)            (None, 16, 200, 1)   0                                            \n",
      "__________________________________________________________________________________________________\n",
      "conv2d_1 (Conv2D)               (None, 16, 200, 64)  640         input_1[0][0]                    \n",
      "__________________________________________________________________________________________________\n",
      "conv2d_2 (Conv2D)               (None, 16, 200, 64)  36928       conv2d_1[0][0]                   \n",
      "__________________________________________________________________________________________________\n",
      "add_1 (Add)                     (None, 16, 200, 64)  0           conv2d_2[0][0]                   \n",
      "                                                                 input_1[0][0]                    \n",
      "__________________________________________________________________________________________________\n",
      "max_pooling2d_1 (MaxPooling2D)  (None, 16, 100, 64)  0           add_1[0][0]                      \n",
      "__________________________________________________________________________________________________\n",
      "conv2d_3 (Conv2D)               (None, 16, 100, 64)  36928       max_pooling2d_1[0][0]            \n",
      "__________________________________________________________________________________________________\n",
      "conv2d_4 (Conv2D)               (None, 16, 100, 64)  36928       conv2d_3[0][0]                   \n",
      "__________________________________________________________________________________________________\n",
      "add_2 (Add)                     (None, 16, 100, 64)  0           conv2d_4[0][0]                   \n",
      "                                                                 max_pooling2d_1[0][0]            \n",
      "__________________________________________________________________________________________________\n",
      "max_pooling2d_2 (MaxPooling2D)  (None, 8, 50, 64)    0           add_2[0][0]                      \n",
      "__________________________________________________________________________________________________\n",
      "conv2d_5 (Conv2D)               (None, 8, 50, 64)    36928       max_pooling2d_2[0][0]            \n",
      "__________________________________________________________________________________________________\n",
      "conv2d_6 (Conv2D)               (None, 8, 50, 64)    36928       conv2d_5[0][0]                   \n",
      "__________________________________________________________________________________________________\n",
      "add_3 (Add)                     (None, 8, 50, 64)    0           conv2d_6[0][0]                   \n",
      "                                                                 max_pooling2d_2[0][0]            \n",
      "__________________________________________________________________________________________________\n",
      "conv2d_7 (Conv2D)               (None, 8, 50, 8)     4616        add_3[0][0]                      \n",
      "__________________________________________________________________________________________________\n",
      "max_pooling2d_3 (MaxPooling2D)  (None, 4, 25, 8)     0           conv2d_7[0][0]                   \n",
      "__________________________________________________________________________________________________\n",
      "flatten_1 (Flatten)             (None, 800)          0           max_pooling2d_3[0][0]            \n",
      "__________________________________________________________________________________________________\n",
      "dense_1 (Dense)                 (None, 256)          205056      flatten_1[0][0]                  \n",
      "__________________________________________________________________________________________________\n",
      "encoded (Dense)                 (None, 64)           16448       dense_1[0][0]                    \n",
      "__________________________________________________________________________________________________\n",
      "dense_2 (Dense)                 (None, 256)          16640       encoded[0][0]                    \n",
      "__________________________________________________________________________________________________\n",
      "dense_3 (Dense)                 (None, 800)          205600      dense_2[0][0]                    \n",
      "__________________________________________________________________________________________________\n",
      "reshape_1 (Reshape)             (None, 4, 25, 8)     0           dense_3[0][0]                    \n",
      "__________________________________________________________________________________________________\n",
      "up_sampling2d_1 (UpSampling2D)  (None, 8, 50, 8)     0           reshape_1[0][0]                  \n",
      "__________________________________________________________________________________________________\n",
      "conv2d_transpose_1 (Conv2DTrans (None, 8, 50, 64)    4672        up_sampling2d_1[0][0]            \n",
      "__________________________________________________________________________________________________\n",
      "conv2d_transpose_2 (Conv2DTrans (None, 8, 50, 64)    36928       conv2d_transpose_1[0][0]         \n",
      "__________________________________________________________________________________________________\n",
      "conv2d_transpose_3 (Conv2DTrans (None, 8, 50, 64)    36928       conv2d_transpose_2[0][0]         \n",
      "__________________________________________________________________________________________________\n",
      "add_4 (Add)                     (None, 8, 50, 64)    0           conv2d_transpose_3[0][0]         \n",
      "                                                                 conv2d_transpose_1[0][0]         \n",
      "__________________________________________________________________________________________________\n",
      "up_sampling2d_2 (UpSampling2D)  (None, 16, 100, 64)  0           add_4[0][0]                      \n",
      "__________________________________________________________________________________________________\n",
      "conv2d_transpose_4 (Conv2DTrans (None, 16, 100, 64)  36928       up_sampling2d_2[0][0]            \n",
      "__________________________________________________________________________________________________\n",
      "conv2d_transpose_5 (Conv2DTrans (None, 16, 100, 64)  36928       conv2d_transpose_4[0][0]         \n",
      "__________________________________________________________________________________________________\n",
      "add_5 (Add)                     (None, 16, 100, 64)  0           conv2d_transpose_5[0][0]         \n",
      "                                                                 up_sampling2d_2[0][0]            \n",
      "__________________________________________________________________________________________________\n",
      "up_sampling2d_3 (UpSampling2D)  (None, 16, 200, 64)  0           add_5[0][0]                      \n",
      "__________________________________________________________________________________________________\n",
      "conv2d_transpose_6 (Conv2DTrans (None, 16, 200, 64)  36928       up_sampling2d_3[0][0]            \n",
      "__________________________________________________________________________________________________\n",
      "conv2d_transpose_7 (Conv2DTrans (None, 16, 200, 64)  36928       conv2d_transpose_6[0][0]         \n",
      "__________________________________________________________________________________________________\n",
      "add_6 (Add)                     (None, 16, 200, 64)  0           conv2d_transpose_7[0][0]         \n",
      "                                                                 up_sampling2d_3[0][0]            \n",
      "__________________________________________________________________________________________________\n",
      "clustering_layer (ClusteringLay (None, 32)           2048        encoded[0][0]                    \n",
      "__________________________________________________________________________________________________\n",
      "decoded (Conv2DTranspose)       (None, 16, 200, 1)   577         add_6[0][0]                      \n",
      "==================================================================================================\n",
      "Total params: 862,505\n",
      "Trainable params: 862,505\n",
      "Non-trainable params: 0\n",
      "__________________________________________________________________________________________________\n"
     ]
    }
   ],
   "source": [
    "idec.summary()"
   ]
  },
  {
   "cell_type": "markdown",
   "metadata": {},
   "source": [
    "# Data Preparation"
   ]
  },
  {
   "cell_type": "markdown",
   "metadata": {},
   "source": [
    "## Data Sampling and Generator Construction (SETI Narrow Band)"
   ]
  },
  {
   "cell_type": "code",
   "execution_count": 9,
   "metadata": {},
   "outputs": [
    {
     "data": {
      "text/plain": [
       "(['GBT_58210_37805_HIP103730_fine',\n",
       "  'GBT_58307_26947_J1935+1616_fine',\n",
       "  'GBT_58014_69579_HIP77629_fine',\n",
       "  'GBT_58210_40853_HIP106147_fine',\n",
       "  'GBT_58452_79191_HIP115687_fine',\n",
       "  'GBT_58210_39862_HIP105504_fine',\n",
       "  'GBT_58010_50176_HIP61317_fine',\n",
       "  'GBT_58110_60123_HIP91926_fine'],\n",
       " ['GBT_58202_60970_B0329+54_fine', 'GBT_58210_41185_HIP105761_fine'])"
      ]
     },
     "execution_count": 9,
     "metadata": {},
     "output_type": "execute_result"
    }
   ],
   "source": [
    "dir_names = list(filter(lambda x: x.endswith(\"fine\"), os.listdir(\"../../data/S-band-high\")))\n",
    "random.shuffle(dir_names)\n",
    "dir_names, val_dir_names = dir_names[:-2], dir_names[-2:]\n",
    "dir_names, val_dir_names"
   ]
  },
  {
   "cell_type": "code",
   "execution_count": 10,
   "metadata": {},
   "outputs": [
    {
     "name": "stdout",
     "output_type": "stream",
     "text": [
      "Found 70384 images belonging to 11 classes.\n"
     ]
    },
    {
     "name": "stderr",
     "output_type": "stream",
     "text": [
      "100%|██████████| 200/200 [01:39<00:00,  2.20it/s]\n"
     ]
    },
    {
     "name": "stdout",
     "output_type": "stream",
     "text": [
      "Found 66973 images belonging to 11 classes.\n"
     ]
    },
    {
     "name": "stderr",
     "output_type": "stream",
     "text": [
      "100%|██████████| 200/200 [00:02<00:00, 76.20it/s]\n"
     ]
    },
    {
     "name": "stdout",
     "output_type": "stream",
     "text": [
      "Found 82137 images belonging to 11 classes.\n"
     ]
    },
    {
     "name": "stderr",
     "output_type": "stream",
     "text": [
      "100%|██████████| 200/200 [00:02<00:00, 75.79it/s]\n",
      "  0%|          | 0/200 [00:00<?, ?it/s]"
     ]
    },
    {
     "name": "stdout",
     "output_type": "stream",
     "text": [
      "Found 77098 images belonging to 11 classes.\n"
     ]
    },
    {
     "name": "stderr",
     "output_type": "stream",
     "text": [
      "100%|██████████| 200/200 [00:02<00:00, 76.50it/s]\n"
     ]
    },
    {
     "name": "stdout",
     "output_type": "stream",
     "text": [
      "Found 76978 images belonging to 11 classes.\n"
     ]
    },
    {
     "name": "stderr",
     "output_type": "stream",
     "text": [
      "100%|██████████| 200/200 [00:02<00:00, 74.99it/s]\n",
      "  0%|          | 0/200 [00:00<?, ?it/s]"
     ]
    },
    {
     "name": "stdout",
     "output_type": "stream",
     "text": [
      "Found 65335 images belonging to 11 classes.\n"
     ]
    },
    {
     "name": "stderr",
     "output_type": "stream",
     "text": [
      "100%|██████████| 200/200 [00:02<00:00, 75.80it/s]\n",
      "  0%|          | 0/200 [00:00<?, ?it/s]"
     ]
    },
    {
     "name": "stdout",
     "output_type": "stream",
     "text": [
      "Found 48751 images belonging to 11 classes.\n"
     ]
    },
    {
     "name": "stderr",
     "output_type": "stream",
     "text": [
      "100%|██████████| 200/200 [00:02<00:00, 74.53it/s]\n",
      "  0%|          | 0/200 [00:00<?, ?it/s]"
     ]
    },
    {
     "name": "stdout",
     "output_type": "stream",
     "text": [
      "Found 49798 images belonging to 11 classes.\n"
     ]
    },
    {
     "name": "stderr",
     "output_type": "stream",
     "text": [
      "100%|██████████| 200/200 [00:02<00:00, 74.04it/s]\n"
     ]
    },
    {
     "data": {
      "image/png": "[encoded data removed]",
      "text/plain": [
       "<Figure size 432x288 with 1 Axes>"
      ]
     },
     "metadata": {
      "needs_background": "light"
     },
     "output_type": "display_data"
    }
   ],
   "source": [
    "if task == \"SETI_Narrow_Band\":\n",
    "    sampgen = ImageDataGenerator(\n",
    "        preprocessing_function=np.log)\n",
    "\n",
    "    num_batch_each = 200\n",
    "    x_samp = np.empty((len(dir_names) * num_batch_each*32, 16, 200, 1))\n",
    "    for shift, directory in enumerate(dir_names):\n",
    "        gen = sampgen.flow_from_directory(\n",
    "            directory=f\"../../data/S-band-high/{directory}/filtered\",\n",
    "            target_size=(16, 200),\n",
    "            color_mode=\"grayscale\",\n",
    "            class_mode=\"input\"\n",
    "        )\n",
    "        for i in tqdm(range(200)):\n",
    "            x_samp[(shift*num_batch_each+i)*32:(shift*num_batch_each+i+1)*32] = gen.next()[0]\n",
    "\n",
    "    plt.imshow(x_samp[16, :, :, 0])"
   ]
  },
  {
   "cell_type": "code",
   "execution_count": 11,
   "metadata": {},
   "outputs": [],
   "source": [
    "if task == \"SETI_Narrow_Band\":\n",
    "    datagen = ImageDataGenerator(\n",
    "        featurewise_center=True,\n",
    "        featurewise_std_normalization=True,\n",
    "        preprocessing_function=np.log)\n",
    "    datagen.fit(x_samp)\n",
    "    del x_samp"
   ]
  },
  {
   "cell_type": "code",
   "execution_count": null,
   "metadata": {},
   "outputs": [],
   "source": [
    "if task == \"MNIST\":\n",
    "    from keras.datasets import mnist\n",
    "    (x_train, y_train), (x_test, y_test) = mnist.load_data()\n",
    "    x_train = np.expand_dims(x_train, axis=3)\n",
    "    x_test = np.expand_dims(x_test, axis=3)"
   ]
  },
  {
   "cell_type": "markdown",
   "metadata": {},
   "source": [
    "# Model Training"
   ]
  },
  {
   "cell_type": "markdown",
   "metadata": {},
   "source": [
    "## Autoencoder Training / Pre-Training"
   ]
  },
  {
   "cell_type": "code",
   "execution_count": null,
   "metadata": {},
   "outputs": [],
   "source": [
    "if task == \"SETI_Narrow_Band\":\n",
    "    print(\" Start Autoencoder Training \".center(60, \"-\"), end=\"\\n\\n\")\n",
    "    autoencoder.compile(\"adam\", loss=\"mse\")\n",
    "    histories = defaultdict(list)\n",
    "\n",
    "    for i in range(5):\n",
    "        print(f\" Training Iteration {i} \".center(60, \"-\"), end=\"\\n\\n\")\n",
    "        for dir_name in dir_names:\n",
    "            print(f\"Training on {dir_name}\")\n",
    "            training_history = autoencoder.fit_generator(generator=datagen.flow_from_directory(\n",
    "                directory=f\"../../data/S-band-high/{dir_name}/filtered\",\n",
    "                target_size=(16, 200),\n",
    "                color_mode=\"grayscale\",\n",
    "                class_mode=\"input\"\n",
    "            ), epochs=2)\n",
    "            histories[dir_name].append(training_history)"
   ]
  },
  {
   "cell_type": "code",
   "execution_count": null,
   "metadata": {},
   "outputs": [],
   "source": [
    "if task == \"MNIST\":\n",
    "    print(\" Start Autoencoder Training \".center(60, \"-\"), end=\"\\n\\n\")\n",
    "    autoencoder.compile(\"adam\", loss=\"mse\")\n",
    "\n",
    "    for i in range(40):\n",
    "        print(f\" Training Iteration {i} \".center(60, \"-\"), end=\"\\n\\n\")\n",
    "        autoencoder.fit(x_train, x_train)"
   ]
  },
  {
   "cell_type": "code",
   "execution_count": null,
   "metadata": {},
   "outputs": [],
   "source": [
    "# save model\n",
    "model_name = f\"{task}_res_idec_autoencoder\"\n",
    "from datetime import datetime\n",
    "timestamp = datetime.now().strftime(\"%d-%m-%y-%H:%M\")\n",
    "print(\"timestamp =\", timestamp)\n",
    "\n",
    "# serialize model to JSON\n",
    "model_json = autoencoder.to_json()\n",
    "with open(f\"models/{task}/{model_name}-{timestamp}.json\", \"w\") as json_file:\n",
    "    json_file.write(model_json)\n",
    "# serialize weights to HDF5\n",
    "autoencoder.save_weights(f\"models/{task}/{model_name}-{timestamp}.h5\")"
   ]
  },
  {
   "cell_type": "code",
   "execution_count": null,
   "metadata": {},
   "outputs": [],
   "source": [
    "# autoencoder.load_weights(f\"models/res_idec_autoencoder-best.h5\")"
   ]
  },
  {
   "cell_type": "code",
   "execution_count": null,
   "metadata": {},
   "outputs": [],
   "source": [
    "if task == \"SETI_Narrow_Band\":\n",
    "    num_batch_each = 200\n",
    "    x_train = np.empty((num_batch_each*len(dir_names)*32, 16, 200, 1))\n",
    "    y_train = np.empty((num_batch_each*len(dir_names)*32))\n",
    "    for shift, directory in enumerate(dir_names):\n",
    "        gen = datagen.flow_from_directory(\n",
    "            directory=f\"../../data/S-band-high/{directory}/filtered\",\n",
    "            target_size=(16, 200),\n",
    "            color_mode=\"grayscale\",\n",
    "            class_mode=\"sparse\"\n",
    "        )\n",
    "        for i in tqdm(range(num_batch_each)):\n",
    "            temp_x, temp_y = gen.next()\n",
    "            x_train[(shift*num_batch_each+i)*32:(shift*num_batch_each+i+1)*32] = temp_x\n",
    "            y_train[(shift*num_batch_each+i)*32:(shift*num_batch_each+i+1)*32] = temp_y\n",
    "    kmeans = KMeans(n_clusters)\n",
    "    y_pred = kmeans.fit_predict(encoder.predict(x_train))"
   ]
  },
  {
   "cell_type": "code",
   "execution_count": null,
   "metadata": {},
   "outputs": [],
   "source": [
    "pre_cluster_encoded = encoder.predict(x_train)"
   ]
  },
  {
   "cell_type": "code",
   "execution_count": null,
   "metadata": {},
   "outputs": [],
   "source": [
    "tsne = manifold.TSNE(n_components=2, init='random', perplexity=20, n_jobs=-1, verbose=1)\n",
    "embedded_samp = tsne.fit_transform(pre_cluster_encoded)"
   ]
  },
  {
   "cell_type": "code",
   "execution_count": null,
   "metadata": {
    "scrolled": true
   },
   "outputs": [],
   "source": [
    "embedded_x, embedded_y = np.split(embedded_samp, 2, axis=1)\n",
    "if task == \"MNIST\":\n",
    "    plt.scatter(embedded_x, embedded_y, c=[cnames[e] for e in y_train], marker=\"x\")\n",
    "else:\n",
    "    plt.scatter(embedded_x[y_pred < 10], embedded_y[y_pred < 10], c=[cnames[e] for e in y_pred[y_pred < 10]], marker=\"x\")\n",
    "plt.tick_params(\n",
    "    axis='both',          # changes apply to the x-axis\n",
    "    which='both',      # both major and minor ticks are affected\n",
    "    bottom=False,      # ticks along the bottom edge are off\n",
    "    top=False,         # ticks along the top edge are off\n",
    "    left=False,\n",
    "    right=False,\n",
    "    labelleft=False,\n",
    "    labelbottom=False) # labels along the bottom edge are off"
   ]
  },
  {
   "cell_type": "code",
   "execution_count": null,
   "metadata": {},
   "outputs": [],
   "source": [
    "def cluster_acc(y_true, y_pred):\n",
    "    \"\"\"\n",
    "    Calculate clustering accuracy. Require scikit-learn installed\n",
    "    # Arguments\n",
    "        y: true labels, numpy.array with shape `(n_samples,)`\n",
    "        y_pred: predicted labels, numpy.array with shape `(n_samples,)`\n",
    "    # Return\n",
    "        accuracy, in [0,1]\n",
    "    \"\"\"\n",
    "    y_true = y_true.astype(np.int64)\n",
    "    assert y_pred.size == y_true.size\n",
    "    D = max(y_pred.max(), y_true.max()) + 1\n",
    "    w = np.zeros((D, D), dtype=np.int64)\n",
    "    for i in range(y_pred.size):\n",
    "        w[y_pred[i], y_true[i]] += 1\n",
    "    from sklearn.utils.linear_assignment_ import linear_assignment\n",
    "    ind = linear_assignment(w.max() - w)\n",
    "    return sum([w[i, j] for i, j in ind]) * 1.0 / y_pred.size\n",
    "\n",
    "def fit_cluster(model, x, y=None, x_test=None, gamma=0.01, maxiter=500, batch_size=128, tol=1e-3, update_interval=100, model_name=\"res-idec\", cold_start=False):\n",
    "    stats = {\"acc\": [], \"nmi\":[], \"ari\": [], \"mhp\": []}\n",
    "    if cold_start:\n",
    "        model.compile(loss={'clustering_layer': 'kld', 'decoded': 'mse'},\n",
    "                        loss_weights={'clustering_layer': gamma, 'decoded': 1},\n",
    "                        optimizer=\"adam\")\n",
    "        print(' Initializing cluster centers with k-means '.center(60, \"-\"), end=\"\\n\\n\")\n",
    "        kmeans = KMeans(n_clusters)\n",
    "        y_pred = kmeans.fit_predict(encoder.predict(x))\n",
    "        y_pred_last = np.copy(y_pred)\n",
    "        model.get_layer(name='clustering_layer').set_weights([kmeans.cluster_centers_])\n",
    "        print(\" Model Compiled and Initialized \".center(60, \"-\"), end=\"\\n\\n\")\n",
    "    else:\n",
    "        q, _ = model.predict(x, verbose=0)\n",
    "        p = target_distribution(q)  # update the auxiliary target distribution p\n",
    "        y_pred_last = q.argmax(1)\n",
    "        y_pred = None\n",
    "    \n",
    "    index = 0\n",
    "    index_array = np.arange(x.shape[0])\n",
    "    \n",
    "    for ite in range(int(maxiter)):\n",
    "        if ite % update_interval == 0:\n",
    "            q, _ = model.predict(x, verbose=0)\n",
    "            p = target_distribution(q)  # update the auxiliary target distribution p\n",
    "            y_pred = q.argmax(1)\n",
    "            delta_label = np.sum(y_pred != y_pred_last).astype(np.float32) / y_pred.shape[0]\n",
    "            y_pred_last = np.copy(y_pred)\n",
    "            \n",
    "            if y is not None:\n",
    "                acc = np.round(cluster_acc(y, y_pred), 5)\n",
    "                nmi = np.round(metrics.normalized_mutual_info_score(y, y_pred), 5)\n",
    "                ari = np.round(metrics.adjusted_rand_score(y, y_pred), 5)\n",
    "                stats[\"acc\"].append(acc)\n",
    "                stats[\"nmi\"].append(nmi)\n",
    "                stats[\"ari\"].append(ari)\n",
    "            if x_test is not None:\n",
    "                probs, _ = model.predict(x_test)\n",
    "                max_probs = probs.max(1)\n",
    "                stats[\"mhp\"].append(np.round(np.mean(max_probs), 5))\n",
    "            print()\n",
    "            for k, v in stats.items():\n",
    "                if v:\n",
    "                    print(f\"{k}: {v[-1]}\", end=\" \")\n",
    "            print()\n",
    "            \n",
    "            if ite > 0 and delta_label < tol:\n",
    "                    print(f\"delta_label {delta_label} < {tol}\")\n",
    "                    print('Reached tolerance threshold. Stopping training.'.center(60, \"-\"), end=\"\\n\\n\")\n",
    "                    break\n",
    "                    \n",
    "        idx = index_array[index * batch_size: min((index+1) * batch_size, x.shape[0])]\n",
    "        total_loss, clustering_loss, reconstruction_loss = model.train_on_batch(x=x[idx], y=[p[idx], x[idx]])\n",
    "        print(f\"\\rIteration {ite:>5}, Total Loss: {total_loss:.5f}, Cluster Loss: {clustering_loss:.5f}, Reconstruction Loss {reconstruction_loss:.5f}\", end=\"\", flush=True)\n",
    "        if ite % update_interval == 0:\n",
    "            print()\n",
    "            \n",
    "    print()\n",
    "    print(\" Saving Model \".center(60, \"-\"), end=\"\\n\\n\")\n",
    "    from datetime import datetime\n",
    "    timestamp = datetime.now().strftime(\"%d-%m-%y-%H:%M\")\n",
    "    print(\"timestamp =\", timestamp)\n",
    "\n",
    "    # serialize model to JSON\n",
    "    model_json = model.to_json()\n",
    "    with open(f\"models/{task}/{model_name}-{timestamp}.json\", \"w\") as json_file:\n",
    "        json_file.write(model_json)\n",
    "    # serialize weights to HDF5\n",
    "    model.save_weights(f\"models/{task}/{model_name}-{timestamp}.h5\")\n",
    "    print(\"Saved model to disk\")\n",
    "    \n",
    "    return y_pred, stats"
   ]
  },
  {
   "cell_type": "code",
   "execution_count": null,
   "metadata": {},
   "outputs": [],
   "source": [
    "model_name = \"res_idec\""
   ]
  },
  {
   "cell_type": "code",
   "execution_count": 26,
   "metadata": {},
   "outputs": [
    {
     "name": "stdout",
     "output_type": "stream",
     "text": [
      "Found 70384 images belonging to 11 classes.\n"
     ]
    },
    {
     "name": "stderr",
     "output_type": "stream",
     "text": [
      "100%|██████████| 200/200 [01:32<00:00,  2.18it/s]\n"
     ]
    },
    {
     "name": "stdout",
     "output_type": "stream",
     "text": [
      "Found 66973 images belonging to 11 classes.\n"
     ]
    },
    {
     "name": "stderr",
     "output_type": "stream",
     "text": [
      "100%|██████████| 200/200 [00:02<00:00, 70.73it/s]\n"
     ]
    },
    {
     "name": "stdout",
     "output_type": "stream",
     "text": [
      "Found 82137 images belonging to 11 classes.\n"
     ]
    },
    {
     "name": "stderr",
     "output_type": "stream",
     "text": [
      "100%|██████████| 200/200 [00:02<00:00, 71.85it/s]\n"
     ]
    },
    {
     "name": "stdout",
     "output_type": "stream",
     "text": [
      "Found 77098 images belonging to 11 classes.\n"
     ]
    },
    {
     "name": "stderr",
     "output_type": "stream",
     "text": [
      "100%|██████████| 200/200 [00:02<00:00, 73.22it/s]\n"
     ]
    },
    {
     "name": "stdout",
     "output_type": "stream",
     "text": [
      "Found 76978 images belonging to 11 classes.\n"
     ]
    },
    {
     "name": "stderr",
     "output_type": "stream",
     "text": [
      "100%|██████████| 200/200 [00:02<00:00, 72.37it/s]\n"
     ]
    },
    {
     "name": "stdout",
     "output_type": "stream",
     "text": [
      "Found 65335 images belonging to 11 classes.\n"
     ]
    },
    {
     "name": "stderr",
     "output_type": "stream",
     "text": [
      "100%|██████████| 200/200 [00:02<00:00, 72.35it/s]\n",
      "  0%|          | 0/200 [00:00<?, ?it/s]"
     ]
    },
    {
     "name": "stdout",
     "output_type": "stream",
     "text": [
      "Found 48751 images belonging to 11 classes.\n"
     ]
    },
    {
     "name": "stderr",
     "output_type": "stream",
     "text": [
      "100%|██████████| 200/200 [00:02<00:00, 71.20it/s]\n",
      "  0%|          | 0/200 [00:00<?, ?it/s]"
     ]
    },
    {
     "name": "stdout",
     "output_type": "stream",
     "text": [
      "Found 49798 images belonging to 11 classes.\n"
     ]
    },
    {
     "name": "stderr",
     "output_type": "stream",
     "text": [
      "100%|██████████| 200/200 [00:02<00:00, 71.16it/s]\n"
     ]
    }
   ],
   "source": [
    "if task == \"SETI_Narrow_Band\":\n",
    "    num_batch_each = 200\n",
    "    x_cluster_samp = np.empty((num_batch_each*len(dir_names)*32, 16, 200, 1))\n",
    "    y_cluster_samp = np.empty((num_batch_each*len(dir_names)*32))\n",
    "    for shift, directory in enumerate(dir_names):\n",
    "        gen = datagen.flow_from_directory(\n",
    "            directory=f\"../../data/S-band-high/{directory}/filtered\",\n",
    "            target_size=(16, 200),\n",
    "            color_mode=\"grayscale\",\n",
    "            class_mode=\"sparse\"\n",
    "        )\n",
    "        for i in tqdm(range(num_batch_each)):\n",
    "            temp_x, temp_y = gen.next()\n",
    "            x_cluster_samp[(shift*num_batch_each+i)*32:(shift*num_batch_each+i+1)*32] = temp_x\n",
    "            y_cluster_samp[(shift*num_batch_each+i)*32:(shift*num_batch_each+i+1)*32] = temp_y"
   ]
  },
  {
   "cell_type": "code",
   "execution_count": 22,
   "metadata": {
    "scrolled": true
   },
   "outputs": [
    {
     "name": "stdout",
     "output_type": "stream",
     "text": [
      "Found 48472 images belonging to 11 classes.\n"
     ]
    },
    {
     "name": "stderr",
     "output_type": "stream",
     "text": [
      "100%|██████████| 200/200 [00:02<00:00, 69.24it/s]\n"
     ]
    },
    {
     "name": "stdout",
     "output_type": "stream",
     "text": [
      "Found 68430 images belonging to 11 classes.\n"
     ]
    },
    {
     "name": "stderr",
     "output_type": "stream",
     "text": [
      "100%|██████████| 200/200 [00:02<00:00, 71.54it/s]\n"
     ]
    }
   ],
   "source": [
    "if task == \"SETI_Narrow_Band\":\n",
    "    num_batch_each = 200\n",
    "    x_cluster_validation = np.empty((num_batch_each*len(val_dir_names)*32, 16, 200, 1))\n",
    "    y_cluster_validation = np.empty((num_batch_each*len(val_dir_names)*32))\n",
    "    for shift, directory in enumerate(val_dir_names):\n",
    "        gen = datagen.flow_from_directory(\n",
    "            directory=f\"../../data/S-band-high/{directory}/filtered\",\n",
    "            target_size=(16, 200),\n",
    "            color_mode=\"grayscale\",\n",
    "            class_mode=\"sparse\"\n",
    "        )\n",
    "        for i in tqdm(range(num_batch_each)):\n",
    "            temp_x, temp_y = gen.next()\n",
    "            x_cluster_validation[(shift*num_batch_each+i)*32:(shift*num_batch_each+i+1)*32] = temp_x\n",
    "            y_cluster_validation[(shift*num_batch_each+i)*32:(shift*num_batch_each+i+1)*32] = temp_y"
   ]
  },
  {
   "cell_type": "code",
   "execution_count": null,
   "metadata": {},
   "outputs": [],
   "source": [
    "if task == \"SETI_Narrow_Band\":\n",
    "    print(\" Start Joint Training \".center(60, \"-\"), end=\"\\n\\n\")\n",
    "    stats = {\"acc\": [], \"nmi\":[], \"ari\": [], \"mhp\": []}\n",
    "    preds, stat = fit_cluster(idec, x_cluster_samp, y_cluster_samp, x_cluster_validation, model_name=model_name, cold_start=True)\n",
    "    for k, v in stat.items():\n",
    "        stats[k].extend(v)\n",
    "    for i in range(4):\n",
    "        num_batch_each = 200\n",
    "        x_cluster_samp = np.empty((num_batch_each*len(dir_names)*32, 16, 200, 1))\n",
    "        y_cluster_samp = np.empty((num_batch_each*len(dir_names)*32))\n",
    "        for shift, directory in enumerate(dir_names):\n",
    "            gen = datagen.flow_from_directory(\n",
    "                directory=f\"../../data/S-band-high/{directory}/filtered\",\n",
    "                target_size=(16, 200),\n",
    "                color_mode=\"grayscale\",\n",
    "                class_mode=\"sparse\"\n",
    "            )\n",
    "            for i in tqdm(range(num_batch_each)):\n",
    "                temp_x, temp_y = gen.next()\n",
    "                x_cluster_samp[(shift*num_batch_each+i)*32:(shift*num_batch_each+i+1)*32] = temp_x\n",
    "                y_cluster_samp[(shift*num_batch_each+i)*32:(shift*num_batch_each+i+1)*32] = temp_y\n",
    "\n",
    "        preds, stat = fit_cluster(idec, x_cluster_samp, y_cluster_samp, x_cluster_validation, model_name=model_name)\n",
    "        for k, v in stat.items():\n",
    "            stats[k].extend(v)\n",
    "            "
   ]
  },
  {
   "cell_type": "code",
   "execution_count": null,
   "metadata": {},
   "outputs": [],
   "source": [
    "if task == \"MNIST\":\n",
    "    rand_inds = np.random.choice(np.arange(60000), 1200*128)\n",
    "    stats = {\"acc\": [], \"nmi\":[], \"ari\": [], \"mhp\": []}\n",
    "    print(\" Start Joint Training \".center(60, \"-\"), end=\"\\n\\n\")\n",
    "    preds, stat = fit_cluster(idec, x_train[rand_inds], y_train[rand_inds], x_test, model_name=model_name, cold_start=True)\n",
    "    for k, v in stat.items():\n",
    "        stats[k].extend(v)\n",
    "    for i in range(4):\n",
    "        rand_inds = np.random.choice(np.arange(60000), 600*128)\n",
    "        preds, stat = fit_cluster(idec, x_train[rand_inds], y_train[rand_inds], x_test, model_name=model_name)\n",
    "        for k, v in stat.items():\n",
    "            stats[k].extend(v)"
   ]
  },
  {
   "cell_type": "code",
   "execution_count": null,
   "metadata": {},
   "outputs": [],
   "source": [
    "cluster_encoded = encoder.predict(x_train)\n",
    "probs, _ = idec.predict(x_train)\n",
    "y_pred = probs.argmax(1)\n",
    "tsne = manifold.TSNE(n_components=2, init='random', perplexity=5, n_jobs=-1, verbose=1)\n",
    "embedded_samp = tsne.fit_transform(cluster_encoded)"
   ]
  },
  {
   "cell_type": "code",
   "execution_count": null,
   "metadata": {},
   "outputs": [],
   "source": [
    "if task == \"SETI_Narrow_Band\":\n",
    "    threshold = 0.2\n",
    "    print(np.count_nonzero(np.max(probs, axis=1) > threshold))\n",
    "    embedded_samp_save = embedded_samp.copy()"
   ]
  },
  {
   "cell_type": "code",
   "execution_count": null,
   "metadata": {},
   "outputs": [],
   "source": [
    "if task == \"SETI_Narrow_Band\":\n",
    "    y_pred = np.argmax(probs, axis=1)\n",
    "    counts = [(i, np.count_nonzero(y_pred[np.max(probs, axis=1) > threshold] == i)) for i in range(32)]\n",
    "    counts.sort(key=lambda x: x[1], reverse=True)\n",
    "    plt_clusters = counts[:10]\n",
    "    chosen_inds = np.zeros(y_pred.shape)\n",
    "    for c in plt_clusters:\n",
    "        chosen_inds += (y_pred == c[0])\n",
    "    embedded_samp = embedded_samp_save[chosen_inds == 1]\n",
    "    y_train = y_pred[chosen_inds == 1]\n",
    "    for i, c in enumerate(plt_clusters):\n",
    "        y_train[y_train==c[0]] = i"
   ]
  },
  {
   "cell_type": "code",
   "execution_count": null,
   "metadata": {},
   "outputs": [],
   "source": [
    "embedded_x, embedded_y = np.split(embedded_samp, 2, axis=1)\n",
    "plt.scatter(embedded_x, embedded_y, c=[cnames[e] for e in y_train], marker=\"x\")\n",
    "plt.tick_params(\n",
    "    axis='both',          # changes apply to the x-axis\n",
    "    which='both',      # both major and minor ticks are affected\n",
    "    bottom=False,      # ticks along the bottom edge are off\n",
    "    top=False,         # ticks along the top edge are off\n",
    "    left=False,\n",
    "    right=False,\n",
    "    labelleft=False,\n",
    "    labelbottom=False) # labels along the bottom edge are off"
   ]
  },
  {
   "cell_type": "code",
   "execution_count": null,
   "metadata": {},
   "outputs": [],
   "source": [
    "embedded_x, embedded_y = np.split(embedded_samp, 2, axis=1)\n",
    "plt.scatter(embedded_x, embedded_y, c=[cnames[e] for e in y_pred], marker=\"x\")\n",
    "plt.tick_params(\n",
    "    axis='both',          # changes apply to the x-axis\n",
    "    which='both',      # both major and minor ticks are affected\n",
    "    bottom=False,      # ticks along the bottom edge are off\n",
    "    top=False,         # ticks along the top edge are off\n",
    "    left=False,\n",
    "    right=False,\n",
    "    labelleft=False,\n",
    "    labelbottom=False) # labels along the bottom edge are off"
   ]
  },
  {
   "cell_type": "code",
   "execution_count": null,
   "metadata": {},
   "outputs": [],
   "source": [
    "if task == \"MNIST\":\n",
    "    for i in range(5):\n",
    "        rand_inds = np.random.choice(np.arange(60000), 600*128)\n",
    "        preds, stat = fit_cluster(idec, x_train[rand_inds], y_train[rand_inds], x_test, model_name=model_name)\n",
    "        for k, v in stat.items():\n",
    "            stats[k].extend(v)"
   ]
  },
  {
   "cell_type": "code",
   "execution_count": null,
   "metadata": {},
   "outputs": [],
   "source": [
    "if task == \"SETI_Narrow_Band\":\n",
    "    print(\" Start Joint Training \".center(60, \"-\"), end=\"\\n\\n\")\n",
    "    for i in range(5):\n",
    "        num_batch_each = 200\n",
    "        x_cluster_samp = np.empty((num_batch_each*len(dir_names)*32, 16, 200, 1))\n",
    "        y_cluster_samp = np.empty((num_batch_each*len(dir_names)*32))\n",
    "        for shift, directory in enumerate(dir_names):\n",
    "            gen = datagen.flow_from_directory(\n",
    "                directory=f\"../../data/S-band-high/{directory}/filtered\",\n",
    "                target_size=(16, 200),\n",
    "                color_mode=\"grayscale\",\n",
    "                class_mode=\"sparse\"\n",
    "            )\n",
    "            for i in tqdm(range(num_batch_each)):\n",
    "                temp_x, temp_y = gen.next()\n",
    "                x_cluster_samp[(shift*num_batch_each+i)*32:(shift*num_batch_each+i+1)*32] = temp_x\n",
    "                y_cluster_samp[(shift*num_batch_each+i)*32:(shift*num_batch_each+i+1)*32] = temp_y\n",
    "\n",
    "        preds, stat = fit_cluster(idec, x_cluster_samp, y_cluster_samp, x_cluster_validation, model_name=model_name)\n",
    "        for k, v in stat.items():\n",
    "            stats[k].extend(v)\n",
    "            "
   ]
  },
  {
   "cell_type": "code",
   "execution_count": null,
   "metadata": {},
   "outputs": [],
   "source": [
    "cluster_encoded = encoder.predict(x_train)\n",
    "probs, _ = idec.predict(x_train)\n",
    "y_pred = probs.argmax(1)\n",
    "tsne = manifold.TSNE(n_components=2, init='random', perplexity=40, n_jobs=-1, verbose=0)\n",
    "embedded_samp = tsne.fit_transform(cluster_encoded)"
   ]
  },
  {
   "cell_type": "code",
   "execution_count": null,
   "metadata": {},
   "outputs": [],
   "source": [
    "embedded_x, embedded_y = np.split(embedded_samp, 2, axis=1)\n",
    "plt.scatter(embedded_x, embedded_y, c=[cnames[e] for e in y_train], marker=\"x\")\n",
    "plt.tick_params(\n",
    "    axis='both',          # changes apply to the x-axis\n",
    "    which='both',      # both major and minor ticks are affected\n",
    "    bottom=False,      # ticks along the bottom edge are off\n",
    "    top=False,         # ticks along the top edge are off\n",
    "    left=False,\n",
    "    right=False,\n",
    "    labelleft=False,\n",
    "    labelbottom=False) # labels along the bottom edge are off"
   ]
  },
  {
   "cell_type": "code",
   "execution_count": null,
   "metadata": {},
   "outputs": [],
   "source": [
    "import pickle"
   ]
  },
  {
   "cell_type": "code",
   "execution_count": null,
   "metadata": {},
   "outputs": [],
   "source": [
    "with open(f\"{model_name}_stats.pkl\", \"wb\") as f:\n",
    "    pickle.dump(stats, f)"
   ]
  },
  {
   "cell_type": "code",
   "execution_count": 12,
   "metadata": {},
   "outputs": [],
   "source": [
    "stats = pickle.load(open(\"res_idec_stats_last.pkl\", \"rb\"))"
   ]
  },
  {
   "cell_type": "code",
   "execution_count": 13,
   "metadata": {},
   "outputs": [],
   "source": [
    "stats_orig = pickle.load(open(\"idec_orig_stats.pkl\", \"rb\"))"
   ]
  },
  {
   "cell_type": "code",
   "execution_count": 14,
   "metadata": {},
   "outputs": [
    {
     "data": {
      "text/plain": [
       "<matplotlib.legend.Legend at 0x7f1f10dd3be0>"
      ]
     },
     "execution_count": 14,
     "metadata": {},
     "output_type": "execute_result"
    },
    {
     "data": {
      "image/png": "[encoded data removed]",
      "text/plain": [
       "<Figure size 576x360 with 1 Axes>"
      ]
     },
     "metadata": {
      "needs_background": "light"
     },
     "output_type": "display_data"
    }
   ],
   "source": [
    "plt.figure(figsize=(8, 5))\n",
    "plt.plot(stats[\"acc\"][1:16], label=\"Res-IDEC\")\n",
    "plt.plot(stats_orig[\"acc\"][1:16], label=\"IDEC\")\n",
    "plt.xlabel(\"Iterations\")\n",
    "plt.ylabel(\"Accuracy\")\n",
    "plt.xticks(np.arange(1, 16), np.arange(0, 1500, 100))\n",
    "plt.legend()"
   ]
  },
  {
   "cell_type": "code",
   "execution_count": 15,
   "metadata": {},
   "outputs": [
    {
     "data": {
      "text/plain": [
       "<matplotlib.legend.Legend at 0x7f1f48264e10>"
      ]
     },
     "execution_count": 15,
     "metadata": {},
     "output_type": "execute_result"
    },
    {
     "data": {
      "image/png": "[encoded data removed]",
      "text/plain": [
       "<Figure size 576x360 with 1 Axes>"
      ]
     },
     "metadata": {
      "needs_background": "light"
     },
     "output_type": "display_data"
    }
   ],
   "source": [
    "plt.figure(figsize=(8, 5))\n",
    "plt.plot(stats[\"nmi\"][1:16], label=\"Res-IDEC\")\n",
    "plt.plot(stats_orig[\"nmi\"][1:16], label=\"IDEC\")\n",
    "plt.xlabel(\"Iterations\")\n",
    "plt.ylabel(\"NMI\")\n",
    "plt.xticks(np.arange(1, 16), np.arange(0, 1500, 100))\n",
    "plt.legend()"
   ]
  },
  {
   "cell_type": "code",
   "execution_count": 16,
   "metadata": {},
   "outputs": [
    {
     "data": {
      "text/plain": [
       "<matplotlib.legend.Legend at 0x7f1f4814e358>"
      ]
     },
     "execution_count": 16,
     "metadata": {},
     "output_type": "execute_result"
    },
    {
     "data": {
      "image/png": "[encoded data removed]",
      "text/plain": [
       "<Figure size 576x360 with 1 Axes>"
      ]
     },
     "metadata": {
      "needs_background": "light"
     },
     "output_type": "display_data"
    }
   ],
   "source": [
    "plt.figure(figsize=(8, 5))\n",
    "plt.plot(stats[\"mhp\"][1:16], label=\"Res-IDEC\")\n",
    "plt.plot(stats_orig[\"mhp\"][1:16], label=\"IDEC\")\n",
    "plt.xlabel(\"Iterations\")\n",
    "plt.ylabel(\"Maximum Holdout Probability\")\n",
    "plt.xticks(np.arange(1, 16), np.arange(0, 1500, 100))\n",
    "plt.legend()"
   ]
  },
  {
   "cell_type": "code",
   "execution_count": 17,
   "metadata": {},
   "outputs": [
    {
     "data": {
      "text/plain": [
       "(0.87423, 0.76927, 0.30657)"
      ]
     },
     "execution_count": 17,
     "metadata": {},
     "output_type": "execute_result"
    }
   ],
   "source": [
    "max(stats[\"acc\"]), max(stats[\"nmi\"]), max(stats[\"mhp\"])"
   ]
  },
  {
   "cell_type": "code",
   "execution_count": 18,
   "metadata": {},
   "outputs": [
    {
     "data": {
      "text/plain": [
       "(0.76365, 0.63439, 0.35544)"
      ]
     },
     "execution_count": 18,
     "metadata": {},
     "output_type": "execute_result"
    }
   ],
   "source": [
    "max(stats_orig[\"acc\"]), max(stats_orig[\"nmi\"]), max(stats_orig[\"mhp\"])"
   ]
  },
  {
   "cell_type": "code",
   "execution_count": 19,
   "metadata": {},
   "outputs": [],
   "source": [
    "idec.load_weights(f\"models/{task}/res_idec-10-05-20-22:13.h5\")"
   ]
  },
  {
   "cell_type": "code",
   "execution_count": 27,
   "metadata": {},
   "outputs": [],
   "source": [
    "probs, recons = idec.predict(x_cluster_samp, verbose=0)"
   ]
  },
  {
   "cell_type": "code",
   "execution_count": 28,
   "metadata": {},
   "outputs": [],
   "source": [
    "probs_val, recons_val = idec.predict(x_cluster_validation, verbose=0)"
   ]
  },
  {
   "cell_type": "code",
   "execution_count": 29,
   "metadata": {},
   "outputs": [
    {
     "data": {
      "text/plain": [
       "((51200, 32), (12800, 32))"
      ]
     },
     "execution_count": 29,
     "metadata": {},
     "output_type": "execute_result"
    }
   ],
   "source": [
    "probs.shape, probs_val.shape"
   ]
  },
  {
   "cell_type": "code",
   "execution_count": 30,
   "metadata": {},
   "outputs": [],
   "source": [
    "max_probs = np.max(probs, axis=1)\n",
    "max_probs_val = np.max(probs_val, axis=1)"
   ]
  },
  {
   "cell_type": "code",
   "execution_count": 31,
   "metadata": {},
   "outputs": [
    {
     "data": {
      "text/plain": [
       "(0.23382162, 0.24136993)"
      ]
     },
     "execution_count": 31,
     "metadata": {},
     "output_type": "execute_result"
    }
   ],
   "source": [
    "np.mean(max_probs), np.mean(max_probs_val)"
   ]
  },
  {
   "cell_type": "code",
   "execution_count": 134,
   "metadata": {
    "scrolled": true
   },
   "outputs": [
    {
     "name": "stdout",
     "output_type": "stream",
     "text": [
      "[2.208 2.155 1.138 4.422 1.581 4.168 3.324 1.75  0.757 3.645 4.324 1.539\n",
      " 1.066 5.508 3.103 2.271 1.658 9.259 3.    4.835 4.426 3.521 1.97  5.624\n",
      " 5.712 4.936 2.695 0.891 1.404 4.027 1.483 1.601]\n"
     ]
    },
    {
     "data": {
      "image/png": "[encoded data removed]",
      "text/plain": [
       "<Figure size 432x288 with 1 Axes>"
      ]
     },
     "metadata": {
      "needs_background": "light"
     },
     "output_type": "display_data"
    },
    {
     "data": {
      "image/png": "[encoded data removed]",
      "text/plain": [
       "<Figure size 432x288 with 1 Axes>"
      ]
     },
     "metadata": {
      "needs_background": "light"
     },
     "output_type": "display_data"
    }
   ],
   "source": [
    "i = 8\n",
    "np.set_printoptions(precision=3, suppress=True)\n",
    "plt.figure()\n",
    "plt.imshow(x_cluster_samp[i, :, :, 0])\n",
    "plt.figure()\n",
    "plt.imshow(recons[i, :, :, 0])\n",
    "print(probs[i]*100)"
   ]
  },
  {
   "cell_type": "code",
   "execution_count": null,
   "metadata": {},
   "outputs": [],
   "source": [
    "# Save Model\n",
    "from datetime import datetime\n",
    "timestamp = datetime.now().strftime(\"%d-%m-%y-%H:%M\")\n",
    "print(\"timestamp =\", timestamp)\n",
    "\n",
    "model_name = \"cluster_model_64\"\n",
    "# serialize model to JSON\n",
    "model_json = autoencoder.to_json()\n",
    "with open(f\"models/{model_name}-{timestamp}.json\", \"w\") as json_file:\n",
    "    json_file.write(model_json)\n",
    "# serialize weights to HDF5\n",
    "autoencoder.save_weights(f\"models/{model_name}-{timestamp}.h5\")\n",
    "print(\"Saved model to disk\")"
   ]
  },
  {
   "cell_type": "code",
   "execution_count": null,
   "metadata": {},
   "outputs": [],
   "source": [
    "# Load Model\n",
    "with open(\"models/cluster_model-16-04-20-15:46.json\") as file:\n",
    "    loaded_model_json = file.read()\n",
    "autoencoder = keras.models.model_from_json(loaded_model_json)\n",
    "autoencoder.load_weights(\"models/cluster_model-16-04-20-15:46.h5\")\n",
    "print(\"loaded model\")"
   ]
  },
  {
   "cell_type": "code",
   "execution_count": null,
   "metadata": {
    "scrolled": true
   },
   "outputs": [],
   "source": [
    "num_batch_each = 200\n",
    "x_cluster_samp = np.empty((num_batch_each*len(dir_names)*32, 16, 200, 1))\n",
    "y_cluster_samp = np.empty((num_batch_each*len(dir_names)*32))\n",
    "for shift, directory in enumerate(dir_names):\n",
    "    gen = datagen.flow_from_directory(\n",
    "        directory=f\"../../data/S-band/{directory}/filtered\",\n",
    "        target_size=(16, 200),\n",
    "        color_mode=\"grayscale\",\n",
    "        class_mode=\"sparse\"\n",
    "    )\n",
    "    for i in tqdm(range(num_batch_each)):\n",
    "        temp_x, temp_y = gen.next()\n",
    "        x_cluster_samp[(shift*num_batch_each+i)*32:(shift*num_batch_each+i+1)*32] = temp_x\n",
    "        y_cluster_samp[(shift*num_batch_each+i)*32:(shift*num_batch_each+i+1)*32] = temp_y"
   ]
  },
  {
   "cell_type": "code",
   "execution_count": null,
   "metadata": {},
   "outputs": [],
   "source": [
    "encoder = Model(inputs=idec.input, outputs=idec.get_layer(\"encoded\").output)"
   ]
  },
  {
   "cell_type": "code",
   "execution_count": null,
   "metadata": {},
   "outputs": [],
   "source": [
    "from sklearn import manifold\n",
    "import matplotlib.colors as mcolors\n",
    "color_set = mcolors.TABLEAU_COLORS\n",
    "cnames = list(color_set.keys())"
   ]
  },
  {
   "cell_type": "code",
   "execution_count": 34,
   "metadata": {},
   "outputs": [],
   "source": [
    "encoded_samp = encoder.predict(x_cluster_samp)\n",
    "probs, recons = idec.predict(x_cluster_samp)"
   ]
  },
  {
   "cell_type": "code",
   "execution_count": 35,
   "metadata": {},
   "outputs": [
    {
     "name": "stdout",
     "output_type": "stream",
     "text": [
      "[t-SNE] Computing 61 nearest neighbors...\n",
      "[t-SNE] Indexed 51200 samples in 1.469s...\n",
      "[t-SNE] Computed neighbors for 51200 samples in 29.479s...\n",
      "[t-SNE] Computed conditional probabilities for sample 1000 / 51200\n",
      "[t-SNE] Computed conditional probabilities for sample 2000 / 51200\n",
      "[t-SNE] Computed conditional probabilities for sample 3000 / 51200\n",
      "[t-SNE] Computed conditional probabilities for sample 4000 / 51200\n",
      "[t-SNE] Computed conditional probabilities for sample 5000 / 51200\n",
      "[t-SNE] Computed conditional probabilities for sample 6000 / 51200\n",
      "[t-SNE] Computed conditional probabilities for sample 7000 / 51200\n",
      "[t-SNE] Computed conditional probabilities for sample 8000 / 51200\n",
      "[t-SNE] Computed conditional probabilities for sample 9000 / 51200\n",
      "[t-SNE] Computed conditional probabilities for sample 10000 / 51200\n",
      "[t-SNE] Computed conditional probabilities for sample 11000 / 51200\n",
      "[t-SNE] Computed conditional probabilities for sample 12000 / 51200\n",
      "[t-SNE] Computed conditional probabilities for sample 13000 / 51200\n",
      "[t-SNE] Computed conditional probabilities for sample 14000 / 51200\n",
      "[t-SNE] Computed conditional probabilities for sample 15000 / 51200\n",
      "[t-SNE] Computed conditional probabilities for sample 16000 / 51200\n",
      "[t-SNE] Computed conditional probabilities for sample 17000 / 51200\n",
      "[t-SNE] Computed conditional probabilities for sample 18000 / 51200\n",
      "[t-SNE] Computed conditional probabilities for sample 19000 / 51200\n",
      "[t-SNE] Computed conditional probabilities for sample 20000 / 51200\n",
      "[t-SNE] Computed conditional probabilities for sample 21000 / 51200\n",
      "[t-SNE] Computed conditional probabilities for sample 22000 / 51200\n",
      "[t-SNE] Computed conditional probabilities for sample 23000 / 51200\n",
      "[t-SNE] Computed conditional probabilities for sample 24000 / 51200\n",
      "[t-SNE] Computed conditional probabilities for sample 25000 / 51200\n",
      "[t-SNE] Computed conditional probabilities for sample 26000 / 51200\n",
      "[t-SNE] Computed conditional probabilities for sample 27000 / 51200\n",
      "[t-SNE] Computed conditional probabilities for sample 28000 / 51200\n",
      "[t-SNE] Computed conditional probabilities for sample 29000 / 51200\n",
      "[t-SNE] Computed conditional probabilities for sample 30000 / 51200\n",
      "[t-SNE] Computed conditional probabilities for sample 31000 / 51200\n",
      "[t-SNE] Computed conditional probabilities for sample 32000 / 51200\n",
      "[t-SNE] Computed conditional probabilities for sample 33000 / 51200\n",
      "[t-SNE] Computed conditional probabilities for sample 34000 / 51200\n",
      "[t-SNE] Computed conditional probabilities for sample 35000 / 51200\n",
      "[t-SNE] Computed conditional probabilities for sample 36000 / 51200\n",
      "[t-SNE] Computed conditional probabilities for sample 37000 / 51200\n",
      "[t-SNE] Computed conditional probabilities for sample 38000 / 51200\n",
      "[t-SNE] Computed conditional probabilities for sample 39000 / 51200\n",
      "[t-SNE] Computed conditional probabilities for sample 40000 / 51200\n",
      "[t-SNE] Computed conditional probabilities for sample 41000 / 51200\n",
      "[t-SNE] Computed conditional probabilities for sample 42000 / 51200\n",
      "[t-SNE] Computed conditional probabilities for sample 43000 / 51200\n",
      "[t-SNE] Computed conditional probabilities for sample 44000 / 51200\n",
      "[t-SNE] Computed conditional probabilities for sample 45000 / 51200\n",
      "[t-SNE] Computed conditional probabilities for sample 46000 / 51200\n",
      "[t-SNE] Computed conditional probabilities for sample 47000 / 51200\n",
      "[t-SNE] Computed conditional probabilities for sample 48000 / 51200\n",
      "[t-SNE] Computed conditional probabilities for sample 49000 / 51200\n",
      "[t-SNE] Computed conditional probabilities for sample 50000 / 51200\n",
      "[t-SNE] Computed conditional probabilities for sample 51000 / 51200\n",
      "[t-SNE] Computed conditional probabilities for sample 51200 / 51200\n",
      "[t-SNE] Mean sigma: 6.371639\n",
      "[t-SNE] KL divergence after 250 iterations with early exaggeration: 102.753288\n",
      "[t-SNE] KL divergence after 1000 iterations: 3.039525\n"
     ]
    }
   ],
   "source": [
    "tsne = manifold.TSNE(n_components=2, init='random', perplexity=20, n_jobs=-1, verbose=1)\n",
    "embedded_samp = tsne.fit_transform(encoded_samp)"
   ]
  },
  {
   "cell_type": "code",
   "execution_count": 37,
   "metadata": {},
   "outputs": [
    {
     "data": {
      "text/plain": [
       "12875"
      ]
     },
     "execution_count": 37,
     "metadata": {},
     "output_type": "execute_result"
    }
   ],
   "source": [
    "threshold = 0.3\n",
    "np.count_nonzero(np.max(probs, axis=1) > threshold)"
   ]
  },
  {
   "cell_type": "code",
   "execution_count": 38,
   "metadata": {},
   "outputs": [],
   "source": [
    "y_pred = np.argmax(probs, axis=1)\n",
    "y_pred[np.max(probs, axis=1) < threshold] = -1"
   ]
  },
  {
   "cell_type": "code",
   "execution_count": 40,
   "metadata": {},
   "outputs": [
    {
     "data": {
      "text/plain": [
       "[(27, 5384),\n",
       " (8, 3894),\n",
       " (12, 2028),\n",
       " (2, 924),\n",
       " (28, 264),\n",
       " (7, 78),\n",
       " (15, 61),\n",
       " (30, 51),\n",
       " (13, 44),\n",
       " (11, 43),\n",
       " (17, 43),\n",
       " (0, 25),\n",
       " (4, 21),\n",
       " (1, 5),\n",
       " (26, 5),\n",
       " (21, 3),\n",
       " (18, 2),\n",
       " (3, 0),\n",
       " (5, 0),\n",
       " (6, 0),\n",
       " (9, 0),\n",
       " (10, 0),\n",
       " (14, 0),\n",
       " (16, 0),\n",
       " (19, 0),\n",
       " (20, 0),\n",
       " (22, 0),\n",
       " (23, 0),\n",
       " (24, 0),\n",
       " (25, 0),\n",
       " (29, 0),\n",
       " (31, 0)]"
      ]
     },
     "execution_count": 40,
     "metadata": {},
     "output_type": "execute_result"
    }
   ],
   "source": [
    "counts = [(i, np.count_nonzero(y_pred[np.max(probs, axis=1) > threshold] == i)) for i in range(32)]\n",
    "counts.sort(key=lambda x: x[1], reverse=True)\n",
    "plt_clusters = counts[:10]\n",
    "chosen_inds = np.zeros(y_pred.shape)\n",
    "for c in plt_clusters:\n",
    "    chosen_inds += (y_pred == c[0])\n",
    "counts"
   ]
  },
  {
   "cell_type": "code",
   "execution_count": null,
   "metadata": {},
   "outputs": [],
   "source": []
  },
  {
   "cell_type": "code",
   "execution_count": null,
   "metadata": {},
   "outputs": [],
   "source": [
    "embedded_samp_plot = embedded_samp[(y_pred < 11) * (y_pred != -1)]\n",
    "y_pred_plot = y_pred[(y_pred < 11) * (y_pred != -1)]"
   ]
  },
  {
   "cell_type": "code",
   "execution_count": null,
   "metadata": {},
   "outputs": [],
   "source": [
    "pred_counts = {}\n",
    "for class_ind in np.unique(y_pred):\n",
    "    pred_counts[class_ind] = np.count_nonzero(y_pred == class_ind)\n",
    "pred_counts"
   ]
  },
  {
   "cell_type": "code",
   "execution_count": null,
   "metadata": {},
   "outputs": [],
   "source": [
    "list(enumerate(cnames))"
   ]
  },
  {
   "cell_type": "code",
   "execution_count": null,
   "metadata": {},
   "outputs": [],
   "source": [
    "# 2D\n",
    "embedded_x, embedded_y = np.split(embedded_samp_plot, 2, axis=1)\n",
    "plt.scatter(embedded_x, embedded_y, c=[cnames[e] for e in y_pred_plot])\n",
    "\n",
    "# # 3D\n",
    "# fig = plt.figure()\n",
    "# ax = plt.axes(projection='3d')\n",
    "\n",
    "# embedded_x, embedded_y, embedded_z = np.split(embedded_samp, 3, axis=1)\n",
    "# ax.scatter3D(embedded_x, embedded_y, embedded_z)"
   ]
  },
  {
   "cell_type": "code",
   "execution_count": 127,
   "metadata": {},
   "outputs": [],
   "source": [
    "inds = np.arange(y_pred.shape[0])[y_pred == 0]"
   ]
  },
  {
   "cell_type": "code",
   "execution_count": 128,
   "metadata": {},
   "outputs": [
    {
     "data": {
      "image/png": "[encoded data removed]",
      "text/plain": [
       "<Figure size 432x288 with 6 Axes>"
      ]
     },
     "metadata": {
      "needs_background": "light"
     },
     "output_type": "display_data"
    }
   ],
   "source": [
    "sample_inds = np.random.choice(inds, size=6)\n",
    "figure, axes = plt.subplots(nrows=6, ncols=1)\n",
    "plt.subplot(611)\n",
    "plt.imshow(x_cluster_samp[sample_inds[0], :, :, 0])\n",
    "plt.axis(\"off\")\n",
    "plt.subplot(612)\n",
    "plt.imshow(x_cluster_samp[sample_inds[1], :, :, 0])\n",
    "plt.axis(\"off\")\n",
    "plt.subplot(613)\n",
    "plt.imshow(x_cluster_samp[sample_inds[2], :, :, 0])\n",
    "plt.axis(\"off\")\n",
    "plt.subplot(614)\n",
    "plt.imshow(x_cluster_samp[sample_inds[3], :, :, 0])\n",
    "plt.axis(\"off\")\n",
    "plt.subplot(615)\n",
    "plt.imshow(x_cluster_samp[sample_inds[4], :, :, 0])\n",
    "plt.axis(\"off\")\n",
    "plt.subplot(616)\n",
    "plt.imshow(x_cluster_samp[sample_inds[5], :, :, 0])\n",
    "plt.axis(\"off\")\n",
    "figure.tight_layout(pad=3.0)"
   ]
  },
  {
   "cell_type": "code",
   "execution_count": null,
   "metadata": {},
   "outputs": [],
   "source": [
    "import pandas as pd"
   ]
  },
  {
   "cell_type": "code",
   "execution_count": null,
   "metadata": {},
   "outputs": [],
   "source": [
    "gen = datagen.flow_from_directory(\n",
    "    directory=f\"../../data/S-band/GBT_58210_37805_HIP103730_fine/filtered\",\n",
    "    target_size=(16, 200),\n",
    "    color_mode=\"grayscale\",\n",
    "    class_mode=\"input\",\n",
    "    shuffle=False\n",
    ")"
   ]
  },
  {
   "cell_type": "code",
   "execution_count": null,
   "metadata": {
    "scrolled": true
   },
   "outputs": [],
   "source": [
    "x_single_file_samp = np.empty((1000*32, 16, 200, 1))\n",
    "filenames = []\n",
    "for i in tqdm(range(1000)):\n",
    "        temp_x, temp_y = gen.next()\n",
    "        x_single_file_samp[(i)*32:(i+1)*32] = temp_x\n",
    "        idx = (gen.batch_index - 1) * gen.batch_size\n",
    "        filenames.extend(gen.filenames[idx : idx + gen.batch_size])\n"
   ]
  },
  {
   "cell_type": "code",
   "execution_count": null,
   "metadata": {},
   "outputs": [],
   "source": [
    "df = pd.read_pickle(\"../../data/S-band/GBT_58210_37805_HIP103730_fine/info_df.pkl\")\n",
    "df = df.set_index(\"index\")\n",
    "df.sort_index()"
   ]
  },
  {
   "cell_type": "code",
   "execution_count": null,
   "metadata": {},
   "outputs": [],
   "source": [
    "get_ind = lambda name: int(name.split(\"/\")[1].split(\".\")[0])"
   ]
  },
  {
   "cell_type": "code",
   "execution_count": null,
   "metadata": {},
   "outputs": [],
   "source": [
    "frequencies = np.array([df.loc[get_ind(name)][\"freqs\"] for name in filenames])"
   ]
  },
  {
   "cell_type": "code",
   "execution_count": null,
   "metadata": {},
   "outputs": [],
   "source": [
    "probs, recons = idec.predict(x_single_file_samp)"
   ]
  },
  {
   "cell_type": "code",
   "execution_count": null,
   "metadata": {},
   "outputs": [],
   "source": [
    "# check that filenames match\n",
    "test_im = plt.imread(f\"../../data/S-band/GBT_58210_37805_HIP103730_fine/filtered/{filenames[0]}\")\n",
    "plt.figure()\n",
    "plt.imshow(test_im)\n",
    "plt.figure()\n",
    "plt.imshow(x_single_file_samp[0, :, :, 0])"
   ]
  },
  {
   "cell_type": "code",
   "execution_count": null,
   "metadata": {},
   "outputs": [],
   "source": [
    "preds = np.argmax(probs, axis=1)\n",
    "preds.shape, frequencies.shape"
   ]
  },
  {
   "cell_type": "code",
   "execution_count": null,
   "metadata": {},
   "outputs": [],
   "source": [
    "plt_frequencies = []\n",
    "for i in range(0, 11):\n",
    "    if len(frequencies[preds==i]) > 0:\n",
    "        plt_frequencies.append(frequencies[preds==i])"
   ]
  },
  {
   "cell_type": "code",
   "execution_count": null,
   "metadata": {},
   "outputs": [],
   "source": [
    "len(plt_frequencies)"
   ]
  },
  {
   "cell_type": "code",
   "execution_count": null,
   "metadata": {},
   "outputs": [],
   "source": [
    "h = plt.hist(plt_frequencies, bins=20, range=(np.min(frequencies), np.max(frequencies)))\n",
    "plt.yscale(\"log\")"
   ]
  },
  {
   "cell_type": "code",
   "execution_count": null,
   "metadata": {},
   "outputs": [],
   "source": []
  },
  {
   "cell_type": "code",
   "execution_count": null,
   "metadata": {},
   "outputs": [],
   "source": [
    "from sklearn.cluster import DBSCAN\n",
    "from sklearn import metrics\n",
    "from sklearn.datasets import make_blobs\n",
    "from sklearn.preprocessing import StandardScaler"
   ]
  },
  {
   "cell_type": "code",
   "execution_count": null,
   "metadata": {},
   "outputs": [],
   "source": [
    "scaled_samp = StandardScaler().fit_transform(encoded_samp)"
   ]
  },
  {
   "cell_type": "code",
   "execution_count": null,
   "metadata": {},
   "outputs": [],
   "source": [
    "db = DBSCAN(eps=0.5, min_samples=6).fit(scaled_samp)\n",
    "core_samples_mask = np.zeros_like(db.labels_, dtype=bool)\n",
    "core_samples_mask[db.core_sample_indices_] = True\n",
    "labels = db.labels_\n",
    "\n",
    "# Number of clusters in labels, ignoring noise if present.\n",
    "n_clusters_ = len(set(labels)) - (1 if -1 in labels else 0)\n",
    "n_noise_ = list(labels).count(-1)\n",
    "\n",
    "print('Estimated number of clusters: %d' % n_clusters_)\n",
    "print('Estimated number of noise points: %d' % n_noise_)"
   ]
  },
  {
   "cell_type": "code",
   "execution_count": null,
   "metadata": {},
   "outputs": [],
   "source": [
    "print(len(labels))"
   ]
  },
  {
   "cell_type": "code",
   "execution_count": null,
   "metadata": {},
   "outputs": [],
   "source": [
    "inds = np.where(labels==1)[0]\n",
    "print(f\"Number of samples: {len(inds)}\")"
   ]
  },
  {
   "cell_type": "code",
   "execution_count": null,
   "metadata": {},
   "outputs": [],
   "source": [
    "sample_inds = np.random.choice(inds, size=6)\n",
    "figure, axes = plt.subplots(nrows=6, ncols=1)\n",
    "plt.subplot(611)\n",
    "plt.imshow(sample[sample_inds[0], :, :, 0])\n",
    "plt.subplot(612)\n",
    "plt.imshow(sample[sample_inds[1], :, :, 0])\n",
    "plt.subplot(613)\n",
    "plt.imshow(sample[sample_inds[2], :, :, 0])\n",
    "plt.subplot(614)\n",
    "plt.imshow(sample[sample_inds[3], :, :, 0])\n",
    "plt.subplot(615)\n",
    "plt.imshow(sample[sample_inds[4], :, :, 0])\n",
    "plt.subplot(616)\n",
    "plt.imshow(sample[sample_inds[5], :, :, 0])\n",
    "figure.tight_layout(pad=3.0)"
   ]
  },
  {
   "cell_type": "code",
   "execution_count": null,
   "metadata": {},
   "outputs": [],
   "source": []
  }
 ],
 "metadata": {
  "kernelspec": {
   "display_name": "Python 3",
   "language": "python",
   "name": "python3"
  },
  "language_info": {
   "codemirror_mode": {
    "name": "ipython",
    "version": 3
   },
   "file_extension": ".py",
   "mimetype": "text/x-python",
   "name": "python",
   "nbconvert_exporter": "python",
   "pygments_lexer": "ipython3",
   "version": "3.6.9"
  }
 },
 "nbformat": 4,
 "nbformat_minor": 2
}
