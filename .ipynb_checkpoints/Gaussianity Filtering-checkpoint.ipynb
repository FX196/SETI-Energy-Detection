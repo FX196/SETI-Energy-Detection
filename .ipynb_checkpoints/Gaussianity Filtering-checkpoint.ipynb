{
 "cells": [
  {
   "cell_type": "code",
   "execution_count": 9,
   "metadata": {},
   "outputs": [
    {
     "data": {
      "text/html": [
       "<table style=\"border: 2px solid white;\">\n",
       "<tr>\n",
       "<td style=\"vertical-align: top; border: 0px solid white\">\n",
       "<h3 style=\"text-align: left;\">Client</h3>\n",
       "<ul style=\"text-align: left; list-style: none; margin: 0; padding: 0;\">\n",
       "  <li><b>Scheduler: </b>inproc://10.0.0.32/45450/10</li>\n",
       "  <li><b>Dashboard: </b><a href='http://10.0.0.32/45450/10:8787/status' target='_blank'>http://10.0.0.32/45450/10:8787/status</a>\n",
       "</ul>\n",
       "</td>\n",
       "<td style=\"vertical-align: top; border: 0px solid white\">\n",
       "<h3 style=\"text-align: left;\">Cluster</h3>\n",
       "<ul style=\"text-align: left; list-style:none; margin: 0; padding: 0;\">\n",
       "  <li><b>Workers: </b>4</li>\n",
       "  <li><b>Cores: </b>12</li>\n",
       "  <li><b>Memory: </b>32.00 GB</li>\n",
       "</ul>\n",
       "</td>\n",
       "</tr>\n",
       "</table>"
      ],
      "text/plain": [
       "<Client: 'inproc://10.0.0.32/45450/10' processes=4 threads=12, memory=32.00 GB>"
      ]
     },
     "execution_count": 9,
     "metadata": {},
     "output_type": "execute_result"
    }
   ],
   "source": [
    "%matplotlib inline\n",
    "import numpy as np\n",
    "from scipy import stats\n",
    "from blimpy import Waterfall\n",
    "from blimpy.utils import rebin\n",
    "from matplotlib import pyplot as plt\n",
    "from bisect import bisect_left\n",
    "from tqdm import tqdm\n",
    "import dask.array as da\n",
    "import h5py\n",
    "from time import time\n",
    "\n",
    "from utils import *\n",
    "\n",
    "fil_path = \"data/filterbanks/\"\n",
    "h5_path = \"data/h5/\"\n",
    "\n",
    "test_fil = fil_path + \"blc20_guppi_57991_48899_3C161_0007.gpuspec.0000.fil\"\n",
    "\n",
    "fri_obs = h5_path + \"GBT_57532_09539_HIP56445_fine.h5\"\n",
    "\n",
    "plt_args = {\n",
    "            'aspect':'auto',\n",
    "            'origin':'lower',\n",
    "            'rasterized':True,\n",
    "            'interpolation':'nearest',\n",
    "            'cmap':'viridis'\n",
    "            }\n",
    "try:\n",
    "    client.close()\n",
    "except NameError:\n",
    "    pass\n",
    "from dask.distributed import Client, progress\n",
    "client = Client(processes=False, threads_per_worker=3,\n",
    "                n_workers=4, memory_limit='8GB')\n",
    "client"
   ]
  },
  {
   "cell_type": "code",
   "execution_count": 2,
   "metadata": {},
   "outputs": [
    {
     "name": "stdout",
     "output_type": "stream",
     "text": [
      "blimpy.file_wrapper INFO     Skipping loading data ...\n",
      "\n",
      "--- File Info ---\n",
      "b'DIMENSION_LABELS' : [b'frequency' b'feed_id' b'time']\n",
      "     b'az_start' :                              0.0\n",
      "    b'data_type' :                                1\n",
      "         b'fch1' :                    1926.26953125\n",
      "         b'foff' :           -2.835503418452676e-06\n",
      "   b'machine_id' :                               20\n",
      "        b'nbits' :                               32\n",
      "       b'nchans' :                        318230528\n",
      "         b'nifs' :                                1\n",
      "  b'source_name' :                      b'HIP56445'\n",
      "      b'src_dej' :                     3d03m34.006s\n",
      "      b'src_raj' :                    11h34m21.699s\n",
      " b'telescope_id' :                                6\n",
      "        b'tsamp' :                     17.986224128\n",
      "       b'tstart' :                57532.11040509259\n",
      "     b'za_start' :                              0.0\n",
      "\n",
      "Num ints in file :                               16\n",
      "      File shape :               (16, 1, 318230528)\n",
      "--- Selection Info ---\n",
      "Data selection shape :               (16, 1, 318230528)\n",
      "Minimum freq (MHz) :               1023.9257812499999\n",
      "Maximum freq (MHz) :                    1926.26953125\n"
     ]
    },
    {
     "name": "stderr",
     "output_type": "stream",
     "text": [
      "/Users/yuhongc/PycharmProjects/BSRC_Env/lib/python3.6/site-packages/blimpy/file_wrapper.py:326: H5pyDeprecationWarning: The default file mode will change to 'r' (read-only) in h5py 3.0. To suppress this warning, pass the mode you need to h5py.File(), or set the global default h5.get_config().default_file_mode, or set the environment variable H5PY_DEFAULT_READONLY=1. Available modes are: 'r', 'r+', 'w', 'w-'/'x', 'a'. See the docs for details.\n",
      "  self.h5 = h5py.File(self.filename)\n"
     ]
    }
   ],
   "source": [
    "# Show Info\n",
    "wf = Waterfall(fri_obs, load_data=False)\n",
    "wf.info()"
   ]
  },
  {
   "cell_type": "code",
   "execution_count": 3,
   "metadata": {},
   "outputs": [
    {
     "data": {
      "text/plain": [
       "1033216"
      ]
     },
     "execution_count": 3,
     "metadata": {},
     "output_type": "execute_result"
    }
   ],
   "source": [
    "channel_len = np.int(np.round(187.5/64/abs(wf.header[b'foff'])))\n",
    "channel_len"
   ]
  },
  {
   "cell_type": "code",
   "execution_count": null,
   "metadata": {},
   "outputs": [],
   "source": [
    "plt.figure()\n",
    "wf.plot_waterfall(f_start=0, f_stop=1080)"
   ]
  },
  {
   "cell_type": "code",
   "execution_count": null,
   "metadata": {},
   "outputs": [],
   "source": [
    "freqs, data = wf.grab_data(f_start=0, f_stop=1080)\n",
    "print(data.shape)\n",
    "freqs = freqs[::-1]\n",
    "data = data[:,::-1]"
   ]
  },
  {
   "cell_type": "code",
   "execution_count": null,
   "metadata": {},
   "outputs": [],
   "source": [
    "len(freqs)/channel_len"
   ]
  },
  {
   "cell_type": "code",
   "execution_count": null,
   "metadata": {
    "scrolled": false
   },
   "outputs": [],
   "source": [
    "data = data[:, :16 * 1033216]\n",
    "freqs = freqs[:16 * 1033216]\n",
    "\n",
    "integrated = np.sum(data, axis=0)/len(data)\n",
    "for n in np.nonzero(integrated > 10**13):\n",
    "    integrated[n] = (integrated[n-1] + integrated[n+1]) /2\n",
    "plt.figure()\n",
    "plt.plot(freqs, np.log(integrated))\n"
   ]
  },
  {
   "cell_type": "code",
   "execution_count": null,
   "metadata": {},
   "outputs": [],
   "source": [
    "c = 6\n",
    "\n",
    "window = data[:, channel_len*(c):channel_len*(c+1)]\n",
    "plot_segment(np.log(window))"
   ]
  },
  {
   "cell_type": "code",
   "execution_count": null,
   "metadata": {},
   "outputs": [],
   "source": [
    "window"
   ]
  },
  {
   "cell_type": "code",
   "execution_count": null,
   "metadata": {},
   "outputs": [],
   "source": [
    "res = []\n",
    "for chan in tqdm(range(15)):\n",
    "    res.append([])\n",
    "    window = data[:, channel_len*(chan):channel_len*(chan+1)]\n",
    "    window_f = freqs[channel_len*(chan):channel_len*(chan+1)]\n",
    "    for i in range(0, (len(window[0])//200*200), 100):\n",
    "        test_data = window[:, i:i+200]\n",
    "        s, p = norm_test(test_data)\n",
    "        if p < 1e-25:\n",
    "            res[chan].append((window_f[i], s, p))"
   ]
  },
  {
   "cell_type": "code",
   "execution_count": null,
   "metadata": {},
   "outputs": [],
   "source": [
    "from multiprocessing import Pool\n",
    "from time import time\n",
    "\n",
    "import warnings\n",
    "warnings.filterwarnings(\"ignore\")\n",
    "\n",
    "\n",
    "def threshold_hits(chan):\n",
    "    res = list()\n",
    "    window = data[:, channel_len*(chan):channel_len*(chan+1)]\n",
    "    window_f = freqs[channel_len*(chan):channel_len*(chan+1)]\n",
    "    for i in range(0, (len(window[0])//200*200), 100):\n",
    "        test_data = window[:, i:i+200]\n",
    "        s, p = norm_test(test_data)\n",
    "        if p < 1e-25:\n",
    "            res.append((window_f[i], s, p))\n",
    "    return res\n",
    "\n",
    "start = time()\n",
    "with Pool(12) as p:\n",
    "    chan_hits = p.map(threshold_hits, range(16))\n",
    "end = time()\n",
    "print(end-start)"
   ]
  },
  {
   "cell_type": "code",
   "execution_count": null,
   "metadata": {},
   "outputs": [],
   "source": []
  },
  {
   "cell_type": "code",
   "execution_count": null,
   "metadata": {},
   "outputs": [],
   "source": [
    "show_stamp_f(freqs, data, 1025.0100805927195)"
   ]
  },
  {
   "cell_type": "code",
   "execution_count": null,
   "metadata": {},
   "outputs": [],
   "source": [
    "hits = [len(e) for e in chan_hits]\n",
    "print(hits)\n",
    "print(sum(hits))"
   ]
  },
  {
   "cell_type": "code",
   "execution_count": null,
   "metadata": {},
   "outputs": [],
   "source": [
    "sorted_hits = sorted(res[7], key=lambda x: x[2])\n",
    "sorted_hits"
   ]
  },
  {
   "cell_type": "code",
   "execution_count": null,
   "metadata": {},
   "outputs": [],
   "source": [
    "top = [x[0] for x in sorted_hits[:20]]\n",
    "top"
   ]
  },
  {
   "cell_type": "code",
   "execution_count": null,
   "metadata": {
    "scrolled": false
   },
   "outputs": [],
   "source": [
    "for i in top:\n",
    "    print(i)\n",
    "    show_stamp(window, i)"
   ]
  },
  {
   "cell_type": "code",
   "execution_count": null,
   "metadata": {},
   "outputs": [],
   "source": [
    "res[:15]"
   ]
  },
  {
   "cell_type": "code",
   "execution_count": null,
   "metadata": {},
   "outputs": [],
   "source": [
    "plt.figure()\n",
    "plt.imshow(data[:, 8:8+128])"
   ]
  },
  {
   "cell_type": "code",
   "execution_count": null,
   "metadata": {},
   "outputs": [],
   "source": []
  },
  {
   "cell_type": "code",
   "execution_count": null,
   "metadata": {},
   "outputs": [],
   "source": [
    "with open(\"pfb512coef.txt\", \"r\") as f:\n",
    "    coef_file = f.read()"
   ]
  },
  {
   "cell_type": "code",
   "execution_count": null,
   "metadata": {},
   "outputs": [],
   "source": [
    "lines = coef_file.splitlines()\n",
    "filter_coefs = []\n",
    "for line in lines:\n",
    "    filter_coefs.append(float(line))"
   ]
  },
  {
   "cell_type": "code",
   "execution_count": null,
   "metadata": {},
   "outputs": [],
   "source": [
    "coefs = np.array(filter_coefs)/2**17"
   ]
  },
  {
   "cell_type": "code",
   "execution_count": null,
   "metadata": {},
   "outputs": [],
   "source": [
    "plt.figure()\n",
    "plt.plot(coefs)"
   ]
  },
  {
   "cell_type": "code",
   "execution_count": null,
   "metadata": {},
   "outputs": [],
   "source": [
    "from numpy import fft\n",
    "l = 2**16\n",
    "f = fft.fft(coefs, l)\n",
    "plt.figure()\n",
    "plt.plot(np.log(np.abs(f)**2))"
   ]
  },
  {
   "cell_type": "code",
   "execution_count": null,
   "metadata": {},
   "outputs": [],
   "source": []
  },
  {
   "cell_type": "code",
   "execution_count": null,
   "metadata": {
    "scrolled": true
   },
   "outputs": [],
   "source": [
    "stacked = np.reshape(integrated, (15, 1033216))\n",
    "plt.figure()\n",
    "for i in range(15):\n",
    "    plt.plot(np.log(stacked[i]))"
   ]
  },
  {
   "cell_type": "code",
   "execution_count": null,
   "metadata": {},
   "outputs": [],
   "source": [
    "rebined = rebin(stacked, 1, 64)"
   ]
  },
  {
   "cell_type": "code",
   "execution_count": null,
   "metadata": {
    "scrolled": true
   },
   "outputs": [],
   "source": [
    "plt.figure()\n",
    "plt.imshow(np.log(rebined), **plt_args)"
   ]
  },
  {
   "cell_type": "code",
   "execution_count": null,
   "metadata": {},
   "outputs": [],
   "source": [
    "model_shape = np.sum(stacked, axis=0)/15\n",
    "model_shape[model_shape > 10**10] = np.mean(model_shape)"
   ]
  },
  {
   "cell_type": "code",
   "execution_count": null,
   "metadata": {
    "scrolled": true
   },
   "outputs": [],
   "source": [
    "plt.figure()\n",
    "plt.plot(model_shape)"
   ]
  },
  {
   "cell_type": "code",
   "execution_count": null,
   "metadata": {},
   "outputs": [],
   "source": []
  },
  {
   "cell_type": "code",
   "execution_count": 4,
   "metadata": {},
   "outputs": [
    {
     "data": {
      "text/html": [
       "<table>\n",
       "<tr>\n",
       "<td>\n",
       "<table>\n",
       "  <thead>\n",
       "    <tr><td> </td><th> Array </th><th> Chunk </th></tr>\n",
       "  </thead>\n",
       "  <tbody>\n",
       "    <tr><th> Bytes </th><td> 20.37 GB </td> <td> 115.72 MB </td></tr>\n",
       "    <tr><th> Shape </th><td> (16, 1, 318230528) </td> <td> (2, 1, 14465024) </td></tr>\n",
       "    <tr><th> Count </th><td> 177 Tasks </td><td> 176 Chunks </td></tr>\n",
       "    <tr><th> Type </th><td> float32 </td><td> numpy.ndarray </td></tr>\n",
       "  </tbody>\n",
       "</table>\n",
       "</td>\n",
       "<td>\n",
       "<svg width=\"194\" height=\"90\" style=\"stroke:rgb(0,0,0);stroke-width:1\" >\n",
       "\n",
       "  <!-- Horizontal lines -->\n",
       "  <line x1=\"10\" y1=\"0\" x2=\"24\" y2=\"14\" style=\"stroke-width:2\" />\n",
       "  <line x1=\"10\" y1=\"25\" x2=\"24\" y2=\"40\" style=\"stroke-width:2\" />\n",
       "\n",
       "  <!-- Vertical lines -->\n",
       "  <line x1=\"10\" y1=\"0\" x2=\"10\" y2=\"25\" style=\"stroke-width:2\" />\n",
       "  <line x1=\"11\" y1=\"1\" x2=\"11\" y2=\"27\" />\n",
       "  <line x1=\"13\" y1=\"3\" x2=\"13\" y2=\"29\" />\n",
       "  <line x1=\"15\" y1=\"5\" x2=\"15\" y2=\"31\" />\n",
       "  <line x1=\"17\" y1=\"7\" x2=\"17\" y2=\"32\" />\n",
       "  <line x1=\"19\" y1=\"9\" x2=\"19\" y2=\"34\" />\n",
       "  <line x1=\"21\" y1=\"11\" x2=\"21\" y2=\"36\" />\n",
       "  <line x1=\"23\" y1=\"13\" x2=\"23\" y2=\"38\" />\n",
       "  <line x1=\"24\" y1=\"14\" x2=\"24\" y2=\"40\" style=\"stroke-width:2\" />\n",
       "\n",
       "  <!-- Colored Rectangle -->\n",
       "  <polygon points=\"10.000000,0.000000 24.948598,14.948598 24.948598,40.361214 10.000000,25.412617\" style=\"fill:#ECB172A0;stroke-width:0\"/>\n",
       "\n",
       "  <!-- Horizontal lines -->\n",
       "  <line x1=\"10\" y1=\"0\" x2=\"130\" y2=\"0\" style=\"stroke-width:2\" />\n",
       "  <line x1=\"11\" y1=\"1\" x2=\"131\" y2=\"1\" />\n",
       "  <line x1=\"13\" y1=\"3\" x2=\"133\" y2=\"3\" />\n",
       "  <line x1=\"15\" y1=\"5\" x2=\"135\" y2=\"5\" />\n",
       "  <line x1=\"17\" y1=\"7\" x2=\"137\" y2=\"7\" />\n",
       "  <line x1=\"19\" y1=\"9\" x2=\"139\" y2=\"9\" />\n",
       "  <line x1=\"21\" y1=\"11\" x2=\"141\" y2=\"11\" />\n",
       "  <line x1=\"23\" y1=\"13\" x2=\"143\" y2=\"13\" />\n",
       "  <line x1=\"24\" y1=\"14\" x2=\"144\" y2=\"14\" style=\"stroke-width:2\" />\n",
       "\n",
       "  <!-- Vertical lines -->\n",
       "  <line x1=\"10\" y1=\"0\" x2=\"24\" y2=\"14\" style=\"stroke-width:2\" />\n",
       "  <line x1=\"15\" y1=\"0\" x2=\"30\" y2=\"14\" />\n",
       "  <line x1=\"20\" y1=\"0\" x2=\"35\" y2=\"14\" />\n",
       "  <line x1=\"26\" y1=\"0\" x2=\"41\" y2=\"14\" />\n",
       "  <line x1=\"31\" y1=\"0\" x2=\"46\" y2=\"14\" />\n",
       "  <line x1=\"37\" y1=\"0\" x2=\"52\" y2=\"14\" />\n",
       "  <line x1=\"42\" y1=\"0\" x2=\"57\" y2=\"14\" />\n",
       "  <line x1=\"48\" y1=\"0\" x2=\"63\" y2=\"14\" />\n",
       "  <line x1=\"53\" y1=\"0\" x2=\"68\" y2=\"14\" />\n",
       "  <line x1=\"59\" y1=\"0\" x2=\"74\" y2=\"14\" />\n",
       "  <line x1=\"64\" y1=\"0\" x2=\"79\" y2=\"14\" />\n",
       "  <line x1=\"70\" y1=\"0\" x2=\"84\" y2=\"14\" />\n",
       "  <line x1=\"75\" y1=\"0\" x2=\"90\" y2=\"14\" />\n",
       "  <line x1=\"80\" y1=\"0\" x2=\"95\" y2=\"14\" />\n",
       "  <line x1=\"86\" y1=\"0\" x2=\"101\" y2=\"14\" />\n",
       "  <line x1=\"91\" y1=\"0\" x2=\"106\" y2=\"14\" />\n",
       "  <line x1=\"97\" y1=\"0\" x2=\"112\" y2=\"14\" />\n",
       "  <line x1=\"102\" y1=\"0\" x2=\"117\" y2=\"14\" />\n",
       "  <line x1=\"108\" y1=\"0\" x2=\"123\" y2=\"14\" />\n",
       "  <line x1=\"113\" y1=\"0\" x2=\"128\" y2=\"14\" />\n",
       "  <line x1=\"119\" y1=\"0\" x2=\"134\" y2=\"14\" />\n",
       "  <line x1=\"124\" y1=\"0\" x2=\"139\" y2=\"14\" />\n",
       "  <line x1=\"130\" y1=\"0\" x2=\"144\" y2=\"14\" style=\"stroke-width:2\" />\n",
       "\n",
       "  <!-- Colored Rectangle -->\n",
       "  <polygon points=\"10.000000,0.000000 130.000000,0.000000 144.948598,14.948598 24.948598,14.948598\" style=\"fill:#ECB172A0;stroke-width:0\"/>\n",
       "\n",
       "  <!-- Horizontal lines -->\n",
       "  <line x1=\"24\" y1=\"14\" x2=\"144\" y2=\"14\" style=\"stroke-width:2\" />\n",
       "  <line x1=\"24\" y1=\"40\" x2=\"144\" y2=\"40\" style=\"stroke-width:2\" />\n",
       "\n",
       "  <!-- Vertical lines -->\n",
       "  <line x1=\"24\" y1=\"14\" x2=\"24\" y2=\"40\" style=\"stroke-width:2\" />\n",
       "  <line x1=\"30\" y1=\"14\" x2=\"30\" y2=\"40\" />\n",
       "  <line x1=\"35\" y1=\"14\" x2=\"35\" y2=\"40\" />\n",
       "  <line x1=\"41\" y1=\"14\" x2=\"41\" y2=\"40\" />\n",
       "  <line x1=\"46\" y1=\"14\" x2=\"46\" y2=\"40\" />\n",
       "  <line x1=\"52\" y1=\"14\" x2=\"52\" y2=\"40\" />\n",
       "  <line x1=\"57\" y1=\"14\" x2=\"57\" y2=\"40\" />\n",
       "  <line x1=\"63\" y1=\"14\" x2=\"63\" y2=\"40\" />\n",
       "  <line x1=\"68\" y1=\"14\" x2=\"68\" y2=\"40\" />\n",
       "  <line x1=\"74\" y1=\"14\" x2=\"74\" y2=\"40\" />\n",
       "  <line x1=\"79\" y1=\"14\" x2=\"79\" y2=\"40\" />\n",
       "  <line x1=\"84\" y1=\"14\" x2=\"84\" y2=\"40\" />\n",
       "  <line x1=\"90\" y1=\"14\" x2=\"90\" y2=\"40\" />\n",
       "  <line x1=\"95\" y1=\"14\" x2=\"95\" y2=\"40\" />\n",
       "  <line x1=\"101\" y1=\"14\" x2=\"101\" y2=\"40\" />\n",
       "  <line x1=\"106\" y1=\"14\" x2=\"106\" y2=\"40\" />\n",
       "  <line x1=\"112\" y1=\"14\" x2=\"112\" y2=\"40\" />\n",
       "  <line x1=\"117\" y1=\"14\" x2=\"117\" y2=\"40\" />\n",
       "  <line x1=\"123\" y1=\"14\" x2=\"123\" y2=\"40\" />\n",
       "  <line x1=\"128\" y1=\"14\" x2=\"128\" y2=\"40\" />\n",
       "  <line x1=\"134\" y1=\"14\" x2=\"134\" y2=\"40\" />\n",
       "  <line x1=\"139\" y1=\"14\" x2=\"139\" y2=\"40\" />\n",
       "  <line x1=\"144\" y1=\"14\" x2=\"144\" y2=\"40\" style=\"stroke-width:2\" />\n",
       "\n",
       "  <!-- Colored Rectangle -->\n",
       "  <polygon points=\"24.948598,14.948598 144.948598,14.948598 144.948598,40.361214 24.948598,40.361214\" style=\"fill:#ECB172A0;stroke-width:0\"/>\n",
       "\n",
       "  <!-- Text -->\n",
       "  <text x=\"84.948598\" y=\"60.361214\" font-size=\"1.0rem\" font-weight=\"100\" text-anchor=\"middle\" >318230528</text>\n",
       "  <text x=\"164.948598\" y=\"27.654906\" font-size=\"1.0rem\" font-weight=\"100\" text-anchor=\"middle\" transform=\"rotate(0,164.948598,27.654906)\">1</text>\n",
       "  <text x=\"7.474299\" y=\"52.886915\" font-size=\"1.0rem\" font-weight=\"100\" text-anchor=\"middle\" transform=\"rotate(45,7.474299,52.886915)\">16</text>\n",
       "</svg>\n",
       "</td>\n",
       "</tr>\n",
       "</table>"
      ],
      "text/plain": [
       "dask.array<array, shape=(16, 1, 318230528), dtype=float32, chunksize=(2, 1, 14465024), chunktype=numpy.ndarray>"
      ]
     },
     "execution_count": 4,
     "metadata": {},
     "output_type": "execute_result"
    }
   ],
   "source": [
    "h5_file = h5py.File(fri_obs, \"r\")\n",
    "a = da.from_array(h5_file[\"data\"], chunks=(2, 1, channel_len*14))\n",
    "a = a\n",
    "a"
   ]
  },
  {
   "cell_type": "code",
   "execution_count": 5,
   "metadata": {},
   "outputs": [
    {
     "name": "stdout",
     "output_type": "stream",
     "text": [
      "104.68323612213135\n"
     ]
    }
   ],
   "source": [
    "start = time()\n",
    "a.persist()\n",
    "da.to_npy_stack(\"original_a\", a, axis=2)\n",
    "end = time()\n",
    "print(f\"{end-start}\")"
   ]
  },
  {
   "cell_type": "code",
   "execution_count": 11,
   "metadata": {},
   "outputs": [
    {
     "data": {
      "text/html": [
       "<table>\n",
       "<tr>\n",
       "<td>\n",
       "<table>\n",
       "  <thead>\n",
       "    <tr><td> </td><th> Array </th><th> Chunk </th></tr>\n",
       "  </thead>\n",
       "  <tbody>\n",
       "    <tr><th> Bytes </th><td> 20.37 GB </td> <td> 925.76 MB </td></tr>\n",
       "    <tr><th> Shape </th><td> (16, 1, 318230528) </td> <td> (16, 1, 14465024) </td></tr>\n",
       "    <tr><th> Count </th><td> 22 Tasks </td><td> 22 Chunks </td></tr>\n",
       "    <tr><th> Type </th><td> float32 </td><td> numpy.ndarray </td></tr>\n",
       "  </tbody>\n",
       "</table>\n",
       "</td>\n",
       "<td>\n",
       "<svg width=\"194\" height=\"90\" style=\"stroke:rgb(0,0,0);stroke-width:1\" >\n",
       "\n",
       "  <!-- Horizontal lines -->\n",
       "  <line x1=\"10\" y1=\"0\" x2=\"24\" y2=\"14\" style=\"stroke-width:2\" />\n",
       "  <line x1=\"10\" y1=\"25\" x2=\"24\" y2=\"40\" style=\"stroke-width:2\" />\n",
       "\n",
       "  <!-- Vertical lines -->\n",
       "  <line x1=\"10\" y1=\"0\" x2=\"10\" y2=\"25\" style=\"stroke-width:2\" />\n",
       "  <line x1=\"24\" y1=\"14\" x2=\"24\" y2=\"40\" style=\"stroke-width:2\" />\n",
       "\n",
       "  <!-- Colored Rectangle -->\n",
       "  <polygon points=\"10.000000,0.000000 24.948598,14.948598 24.948598,40.361214 10.000000,25.412617\" style=\"fill:#ECB172A0;stroke-width:0\"/>\n",
       "\n",
       "  <!-- Horizontal lines -->\n",
       "  <line x1=\"10\" y1=\"0\" x2=\"130\" y2=\"0\" style=\"stroke-width:2\" />\n",
       "  <line x1=\"24\" y1=\"14\" x2=\"144\" y2=\"14\" style=\"stroke-width:2\" />\n",
       "\n",
       "  <!-- Vertical lines -->\n",
       "  <line x1=\"10\" y1=\"0\" x2=\"24\" y2=\"14\" style=\"stroke-width:2\" />\n",
       "  <line x1=\"15\" y1=\"0\" x2=\"30\" y2=\"14\" />\n",
       "  <line x1=\"20\" y1=\"0\" x2=\"35\" y2=\"14\" />\n",
       "  <line x1=\"26\" y1=\"0\" x2=\"41\" y2=\"14\" />\n",
       "  <line x1=\"31\" y1=\"0\" x2=\"46\" y2=\"14\" />\n",
       "  <line x1=\"37\" y1=\"0\" x2=\"52\" y2=\"14\" />\n",
       "  <line x1=\"42\" y1=\"0\" x2=\"57\" y2=\"14\" />\n",
       "  <line x1=\"48\" y1=\"0\" x2=\"63\" y2=\"14\" />\n",
       "  <line x1=\"53\" y1=\"0\" x2=\"68\" y2=\"14\" />\n",
       "  <line x1=\"59\" y1=\"0\" x2=\"74\" y2=\"14\" />\n",
       "  <line x1=\"64\" y1=\"0\" x2=\"79\" y2=\"14\" />\n",
       "  <line x1=\"70\" y1=\"0\" x2=\"84\" y2=\"14\" />\n",
       "  <line x1=\"75\" y1=\"0\" x2=\"90\" y2=\"14\" />\n",
       "  <line x1=\"80\" y1=\"0\" x2=\"95\" y2=\"14\" />\n",
       "  <line x1=\"86\" y1=\"0\" x2=\"101\" y2=\"14\" />\n",
       "  <line x1=\"91\" y1=\"0\" x2=\"106\" y2=\"14\" />\n",
       "  <line x1=\"97\" y1=\"0\" x2=\"112\" y2=\"14\" />\n",
       "  <line x1=\"102\" y1=\"0\" x2=\"117\" y2=\"14\" />\n",
       "  <line x1=\"108\" y1=\"0\" x2=\"123\" y2=\"14\" />\n",
       "  <line x1=\"113\" y1=\"0\" x2=\"128\" y2=\"14\" />\n",
       "  <line x1=\"119\" y1=\"0\" x2=\"134\" y2=\"14\" />\n",
       "  <line x1=\"124\" y1=\"0\" x2=\"139\" y2=\"14\" />\n",
       "  <line x1=\"130\" y1=\"0\" x2=\"144\" y2=\"14\" style=\"stroke-width:2\" />\n",
       "\n",
       "  <!-- Colored Rectangle -->\n",
       "  <polygon points=\"10.000000,0.000000 130.000000,0.000000 144.948598,14.948598 24.948598,14.948598\" style=\"fill:#ECB172A0;stroke-width:0\"/>\n",
       "\n",
       "  <!-- Horizontal lines -->\n",
       "  <line x1=\"24\" y1=\"14\" x2=\"144\" y2=\"14\" style=\"stroke-width:2\" />\n",
       "  <line x1=\"24\" y1=\"40\" x2=\"144\" y2=\"40\" style=\"stroke-width:2\" />\n",
       "\n",
       "  <!-- Vertical lines -->\n",
       "  <line x1=\"24\" y1=\"14\" x2=\"24\" y2=\"40\" style=\"stroke-width:2\" />\n",
       "  <line x1=\"30\" y1=\"14\" x2=\"30\" y2=\"40\" />\n",
       "  <line x1=\"35\" y1=\"14\" x2=\"35\" y2=\"40\" />\n",
       "  <line x1=\"41\" y1=\"14\" x2=\"41\" y2=\"40\" />\n",
       "  <line x1=\"46\" y1=\"14\" x2=\"46\" y2=\"40\" />\n",
       "  <line x1=\"52\" y1=\"14\" x2=\"52\" y2=\"40\" />\n",
       "  <line x1=\"57\" y1=\"14\" x2=\"57\" y2=\"40\" />\n",
       "  <line x1=\"63\" y1=\"14\" x2=\"63\" y2=\"40\" />\n",
       "  <line x1=\"68\" y1=\"14\" x2=\"68\" y2=\"40\" />\n",
       "  <line x1=\"74\" y1=\"14\" x2=\"74\" y2=\"40\" />\n",
       "  <line x1=\"79\" y1=\"14\" x2=\"79\" y2=\"40\" />\n",
       "  <line x1=\"84\" y1=\"14\" x2=\"84\" y2=\"40\" />\n",
       "  <line x1=\"90\" y1=\"14\" x2=\"90\" y2=\"40\" />\n",
       "  <line x1=\"95\" y1=\"14\" x2=\"95\" y2=\"40\" />\n",
       "  <line x1=\"101\" y1=\"14\" x2=\"101\" y2=\"40\" />\n",
       "  <line x1=\"106\" y1=\"14\" x2=\"106\" y2=\"40\" />\n",
       "  <line x1=\"112\" y1=\"14\" x2=\"112\" y2=\"40\" />\n",
       "  <line x1=\"117\" y1=\"14\" x2=\"117\" y2=\"40\" />\n",
       "  <line x1=\"123\" y1=\"14\" x2=\"123\" y2=\"40\" />\n",
       "  <line x1=\"128\" y1=\"14\" x2=\"128\" y2=\"40\" />\n",
       "  <line x1=\"134\" y1=\"14\" x2=\"134\" y2=\"40\" />\n",
       "  <line x1=\"139\" y1=\"14\" x2=\"139\" y2=\"40\" />\n",
       "  <line x1=\"144\" y1=\"14\" x2=\"144\" y2=\"40\" style=\"stroke-width:2\" />\n",
       "\n",
       "  <!-- Colored Rectangle -->\n",
       "  <polygon points=\"24.948598,14.948598 144.948598,14.948598 144.948598,40.361214 24.948598,40.361214\" style=\"fill:#ECB172A0;stroke-width:0\"/>\n",
       "\n",
       "  <!-- Text -->\n",
       "  <text x=\"84.948598\" y=\"60.361214\" font-size=\"1.0rem\" font-weight=\"100\" text-anchor=\"middle\" >318230528</text>\n",
       "  <text x=\"164.948598\" y=\"27.654906\" font-size=\"1.0rem\" font-weight=\"100\" text-anchor=\"middle\" transform=\"rotate(0,164.948598,27.654906)\">1</text>\n",
       "  <text x=\"7.474299\" y=\"52.886915\" font-size=\"1.0rem\" font-weight=\"100\" text-anchor=\"middle\" transform=\"rotate(45,7.474299,52.886915)\">16</text>\n",
       "</svg>\n",
       "</td>\n",
       "</tr>\n",
       "</table>"
      ],
      "text/plain": [
       "dask.array<from-npy-stack, shape=(16, 1, 318230528), dtype=float32, chunksize=(16, 1, 14465024), chunktype=numpy.ndarray>"
      ]
     },
     "execution_count": 11,
     "metadata": {},
     "output_type": "execute_result"
    }
   ],
   "source": [
    "a = da.from_npy_stack(\"original_a\")\n",
    "a"
   ]
  },
  {
   "cell_type": "code",
   "execution_count": 12,
   "metadata": {},
   "outputs": [
    {
     "name": "stderr",
     "output_type": "stream",
     "text": [
      "distributed.worker - WARNING - Memory use is high but worker has no data to store to disk.  Perhaps some other process is leaking memory?  Process memory: 5.66 GB -- Worker memory limit: 8.00 GB\n",
      "distributed.worker - WARNING - Memory use is high but worker has no data to store to disk.  Perhaps some other process is leaking memory?  Process memory: 5.66 GB -- Worker memory limit: 8.00 GB\n",
      "distributed.worker - WARNING - Memory use is high but worker has no data to store to disk.  Perhaps some other process is leaking memory?  Process memory: 5.66 GB -- Worker memory limit: 8.00 GB\n",
      "distributed.worker - WARNING - Memory use is high but worker has no data to store to disk.  Perhaps some other process is leaking memory?  Process memory: 5.67 GB -- Worker memory limit: 8.00 GB\n",
      "distributed.worker - WARNING - Memory use is high but worker has no data to store to disk.  Perhaps some other process is leaking memory?  Process memory: 6.02 GB -- Worker memory limit: 8.00 GB\n",
      "distributed.worker - WARNING - Memory use is high but worker has no data to store to disk.  Perhaps some other process is leaking memory?  Process memory: 6.02 GB -- Worker memory limit: 8.00 GB\n",
      "distributed.worker - WARNING - Memory use is high but worker has no data to store to disk.  Perhaps some other process is leaking memory?  Process memory: 6.02 GB -- Worker memory limit: 8.00 GB\n",
      "distributed.worker - WARNING - Memory use is high but worker has no data to store to disk.  Perhaps some other process is leaking memory?  Process memory: 6.02 GB -- Worker memory limit: 8.00 GB\n",
      "distributed.worker - WARNING - Memory use is high but worker has no data to store to disk.  Perhaps some other process is leaking memory?  Process memory: 6.39 GB -- Worker memory limit: 8.00 GB\n",
      "distributed.worker - WARNING - Memory use is high but worker has no data to store to disk.  Perhaps some other process is leaking memory?  Process memory: 6.40 GB -- Worker memory limit: 8.00 GB\n",
      "distributed.worker - WARNING - Memory use is high but worker has no data to store to disk.  Perhaps some other process is leaking memory?  Process memory: 6.40 GB -- Worker memory limit: 8.00 GB\n",
      "distributed.worker - WARNING - Memory use is high but worker has no data to store to disk.  Perhaps some other process is leaking memory?  Process memory: 6.40 GB -- Worker memory limit: 8.00 GB\n",
      "distributed.worker - WARNING - Worker is at 84% memory usage. Pausing worker.  Process memory: 6.93 GB -- Worker memory limit: 8.00 GB\n",
      "distributed.worker - WARNING - Memory use is high but worker has no data to store to disk.  Perhaps some other process is leaking memory?  Process memory: 6.93 GB -- Worker memory limit: 8.00 GB\n",
      "distributed.worker - WARNING - Worker is at 86% memory usage. Pausing worker.  Process memory: 7.08 GB -- Worker memory limit: 8.00 GB\n",
      "distributed.worker - WARNING - Memory use is high but worker has no data to store to disk.  Perhaps some other process is leaking memory?  Process memory: 7.08 GB -- Worker memory limit: 8.00 GB\n",
      "distributed.worker - WARNING - Worker is at 88% memory usage. Pausing worker.  Process memory: 7.23 GB -- Worker memory limit: 8.00 GB\n",
      "distributed.worker - WARNING - Memory use is high but worker has no data to store to disk.  Perhaps some other process is leaking memory?  Process memory: 7.24 GB -- Worker memory limit: 8.00 GB\n",
      "distributed.worker - WARNING - Worker is at 90% memory usage. Pausing worker.  Process memory: 7.38 GB -- Worker memory limit: 8.00 GB\n",
      "distributed.worker - WARNING - Memory use is high but worker has no data to store to disk.  Perhaps some other process is leaking memory?  Process memory: 7.38 GB -- Worker memory limit: 8.00 GB\n",
      "distributed.worker - WARNING - Memory use is high but worker has no data to store to disk.  Perhaps some other process is leaking memory?  Process memory: 7.39 GB -- Worker memory limit: 8.00 GB\n",
      "distributed.worker - WARNING - Memory use is high but worker has no data to store to disk.  Perhaps some other process is leaking memory?  Process memory: 7.39 GB -- Worker memory limit: 8.00 GB\n",
      "distributed.worker - WARNING - Memory use is high but worker has no data to store to disk.  Perhaps some other process is leaking memory?  Process memory: 7.39 GB -- Worker memory limit: 8.00 GB\n",
      "distributed.worker - WARNING - Memory use is high but worker has no data to store to disk.  Perhaps some other process is leaking memory?  Process memory: 7.39 GB -- Worker memory limit: 8.00 GB\n",
      "distributed.worker - WARNING - Memory use is high but worker has no data to store to disk.  Perhaps some other process is leaking memory?  Process memory: 7.52 GB -- Worker memory limit: 8.00 GB\n",
      "distributed.worker - WARNING - Memory use is high but worker has no data to store to disk.  Perhaps some other process is leaking memory?  Process memory: 7.52 GB -- Worker memory limit: 8.00 GB\n",
      "distributed.worker - WARNING - Memory use is high but worker has no data to store to disk.  Perhaps some other process is leaking memory?  Process memory: 7.52 GB -- Worker memory limit: 8.00 GB\n",
      "distributed.worker - WARNING - Memory use is high but worker has no data to store to disk.  Perhaps some other process is leaking memory?  Process memory: 7.52 GB -- Worker memory limit: 8.00 GB\n",
      "distributed.worker - WARNING - Memory use is high but worker has no data to store to disk.  Perhaps some other process is leaking memory?  Process memory: 7.90 GB -- Worker memory limit: 8.00 GB\n",
      "distributed.worker - WARNING - Memory use is high but worker has no data to store to disk.  Perhaps some other process is leaking memory?  Process memory: 7.90 GB -- Worker memory limit: 8.00 GB\n",
      "distributed.worker - WARNING - Memory use is high but worker has no data to store to disk.  Perhaps some other process is leaking memory?  Process memory: 7.90 GB -- Worker memory limit: 8.00 GB\n",
      "distributed.worker - WARNING - Memory use is high but worker has no data to store to disk.  Perhaps some other process is leaking memory?  Process memory: 7.90 GB -- Worker memory limit: 8.00 GB\n",
      "distributed.worker - WARNING - Memory use is high but worker has no data to store to disk.  Perhaps some other process is leaking memory?  Process memory: 8.27 GB -- Worker memory limit: 8.00 GB\n",
      "distributed.worker - WARNING - Memory use is high but worker has no data to store to disk.  Perhaps some other process is leaking memory?  Process memory: 8.28 GB -- Worker memory limit: 8.00 GB\n",
      "distributed.worker - WARNING - Memory use is high but worker has no data to store to disk.  Perhaps some other process is leaking memory?  Process memory: 8.28 GB -- Worker memory limit: 8.00 GB\n",
      "distributed.worker - WARNING - Memory use is high but worker has no data to store to disk.  Perhaps some other process is leaking memory?  Process memory: 8.28 GB -- Worker memory limit: 8.00 GB\n",
      "distributed.worker - WARNING - Memory use is high but worker has no data to store to disk.  Perhaps some other process is leaking memory?  Process memory: 8.64 GB -- Worker memory limit: 8.00 GB\n",
      "distributed.worker - WARNING - Memory use is high but worker has no data to store to disk.  Perhaps some other process is leaking memory?  Process memory: 8.65 GB -- Worker memory limit: 8.00 GB\n",
      "distributed.worker - WARNING - Memory use is high but worker has no data to store to disk.  Perhaps some other process is leaking memory?  Process memory: 8.65 GB -- Worker memory limit: 8.00 GB\n",
      "distributed.worker - WARNING - Memory use is high but worker has no data to store to disk.  Perhaps some other process is leaking memory?  Process memory: 8.65 GB -- Worker memory limit: 8.00 GB\n",
      "distributed.worker - WARNING - Memory use is high but worker has no data to store to disk.  Perhaps some other process is leaking memory?  Process memory: 8.83 GB -- Worker memory limit: 8.00 GB\n",
      "distributed.worker - WARNING - Memory use is high but worker has no data to store to disk.  Perhaps some other process is leaking memory?  Process memory: 8.83 GB -- Worker memory limit: 8.00 GB\n",
      "distributed.worker - WARNING - Memory use is high but worker has no data to store to disk.  Perhaps some other process is leaking memory?  Process memory: 8.83 GB -- Worker memory limit: 8.00 GB\n",
      "distributed.worker - WARNING - Memory use is high but worker has no data to store to disk.  Perhaps some other process is leaking memory?  Process memory: 8.83 GB -- Worker memory limit: 8.00 GB\n"
     ]
    },
    {
     "name": "stderr",
     "output_type": "stream",
     "text": [
      "distributed.worker - WARNING - Memory use is high but worker has no data to store to disk.  Perhaps some other process is leaking memory?  Process memory: 8.83 GB -- Worker memory limit: 8.00 GB\n",
      "distributed.worker - WARNING - Memory use is high but worker has no data to store to disk.  Perhaps some other process is leaking memory?  Process memory: 8.84 GB -- Worker memory limit: 8.00 GB\n",
      "distributed.worker - WARNING - Memory use is high but worker has no data to store to disk.  Perhaps some other process is leaking memory?  Process memory: 8.84 GB -- Worker memory limit: 8.00 GB\n",
      "distributed.worker - WARNING - Memory use is high but worker has no data to store to disk.  Perhaps some other process is leaking memory?  Process memory: 8.83 GB -- Worker memory limit: 8.00 GB\n",
      "distributed.worker - WARNING - Memory use is high but worker has no data to store to disk.  Perhaps some other process is leaking memory?  Process memory: 8.83 GB -- Worker memory limit: 8.00 GB\n",
      "distributed.worker - WARNING - Memory use is high but worker has no data to store to disk.  Perhaps some other process is leaking memory?  Process memory: 8.84 GB -- Worker memory limit: 8.00 GB\n",
      "distributed.worker - WARNING - Memory use is high but worker has no data to store to disk.  Perhaps some other process is leaking memory?  Process memory: 8.83 GB -- Worker memory limit: 8.00 GB\n",
      "distributed.worker - WARNING - Memory use is high but worker has no data to store to disk.  Perhaps some other process is leaking memory?  Process memory: 8.83 GB -- Worker memory limit: 8.00 GB\n",
      "distributed.worker - WARNING - Memory use is high but worker has no data to store to disk.  Perhaps some other process is leaking memory?  Process memory: 8.83 GB -- Worker memory limit: 8.00 GB\n",
      "distributed.worker - WARNING - Memory use is high but worker has no data to store to disk.  Perhaps some other process is leaking memory?  Process memory: 8.83 GB -- Worker memory limit: 8.00 GB\n",
      "distributed.worker - WARNING - Memory use is high but worker has no data to store to disk.  Perhaps some other process is leaking memory?  Process memory: 8.83 GB -- Worker memory limit: 8.00 GB\n",
      "distributed.worker - WARNING - Memory use is high but worker has no data to store to disk.  Perhaps some other process is leaking memory?  Process memory: 8.83 GB -- Worker memory limit: 8.00 GB\n",
      "distributed.worker - WARNING - Memory use is high but worker has no data to store to disk.  Perhaps some other process is leaking memory?  Process memory: 8.83 GB -- Worker memory limit: 8.00 GB\n",
      "distributed.worker - WARNING - Memory use is high but worker has no data to store to disk.  Perhaps some other process is leaking memory?  Process memory: 8.83 GB -- Worker memory limit: 8.00 GB\n",
      "distributed.worker - WARNING - Memory use is high but worker has no data to store to disk.  Perhaps some other process is leaking memory?  Process memory: 8.83 GB -- Worker memory limit: 8.00 GB\n",
      "distributed.worker - WARNING - Memory use is high but worker has no data to store to disk.  Perhaps some other process is leaking memory?  Process memory: 8.83 GB -- Worker memory limit: 8.00 GB\n",
      "distributed.worker - WARNING - Memory use is high but worker has no data to store to disk.  Perhaps some other process is leaking memory?  Process memory: 8.83 GB -- Worker memory limit: 8.00 GB\n",
      "distributed.worker - WARNING - Memory use is high but worker has no data to store to disk.  Perhaps some other process is leaking memory?  Process memory: 8.83 GB -- Worker memory limit: 8.00 GB\n",
      "distributed.worker - WARNING - Memory use is high but worker has no data to store to disk.  Perhaps some other process is leaking memory?  Process memory: 8.83 GB -- Worker memory limit: 8.00 GB\n",
      "distributed.worker - WARNING - Memory use is high but worker has no data to store to disk.  Perhaps some other process is leaking memory?  Process memory: 8.82 GB -- Worker memory limit: 8.00 GB\n",
      "distributed.worker - WARNING - Memory use is high but worker has no data to store to disk.  Perhaps some other process is leaking memory?  Process memory: 8.82 GB -- Worker memory limit: 8.00 GB\n",
      "distributed.worker - WARNING - Memory use is high but worker has no data to store to disk.  Perhaps some other process is leaking memory?  Process memory: 8.82 GB -- Worker memory limit: 8.00 GB\n",
      "distributed.worker - WARNING - Memory use is high but worker has no data to store to disk.  Perhaps some other process is leaking memory?  Process memory: 8.82 GB -- Worker memory limit: 8.00 GB\n",
      "distributed.worker - WARNING - Memory use is high but worker has no data to store to disk.  Perhaps some other process is leaking memory?  Process memory: 8.83 GB -- Worker memory limit: 8.00 GB\n",
      "distributed.worker - WARNING - Memory use is high but worker has no data to store to disk.  Perhaps some other process is leaking memory?  Process memory: 8.83 GB -- Worker memory limit: 8.00 GB\n",
      "distributed.worker - WARNING - Memory use is high but worker has no data to store to disk.  Perhaps some other process is leaking memory?  Process memory: 8.83 GB -- Worker memory limit: 8.00 GB\n",
      "distributed.worker - WARNING - Memory use is high but worker has no data to store to disk.  Perhaps some other process is leaking memory?  Process memory: 8.83 GB -- Worker memory limit: 8.00 GB\n",
      "distributed.worker - WARNING - Memory use is high but worker has no data to store to disk.  Perhaps some other process is leaking memory?  Process memory: 8.82 GB -- Worker memory limit: 8.00 GB\n",
      "distributed.worker - WARNING - Memory use is high but worker has no data to store to disk.  Perhaps some other process is leaking memory?  Process memory: 8.82 GB -- Worker memory limit: 8.00 GB\n",
      "distributed.worker - WARNING - Memory use is high but worker has no data to store to disk.  Perhaps some other process is leaking memory?  Process memory: 8.82 GB -- Worker memory limit: 8.00 GB\n",
      "distributed.worker - WARNING - Memory use is high but worker has no data to store to disk.  Perhaps some other process is leaking memory?  Process memory: 8.82 GB -- Worker memory limit: 8.00 GB\n",
      "distributed.worker - WARNING - Memory use is high but worker has no data to store to disk.  Perhaps some other process is leaking memory?  Process memory: 8.82 GB -- Worker memory limit: 8.00 GB\n",
      "distributed.worker - WARNING - Memory use is high but worker has no data to store to disk.  Perhaps some other process is leaking memory?  Process memory: 8.82 GB -- Worker memory limit: 8.00 GB\n",
      "distributed.worker - WARNING - Memory use is high but worker has no data to store to disk.  Perhaps some other process is leaking memory?  Process memory: 8.82 GB -- Worker memory limit: 8.00 GB\n",
      "distributed.worker - WARNING - Memory use is high but worker has no data to store to disk.  Perhaps some other process is leaking memory?  Process memory: 8.82 GB -- Worker memory limit: 8.00 GB\n",
      "distributed.worker - WARNING - Memory use is high but worker has no data to store to disk.  Perhaps some other process is leaking memory?  Process memory: 6.86 GB -- Worker memory limit: 8.00 GB\n",
      "distributed.worker - WARNING - Memory use is high but worker has no data to store to disk.  Perhaps some other process is leaking memory?  Process memory: 6.86 GB -- Worker memory limit: 8.00 GB\n",
      "distributed.worker - WARNING - Memory use is high but worker has no data to store to disk.  Perhaps some other process is leaking memory?  Process memory: 6.86 GB -- Worker memory limit: 8.00 GB\n",
      "distributed.worker - WARNING - Memory use is high but worker has no data to store to disk.  Perhaps some other process is leaking memory?  Process memory: 6.86 GB -- Worker memory limit: 8.00 GB\n",
      "distributed.worker - WARNING - Worker is at 12% memory usage. Resuming worker. Process memory: 992.94 MB -- Worker memory limit: 8.00 GB\n",
      "distributed.worker - WARNING - Worker is at 12% memory usage. Resuming worker. Process memory: 992.94 MB -- Worker memory limit: 8.00 GB\n",
      "distributed.worker - WARNING - Worker is at 12% memory usage. Resuming worker. Process memory: 992.94 MB -- Worker memory limit: 8.00 GB\n",
      "distributed.worker - WARNING - Worker is at 12% memory usage. Resuming worker. Process memory: 992.94 MB -- Worker memory limit: 8.00 GB\n",
      "distributed.worker - WARNING - Memory use is high but worker has no data to store to disk.  Perhaps some other process is leaking memory?  Process memory: 5.88 GB -- Worker memory limit: 8.00 GB\n"
     ]
    },
    {
     "name": "stderr",
     "output_type": "stream",
     "text": [
      "distributed.worker - WARNING - Memory use is high but worker has no data to store to disk.  Perhaps some other process is leaking memory?  Process memory: 5.88 GB -- Worker memory limit: 8.00 GB\n",
      "distributed.worker - WARNING - Memory use is high but worker has no data to store to disk.  Perhaps some other process is leaking memory?  Process memory: 5.89 GB -- Worker memory limit: 8.00 GB\n",
      "distributed.worker - WARNING - Memory use is high but worker has no data to store to disk.  Perhaps some other process is leaking memory?  Process memory: 5.89 GB -- Worker memory limit: 8.00 GB\n",
      "distributed.worker - WARNING - Memory use is high but worker has no data to store to disk.  Perhaps some other process is leaking memory?  Process memory: 6.21 GB -- Worker memory limit: 8.00 GB\n",
      "distributed.worker - WARNING - Memory use is high but worker has no data to store to disk.  Perhaps some other process is leaking memory?  Process memory: 6.21 GB -- Worker memory limit: 8.00 GB\n",
      "distributed.worker - WARNING - Memory use is high but worker has no data to store to disk.  Perhaps some other process is leaking memory?  Process memory: 6.21 GB -- Worker memory limit: 8.00 GB\n",
      "distributed.worker - WARNING - Memory use is high but worker has no data to store to disk.  Perhaps some other process is leaking memory?  Process memory: 6.21 GB -- Worker memory limit: 8.00 GB\n",
      "distributed.worker - WARNING - Worker is at 81% memory usage. Pausing worker.  Process memory: 6.65 GB -- Worker memory limit: 8.00 GB\n",
      "distributed.worker - WARNING - Memory use is high but worker has no data to store to disk.  Perhaps some other process is leaking memory?  Process memory: 6.65 GB -- Worker memory limit: 8.00 GB\n",
      "distributed.worker - WARNING - Worker is at 83% memory usage. Pausing worker.  Process memory: 6.65 GB -- Worker memory limit: 8.00 GB\n",
      "distributed.worker - WARNING - Memory use is high but worker has no data to store to disk.  Perhaps some other process is leaking memory?  Process memory: 6.65 GB -- Worker memory limit: 8.00 GB\n",
      "distributed.worker - WARNING - Worker is at 83% memory usage. Pausing worker.  Process memory: 6.65 GB -- Worker memory limit: 8.00 GB\n",
      "distributed.worker - WARNING - Memory use is high but worker has no data to store to disk.  Perhaps some other process is leaking memory?  Process memory: 6.65 GB -- Worker memory limit: 8.00 GB\n",
      "distributed.worker - WARNING - Worker is at 83% memory usage. Pausing worker.  Process memory: 6.65 GB -- Worker memory limit: 8.00 GB\n",
      "distributed.worker - WARNING - Memory use is high but worker has no data to store to disk.  Perhaps some other process is leaking memory?  Process memory: 6.65 GB -- Worker memory limit: 8.00 GB\n",
      "distributed.worker - WARNING - Memory use is high but worker has no data to store to disk.  Perhaps some other process is leaking memory?  Process memory: 6.84 GB -- Worker memory limit: 8.00 GB\n",
      "distributed.worker - WARNING - Memory use is high but worker has no data to store to disk.  Perhaps some other process is leaking memory?  Process memory: 6.84 GB -- Worker memory limit: 8.00 GB\n",
      "distributed.worker - WARNING - Memory use is high but worker has no data to store to disk.  Perhaps some other process is leaking memory?  Process memory: 6.84 GB -- Worker memory limit: 8.00 GB\n",
      "distributed.worker - WARNING - Memory use is high but worker has no data to store to disk.  Perhaps some other process is leaking memory?  Process memory: 6.84 GB -- Worker memory limit: 8.00 GB\n",
      "distributed.worker - WARNING - Memory use is high but worker has no data to store to disk.  Perhaps some other process is leaking memory?  Process memory: 7.15 GB -- Worker memory limit: 8.00 GB\n",
      "distributed.worker - WARNING - Memory use is high but worker has no data to store to disk.  Perhaps some other process is leaking memory?  Process memory: 7.16 GB -- Worker memory limit: 8.00 GB\n",
      "distributed.worker - WARNING - Memory use is high but worker has no data to store to disk.  Perhaps some other process is leaking memory?  Process memory: 7.16 GB -- Worker memory limit: 8.00 GB\n",
      "distributed.worker - WARNING - Memory use is high but worker has no data to store to disk.  Perhaps some other process is leaking memory?  Process memory: 7.16 GB -- Worker memory limit: 8.00 GB\n",
      "distributed.worker - WARNING - Memory use is high but worker has no data to store to disk.  Perhaps some other process is leaking memory?  Process memory: 7.48 GB -- Worker memory limit: 8.00 GB\n",
      "distributed.worker - WARNING - Memory use is high but worker has no data to store to disk.  Perhaps some other process is leaking memory?  Process memory: 7.48 GB -- Worker memory limit: 8.00 GB\n",
      "distributed.worker - WARNING - Memory use is high but worker has no data to store to disk.  Perhaps some other process is leaking memory?  Process memory: 7.48 GB -- Worker memory limit: 8.00 GB\n",
      "distributed.worker - WARNING - Memory use is high but worker has no data to store to disk.  Perhaps some other process is leaking memory?  Process memory: 7.48 GB -- Worker memory limit: 8.00 GB\n",
      "distributed.worker - WARNING - Memory use is high but worker has no data to store to disk.  Perhaps some other process is leaking memory?  Process memory: 7.81 GB -- Worker memory limit: 8.00 GB\n",
      "distributed.worker - WARNING - Memory use is high but worker has no data to store to disk.  Perhaps some other process is leaking memory?  Process memory: 7.81 GB -- Worker memory limit: 8.00 GB\n",
      "distributed.worker - WARNING - Memory use is high but worker has no data to store to disk.  Perhaps some other process is leaking memory?  Process memory: 7.81 GB -- Worker memory limit: 8.00 GB\n",
      "distributed.worker - WARNING - Memory use is high but worker has no data to store to disk.  Perhaps some other process is leaking memory?  Process memory: 7.81 GB -- Worker memory limit: 8.00 GB\n",
      "distributed.worker - WARNING - Memory use is high but worker has no data to store to disk.  Perhaps some other process is leaking memory?  Process memory: 8.12 GB -- Worker memory limit: 8.00 GB\n",
      "distributed.worker - WARNING - Memory use is high but worker has no data to store to disk.  Perhaps some other process is leaking memory?  Process memory: 8.12 GB -- Worker memory limit: 8.00 GB\n",
      "distributed.worker - WARNING - Memory use is high but worker has no data to store to disk.  Perhaps some other process is leaking memory?  Process memory: 8.12 GB -- Worker memory limit: 8.00 GB\n",
      "distributed.worker - WARNING - Memory use is high but worker has no data to store to disk.  Perhaps some other process is leaking memory?  Process memory: 8.12 GB -- Worker memory limit: 8.00 GB\n",
      "distributed.worker - WARNING - Memory use is high but worker has no data to store to disk.  Perhaps some other process is leaking memory?  Process memory: 8.43 GB -- Worker memory limit: 8.00 GB\n",
      "distributed.worker - WARNING - Memory use is high but worker has no data to store to disk.  Perhaps some other process is leaking memory?  Process memory: 8.43 GB -- Worker memory limit: 8.00 GB\n",
      "distributed.worker - WARNING - Memory use is high but worker has no data to store to disk.  Perhaps some other process is leaking memory?  Process memory: 8.43 GB -- Worker memory limit: 8.00 GB\n",
      "distributed.worker - WARNING - Memory use is high but worker has no data to store to disk.  Perhaps some other process is leaking memory?  Process memory: 8.43 GB -- Worker memory limit: 8.00 GB\n",
      "distributed.worker - WARNING - Memory use is high but worker has no data to store to disk.  Perhaps some other process is leaking memory?  Process memory: 8.74 GB -- Worker memory limit: 8.00 GB\n",
      "distributed.worker - WARNING - Memory use is high but worker has no data to store to disk.  Perhaps some other process is leaking memory?  Process memory: 8.74 GB -- Worker memory limit: 8.00 GB\n",
      "distributed.worker - WARNING - Memory use is high but worker has no data to store to disk.  Perhaps some other process is leaking memory?  Process memory: 8.74 GB -- Worker memory limit: 8.00 GB\n",
      "distributed.worker - WARNING - Memory use is high but worker has no data to store to disk.  Perhaps some other process is leaking memory?  Process memory: 8.74 GB -- Worker memory limit: 8.00 GB\n",
      "distributed.worker - WARNING - Memory use is high but worker has no data to store to disk.  Perhaps some other process is leaking memory?  Process memory: 8.74 GB -- Worker memory limit: 8.00 GB\n"
     ]
    },
    {
     "name": "stderr",
     "output_type": "stream",
     "text": [
      "distributed.worker - WARNING - Memory use is high but worker has no data to store to disk.  Perhaps some other process is leaking memory?  Process memory: 8.74 GB -- Worker memory limit: 8.00 GB\n",
      "distributed.worker - WARNING - Memory use is high but worker has no data to store to disk.  Perhaps some other process is leaking memory?  Process memory: 8.74 GB -- Worker memory limit: 8.00 GB\n",
      "distributed.worker - WARNING - Memory use is high but worker has no data to store to disk.  Perhaps some other process is leaking memory?  Process memory: 8.74 GB -- Worker memory limit: 8.00 GB\n",
      "distributed.worker - WARNING - Memory use is high but worker has no data to store to disk.  Perhaps some other process is leaking memory?  Process memory: 8.74 GB -- Worker memory limit: 8.00 GB\n",
      "distributed.worker - WARNING - Memory use is high but worker has no data to store to disk.  Perhaps some other process is leaking memory?  Process memory: 8.74 GB -- Worker memory limit: 8.00 GB\n",
      "distributed.worker - WARNING - Memory use is high but worker has no data to store to disk.  Perhaps some other process is leaking memory?  Process memory: 8.73 GB -- Worker memory limit: 8.00 GB\n",
      "distributed.worker - WARNING - Memory use is high but worker has no data to store to disk.  Perhaps some other process is leaking memory?  Process memory: 8.73 GB -- Worker memory limit: 8.00 GB\n",
      "distributed.worker - WARNING - Memory use is high but worker has no data to store to disk.  Perhaps some other process is leaking memory?  Process memory: 8.59 GB -- Worker memory limit: 8.00 GB\n",
      "distributed.worker - WARNING - Memory use is high but worker has no data to store to disk.  Perhaps some other process is leaking memory?  Process memory: 8.59 GB -- Worker memory limit: 8.00 GB\n",
      "distributed.worker - WARNING - Memory use is high but worker has no data to store to disk.  Perhaps some other process is leaking memory?  Process memory: 8.59 GB -- Worker memory limit: 8.00 GB\n",
      "distributed.worker - WARNING - Memory use is high but worker has no data to store to disk.  Perhaps some other process is leaking memory?  Process memory: 8.59 GB -- Worker memory limit: 8.00 GB\n",
      "distributed.worker - WARNING - Memory use is high but worker has no data to store to disk.  Perhaps some other process is leaking memory?  Process memory: 8.59 GB -- Worker memory limit: 8.00 GB\n",
      "distributed.worker - WARNING - Memory use is high but worker has no data to store to disk.  Perhaps some other process is leaking memory?  Process memory: 8.59 GB -- Worker memory limit: 8.00 GB\n",
      "distributed.worker - WARNING - Memory use is high but worker has no data to store to disk.  Perhaps some other process is leaking memory?  Process memory: 8.59 GB -- Worker memory limit: 8.00 GB\n",
      "distributed.worker - WARNING - Memory use is high but worker has no data to store to disk.  Perhaps some other process is leaking memory?  Process memory: 8.59 GB -- Worker memory limit: 8.00 GB\n",
      "distributed.worker - WARNING - Memory use is high but worker has no data to store to disk.  Perhaps some other process is leaking memory?  Process memory: 8.59 GB -- Worker memory limit: 8.00 GB\n",
      "distributed.worker - WARNING - Memory use is high but worker has no data to store to disk.  Perhaps some other process is leaking memory?  Process memory: 8.59 GB -- Worker memory limit: 8.00 GB\n",
      "distributed.worker - WARNING - Memory use is high but worker has no data to store to disk.  Perhaps some other process is leaking memory?  Process memory: 8.59 GB -- Worker memory limit: 8.00 GB\n",
      "distributed.worker - WARNING - Memory use is high but worker has no data to store to disk.  Perhaps some other process is leaking memory?  Process memory: 8.59 GB -- Worker memory limit: 8.00 GB\n",
      "distributed.worker - WARNING - Worker is at 12% memory usage. Resuming worker. Process memory: 993.32 MB -- Worker memory limit: 8.00 GB\n",
      "distributed.worker - WARNING - Worker is at 12% memory usage. Resuming worker. Process memory: 993.32 MB -- Worker memory limit: 8.00 GB\n",
      "distributed.worker - WARNING - Worker is at 12% memory usage. Resuming worker. Process memory: 993.32 MB -- Worker memory limit: 8.00 GB\n",
      "distributed.worker - WARNING - Worker is at 12% memory usage. Resuming worker. Process memory: 993.33 MB -- Worker memory limit: 8.00 GB\n"
     ]
    },
    {
     "name": "stdout",
     "output_type": "stream",
     "text": [
      "13.309991121292114\n"
     ]
    }
   ],
   "source": [
    "start = time()\n",
    "means = da.mean(a, axis=2)\n",
    "means_data = means.compute()\n",
    "means_data\n",
    "end = time()\n",
    "\n",
    "print(f\"{end-start}\")"
   ]
  },
  {
   "cell_type": "code",
   "execution_count": 13,
   "metadata": {},
   "outputs": [
    {
     "data": {
      "text/html": [
       "<table>\n",
       "<tr>\n",
       "<td>\n",
       "<table>\n",
       "  <thead>\n",
       "    <tr><td> </td><th> Array </th><th> Chunk </th></tr>\n",
       "  </thead>\n",
       "  <tbody>\n",
       "    <tr><th> Bytes </th><td> 64 B </td> <td> 64 B </td></tr>\n",
       "    <tr><th> Shape </th><td> (16, 1, 1) </td> <td> (16, 1, 1) </td></tr>\n",
       "    <tr><th> Count </th><td> 1 Tasks </td><td> 1 Chunks </td></tr>\n",
       "    <tr><th> Type </th><td> float32 </td><td> numpy.ndarray </td></tr>\n",
       "  </tbody>\n",
       "</table>\n",
       "</td>\n",
       "<td>\n",
       "<svg width=\"166\" height=\"156\" style=\"stroke:rgb(0,0,0);stroke-width:1\" >\n",
       "\n",
       "  <!-- Horizontal lines -->\n",
       "  <line x1=\"10\" y1=\"0\" x2=\"80\" y2=\"70\" style=\"stroke-width:2\" />\n",
       "  <line x1=\"10\" y1=\"35\" x2=\"80\" y2=\"106\" style=\"stroke-width:2\" />\n",
       "\n",
       "  <!-- Vertical lines -->\n",
       "  <line x1=\"10\" y1=\"0\" x2=\"10\" y2=\"35\" style=\"stroke-width:2\" />\n",
       "  <line x1=\"80\" y1=\"70\" x2=\"80\" y2=\"106\" style=\"stroke-width:2\" />\n",
       "\n",
       "  <!-- Colored Rectangle -->\n",
       "  <polygon points=\"10.000000,0.000000 80.588235,70.588235 80.588235,106.447783 10.000000,35.859547\" style=\"fill:#ECB172A0;stroke-width:0\"/>\n",
       "\n",
       "  <!-- Horizontal lines -->\n",
       "  <line x1=\"10\" y1=\"0\" x2=\"45\" y2=\"0\" style=\"stroke-width:2\" />\n",
       "  <line x1=\"80\" y1=\"70\" x2=\"116\" y2=\"70\" style=\"stroke-width:2\" />\n",
       "\n",
       "  <!-- Vertical lines -->\n",
       "  <line x1=\"10\" y1=\"0\" x2=\"80\" y2=\"70\" style=\"stroke-width:2\" />\n",
       "  <line x1=\"45\" y1=\"0\" x2=\"116\" y2=\"70\" style=\"stroke-width:2\" />\n",
       "\n",
       "  <!-- Colored Rectangle -->\n",
       "  <polygon points=\"10.000000,0.000000 45.859547,0.000000 116.447783,70.588235 80.588235,70.588235\" style=\"fill:#ECB172A0;stroke-width:0\"/>\n",
       "\n",
       "  <!-- Horizontal lines -->\n",
       "  <line x1=\"80\" y1=\"70\" x2=\"116\" y2=\"70\" style=\"stroke-width:2\" />\n",
       "  <line x1=\"80\" y1=\"106\" x2=\"116\" y2=\"106\" style=\"stroke-width:2\" />\n",
       "\n",
       "  <!-- Vertical lines -->\n",
       "  <line x1=\"80\" y1=\"70\" x2=\"80\" y2=\"106\" style=\"stroke-width:2\" />\n",
       "  <line x1=\"116\" y1=\"70\" x2=\"116\" y2=\"106\" style=\"stroke-width:2\" />\n",
       "\n",
       "  <!-- Colored Rectangle -->\n",
       "  <polygon points=\"80.588235,70.588235 116.447783,70.588235 116.447783,106.447783 80.588235,106.447783\" style=\"fill:#ECB172A0;stroke-width:0\"/>\n",
       "\n",
       "  <!-- Text -->\n",
       "  <text x=\"98.518009\" y=\"126.447783\" font-size=\"1.0rem\" font-weight=\"100\" text-anchor=\"middle\" >1</text>\n",
       "  <text x=\"136.447783\" y=\"88.518009\" font-size=\"1.0rem\" font-weight=\"100\" text-anchor=\"middle\" transform=\"rotate(0,136.447783,88.518009)\">1</text>\n",
       "  <text x=\"35.294118\" y=\"91.153665\" font-size=\"1.0rem\" font-weight=\"100\" text-anchor=\"middle\" transform=\"rotate(45,35.294118,91.153665)\">16</text>\n",
       "</svg>\n",
       "</td>\n",
       "</tr>\n",
       "</table>"
      ],
      "text/plain": [
       "dask.array<array, shape=(16, 1, 1), dtype=float32, chunksize=(16, 1, 1), chunktype=numpy.ndarray>"
      ]
     },
     "execution_count": 13,
     "metadata": {},
     "output_type": "execute_result"
    }
   ],
   "source": [
    "means = da.from_array(np.reshape(means_data, (16,1,1)))\n",
    "means"
   ]
  },
  {
   "cell_type": "code",
   "execution_count": null,
   "metadata": {},
   "outputs": [],
   "source": [
    "a"
   ]
  },
  {
   "cell_type": "code",
   "execution_count": null,
   "metadata": {},
   "outputs": [],
   "source": [
    "308/14"
   ]
  },
  {
   "cell_type": "code",
   "execution_count": 18,
   "metadata": {},
   "outputs": [
    {
     "data": {
      "text/html": [
       "<table>\n",
       "<tr>\n",
       "<td>\n",
       "<table>\n",
       "  <thead>\n",
       "    <tr><td> </td><th> Array </th><th> Chunk </th></tr>\n",
       "  </thead>\n",
       "  <tbody>\n",
       "    <tr><th> Bytes </th><td> 20.37 GB </td> <td> 925.76 MB </td></tr>\n",
       "    <tr><th> Shape </th><td> (16, 1, 318230528) </td> <td> (16, 1, 14465024) </td></tr>\n",
       "    <tr><th> Count </th><td> 45 Tasks </td><td> 22 Chunks </td></tr>\n",
       "    <tr><th> Type </th><td> float32 </td><td> numpy.ndarray </td></tr>\n",
       "  </tbody>\n",
       "</table>\n",
       "</td>\n",
       "<td>\n",
       "<svg width=\"194\" height=\"90\" style=\"stroke:rgb(0,0,0);stroke-width:1\" >\n",
       "\n",
       "  <!-- Horizontal lines -->\n",
       "  <line x1=\"10\" y1=\"0\" x2=\"24\" y2=\"14\" style=\"stroke-width:2\" />\n",
       "  <line x1=\"10\" y1=\"25\" x2=\"24\" y2=\"40\" style=\"stroke-width:2\" />\n",
       "\n",
       "  <!-- Vertical lines -->\n",
       "  <line x1=\"10\" y1=\"0\" x2=\"10\" y2=\"25\" style=\"stroke-width:2\" />\n",
       "  <line x1=\"24\" y1=\"14\" x2=\"24\" y2=\"40\" style=\"stroke-width:2\" />\n",
       "\n",
       "  <!-- Colored Rectangle -->\n",
       "  <polygon points=\"10.000000,0.000000 24.948598,14.948598 24.948598,40.361214 10.000000,25.412617\" style=\"fill:#ECB172A0;stroke-width:0\"/>\n",
       "\n",
       "  <!-- Horizontal lines -->\n",
       "  <line x1=\"10\" y1=\"0\" x2=\"130\" y2=\"0\" style=\"stroke-width:2\" />\n",
       "  <line x1=\"24\" y1=\"14\" x2=\"144\" y2=\"14\" style=\"stroke-width:2\" />\n",
       "\n",
       "  <!-- Vertical lines -->\n",
       "  <line x1=\"10\" y1=\"0\" x2=\"24\" y2=\"14\" style=\"stroke-width:2\" />\n",
       "  <line x1=\"15\" y1=\"0\" x2=\"30\" y2=\"14\" />\n",
       "  <line x1=\"20\" y1=\"0\" x2=\"35\" y2=\"14\" />\n",
       "  <line x1=\"26\" y1=\"0\" x2=\"41\" y2=\"14\" />\n",
       "  <line x1=\"31\" y1=\"0\" x2=\"46\" y2=\"14\" />\n",
       "  <line x1=\"37\" y1=\"0\" x2=\"52\" y2=\"14\" />\n",
       "  <line x1=\"42\" y1=\"0\" x2=\"57\" y2=\"14\" />\n",
       "  <line x1=\"48\" y1=\"0\" x2=\"63\" y2=\"14\" />\n",
       "  <line x1=\"53\" y1=\"0\" x2=\"68\" y2=\"14\" />\n",
       "  <line x1=\"59\" y1=\"0\" x2=\"74\" y2=\"14\" />\n",
       "  <line x1=\"64\" y1=\"0\" x2=\"79\" y2=\"14\" />\n",
       "  <line x1=\"70\" y1=\"0\" x2=\"84\" y2=\"14\" />\n",
       "  <line x1=\"75\" y1=\"0\" x2=\"90\" y2=\"14\" />\n",
       "  <line x1=\"80\" y1=\"0\" x2=\"95\" y2=\"14\" />\n",
       "  <line x1=\"86\" y1=\"0\" x2=\"101\" y2=\"14\" />\n",
       "  <line x1=\"91\" y1=\"0\" x2=\"106\" y2=\"14\" />\n",
       "  <line x1=\"97\" y1=\"0\" x2=\"112\" y2=\"14\" />\n",
       "  <line x1=\"102\" y1=\"0\" x2=\"117\" y2=\"14\" />\n",
       "  <line x1=\"108\" y1=\"0\" x2=\"123\" y2=\"14\" />\n",
       "  <line x1=\"113\" y1=\"0\" x2=\"128\" y2=\"14\" />\n",
       "  <line x1=\"119\" y1=\"0\" x2=\"134\" y2=\"14\" />\n",
       "  <line x1=\"124\" y1=\"0\" x2=\"139\" y2=\"14\" />\n",
       "  <line x1=\"130\" y1=\"0\" x2=\"144\" y2=\"14\" style=\"stroke-width:2\" />\n",
       "\n",
       "  <!-- Colored Rectangle -->\n",
       "  <polygon points=\"10.000000,0.000000 130.000000,0.000000 144.948598,14.948598 24.948598,14.948598\" style=\"fill:#ECB172A0;stroke-width:0\"/>\n",
       "\n",
       "  <!-- Horizontal lines -->\n",
       "  <line x1=\"24\" y1=\"14\" x2=\"144\" y2=\"14\" style=\"stroke-width:2\" />\n",
       "  <line x1=\"24\" y1=\"40\" x2=\"144\" y2=\"40\" style=\"stroke-width:2\" />\n",
       "\n",
       "  <!-- Vertical lines -->\n",
       "  <line x1=\"24\" y1=\"14\" x2=\"24\" y2=\"40\" style=\"stroke-width:2\" />\n",
       "  <line x1=\"30\" y1=\"14\" x2=\"30\" y2=\"40\" />\n",
       "  <line x1=\"35\" y1=\"14\" x2=\"35\" y2=\"40\" />\n",
       "  <line x1=\"41\" y1=\"14\" x2=\"41\" y2=\"40\" />\n",
       "  <line x1=\"46\" y1=\"14\" x2=\"46\" y2=\"40\" />\n",
       "  <line x1=\"52\" y1=\"14\" x2=\"52\" y2=\"40\" />\n",
       "  <line x1=\"57\" y1=\"14\" x2=\"57\" y2=\"40\" />\n",
       "  <line x1=\"63\" y1=\"14\" x2=\"63\" y2=\"40\" />\n",
       "  <line x1=\"68\" y1=\"14\" x2=\"68\" y2=\"40\" />\n",
       "  <line x1=\"74\" y1=\"14\" x2=\"74\" y2=\"40\" />\n",
       "  <line x1=\"79\" y1=\"14\" x2=\"79\" y2=\"40\" />\n",
       "  <line x1=\"84\" y1=\"14\" x2=\"84\" y2=\"40\" />\n",
       "  <line x1=\"90\" y1=\"14\" x2=\"90\" y2=\"40\" />\n",
       "  <line x1=\"95\" y1=\"14\" x2=\"95\" y2=\"40\" />\n",
       "  <line x1=\"101\" y1=\"14\" x2=\"101\" y2=\"40\" />\n",
       "  <line x1=\"106\" y1=\"14\" x2=\"106\" y2=\"40\" />\n",
       "  <line x1=\"112\" y1=\"14\" x2=\"112\" y2=\"40\" />\n",
       "  <line x1=\"117\" y1=\"14\" x2=\"117\" y2=\"40\" />\n",
       "  <line x1=\"123\" y1=\"14\" x2=\"123\" y2=\"40\" />\n",
       "  <line x1=\"128\" y1=\"14\" x2=\"128\" y2=\"40\" />\n",
       "  <line x1=\"134\" y1=\"14\" x2=\"134\" y2=\"40\" />\n",
       "  <line x1=\"139\" y1=\"14\" x2=\"139\" y2=\"40\" />\n",
       "  <line x1=\"144\" y1=\"14\" x2=\"144\" y2=\"40\" style=\"stroke-width:2\" />\n",
       "\n",
       "  <!-- Colored Rectangle -->\n",
       "  <polygon points=\"24.948598,14.948598 144.948598,14.948598 144.948598,40.361214 24.948598,40.361214\" style=\"fill:#ECB172A0;stroke-width:0\"/>\n",
       "\n",
       "  <!-- Text -->\n",
       "  <text x=\"84.948598\" y=\"60.361214\" font-size=\"1.0rem\" font-weight=\"100\" text-anchor=\"middle\" >318230528</text>\n",
       "  <text x=\"164.948598\" y=\"27.654906\" font-size=\"1.0rem\" font-weight=\"100\" text-anchor=\"middle\" transform=\"rotate(0,164.948598,27.654906)\">1</text>\n",
       "  <text x=\"7.474299\" y=\"52.886915\" font-size=\"1.0rem\" font-weight=\"100\" text-anchor=\"middle\" transform=\"rotate(45,7.474299,52.886915)\">16</text>\n",
       "</svg>\n",
       "</td>\n",
       "</tr>\n",
       "</table>"
      ],
      "text/plain": [
       "dask.array<true_divide, shape=(16, 1, 318230528), dtype=float32, chunksize=(16, 1, 14465024), chunktype=numpy.ndarray>"
      ]
     },
     "execution_count": 18,
     "metadata": {},
     "output_type": "execute_result"
    }
   ],
   "source": [
    "normalized_a = da.divide(a, means)\n",
    "normalized_a"
   ]
  },
  {
   "cell_type": "code",
   "execution_count": 19,
   "metadata": {},
   "outputs": [
    {
     "name": "stderr",
     "output_type": "stream",
     "text": [
      "distributed.worker - WARNING - Worker is at 82% memory usage. Pausing worker.  Process memory: 5.49 GB -- Worker memory limit: 8.00 GB\n",
      "distributed.comm.inproc - WARNING - Closing dangling queue in <InProc  local=inproc://10.0.0.32/45450/48 remote=inproc://10.0.0.32/45450/10>\n",
      "distributed.worker - WARNING - Worker is at 49% memory usage. Resuming worker. Process memory: 3.97 GB -- Worker memory limit: 8.00 GB\n",
      "distributed.comm.inproc - WARNING - Closing dangling queue in <InProc  local=inproc://10.0.0.32/45450/49 remote=inproc://10.0.0.32/45450/10>\n"
     ]
    },
    {
     "name": "stdout",
     "output_type": "stream",
     "text": [
      "100.45590615272522\n"
     ]
    }
   ],
   "source": [
    "start = time()\n",
    "\n",
    "da.to_npy_stack('normalized_a/', normalized_a, axis=2)\n",
    "\n",
    "end = time()\n",
    "\n",
    "print(f\"{end-start}\")"
   ]
  },
  {
   "cell_type": "code",
   "execution_count": null,
   "metadata": {},
   "outputs": [],
   "source": [
    "print(normalized_a.shape)\n",
    "print(normalized_a.chunks)"
   ]
  },
  {
   "cell_type": "code",
   "execution_count": null,
   "metadata": {},
   "outputs": [],
   "source": [
    "start = time()\n",
    "normalized_a_data = normalized_a.compute()\n",
    "end = time()\n",
    "print(f\"{end-start}\")"
   ]
  },
  {
   "cell_type": "code",
   "execution_count": null,
   "metadata": {
    "scrolled": true
   },
   "outputs": [],
   "source": [
    "start = time()\n",
    "\n",
    "original_a_data = a[:, 0, :16 * 1033216].compute()\n",
    "\n",
    "end = time()\n",
    "print(f\"{end-start}\")"
   ]
  },
  {
   "cell_type": "code",
   "execution_count": null,
   "metadata": {},
   "outputs": [],
   "source": [
    "read_a = da.from_array(original_a_data)\n",
    "read_and_normalize = da.divide(read_a, means_data)\n",
    "\n",
    "start = time()\n",
    "normalized_a_data = read_and_normalize.compute()\n",
    "end = time()\n",
    "print(f\"{end-start}\")\n",
    "\n",
    "# 1.6420118808746338"
   ]
  },
  {
   "cell_type": "code",
   "execution_count": null,
   "metadata": {},
   "outputs": [],
   "source": [
    "del normalized_a_data"
   ]
  },
  {
   "cell_type": "code",
   "execution_count": null,
   "metadata": {},
   "outputs": [],
   "source": [
    "start = time()\n",
    "\n",
    "numpy_normalized_a_data = original_a_data / means_data\n",
    "\n",
    "end = time()\n",
    "print(f\"{end-start}\")\n",
    "\n",
    "# 0.6659681797027588"
   ]
  },
  {
   "cell_type": "code",
   "execution_count": null,
   "metadata": {},
   "outputs": [],
   "source": [
    "del numpy_normalized_a_data"
   ]
  },
  {
   "cell_type": "code",
   "execution_count": null,
   "metadata": {},
   "outputs": [],
   "source": [
    "numpy_normalized_a_data.shape"
   ]
  },
  {
   "cell_type": "code",
   "execution_count": null,
   "metadata": {},
   "outputs": [],
   "source": [
    "plot_segment(normalized_a_data)"
   ]
  },
  {
   "cell_type": "code",
   "execution_count": null,
   "metadata": {},
   "outputs": [],
   "source": [
    "plot_segment(original_a_data)"
   ]
  },
  {
   "cell_type": "code",
   "execution_count": null,
   "metadata": {},
   "outputs": [],
   "source": [
    "print(normalized_a_data.shape == numpy_normalized_a_data.shape)\n",
    "print(np.allclose(normalized_a_data, numpy_normalized_a_data))"
   ]
  },
  {
   "cell_type": "code",
   "execution_count": null,
   "metadata": {},
   "outputs": [],
   "source": []
  }
 ],
 "metadata": {
  "kernelspec": {
   "display_name": "BSRC_Env",
   "language": "python",
   "name": "bsrc_env"
  },
  "language_info": {
   "codemirror_mode": {
    "name": "ipython",
    "version": 3
   },
   "file_extension": ".py",
   "mimetype": "text/x-python",
   "name": "python",
   "nbconvert_exporter": "python",
   "pygments_lexer": "ipython3",
   "version": "3.6.5"
  }
 },
 "nbformat": 4,
 "nbformat_minor": 2
}
