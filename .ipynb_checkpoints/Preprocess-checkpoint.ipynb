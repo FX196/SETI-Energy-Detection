{
 "cells": [
  {
   "cell_type": "code",
   "execution_count": 10,
   "metadata": {},
   "outputs": [],
   "source": [
    "import pandas as pd\n",
    "import numpy as np\n",
    "from matplotlib import pyplot as plt"
   ]
  },
  {
   "cell_type": "code",
   "execution_count": 1,
   "metadata": {},
   "outputs": [],
   "source": [
    "data_dir = \"/tf/data/S-band\""
   ]
  },
  {
   "cell_type": "code",
   "execution_count": 2,
   "metadata": {},
   "outputs": [
    {
     "name": "stdout",
     "output_type": "stream",
     "text": [
      "GBT_58202_60970_B0329+54_fine\t   GBT_58307_26947_J1935+1616_fine\r\n",
      "GBT_58202_60970_B0329+54_fine.h5   GBT_58307_26947_J1935+1616_fine.h5\r\n",
      "GBT_58210_37805_HIP103730_fine\t   GBT_58452_79191_HIP115687_fine\r\n",
      "GBT_58210_37805_HIP103730_fine.h5  GBT_58452_79191_HIP115687_fine.h5\r\n"
     ]
    }
   ],
   "source": [
    "!ls /tf/data/S-band"
   ]
  },
  {
   "cell_type": "code",
   "execution_count": 5,
   "metadata": {},
   "outputs": [],
   "source": [
    "df = pd.read_pickle(f\"{data_dir}/GBT_58202_60970_B0329+54_fine/info_df.pkl\")"
   ]
  },
  {
   "cell_type": "code",
   "execution_count": 21,
   "metadata": {},
   "outputs": [
    {
     "data": {
      "text/plain": [
       "0.21021060745038736"
      ]
     },
     "execution_count": 21,
     "metadata": {},
     "output_type": "execute_result"
    }
   ],
   "source": [
    "np.count_nonzero(df[\"pvalue\"] == 0) / len(df[\"pvalue\"])"
   ]
  },
  {
   "cell_type": "code",
   "execution_count": 14,
   "metadata": {},
   "outputs": [
    {
     "data": {
      "text/plain": [
       "(array([733044., 154240., 198318., 282622., 340801., 324571., 318625.,\n",
       "        304216., 258969., 184057.]),\n",
       " array([-736.82724089, -681.56526042, -626.30327996, -571.04129949,\n",
       "        -515.77931902, -460.51733855, -405.25535808, -349.99337762,\n",
       "        -294.73139715, -239.46941668, -184.20743621]),\n",
       " <a list of 10 Patch objects>)"
      ]
     },
     "execution_count": 14,
     "metadata": {},
     "output_type": "execute_result"
    },
    {
     "data": {
      "image/png": "[encoded data removed]",
      "text/plain": [
       "<Figure size 432x288 with 1 Axes>"
      ]
     },
     "metadata": {
      "needs_background": "light"
     },
     "output_type": "display_data"
    }
   ],
   "source": [
    "plt.hist(np.log(df[\"pvalue\"]+1e-320))"
   ]
  },
  {
   "cell_type": "code",
   "execution_count": null,
   "metadata": {},
   "outputs": [],
   "source": []
  }
 ],
 "metadata": {
  "kernelspec": {
   "display_name": "Python 3",
   "language": "python",
   "name": "python3"
  },
  "language_info": {
   "codemirror_mode": {
    "name": "ipython",
    "version": 3
   },
   "file_extension": ".py",
   "mimetype": "text/x-python",
   "name": "python",
   "nbconvert_exporter": "python",
   "pygments_lexer": "ipython3",
   "version": "3.6.9"
  }
 },
 "nbformat": 4,
 "nbformat_minor": 2
}
