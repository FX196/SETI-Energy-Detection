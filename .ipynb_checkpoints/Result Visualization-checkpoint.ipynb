{
 "cells": [
  {
   "cell_type": "code",
   "execution_count": 1,
   "metadata": {},
   "outputs": [],
   "source": [
    "import pandas as pd\n",
    "import numpy as np\n",
    "from matplotlib import pyplot as plt\n",
    "\n",
    "\n",
    "f_off = -2.835503418452676e-06\n",
    "tsamp = 17.986224128\n",
    "plt_args = {\n",
    "            'aspect':'auto',\n",
    "            'origin':'lower',\n",
    "            'rasterized':True,\n",
    "            'interpolation':'nearest',\n",
    "            'cmap':'viridis'\n",
    "            }"
   ]
  },
  {
   "cell_type": "code",
   "execution_count": 2,
   "metadata": {},
   "outputs": [],
   "source": [
    "import ipywidgets as widgets\n",
    "from ipywidgets import interact, interact_manual"
   ]
  },
  {
   "cell_type": "code",
   "execution_count": 3,
   "metadata": {},
   "outputs": [
    {
     "name": "stdout",
     "output_type": "stream",
     "text": [
      "GBT_58010_50176_HIP61317_fine\tGBT_58210_40853_HIP106147_fine\r\n",
      "GBT_58014_69579_HIP77629_fine\tGBT_58210_41185_HIP105761_fine\r\n",
      "GBT_58110_60123_HIP91926_fine\tGBT_58307_26947_J1935+1616_fine\r\n",
      "GBT_58202_60970_B0329+54_fine\tGBT_58452_79191_HIP115687_fine\r\n",
      "GBT_58210_37805_HIP103730_fine\tused\r\n",
      "GBT_58210_39862_HIP105504_fine\r\n"
     ]
    }
   ],
   "source": [
    "!ls ../../data/S-band-high/"
   ]
  },
  {
   "cell_type": "code",
   "execution_count": 4,
   "metadata": {},
   "outputs": [
    {
     "data": {
      "text/html": [
       "<div>\n",
       "<style scoped>\n",
       "    .dataframe tbody tr th:only-of-type {\n",
       "        vertical-align: middle;\n",
       "    }\n",
       "\n",
       "    .dataframe tbody tr th {\n",
       "        vertical-align: top;\n",
       "    }\n",
       "\n",
       "    .dataframe thead th {\n",
       "        text-align: right;\n",
       "    }\n",
       "</style>\n",
       "<table border=\"1\" class=\"dataframe\">\n",
       "  <thead>\n",
       "    <tr style=\"text-align: right;\">\n",
       "      <th></th>\n",
       "      <th>index</th>\n",
       "      <th>statistic</th>\n",
       "      <th>pvalue</th>\n",
       "      <th>block_num</th>\n",
       "      <th>freqs</th>\n",
       "    </tr>\n",
       "  </thead>\n",
       "  <tbody>\n",
       "    <tr>\n",
       "      <td>0</td>\n",
       "      <td>293763180</td>\n",
       "      <td>5565.671052</td>\n",
       "      <td>0.0</td>\n",
       "      <td>10</td>\n",
       "      <td>1105.504688</td>\n",
       "    </tr>\n",
       "    <tr>\n",
       "      <td>1</td>\n",
       "      <td>293763280</td>\n",
       "      <td>5557.149917</td>\n",
       "      <td>0.0</td>\n",
       "      <td>10</td>\n",
       "      <td>1105.504408</td>\n",
       "    </tr>\n",
       "    <tr>\n",
       "      <td>2</td>\n",
       "      <td>293763780</td>\n",
       "      <td>5845.971862</td>\n",
       "      <td>0.0</td>\n",
       "      <td>10</td>\n",
       "      <td>1105.503011</td>\n",
       "    </tr>\n",
       "    <tr>\n",
       "      <td>3</td>\n",
       "      <td>293763880</td>\n",
       "      <td>5845.869528</td>\n",
       "      <td>0.0</td>\n",
       "      <td>10</td>\n",
       "      <td>1105.502732</td>\n",
       "    </tr>\n",
       "    <tr>\n",
       "      <td>4</td>\n",
       "      <td>294651656</td>\n",
       "      <td>2560.584748</td>\n",
       "      <td>0.0</td>\n",
       "      <td>10</td>\n",
       "      <td>1103.022315</td>\n",
       "    </tr>\n",
       "    <tr>\n",
       "      <td>...</td>\n",
       "      <td>...</td>\n",
       "      <td>...</td>\n",
       "      <td>...</td>\n",
       "      <td>...</td>\n",
       "      <td>...</td>\n",
       "    </tr>\n",
       "    <tr>\n",
       "      <td>48467</td>\n",
       "      <td>174029840</td>\n",
       "      <td>3808.115179</td>\n",
       "      <td>0.0</td>\n",
       "      <td>5</td>\n",
       "      <td>1440.035775</td>\n",
       "    </tr>\n",
       "    <tr>\n",
       "      <td>48468</td>\n",
       "      <td>174943516</td>\n",
       "      <td>2562.958396</td>\n",
       "      <td>0.0</td>\n",
       "      <td>5</td>\n",
       "      <td>1437.482994</td>\n",
       "    </tr>\n",
       "    <tr>\n",
       "      <td>48469</td>\n",
       "      <td>174943616</td>\n",
       "      <td>2607.375500</td>\n",
       "      <td>0.0</td>\n",
       "      <td>5</td>\n",
       "      <td>1437.482715</td>\n",
       "    </tr>\n",
       "    <tr>\n",
       "      <td>48470</td>\n",
       "      <td>175651892</td>\n",
       "      <td>4186.151814</td>\n",
       "      <td>0.0</td>\n",
       "      <td>5</td>\n",
       "      <td>1435.503814</td>\n",
       "    </tr>\n",
       "    <tr>\n",
       "      <td>48471</td>\n",
       "      <td>175651992</td>\n",
       "      <td>4253.592217</td>\n",
       "      <td>0.0</td>\n",
       "      <td>5</td>\n",
       "      <td>1435.503535</td>\n",
       "    </tr>\n",
       "  </tbody>\n",
       "</table>\n",
       "<p>48472 rows × 5 columns</p>\n",
       "</div>"
      ],
      "text/plain": [
       "           index    statistic  pvalue  block_num        freqs\n",
       "0      293763180  5565.671052     0.0         10  1105.504688\n",
       "1      293763280  5557.149917     0.0         10  1105.504408\n",
       "2      293763780  5845.971862     0.0         10  1105.503011\n",
       "3      293763880  5845.869528     0.0         10  1105.502732\n",
       "4      294651656  2560.584748     0.0         10  1103.022315\n",
       "...          ...          ...     ...        ...          ...\n",
       "48467  174029840  3808.115179     0.0          5  1440.035775\n",
       "48468  174943516  2562.958396     0.0          5  1437.482994\n",
       "48469  174943616  2607.375500     0.0          5  1437.482715\n",
       "48470  175651892  4186.151814     0.0          5  1435.503814\n",
       "48471  175651992  4253.592217     0.0          5  1435.503535\n",
       "\n",
       "[48472 rows x 5 columns]"
      ]
     },
     "execution_count": 4,
     "metadata": {},
     "output_type": "execute_result"
    }
   ],
   "source": [
    "data_dir = \"../../data/S-band-high/GBT_58202_60970_B0329+54_fine\"\n",
    "filtered_dir = f\"{data_dir}/filtered\"\n",
    "df = pd.read_pickle(\"../../data/S-band-high/GBT_58202_60970_B0329+54_fine/info_df.pkl\")\n",
    "# df = df.set_index(\"index\")\n",
    "df.sort_index()"
   ]
  },
  {
   "cell_type": "code",
   "execution_count": 5,
   "metadata": {},
   "outputs": [
    {
     "data": {
      "text/html": [
       "<div>\n",
       "<style scoped>\n",
       "    .dataframe tbody tr th:only-of-type {\n",
       "        vertical-align: middle;\n",
       "    }\n",
       "\n",
       "    .dataframe tbody tr th {\n",
       "        vertical-align: top;\n",
       "    }\n",
       "\n",
       "    .dataframe thead th {\n",
       "        text-align: right;\n",
       "    }\n",
       "</style>\n",
       "<table border=\"1\" class=\"dataframe\">\n",
       "  <thead>\n",
       "    <tr style=\"text-align: right;\">\n",
       "      <th></th>\n",
       "      <th>index</th>\n",
       "      <th>statistic</th>\n",
       "      <th>pvalue</th>\n",
       "      <th>block_num</th>\n",
       "      <th>freqs</th>\n",
       "    </tr>\n",
       "  </thead>\n",
       "  <tbody>\n",
       "    <tr>\n",
       "      <td>count</td>\n",
       "      <td>4.847200e+04</td>\n",
       "      <td>48472.000000</td>\n",
       "      <td>48472.0</td>\n",
       "      <td>48472.000000</td>\n",
       "      <td>48472.000000</td>\n",
       "    </tr>\n",
       "    <tr>\n",
       "      <td>mean</td>\n",
       "      <td>1.271325e+08</td>\n",
       "      <td>3496.644086</td>\n",
       "      <td>0.0</td>\n",
       "      <td>3.742078</td>\n",
       "      <td>1571.065396</td>\n",
       "    </tr>\n",
       "    <tr>\n",
       "      <td>std</td>\n",
       "      <td>4.812610e+07</td>\n",
       "      <td>1224.913794</td>\n",
       "      <td>0.0</td>\n",
       "      <td>1.544051</td>\n",
       "      <td>134.462763</td>\n",
       "    </tr>\n",
       "    <tr>\n",
       "      <td>min</td>\n",
       "      <td>0.000000e+00</td>\n",
       "      <td>2048.000462</td>\n",
       "      <td>0.0</td>\n",
       "      <td>0.000000</td>\n",
       "      <td>1025.981516</td>\n",
       "    </tr>\n",
       "    <tr>\n",
       "      <td>25%</td>\n",
       "      <td>1.159648e+08</td>\n",
       "      <td>2531.208067</td>\n",
       "      <td>0.0</td>\n",
       "      <td>3.000000</td>\n",
       "      <td>1533.330635</td>\n",
       "    </tr>\n",
       "    <tr>\n",
       "      <td>50%</td>\n",
       "      <td>1.333599e+08</td>\n",
       "      <td>3130.583559</td>\n",
       "      <td>0.0</td>\n",
       "      <td>4.000000</td>\n",
       "      <td>1553.666269</td>\n",
       "    </tr>\n",
       "    <tr>\n",
       "      <td>75%</td>\n",
       "      <td>1.406383e+08</td>\n",
       "      <td>4169.047964</td>\n",
       "      <td>0.0</td>\n",
       "      <td>4.000000</td>\n",
       "      <td>1602.267525</td>\n",
       "    </tr>\n",
       "    <tr>\n",
       "      <td>max</td>\n",
       "      <td>3.222256e+08</td>\n",
       "      <td>9713.965759</td>\n",
       "      <td>0.0</td>\n",
       "      <td>10.000000</td>\n",
       "      <td>1926.269531</td>\n",
       "    </tr>\n",
       "  </tbody>\n",
       "</table>\n",
       "</div>"
      ],
      "text/plain": [
       "              index     statistic   pvalue     block_num         freqs\n",
       "count  4.847200e+04  48472.000000  48472.0  48472.000000  48472.000000\n",
       "mean   1.271325e+08   3496.644086      0.0      3.742078   1571.065396\n",
       "std    4.812610e+07   1224.913794      0.0      1.544051    134.462763\n",
       "min    0.000000e+00   2048.000462      0.0      0.000000   1025.981516\n",
       "25%    1.159648e+08   2531.208067      0.0      3.000000   1533.330635\n",
       "50%    1.333599e+08   3130.583559      0.0      4.000000   1553.666269\n",
       "75%    1.406383e+08   4169.047964      0.0      4.000000   1602.267525\n",
       "max    3.222256e+08   9713.965759      0.0     10.000000   1926.269531"
      ]
     },
     "execution_count": 5,
     "metadata": {},
     "output_type": "execute_result"
    }
   ],
   "source": [
    "df.describe()"
   ]
  },
  {
   "cell_type": "code",
   "execution_count": 6,
   "metadata": {},
   "outputs": [
    {
     "data": {
      "text/html": [
       "<div>\n",
       "<style scoped>\n",
       "    .dataframe tbody tr th:only-of-type {\n",
       "        vertical-align: middle;\n",
       "    }\n",
       "\n",
       "    .dataframe tbody tr th {\n",
       "        vertical-align: top;\n",
       "    }\n",
       "\n",
       "    .dataframe thead th {\n",
       "        text-align: right;\n",
       "    }\n",
       "</style>\n",
       "<table border=\"1\" class=\"dataframe\">\n",
       "  <thead>\n",
       "    <tr style=\"text-align: right;\">\n",
       "      <th></th>\n",
       "      <th>index</th>\n",
       "      <th>statistic</th>\n",
       "      <th>pvalue</th>\n",
       "      <th>freqs</th>\n",
       "    </tr>\n",
       "    <tr>\n",
       "      <th>block_num</th>\n",
       "      <th></th>\n",
       "      <th></th>\n",
       "      <th></th>\n",
       "      <th></th>\n",
       "    </tr>\n",
       "  </thead>\n",
       "  <tbody>\n",
       "    <tr>\n",
       "      <td>0</td>\n",
       "      <td>3765</td>\n",
       "      <td>3765</td>\n",
       "      <td>3765</td>\n",
       "      <td>3765</td>\n",
       "    </tr>\n",
       "    <tr>\n",
       "      <td>1</td>\n",
       "      <td>12</td>\n",
       "      <td>12</td>\n",
       "      <td>12</td>\n",
       "      <td>12</td>\n",
       "    </tr>\n",
       "    <tr>\n",
       "      <td>2</td>\n",
       "      <td>714</td>\n",
       "      <td>714</td>\n",
       "      <td>714</td>\n",
       "      <td>714</td>\n",
       "    </tr>\n",
       "    <tr>\n",
       "      <td>3</td>\n",
       "      <td>9014</td>\n",
       "      <td>9014</td>\n",
       "      <td>9014</td>\n",
       "      <td>9014</td>\n",
       "    </tr>\n",
       "    <tr>\n",
       "      <td>4</td>\n",
       "      <td>31053</td>\n",
       "      <td>31053</td>\n",
       "      <td>31053</td>\n",
       "      <td>31053</td>\n",
       "    </tr>\n",
       "    <tr>\n",
       "      <td>5</td>\n",
       "      <td>34</td>\n",
       "      <td>34</td>\n",
       "      <td>34</td>\n",
       "      <td>34</td>\n",
       "    </tr>\n",
       "    <tr>\n",
       "      <td>6</td>\n",
       "      <td>72</td>\n",
       "      <td>72</td>\n",
       "      <td>72</td>\n",
       "      <td>72</td>\n",
       "    </tr>\n",
       "    <tr>\n",
       "      <td>7</td>\n",
       "      <td>3102</td>\n",
       "      <td>3102</td>\n",
       "      <td>3102</td>\n",
       "      <td>3102</td>\n",
       "    </tr>\n",
       "    <tr>\n",
       "      <td>8</td>\n",
       "      <td>217</td>\n",
       "      <td>217</td>\n",
       "      <td>217</td>\n",
       "      <td>217</td>\n",
       "    </tr>\n",
       "    <tr>\n",
       "      <td>9</td>\n",
       "      <td>250</td>\n",
       "      <td>250</td>\n",
       "      <td>250</td>\n",
       "      <td>250</td>\n",
       "    </tr>\n",
       "    <tr>\n",
       "      <td>10</td>\n",
       "      <td>239</td>\n",
       "      <td>239</td>\n",
       "      <td>239</td>\n",
       "      <td>239</td>\n",
       "    </tr>\n",
       "  </tbody>\n",
       "</table>\n",
       "</div>"
      ],
      "text/plain": [
       "           index  statistic  pvalue  freqs\n",
       "block_num                                 \n",
       "0           3765       3765    3765   3765\n",
       "1             12         12      12     12\n",
       "2            714        714     714    714\n",
       "3           9014       9014    9014   9014\n",
       "4          31053      31053   31053  31053\n",
       "5             34         34      34     34\n",
       "6             72         72      72     72\n",
       "7           3102       3102    3102   3102\n",
       "8            217        217     217    217\n",
       "9            250        250     250    250\n",
       "10           239        239     239    239"
      ]
     },
     "execution_count": 6,
     "metadata": {},
     "output_type": "execute_result"
    }
   ],
   "source": [
    "df.groupby(\"block_num\").count()"
   ]
  },
  {
   "cell_type": "code",
   "execution_count": 7,
   "metadata": {},
   "outputs": [],
   "source": [
    "filtered_freqs = df[\"freqs\"]\n",
    "p_vals = df[\"pvalue\"]\n",
    "stats = df[\"statistic\"]"
   ]
  },
  {
   "cell_type": "code",
   "execution_count": 8,
   "metadata": {},
   "outputs": [
    {
     "name": "stderr",
     "output_type": "stream",
     "text": [
      "/usr/local/lib/python3.6/dist-packages/matplotlib/ticker.py:2241: UserWarning: Data has no positive values, and therefore cannot be log-scaled.\n",
      "  \"Data has no positive values, and therefore cannot be \"\n"
     ]
    },
    {
     "data": {
      "text/plain": [
       "[<matplotlib.lines.Line2D at 0x7fef2c392128>]"
      ]
     },
     "execution_count": 8,
     "metadata": {},
     "output_type": "execute_result"
    },
    {
     "data": {
      "image/png": "[encoded data removed]",
      "text/plain": [
       "<Figure size 432x288 with 1 Axes>"
      ]
     },
     "metadata": {
      "needs_background": "light"
     },
     "output_type": "display_data"
    }
   ],
   "source": [
    "plt.figure()\n",
    "plt.yscale(\"log\")\n",
    "plt.ylabel(\"p-value\")\n",
    "plt.xlabel(\"frequency [MHz]\")\n",
    "plt.plot(filtered_freqs, p_vals,'b,')"
   ]
  },
  {
   "cell_type": "code",
   "execution_count": 9,
   "metadata": {},
   "outputs": [
    {
     "data": {
      "text/plain": [
       "[<matplotlib.lines.Line2D at 0x7fef0c562dd8>]"
      ]
     },
     "execution_count": 9,
     "metadata": {},
     "output_type": "execute_result"
    },
    {
     "data": {
      "image/png": "[encoded data removed]",
      "text/plain": [
       "<Figure size 432x288 with 1 Axes>"
      ]
     },
     "metadata": {
      "needs_background": "light"
     },
     "output_type": "display_data"
    }
   ],
   "source": [
    "plt.figure()\n",
    "plt.ylabel(\"statistic\")\n",
    "plt.xlabel(\"frequency [MHz]\")\n",
    "plt.plot(filtered_freqs, stats,'b,')"
   ]
  },
  {
   "cell_type": "code",
   "execution_count": 10,
   "metadata": {},
   "outputs": [
    {
     "data": {
      "image/png": "[encoded data removed]",
      "text/plain": [
       "<Figure size 432x288 with 1 Axes>"
      ]
     },
     "metadata": {
      "needs_background": "light"
     },
     "output_type": "display_data"
    }
   ],
   "source": [
    "plt.figure()\n",
    "plt.yscale(\"log\")\n",
    "n, bins, patches = plt.hist(np.log(p_vals+1e-256), bins=1000)"
   ]
  },
  {
   "cell_type": "code",
   "execution_count": 11,
   "metadata": {},
   "outputs": [
    {
     "data": {
      "image/png": "[encoded data removed]",
      "text/plain": [
       "<Figure size 432x288 with 1 Axes>"
      ]
     },
     "metadata": {
      "needs_background": "light"
     },
     "output_type": "display_data"
    }
   ],
   "source": [
    "fig = plt.figure()\n",
    "ax = fig.add_subplot(1, 1, 1)\n",
    "plt.yscale(\"log\")\n",
    "ax.set_ylim(1, 1000)\n",
    "plt.ylabel(\"Counts\")\n",
    "plt.xlabel(\"statistic\")\n",
    "n, bins, patches = plt.hist(stats, bins=1000)"
   ]
  },
  {
   "cell_type": "code",
   "execution_count": 12,
   "metadata": {},
   "outputs": [],
   "source": [
    "filtered_freqs = df[\"freqs\"]\n",
    "p_vals = df[\"pvalue\"]\n",
    "stats = df[\"statistic\"]"
   ]
  },
  {
   "cell_type": "code",
   "execution_count": 13,
   "metadata": {},
   "outputs": [
    {
     "data": {
      "image/png": "[encoded data removed]",
      "text/plain": [
       "<Figure size 432x288 with 1 Axes>"
      ]
     },
     "metadata": {
      "needs_background": "light"
     },
     "output_type": "display_data"
    }
   ],
   "source": [
    "num_bins = int(1000000//(1926.269531 - 1025.390648))\n",
    "plt.figure()\n",
    "plt.title(f\"Histogram of Hits (bin size = {(1926.269531 - 1025.390648) / num_bins} MHz)\")\n",
    "plt.ylabel(\"number of hits\")\n",
    "plt.xlabel(\"frequency [MHz]\")\n",
    "n, bins, patches = plt.hist(filtered_freqs, bins=num_bins)"
   ]
  },
  {
   "cell_type": "code",
   "execution_count": 14,
   "metadata": {},
   "outputs": [
    {
     "data": {
      "text/plain": [
       "[<matplotlib.lines.Line2D at 0x7fef03721c88>]"
      ]
     },
     "execution_count": 14,
     "metadata": {},
     "output_type": "execute_result"
    },
    {
     "data": {
      "image/png": "[encoded data removed]",
      "text/plain": [
       "<Figure size 432x288 with 1 Axes>"
      ]
     },
     "metadata": {
      "needs_background": "light"
     },
     "output_type": "display_data"
    }
   ],
   "source": [
    "plt.figure()\n",
    "plt.yscale(\"log\")\n",
    "plt.ylabel(\"p-value\")\n",
    "plt.xlabel(\"frequency [MHz]\")\n",
    "plt.plot(filtered_freqs, p_vals,'b,')"
   ]
  },
  {
   "cell_type": "code",
   "execution_count": 15,
   "metadata": {},
   "outputs": [
    {
     "data": {
      "image/png": "[encoded data removed]",
      "text/plain": [
       "<Figure size 432x288 with 1 Axes>"
      ]
     },
     "metadata": {
      "needs_background": "light"
     },
     "output_type": "display_data"
    }
   ],
   "source": [
    "plt.figure()\n",
    "plt.yscale(\"log\")\n",
    "n, bins, patches = plt.hist(np.log(p_vals+1e-256), bins=1000)"
   ]
  },
  {
   "cell_type": "code",
   "execution_count": 16,
   "metadata": {},
   "outputs": [
    {
     "data": {
      "image/png": "[encoded data removed]",
      "text/plain": [
       "<Figure size 432x288 with 1 Axes>"
      ]
     },
     "metadata": {
      "needs_background": "light"
     },
     "output_type": "display_data"
    }
   ],
   "source": [
    "fig = plt.figure()\n",
    "ax = fig.add_subplot(1, 1, 1)\n",
    "plt.yscale(\"log\")\n",
    "ax.set_ylim(1, 1000)\n",
    "plt.ylabel(\"Counts\")\n",
    "plt.xlabel(\"statistic\")\n",
    "n, bins, patches = plt.hist(stats, bins=1000)"
   ]
  },
  {
   "cell_type": "code",
   "execution_count": 42,
   "metadata": {},
   "outputs": [
    {
     "data": {
      "text/html": [
       "<div>\n",
       "<style scoped>\n",
       "    .dataframe tbody tr th:only-of-type {\n",
       "        vertical-align: middle;\n",
       "    }\n",
       "\n",
       "    .dataframe tbody tr th {\n",
       "        vertical-align: top;\n",
       "    }\n",
       "\n",
       "    .dataframe thead th {\n",
       "        text-align: right;\n",
       "    }\n",
       "</style>\n",
       "<table border=\"1\" class=\"dataframe\">\n",
       "  <thead>\n",
       "    <tr style=\"text-align: right;\">\n",
       "      <th></th>\n",
       "      <th>index</th>\n",
       "      <th>statistic</th>\n",
       "      <th>pvalue</th>\n",
       "      <th>block_num</th>\n",
       "      <th>freqs</th>\n",
       "    </tr>\n",
       "  </thead>\n",
       "  <tbody>\n",
       "    <tr>\n",
       "      <td>30767</td>\n",
       "      <td>141270184</td>\n",
       "      <td>6780.171333</td>\n",
       "      <td>0.0</td>\n",
       "      <td>4</td>\n",
       "      <td>1531.565197</td>\n",
       "    </tr>\n",
       "    <tr>\n",
       "      <td>31840</td>\n",
       "      <td>141576860</td>\n",
       "      <td>5776.083066</td>\n",
       "      <td>0.0</td>\n",
       "      <td>4</td>\n",
       "      <td>1530.708354</td>\n",
       "    </tr>\n",
       "    <tr>\n",
       "      <td>14024</td>\n",
       "      <td>132010200</td>\n",
       "      <td>5239.280373</td>\n",
       "      <td>0.0</td>\n",
       "      <td>4</td>\n",
       "      <td>1557.437293</td>\n",
       "    </tr>\n",
       "    <tr>\n",
       "      <td>37565</td>\n",
       "      <td>143379636</td>\n",
       "      <td>4774.391468</td>\n",
       "      <td>0.0</td>\n",
       "      <td>4</td>\n",
       "      <td>1525.671456</td>\n",
       "    </tr>\n",
       "    <tr>\n",
       "      <td>32237</td>\n",
       "      <td>141674660</td>\n",
       "      <td>4399.400166</td>\n",
       "      <td>0.0</td>\n",
       "      <td>4</td>\n",
       "      <td>1530.435104</td>\n",
       "    </tr>\n",
       "    <tr>\n",
       "      <td>46190</td>\n",
       "      <td>116014360</td>\n",
       "      <td>4089.727270</td>\n",
       "      <td>0.0</td>\n",
       "      <td>3</td>\n",
       "      <td>1602.129154</td>\n",
       "    </tr>\n",
       "    <tr>\n",
       "      <td>32846</td>\n",
       "      <td>141743660</td>\n",
       "      <td>3847.436354</td>\n",
       "      <td>0.0</td>\n",
       "      <td>4</td>\n",
       "      <td>1530.242320</td>\n",
       "    </tr>\n",
       "    <tr>\n",
       "      <td>17814</td>\n",
       "      <td>133357652</td>\n",
       "      <td>3622.405079</td>\n",
       "      <td>0.0</td>\n",
       "      <td>4</td>\n",
       "      <td>1553.672556</td>\n",
       "    </tr>\n",
       "    <tr>\n",
       "      <td>33674</td>\n",
       "      <td>141900460</td>\n",
       "      <td>3422.895829</td>\n",
       "      <td>0.0</td>\n",
       "      <td>4</td>\n",
       "      <td>1529.804226</td>\n",
       "    </tr>\n",
       "    <tr>\n",
       "      <td>43779</td>\n",
       "      <td>109734204</td>\n",
       "      <td>3247.754115</td>\n",
       "      <td>0.0</td>\n",
       "      <td>3</td>\n",
       "      <td>1619.675707</td>\n",
       "    </tr>\n",
       "    <tr>\n",
       "      <td>28341</td>\n",
       "      <td>139923508</td>\n",
       "      <td>3088.947794</td>\n",
       "      <td>0.0</td>\n",
       "      <td>4</td>\n",
       "      <td>1535.327766</td>\n",
       "    </tr>\n",
       "    <tr>\n",
       "      <td>42463</td>\n",
       "      <td>108907228</td>\n",
       "      <td>2968.014740</td>\n",
       "      <td>0.0</td>\n",
       "      <td>3</td>\n",
       "      <td>1621.986251</td>\n",
       "    </tr>\n",
       "    <tr>\n",
       "      <td>43397</td>\n",
       "      <td>109451804</td>\n",
       "      <td>2860.896456</td>\n",
       "      <td>0.0</td>\n",
       "      <td>3</td>\n",
       "      <td>1620.464724</td>\n",
       "    </tr>\n",
       "    <tr>\n",
       "      <td>10457</td>\n",
       "      <td>125651244</td>\n",
       "      <td>2743.252596</td>\n",
       "      <td>0.0</td>\n",
       "      <td>4</td>\n",
       "      <td>1575.204011</td>\n",
       "    </tr>\n",
       "    <tr>\n",
       "      <td>3632</td>\n",
       "      <td>306700</td>\n",
       "      <td>2617.203532</td>\n",
       "      <td>0.0</td>\n",
       "      <td>0</td>\n",
       "      <td>1925.412621</td>\n",
       "    </tr>\n",
       "    <tr>\n",
       "      <td>13047</td>\n",
       "      <td>131510600</td>\n",
       "      <td>2497.770224</td>\n",
       "      <td>0.0</td>\n",
       "      <td>4</td>\n",
       "      <td>1558.833160</td>\n",
       "    </tr>\n",
       "    <tr>\n",
       "      <td>39418</td>\n",
       "      <td>107730852</td>\n",
       "      <td>2384.769459</td>\n",
       "      <td>0.0</td>\n",
       "      <td>3</td>\n",
       "      <td>1625.273008</td>\n",
       "    </tr>\n",
       "    <tr>\n",
       "      <td>12440</td>\n",
       "      <td>126410320</td>\n",
       "      <td>2287.030894</td>\n",
       "      <td>0.0</td>\n",
       "      <td>4</td>\n",
       "      <td>1573.083177</td>\n",
       "    </tr>\n",
       "    <tr>\n",
       "      <td>34336</td>\n",
       "      <td>142003660</td>\n",
       "      <td>2194.160957</td>\n",
       "      <td>0.0</td>\n",
       "      <td>4</td>\n",
       "      <td>1529.515889</td>\n",
       "    </tr>\n",
       "    <tr>\n",
       "      <td>3117</td>\n",
       "      <td>221653236</td>\n",
       "      <td>2108.606868</td>\n",
       "      <td>0.0</td>\n",
       "      <td>7</td>\n",
       "      <td>1306.977544</td>\n",
       "    </tr>\n",
       "  </tbody>\n",
       "</table>\n",
       "</div>"
      ],
      "text/plain": [
       "           index    statistic  pvalue  block_num        freqs\n",
       "30767  141270184  6780.171333     0.0          4  1531.565197\n",
       "31840  141576860  5776.083066     0.0          4  1530.708354\n",
       "14024  132010200  5239.280373     0.0          4  1557.437293\n",
       "37565  143379636  4774.391468     0.0          4  1525.671456\n",
       "32237  141674660  4399.400166     0.0          4  1530.435104\n",
       "46190  116014360  4089.727270     0.0          3  1602.129154\n",
       "32846  141743660  3847.436354     0.0          4  1530.242320\n",
       "17814  133357652  3622.405079     0.0          4  1553.672556\n",
       "33674  141900460  3422.895829     0.0          4  1529.804226\n",
       "43779  109734204  3247.754115     0.0          3  1619.675707\n",
       "28341  139923508  3088.947794     0.0          4  1535.327766\n",
       "42463  108907228  2968.014740     0.0          3  1621.986251\n",
       "43397  109451804  2860.896456     0.0          3  1620.464724\n",
       "10457  125651244  2743.252596     0.0          4  1575.204011\n",
       "3632      306700  2617.203532     0.0          0  1925.412621\n",
       "13047  131510600  2497.770224     0.0          4  1558.833160\n",
       "39418  107730852  2384.769459     0.0          3  1625.273008\n",
       "12440  126410320  2287.030894     0.0          4  1573.083177\n",
       "34336  142003660  2194.160957     0.0          4  1529.515889\n",
       "3117   221653236  2108.606868     0.0          7  1306.977544"
      ]
     },
     "execution_count": 42,
     "metadata": {},
     "output_type": "execute_result"
    }
   ],
   "source": [
    "sample_size = 20\n",
    "num_rows, num_cols = df.shape\n",
    "step_size = num_rows//sample_size\n",
    "start = np.random.randint(step_size)\n",
    "sample_indexes = np.arange(start, num_rows, step_size)\n",
    "samples = df.sort_values(\"statistic\", ascending=False).iloc[sample_indexes]\n",
    "samples"
   ]
  },
  {
   "cell_type": "code",
   "execution_count": 43,
   "metadata": {
    "scrolled": false
   },
   "outputs": [
    {
     "data": {
      "application/vnd.jupyter.widget-view+json": {
       "model_id": "478c763a85c64c5dace78aa36c636611",
       "version_major": 2,
       "version_minor": 0
      },
      "text/plain": [
       "interactive(children=(IntSlider(value=5, description='index', max=19), Output()), _dom_classes=('widget-intera…"
      ]
     },
     "metadata": {},
     "output_type": "display_data"
    },
    {
     "data": {
      "text/plain": [
       "<function __main__.load_plot_samples.<locals>.plot_sample(index)>"
      ]
     },
     "execution_count": 43,
     "metadata": {},
     "output_type": "execute_result"
    }
   ],
   "source": [
    "def load_plot_samples(n):\n",
    "    rows, data_sections = [], []\n",
    "    for ind in range(n):\n",
    "        rows.append(samples.iloc[ind])\n",
    "        i, s, p, block_num, start_freq = rows[-1]\n",
    "        data_sections.append(plt.imread(f\"{filtered_dir}/{int(block_num)}/{int(i)}.png\"))\n",
    "\n",
    "    def plot_sample(index):\n",
    "        i, s, p, block_num, start_freq = rows[index]\n",
    "        i, block_num = int(i), int(block_num)\n",
    "        sub_freqs = np.arange(start_freq, start_freq+f_off*201, f_off)\n",
    "\n",
    "        plt.figure(figsize=(10, 6))\n",
    "        plt.title(f\"Sample {index}, Index {i} in Block {block_num}, s-value={s:6E}\")\n",
    "        plt.yticks(np.arange(0, 16), list(map(lambda x: \"%.2f\" % x, np.arange(0, tsamp*18, tsamp))))\n",
    "        plt.xticks(np.arange(0, 200, 49), list(map(lambda x: \"%.5f\" % x, sub_freqs[np.arange(0, 200, 49)])))\n",
    "        plt.ylabel(\"time from obs start [s]\")\n",
    "        plt.xlabel(\"frequency [MHz]\")\n",
    "        plt.imshow(data_sections[index], **plt_args)\n",
    "    return plot_sample\n",
    "    \n",
    "interact(load_plot_samples(20),index=widgets.IntSlider(min=0, max=19, step=1, value=5))"
   ]
  },
  {
   "cell_type": "code",
   "execution_count": 32,
   "metadata": {},
   "outputs": [
    {
     "data": {
      "text/plain": [
       "<matplotlib.image.AxesImage at 0x7fef03277f60>"
      ]
     },
     "execution_count": 32,
     "metadata": {},
     "output_type": "execute_result"
    },
    {
     "data": {
      "image/png": "[encoded data removed]",
      "text/plain": [
       "<Figure size 720x432 with 1 Axes>"
      ]
     },
     "metadata": {
      "needs_background": "light"
     },
     "output_type": "display_data"
    }
   ],
   "source": [
    "# for Github where interactive doesn't render\n",
    "\n",
    "i, s, p, block_num, start_freq = samples.iloc[6]\n",
    "i, block_num = int(i), int(block_num)\n",
    "data_section = plt.imread(f\"{filtered_dir}/{block_num}/{i}.png\")\n",
    "sub_freqs = np.arange(start_freq, start_freq+f_off*201, f_off)\n",
    "\n",
    "plt.figure(figsize=(10, 6))\n",
    "plt.title(f\"Index {i} in Block {block_num}, s-value={s:6E}\")\n",
    "plt.yticks(np.arange(0, 16), list(map(lambda x: \"%.2f\" % x, np.arange(0, tsamp*18, tsamp))))\n",
    "plt.xticks(np.arange(0, 200, 49), list(map(lambda x: \"%.5f\" % x, sub_freqs[np.arange(0, 200, 49)])))\n",
    "plt.ylabel(\"time from obs start [s]\")\n",
    "plt.xlabel(\"frequency [MHz]\")\n",
    "plt.imshow(data_section, **plt_args)"
   ]
  },
  {
   "cell_type": "code",
   "execution_count": null,
   "metadata": {},
   "outputs": [],
   "source": [
    "import os\n",
    "from utils import *"
   ]
  },
  {
   "cell_type": "code",
   "execution_count": null,
   "metadata": {},
   "outputs": [],
   "source": [
    "block_files = [os.path.join(filtered_dir+\"/6\", x) for x in os.listdir(filtered_dir+\"/6\")]\n",
    "\n",
    "def view(ind):\n",
    "    data = np.load(block_files[ind])\n",
    "    plot_segment(data)\n",
    "    \n",
    "interact(view, ind=widgets.IntSlider(min=0, max=len(block_files), step=1, value=29))"
   ]
  },
  {
   "cell_type": "code",
   "execution_count": null,
   "metadata": {},
   "outputs": [],
   "source": [
    "block_files2 = [os.path.join(source_dir+\"filtered/4\", x) for x in os.listdir(source_dir+\"filtered/4\")]\n",
    "\n",
    "def view2(ind):\n",
    "    data = np.load(block_files2[ind])\n",
    "    plot_segment(data)\n",
    "    \n",
    "interact(view2, ind=widgets.IntSlider(min=0, max=len(block_files2)-1, step=1, value=0))"
   ]
  },
  {
   "cell_type": "code",
   "execution_count": null,
   "metadata": {},
   "outputs": [],
   "source": []
  }
 ],
 "metadata": {
  "kernelspec": {
   "display_name": "Python 3",
   "language": "python",
   "name": "python3"
  },
  "language_info": {
   "codemirror_mode": {
    "name": "ipython",
    "version": 3
   },
   "file_extension": ".py",
   "mimetype": "text/x-python",
   "name": "python",
   "nbconvert_exporter": "python",
   "pygments_lexer": "ipython3",
   "version": "3.6.9"
  }
 },
 "nbformat": 4,
 "nbformat_minor": 2
}
