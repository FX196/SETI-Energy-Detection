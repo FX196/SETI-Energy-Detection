{
 "cells": [
  {
   "cell_type": "code",
   "execution_count": 1,
   "metadata": {},
   "outputs": [],
   "source": [
    "import pandas as pd\n",
    "import numpy as np\n",
    "from matplotlib import pyplot as plt\n",
    "\n",
    "\n",
    "f_off = -2.835503418452676e-06\n",
    "tsamp = 17.986224128\n",
    "plt_args = {\n",
    "            'aspect':'auto',\n",
    "            'origin':'lower',\n",
    "            'rasterized':True,\n",
    "            'interpolation':'nearest',\n",
    "            'cmap':'viridis'\n",
    "            }"
   ]
  },
  {
   "cell_type": "code",
   "execution_count": 2,
   "metadata": {},
   "outputs": [],
   "source": [
    "import ipywidgets as widgets\n",
    "from ipywidgets import interact, interact_manual"
   ]
  },
  {
   "cell_type": "code",
   "execution_count": 3,
   "metadata": {},
   "outputs": [
    {
     "data": {
      "text/html": [
       "<div>\n",
       "<style scoped>\n",
       "    .dataframe tbody tr th:only-of-type {\n",
       "        vertical-align: middle;\n",
       "    }\n",
       "\n",
       "    .dataframe tbody tr th {\n",
       "        vertical-align: top;\n",
       "    }\n",
       "\n",
       "    .dataframe thead th {\n",
       "        text-align: right;\n",
       "    }\n",
       "</style>\n",
       "<table border=\"1\" class=\"dataframe\">\n",
       "  <thead>\n",
       "    <tr style=\"text-align: right;\">\n",
       "      <th></th>\n",
       "      <th>statistic</th>\n",
       "      <th>pvalue</th>\n",
       "      <th>block_num</th>\n",
       "      <th>freqs</th>\n",
       "    </tr>\n",
       "    <tr>\n",
       "      <th>index</th>\n",
       "      <th></th>\n",
       "      <th></th>\n",
       "      <th></th>\n",
       "      <th></th>\n",
       "    </tr>\n",
       "  </thead>\n",
       "  <tbody>\n",
       "    <tr>\n",
       "      <td>0</td>\n",
       "      <td>1458.939302</td>\n",
       "      <td>0.000000e+00</td>\n",
       "      <td>0</td>\n",
       "      <td>1926.269531</td>\n",
       "    </tr>\n",
       "    <tr>\n",
       "      <td>100</td>\n",
       "      <td>1164.556241</td>\n",
       "      <td>1.317726e-253</td>\n",
       "      <td>0</td>\n",
       "      <td>1926.269248</td>\n",
       "    </tr>\n",
       "    <tr>\n",
       "      <td>200</td>\n",
       "      <td>1242.913410</td>\n",
       "      <td>1.272865e-270</td>\n",
       "      <td>0</td>\n",
       "      <td>1926.268964</td>\n",
       "    </tr>\n",
       "    <tr>\n",
       "      <td>300</td>\n",
       "      <td>1533.651612</td>\n",
       "      <td>0.000000e+00</td>\n",
       "      <td>0</td>\n",
       "      <td>1926.268681</td>\n",
       "    </tr>\n",
       "    <tr>\n",
       "      <td>400</td>\n",
       "      <td>1585.480041</td>\n",
       "      <td>0.000000e+00</td>\n",
       "      <td>0</td>\n",
       "      <td>1926.268397</td>\n",
       "    </tr>\n",
       "    <tr>\n",
       "      <td>...</td>\n",
       "      <td>...</td>\n",
       "      <td>...</td>\n",
       "      <td>...</td>\n",
       "      <td>...</td>\n",
       "    </tr>\n",
       "    <tr>\n",
       "      <td>318230012</td>\n",
       "      <td>24.068235</td>\n",
       "      <td>5.938123e-06</td>\n",
       "      <td>21</td>\n",
       "      <td>1023.927244</td>\n",
       "    </tr>\n",
       "    <tr>\n",
       "      <td>318230112</td>\n",
       "      <td>20.517493</td>\n",
       "      <td>3.504959e-05</td>\n",
       "      <td>21</td>\n",
       "      <td>1023.926961</td>\n",
       "    </tr>\n",
       "    <tr>\n",
       "      <td>318230212</td>\n",
       "      <td>25.032166</td>\n",
       "      <td>3.667197e-06</td>\n",
       "      <td>21</td>\n",
       "      <td>1023.926677</td>\n",
       "    </tr>\n",
       "    <tr>\n",
       "      <td>318230312</td>\n",
       "      <td>25.777356</td>\n",
       "      <td>2.526494e-06</td>\n",
       "      <td>21</td>\n",
       "      <td>1023.926394</td>\n",
       "    </tr>\n",
       "    <tr>\n",
       "      <td>318230412</td>\n",
       "      <td>11.520460</td>\n",
       "      <td>3.150387e-03</td>\n",
       "      <td>21</td>\n",
       "      <td>1023.926110</td>\n",
       "    </tr>\n",
       "  </tbody>\n",
       "</table>\n",
       "<p>3182256 rows × 4 columns</p>\n",
       "</div>"
      ],
      "text/plain": [
       "             statistic         pvalue  block_num        freqs\n",
       "index                                                        \n",
       "0          1458.939302   0.000000e+00          0  1926.269531\n",
       "100        1164.556241  1.317726e-253          0  1926.269248\n",
       "200        1242.913410  1.272865e-270          0  1926.268964\n",
       "300        1533.651612   0.000000e+00          0  1926.268681\n",
       "400        1585.480041   0.000000e+00          0  1926.268397\n",
       "...                ...            ...        ...          ...\n",
       "318230012    24.068235   5.938123e-06         21  1023.927244\n",
       "318230112    20.517493   3.504959e-05         21  1023.926961\n",
       "318230212    25.032166   3.667197e-06         21  1023.926677\n",
       "318230312    25.777356   2.526494e-06         21  1023.926394\n",
       "318230412    11.520460   3.150387e-03         21  1023.926110\n",
       "\n",
       "[3182256 rows x 4 columns]"
      ]
     },
     "execution_count": 3,
     "metadata": {},
     "output_type": "execute_result"
    }
   ],
   "source": [
    "df = pd.read_pickle(\"info_all.pkl\")\n",
    "df = df.set_index(\"index\")\n",
    "df.sort_index()"
   ]
  },
  {
   "cell_type": "code",
   "execution_count": 4,
   "metadata": {},
   "outputs": [
    {
     "data": {
      "text/html": [
       "<div>\n",
       "<style scoped>\n",
       "    .dataframe tbody tr th:only-of-type {\n",
       "        vertical-align: middle;\n",
       "    }\n",
       "\n",
       "    .dataframe tbody tr th {\n",
       "        vertical-align: top;\n",
       "    }\n",
       "\n",
       "    .dataframe thead th {\n",
       "        text-align: right;\n",
       "    }\n",
       "</style>\n",
       "<table border=\"1\" class=\"dataframe\">\n",
       "  <thead>\n",
       "    <tr style=\"text-align: right;\">\n",
       "      <th></th>\n",
       "      <th>statistic</th>\n",
       "      <th>pvalue</th>\n",
       "      <th>block_num</th>\n",
       "      <th>freqs</th>\n",
       "    </tr>\n",
       "  </thead>\n",
       "  <tbody>\n",
       "    <tr>\n",
       "      <td>count</td>\n",
       "      <td>3.182256e+06</td>\n",
       "      <td>3.182256e+06</td>\n",
       "      <td>3.182256e+06</td>\n",
       "      <td>3.182256e+06</td>\n",
       "    </tr>\n",
       "    <tr>\n",
       "      <td>mean</td>\n",
       "      <td>2.177388e+02</td>\n",
       "      <td>1.382241e-03</td>\n",
       "      <td>1.050000e+01</td>\n",
       "      <td>1.475098e+03</td>\n",
       "    </tr>\n",
       "    <tr>\n",
       "      <td>std</td>\n",
       "      <td>8.034907e+02</td>\n",
       "      <td>1.293470e-02</td>\n",
       "      <td>6.344290e+00</td>\n",
       "      <td>2.604842e+02</td>\n",
       "    </tr>\n",
       "    <tr>\n",
       "      <td>min</td>\n",
       "      <td>3.119978e-03</td>\n",
       "      <td>0.000000e+00</td>\n",
       "      <td>0.000000e+00</td>\n",
       "      <td>1.023926e+03</td>\n",
       "    </tr>\n",
       "    <tr>\n",
       "      <td>25%</td>\n",
       "      <td>1.971069e+01</td>\n",
       "      <td>5.846351e-10</td>\n",
       "      <td>5.000000e+00</td>\n",
       "      <td>1.249512e+03</td>\n",
       "    </tr>\n",
       "    <tr>\n",
       "      <td>50%</td>\n",
       "      <td>2.813181e+01</td>\n",
       "      <td>7.784932e-07</td>\n",
       "      <td>1.050000e+01</td>\n",
       "      <td>1.475098e+03</td>\n",
       "    </tr>\n",
       "    <tr>\n",
       "      <td>75%</td>\n",
       "      <td>4.252007e+01</td>\n",
       "      <td>5.246614e-05</td>\n",
       "      <td>1.600000e+01</td>\n",
       "      <td>1.700684e+03</td>\n",
       "    </tr>\n",
       "    <tr>\n",
       "      <td>max</td>\n",
       "      <td>1.049079e+04</td>\n",
       "      <td>9.984412e-01</td>\n",
       "      <td>2.100000e+01</td>\n",
       "      <td>1.926270e+03</td>\n",
       "    </tr>\n",
       "  </tbody>\n",
       "</table>\n",
       "</div>"
      ],
      "text/plain": [
       "          statistic        pvalue     block_num         freqs\n",
       "count  3.182256e+06  3.182256e+06  3.182256e+06  3.182256e+06\n",
       "mean   2.177388e+02  1.382241e-03  1.050000e+01  1.475098e+03\n",
       "std    8.034907e+02  1.293470e-02  6.344290e+00  2.604842e+02\n",
       "min    3.119978e-03  0.000000e+00  0.000000e+00  1.023926e+03\n",
       "25%    1.971069e+01  5.846351e-10  5.000000e+00  1.249512e+03\n",
       "50%    2.813181e+01  7.784932e-07  1.050000e+01  1.475098e+03\n",
       "75%    4.252007e+01  5.246614e-05  1.600000e+01  1.700684e+03\n",
       "max    1.049079e+04  9.984412e-01  2.100000e+01  1.926270e+03"
      ]
     },
     "execution_count": 4,
     "metadata": {},
     "output_type": "execute_result"
    }
   ],
   "source": [
    "df.describe()"
   ]
  },
  {
   "cell_type": "code",
   "execution_count": 5,
   "metadata": {},
   "outputs": [],
   "source": [
    "filtered_freqs = df[\"freqs\"]\n",
    "p_vals = df[\"pvalue\"]\n",
    "stats = df[\"statistic\"]"
   ]
  },
  {
   "cell_type": "code",
   "execution_count": 6,
   "metadata": {},
   "outputs": [
    {
     "data": {
      "text/plain": [
       "[<matplotlib.lines.Line2D at 0x10180e358>]"
      ]
     },
     "execution_count": 6,
     "metadata": {},
     "output_type": "execute_result"
    },
    {
     "data": {
      "image/png": "[encoded data removed]",
      "text/plain": [
       "<Figure size 432x288 with 1 Axes>"
      ]
     },
     "metadata": {
      "needs_background": "light"
     },
     "output_type": "display_data"
    }
   ],
   "source": [
    "plt.figure()\n",
    "plt.yscale(\"log\")\n",
    "plt.ylabel(\"p-value\")\n",
    "plt.xlabel(\"frequency [MHz]\")\n",
    "plt.plot(filtered_freqs, p_vals,'b,')"
   ]
  },
  {
   "cell_type": "code",
   "execution_count": 7,
   "metadata": {},
   "outputs": [],
   "source": [
    "# plt.figure()\n",
    "# plt.ylabel(\"statistic\")\n",
    "# plt.xlabel(\"frequency [MHz]\")\n",
    "# plt.plot(filtered_freqs, stats,'b,')"
   ]
  },
  {
   "cell_type": "code",
   "execution_count": 8,
   "metadata": {},
   "outputs": [
    {
     "data": {
      "image/png": "[encoded data removed]",
      "text/plain": [
       "<Figure size 432x288 with 1 Axes>"
      ]
     },
     "metadata": {
      "needs_background": "light"
     },
     "output_type": "display_data"
    }
   ],
   "source": [
    "plt.figure()\n",
    "plt.yscale(\"log\")\n",
    "n, bins, patches = plt.hist(np.log(p_vals+1e-256), bins=1000)"
   ]
  },
  {
   "cell_type": "code",
   "execution_count": 9,
   "metadata": {},
   "outputs": [],
   "source": [
    "# plt.figure()\n",
    "# plt.yscale(\"log\")\n",
    "# n, bins, patches = plt.hist(stats, bins=1000)"
   ]
  },
  {
   "cell_type": "code",
   "execution_count": 10,
   "metadata": {},
   "outputs": [
    {
     "data": {
      "text/html": [
       "<div>\n",
       "<style scoped>\n",
       "    .dataframe tbody tr th:only-of-type {\n",
       "        vertical-align: middle;\n",
       "    }\n",
       "\n",
       "    .dataframe tbody tr th {\n",
       "        vertical-align: top;\n",
       "    }\n",
       "\n",
       "    .dataframe thead th {\n",
       "        text-align: right;\n",
       "    }\n",
       "</style>\n",
       "<table border=\"1\" class=\"dataframe\">\n",
       "  <thead>\n",
       "    <tr style=\"text-align: right;\">\n",
       "      <th></th>\n",
       "      <th>index</th>\n",
       "      <th>statistic</th>\n",
       "      <th>pvalue</th>\n",
       "      <th>block_num</th>\n",
       "      <th>freqs</th>\n",
       "    </tr>\n",
       "  </thead>\n",
       "  <tbody>\n",
       "    <tr>\n",
       "      <td>0</td>\n",
       "      <td>289301080</td>\n",
       "      <td>6219.655813</td>\n",
       "      <td>0.000000e+00</td>\n",
       "      <td>20</td>\n",
       "      <td>1105.955330</td>\n",
       "    </tr>\n",
       "    <tr>\n",
       "      <td>1</td>\n",
       "      <td>289301180</td>\n",
       "      <td>6234.612421</td>\n",
       "      <td>0.000000e+00</td>\n",
       "      <td>20</td>\n",
       "      <td>1105.955046</td>\n",
       "    </tr>\n",
       "    <tr>\n",
       "      <td>2</td>\n",
       "      <td>289302380</td>\n",
       "      <td>301.247182</td>\n",
       "      <td>3.845966e-66</td>\n",
       "      <td>20</td>\n",
       "      <td>1105.951644</td>\n",
       "    </tr>\n",
       "    <tr>\n",
       "      <td>3</td>\n",
       "      <td>289302480</td>\n",
       "      <td>295.603308</td>\n",
       "      <td>6.464831e-65</td>\n",
       "      <td>20</td>\n",
       "      <td>1105.951360</td>\n",
       "    </tr>\n",
       "    <tr>\n",
       "      <td>4</td>\n",
       "      <td>289460580</td>\n",
       "      <td>1892.986158</td>\n",
       "      <td>0.000000e+00</td>\n",
       "      <td>20</td>\n",
       "      <td>1105.503067</td>\n",
       "    </tr>\n",
       "    <tr>\n",
       "      <td>...</td>\n",
       "      <td>...</td>\n",
       "      <td>...</td>\n",
       "      <td>...</td>\n",
       "      <td>...</td>\n",
       "      <td>...</td>\n",
       "    </tr>\n",
       "    <tr>\n",
       "      <td>347726</td>\n",
       "      <td>172513356</td>\n",
       "      <td>273.589265</td>\n",
       "      <td>3.898037e-60</td>\n",
       "      <td>11</td>\n",
       "      <td>1437.107321</td>\n",
       "    </tr>\n",
       "    <tr>\n",
       "      <td>347727</td>\n",
       "      <td>172641072</td>\n",
       "      <td>925.144163</td>\n",
       "      <td>1.280848e-201</td>\n",
       "      <td>11</td>\n",
       "      <td>1436.745181</td>\n",
       "    </tr>\n",
       "    <tr>\n",
       "      <td>347728</td>\n",
       "      <td>172641172</td>\n",
       "      <td>901.779106</td>\n",
       "      <td>1.517593e-196</td>\n",
       "      <td>11</td>\n",
       "      <td>1436.744898</td>\n",
       "    </tr>\n",
       "    <tr>\n",
       "      <td>347729</td>\n",
       "      <td>173063572</td>\n",
       "      <td>5932.901913</td>\n",
       "      <td>0.000000e+00</td>\n",
       "      <td>11</td>\n",
       "      <td>1435.547181</td>\n",
       "    </tr>\n",
       "    <tr>\n",
       "      <td>347730</td>\n",
       "      <td>173063672</td>\n",
       "      <td>5932.901832</td>\n",
       "      <td>0.000000e+00</td>\n",
       "      <td>11</td>\n",
       "      <td>1435.546898</td>\n",
       "    </tr>\n",
       "  </tbody>\n",
       "</table>\n",
       "<p>347731 rows × 5 columns</p>\n",
       "</div>"
      ],
      "text/plain": [
       "            index    statistic         pvalue  block_num        freqs\n",
       "0       289301080  6219.655813   0.000000e+00         20  1105.955330\n",
       "1       289301180  6234.612421   0.000000e+00         20  1105.955046\n",
       "2       289302380   301.247182   3.845966e-66         20  1105.951644\n",
       "3       289302480   295.603308   6.464831e-65         20  1105.951360\n",
       "4       289460580  1892.986158   0.000000e+00         20  1105.503067\n",
       "...           ...          ...            ...        ...          ...\n",
       "347726  172513356   273.589265   3.898037e-60         11  1437.107321\n",
       "347727  172641072   925.144163  1.280848e-201         11  1436.745181\n",
       "347728  172641172   901.779106  1.517593e-196         11  1436.744898\n",
       "347729  173063572  5932.901913   0.000000e+00         11  1435.547181\n",
       "347730  173063672  5932.901832   0.000000e+00         11  1435.546898\n",
       "\n",
       "[347731 rows x 5 columns]"
      ]
     },
     "execution_count": 10,
     "metadata": {},
     "output_type": "execute_result"
    }
   ],
   "source": [
    "source_dir = \"GBT_57532_09539_HIP56445_fine/\"\n",
    "filtered_dir = source_dir+\"filtered_s/\"\n",
    "info_df = pd.read_pickle(source_dir+\"info_df.pkl\").astype({\"index\":int, \"block_num\":int})\n",
    "info_df.set_index(\"index\")\n",
    "info_df.sort_index()"
   ]
  },
  {
   "cell_type": "code",
   "execution_count": 11,
   "metadata": {},
   "outputs": [],
   "source": [
    "filtered_freqs = info_df[\"freqs\"]\n",
    "p_vals = info_df[\"pvalue\"]\n",
    "stats = info_df[\"statistic\"]"
   ]
  },
  {
   "cell_type": "code",
   "execution_count": 12,
   "metadata": {},
   "outputs": [
    {
     "data": {
      "image/png": "[encoded data removed]",
      "text/plain": [
       "<Figure size 432x288 with 1 Axes>"
      ]
     },
     "metadata": {
      "needs_background": "light"
     },
     "output_type": "display_data"
    }
   ],
   "source": [
    "num_bins = int(1000000//(1926.269531 - 1025.390648))\n",
    "plt.figure()\n",
    "plt.title(f\"Histogram of Hits (bin size = {(1926.269531 - 1025.390648) / num_bins} MHz)\")\n",
    "plt.ylabel(\"number of hits\")\n",
    "plt.xlabel(\"frequency [MHz]\")\n",
    "n, bins, patches = plt.hist(filtered_freqs, bins=num_bins)"
   ]
  },
  {
   "cell_type": "code",
   "execution_count": 13,
   "metadata": {},
   "outputs": [
    {
     "data": {
      "text/plain": [
       "[<matplotlib.lines.Line2D at 0x132b8bb00>]"
      ]
     },
     "execution_count": 13,
     "metadata": {},
     "output_type": "execute_result"
    },
    {
     "data": {
      "image/png": "[encoded data removed]",
      "text/plain": [
       "<Figure size 432x288 with 1 Axes>"
      ]
     },
     "metadata": {
      "needs_background": "light"
     },
     "output_type": "display_data"
    }
   ],
   "source": [
    "plt.figure()\n",
    "plt.yscale(\"log\")\n",
    "plt.ylabel(\"p-value\")\n",
    "plt.xlabel(\"frequency [MHz]\")\n",
    "plt.plot(filtered_freqs, p_vals,'b,')"
   ]
  },
  {
   "cell_type": "code",
   "execution_count": 14,
   "metadata": {},
   "outputs": [
    {
     "data": {
      "image/png": "[encoded data removed]",
      "text/plain": [
       "<Figure size 432x288 with 1 Axes>"
      ]
     },
     "metadata": {
      "needs_background": "light"
     },
     "output_type": "display_data"
    }
   ],
   "source": [
    "plt.figure()\n",
    "plt.yscale(\"log\")\n",
    "n, bins, patches = plt.hist(np.log(p_vals+1e-256), bins=1000)"
   ]
  },
  {
   "cell_type": "code",
   "execution_count": 15,
   "metadata": {},
   "outputs": [],
   "source": [
    "# plt.figure()\n",
    "# plt.yscale(\"log\")\n",
    "# n, bins, patches = plt.hist(stats, bins=1000)"
   ]
  },
  {
   "cell_type": "code",
   "execution_count": 16,
   "metadata": {},
   "outputs": [
    {
     "data": {
      "text/html": [
       "<div>\n",
       "<style scoped>\n",
       "    .dataframe tbody tr th:only-of-type {\n",
       "        vertical-align: middle;\n",
       "    }\n",
       "\n",
       "    .dataframe tbody tr th {\n",
       "        vertical-align: top;\n",
       "    }\n",
       "\n",
       "    .dataframe thead th {\n",
       "        text-align: right;\n",
       "    }\n",
       "</style>\n",
       "<table border=\"1\" class=\"dataframe\">\n",
       "  <thead>\n",
       "    <tr style=\"text-align: right;\">\n",
       "      <th></th>\n",
       "      <th>index</th>\n",
       "      <th>statistic</th>\n",
       "      <th>pvalue</th>\n",
       "      <th>block_num</th>\n",
       "      <th>freqs</th>\n",
       "    </tr>\n",
       "  </thead>\n",
       "  <tbody>\n",
       "    <tr>\n",
       "      <td>163869</td>\n",
       "      <td>139630760</td>\n",
       "      <td>5151.477122</td>\n",
       "      <td>0.000000e+00</td>\n",
       "      <td>9</td>\n",
       "      <td>1530.346034</td>\n",
       "    </tr>\n",
       "    <tr>\n",
       "      <td>90925</td>\n",
       "      <td>107885864</td>\n",
       "      <td>1502.698777</td>\n",
       "      <td>0.000000e+00</td>\n",
       "      <td>7</td>\n",
       "      <td>1620.358795</td>\n",
       "    </tr>\n",
       "    <tr>\n",
       "      <td>206376</td>\n",
       "      <td>218398576</td>\n",
       "      <td>1987.645189</td>\n",
       "      <td>0.000000e+00</td>\n",
       "      <td>15</td>\n",
       "      <td>1306.999622</td>\n",
       "    </tr>\n",
       "    <tr>\n",
       "      <td>185455</td>\n",
       "      <td>123935304</td>\n",
       "      <td>2125.860382</td>\n",
       "      <td>0.000000e+00</td>\n",
       "      <td>8</td>\n",
       "      <td>1574.850553</td>\n",
       "    </tr>\n",
       "    <tr>\n",
       "      <td>193984</td>\n",
       "      <td>129271200</td>\n",
       "      <td>1664.100192</td>\n",
       "      <td>0.000000e+00</td>\n",
       "      <td>8</td>\n",
       "      <td>1559.720602</td>\n",
       "    </tr>\n",
       "    <tr>\n",
       "      <td>52247</td>\n",
       "      <td>267193028</td>\n",
       "      <td>4198.069942</td>\n",
       "      <td>0.000000e+00</td>\n",
       "      <td>18</td>\n",
       "      <td>1168.642787</td>\n",
       "    </tr>\n",
       "    <tr>\n",
       "      <td>23377</td>\n",
       "      <td>263727380</td>\n",
       "      <td>6130.998898</td>\n",
       "      <td>0.000000e+00</td>\n",
       "      <td>18</td>\n",
       "      <td>1178.469644</td>\n",
       "    </tr>\n",
       "    <tr>\n",
       "      <td>102358</td>\n",
       "      <td>109029180</td>\n",
       "      <td>1228.761217</td>\n",
       "      <td>1.506232e-267</td>\n",
       "      <td>7</td>\n",
       "      <td>1617.116919</td>\n",
       "    </tr>\n",
       "    <tr>\n",
       "      <td>247225</td>\n",
       "      <td>228186820</td>\n",
       "      <td>1035.359863</td>\n",
       "      <td>1.494384e-225</td>\n",
       "      <td>15</td>\n",
       "      <td>1279.245023</td>\n",
       "    </tr>\n",
       "    <tr>\n",
       "      <td>65043</td>\n",
       "      <td>86388928</td>\n",
       "      <td>903.924588</td>\n",
       "      <td>5.191223e-197</td>\n",
       "      <td>5</td>\n",
       "      <td>1681.313431</td>\n",
       "    </tr>\n",
       "    <tr>\n",
       "      <td>302924</td>\n",
       "      <td>242528344</td>\n",
       "      <td>756.140643</td>\n",
       "      <td>6.399494e-165</td>\n",
       "      <td>16</td>\n",
       "      <td>1238.579583</td>\n",
       "    </tr>\n",
       "    <tr>\n",
       "      <td>86426</td>\n",
       "      <td>107435148</td>\n",
       "      <td>640.204556</td>\n",
       "      <td>9.579592e-140</td>\n",
       "      <td>7</td>\n",
       "      <td>1621.636802</td>\n",
       "    </tr>\n",
       "    <tr>\n",
       "      <td>233173</td>\n",
       "      <td>223683356</td>\n",
       "      <td>563.478149</td>\n",
       "      <td>4.388081e-123</td>\n",
       "      <td>15</td>\n",
       "      <td>1292.014611</td>\n",
       "    </tr>\n",
       "    <tr>\n",
       "      <td>288302</td>\n",
       "      <td>236948164</td>\n",
       "      <td>510.258932</td>\n",
       "      <td>1.580086e-111</td>\n",
       "      <td>16</td>\n",
       "      <td>1254.402202</td>\n",
       "    </tr>\n",
       "    <tr>\n",
       "      <td>257797</td>\n",
       "      <td>229244036</td>\n",
       "      <td>465.714791</td>\n",
       "      <td>7.435634e-102</td>\n",
       "      <td>15</td>\n",
       "      <td>1276.247284</td>\n",
       "    </tr>\n",
       "    <tr>\n",
       "      <td>234548</td>\n",
       "      <td>223820856</td>\n",
       "      <td>418.550513</td>\n",
       "      <td>1.296913e-91</td>\n",
       "      <td>15</td>\n",
       "      <td>1291.624729</td>\n",
       "    </tr>\n",
       "    <tr>\n",
       "      <td>73043</td>\n",
       "      <td>106083732</td>\n",
       "      <td>358.077825</td>\n",
       "      <td>1.755449e-78</td>\n",
       "      <td>7</td>\n",
       "      <td>1625.468747</td>\n",
       "    </tr>\n",
       "    <tr>\n",
       "      <td>63723</td>\n",
       "      <td>86223628</td>\n",
       "      <td>300.421909</td>\n",
       "      <td>5.810472e-66</td>\n",
       "      <td>5</td>\n",
       "      <td>1681.782139</td>\n",
       "    </tr>\n",
       "    <tr>\n",
       "      <td>222833</td>\n",
       "      <td>220574008</td>\n",
       "      <td>245.451129</td>\n",
       "      <td>5.023016e-54</td>\n",
       "      <td>15</td>\n",
       "      <td>1300.831178</td>\n",
       "    </tr>\n",
       "    <tr>\n",
       "      <td>167776</td>\n",
       "      <td>140159960</td>\n",
       "      <td>195.268186</td>\n",
       "      <td>3.963257e-43</td>\n",
       "      <td>9</td>\n",
       "      <td>1528.845486</td>\n",
       "    </tr>\n",
       "  </tbody>\n",
       "</table>\n",
       "</div>"
      ],
      "text/plain": [
       "            index    statistic         pvalue  block_num        freqs\n",
       "163869  139630760  5151.477122   0.000000e+00          9  1530.346034\n",
       "90925   107885864  1502.698777   0.000000e+00          7  1620.358795\n",
       "206376  218398576  1987.645189   0.000000e+00         15  1306.999622\n",
       "185455  123935304  2125.860382   0.000000e+00          8  1574.850553\n",
       "193984  129271200  1664.100192   0.000000e+00          8  1559.720602\n",
       "52247   267193028  4198.069942   0.000000e+00         18  1168.642787\n",
       "23377   263727380  6130.998898   0.000000e+00         18  1178.469644\n",
       "102358  109029180  1228.761217  1.506232e-267          7  1617.116919\n",
       "247225  228186820  1035.359863  1.494384e-225         15  1279.245023\n",
       "65043    86388928   903.924588  5.191223e-197          5  1681.313431\n",
       "302924  242528344   756.140643  6.399494e-165         16  1238.579583\n",
       "86426   107435148   640.204556  9.579592e-140          7  1621.636802\n",
       "233173  223683356   563.478149  4.388081e-123         15  1292.014611\n",
       "288302  236948164   510.258932  1.580086e-111         16  1254.402202\n",
       "257797  229244036   465.714791  7.435634e-102         15  1276.247284\n",
       "234548  223820856   418.550513   1.296913e-91         15  1291.624729\n",
       "73043   106083732   358.077825   1.755449e-78          7  1625.468747\n",
       "63723    86223628   300.421909   5.810472e-66          5  1681.782139\n",
       "222833  220574008   245.451129   5.023016e-54         15  1300.831178\n",
       "167776  140159960   195.268186   3.963257e-43          9  1528.845486"
      ]
     },
     "execution_count": 16,
     "metadata": {},
     "output_type": "execute_result"
    }
   ],
   "source": [
    "sample_size = 20\n",
    "num_rows, num_cols = info_df.shape\n",
    "step_size = num_rows//sample_size\n",
    "start = np.random.randint(step_size)\n",
    "sample_indexes = np.arange(start, num_rows, step_size)\n",
    "samples = info_df.sort_values(\"pvalue\").iloc[sample_indexes]\n",
    "samples"
   ]
  },
  {
   "cell_type": "code",
   "execution_count": 17,
   "metadata": {
    "scrolled": false
   },
   "outputs": [
    {
     "data": {
      "application/vnd.jupyter.widget-view+json": {
       "model_id": "cab3babf7d3746779261a9bb9070cf9e",
       "version_major": 2,
       "version_minor": 0
      },
      "text/plain": [
       "interactive(children=(IntSlider(value=5, description='index', max=9), Output()), _dom_classes=('widget-interac…"
      ]
     },
     "metadata": {},
     "output_type": "display_data"
    },
    {
     "data": {
      "text/plain": [
       "<function __main__.load_plot_samples.<locals>.plot_sample(index)>"
      ]
     },
     "execution_count": 17,
     "metadata": {},
     "output_type": "execute_result"
    }
   ],
   "source": [
    "def load_plot_samples(n):\n",
    "    rows, data_sections = [], []\n",
    "    for ind in range(n):\n",
    "        rows.append(samples.iloc[ind])\n",
    "        i, s, p, block_num, start_freq = rows[-1]\n",
    "        data_sections.append(np.load(f\"{filtered_dir}{int(block_num)}/{int(i)}.npy\"))\n",
    "\n",
    "    def plot_sample(index):\n",
    "        i, s, p, block_num, start_freq = rows[index]\n",
    "        i, block_num = int(i), int(block_num)\n",
    "        sub_freqs = np.arange(start_freq, start_freq+f_off*201, f_off)\n",
    "\n",
    "        plt.figure(figsize=(10, 6))\n",
    "        plt.title(f\"Sample {index}, Index {i} in Block {block_num}, p-value={p:6E}\")\n",
    "        plt.yticks(np.arange(0, 16), list(map(lambda x: \"%.2f\" % x, np.arange(0, tsamp*18, tsamp))))\n",
    "        plt.xticks(np.arange(0, 200, 49), list(map(lambda x: \"%.5f\" % x, sub_freqs[np.arange(0, 200, 49)])))\n",
    "        plt.ylabel(\"time from obs start [s]\")\n",
    "        plt.xlabel(\"frequency [MHz]\")\n",
    "        plt.imshow(data_sections[index], **plt_args)\n",
    "    return plot_sample\n",
    "    \n",
    "interact(load_plot_samples(20),index=widgets.IntSlider(min=0, max=9, step=1, value=5))"
   ]
  },
  {
   "cell_type": "code",
   "execution_count": 18,
   "metadata": {},
   "outputs": [
    {
     "data": {
      "application/vnd.jupyter.widget-view+json": {
       "model_id": "fc6584ccbb7045428c8772d32604305a",
       "version_major": 2,
       "version_minor": 0
      },
      "text/plain": [
       "interactive(children=(IntSlider(value=5, description='index', max=9), Button(description='Run Interact', style…"
      ]
     },
     "metadata": {},
     "output_type": "display_data"
    },
    {
     "data": {
      "text/plain": [
       "<function __main__.load_hist_samples.<locals>.plot_sample(index)>"
      ]
     },
     "execution_count": 18,
     "metadata": {},
     "output_type": "execute_result"
    }
   ],
   "source": [
    "def load_hist_samples(n):\n",
    "    rows, data_sections = [], []\n",
    "    for ind in range(n):\n",
    "        rows.append(samples.iloc[ind])\n",
    "        i, s, p, block_num, start_freq = rows[-1]\n",
    "        data_sections.append(np.load(f\"{filtered_dir}{int(block_num)}/{int(i)}.npy\"))\n",
    "    \n",
    "    def plot_sample(index):\n",
    "        i, s, p, block_num, start_freq = rows[index]\n",
    "        i, block_num = int(i), int(block_num)\n",
    "        sub_freqs = np.arange(start_freq, start_freq+f_off*201, f_off)\n",
    "\n",
    "        plt.figure(figsize=(10, 6))\n",
    "        plt.title(f\"Sample {index}, Index {i} in Block {block_num}, p-value={p:6E}\")\n",
    "        plt.ylabel(\"Counts\")\n",
    "        plt.xlabel(\"Normalized Power\")\n",
    "        plt.hist(data_sections[index], bins=16)\n",
    "    return plot_sample\n",
    "interact_manual(load_hist_samples(20),index=widgets.IntSlider(min=0, max=9, step=1, value=5))"
   ]
  },
  {
   "cell_type": "code",
   "execution_count": 19,
   "metadata": {},
   "outputs": [
    {
     "data": {
      "text/plain": [
       "<matplotlib.image.AxesImage at 0x1254104a8>"
      ]
     },
     "execution_count": 19,
     "metadata": {},
     "output_type": "execute_result"
    },
    {
     "data": {
      "image/png": "[encoded data removed]",
      "text/plain": [
       "<Figure size 720x432 with 1 Axes>"
      ]
     },
     "metadata": {
      "needs_background": "light"
     },
     "output_type": "display_data"
    }
   ],
   "source": [
    "# for Github where interactive doesn't render\n",
    "\n",
    "i, s, p, block_num, start_freq = samples.iloc[6]\n",
    "i, block_num = int(i), int(block_num)\n",
    "data_section = np.load(f\"{filtered_dir}{int(block_num)}/{int(i)}.npy\")\n",
    "sub_freqs = np.arange(start_freq, start_freq+f_off*201, f_off)\n",
    "\n",
    "plt.figure(figsize=(10, 6))\n",
    "plt.title(f\"Index {i} in Block {block_num}, p-value={p:6E}\")\n",
    "plt.yticks(np.arange(0, 16), list(map(lambda x: \"%.2f\" % x, np.arange(0, tsamp*18, tsamp))))\n",
    "plt.xticks(np.arange(0, 200, 49), list(map(lambda x: \"%.5f\" % x, sub_freqs[np.arange(0, 200, 49)])))\n",
    "plt.ylabel(\"time from obs start [s]\")\n",
    "plt.xlabel(\"frequency [MHz]\")\n",
    "plt.imshow(data_section, **plt_args)"
   ]
  },
  {
   "cell_type": "code",
   "execution_count": 20,
   "metadata": {},
   "outputs": [
    {
     "data": {
      "image/png": "[encoded data removed]",
      "text/plain": [
       "<Figure size 720x432 with 1 Axes>"
      ]
     },
     "metadata": {
      "needs_background": "light"
     },
     "output_type": "display_data"
    }
   ],
   "source": [
    "# for Github where interactive doesn't render\n",
    "i, s, p, block_num, start_freq = samples.iloc[6]\n",
    "i, block_num = int(i), int(block_num)\n",
    "sub_freqs = np.arange(start_freq, start_freq+f_off*201, f_off)\n",
    "\n",
    "plt.figure(figsize=(10, 6))\n",
    "plt.title(f\"Index {i} in Block {block_num}, p-value={p:6E}\")\n",
    "plt.ylabel(\"Counts\")\n",
    "plt.xlabel(\"Normalized Power\")\n",
    "hist = plt.hist(data_section, bins=16)"
   ]
  },
  {
   "cell_type": "code",
   "execution_count": 28,
   "metadata": {},
   "outputs": [],
   "source": [
    "import os\n",
    "from utils import *"
   ]
  },
  {
   "cell_type": "code",
   "execution_count": 29,
   "metadata": {},
   "outputs": [
    {
     "data": {
      "application/vnd.jupyter.widget-view+json": {
       "model_id": "4ed396fec3b841c490061ab984098601",
       "version_major": 2,
       "version_minor": 0
      },
      "text/plain": [
       "interactive(children=(IntSlider(value=29, description='ind', max=534), Output()), _dom_classes=('widget-intera…"
      ]
     },
     "metadata": {},
     "output_type": "display_data"
    },
    {
     "data": {
      "text/plain": [
       "<function __main__.view(ind)>"
      ]
     },
     "execution_count": 29,
     "metadata": {},
     "output_type": "execute_result"
    }
   ],
   "source": [
    "block_files = [os.path.join(filtered_dir+\"/6\", x) for x in os.listdir(filtered_dir+\"/6\")]\n",
    "\n",
    "def view(ind):\n",
    "    data = np.load(block_files[ind])\n",
    "    plot_segment(data)\n",
    "    \n",
    "interact(view, ind=widgets.IntSlider(min=0, max=len(block_files), step=1, value=29))"
   ]
  },
  {
   "cell_type": "code",
   "execution_count": 35,
   "metadata": {},
   "outputs": [
    {
     "data": {
      "application/vnd.jupyter.widget-view+json": {
       "model_id": "3eba3567499a46d298dcedf04aff015b",
       "version_major": 2,
       "version_minor": 0
      },
      "text/plain": [
       "interactive(children=(IntSlider(value=0, description='ind', max=15), Output()), _dom_classes=('widget-interact…"
      ]
     },
     "metadata": {},
     "output_type": "display_data"
    },
    {
     "data": {
      "text/plain": [
       "<function __main__.view2(ind)>"
      ]
     },
     "execution_count": 35,
     "metadata": {},
     "output_type": "execute_result"
    }
   ],
   "source": [
    "block_files2 = [os.path.join(source_dir+\"filtered/4\", x) for x in os.listdir(source_dir+\"filtered/4\")]\n",
    "\n",
    "def view2(ind):\n",
    "    data = np.load(block_files2[ind])\n",
    "    plot_segment(data)\n",
    "    \n",
    "interact(view2, ind=widgets.IntSlider(min=0, max=len(block_files2)-1, step=1, value=0))"
   ]
  },
  {
   "cell_type": "code",
   "execution_count": null,
   "metadata": {},
   "outputs": [],
   "source": []
  }
 ],
 "metadata": {
  "kernelspec": {
   "display_name": "BSRC_Env",
   "language": "python",
   "name": "bsrc_env"
  },
  "language_info": {
   "codemirror_mode": {
    "name": "ipython",
    "version": 3
   },
   "file_extension": ".py",
   "mimetype": "text/x-python",
   "name": "python",
   "nbconvert_exporter": "python",
   "pygments_lexer": "ipython3",
   "version": "3.6.5"
  }
 },
 "nbformat": 4,
 "nbformat_minor": 2
}
