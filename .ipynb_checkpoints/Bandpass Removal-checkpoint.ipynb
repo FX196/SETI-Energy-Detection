{
 "cells": [
  {
   "cell_type": "code",
   "execution_count": 1,
   "metadata": {},
   "outputs": [],
   "source": [
    "%matplotlib inline\n",
    "import numpy as np\n",
    "from scipy import stats, interpolate\n",
    "from blimpy import Waterfall\n",
    "from matplotlib import pyplot as plt\n",
    "from bisect import bisect_left\n",
    "from tqdm import tqdm\n",
    "import dask.array as da\n",
    "import h5py as h5\n",
    "\n",
    "from utils import *\n",
    "\n",
    "fil_path = \"data/filterbanks/\"\n",
    "h5_path = \"data/h5/\"\n",
    "\n",
    "test_fil = fil_path + \"blc20_guppi_57991_48899_3C161_0007.gpuspec.0000.fil\"\n",
    "\n",
    "fri_obs = h5_path + \"GBT_57532_09539_HIP56445_fine.h5\""
   ]
  },
  {
   "cell_type": "code",
   "execution_count": 5,
   "metadata": {},
   "outputs": [
    {
     "name": "stdout",
     "output_type": "stream",
     "text": [
      "blimpy.file_wrapper INFO     Skipping loading data ...\n",
      "\n",
      "--- File Info ---\n",
      "b'DIMENSION_LABELS' : [b'frequency' b'feed_id' b'time']\n",
      "     b'az_start' :                              0.0\n",
      "    b'data_type' :                                1\n",
      "         b'fch1' :                    1926.26953125\n",
      "         b'foff' :           -2.835503418452676e-06\n",
      "   b'machine_id' :                               20\n",
      "        b'nbits' :                               32\n",
      "       b'nchans' :                        318230528\n",
      "         b'nifs' :                                1\n",
      "  b'source_name' :                      b'HIP56445'\n",
      "      b'src_dej' :                     3d03m34.006s\n",
      "      b'src_raj' :                    11h34m21.699s\n",
      " b'telescope_id' :                                6\n",
      "        b'tsamp' :                     17.986224128\n",
      "       b'tstart' :                57532.11040509259\n",
      "     b'za_start' :                              0.0\n",
      "\n",
      "Num ints in file :                               16\n",
      "      File shape :               (16, 1, 318230528)\n",
      "--- Selection Info ---\n",
      "Data selection shape :               (16, 1, 318230528)\n",
      "Minimum freq (MHz) :               1023.9257812499999\n",
      "Maximum freq (MHz) :                    1926.26953125\n"
     ]
    },
    {
     "name": "stderr",
     "output_type": "stream",
     "text": [
      "/Users/yuhongc/PycharmProjects/BSRC_Env/lib/python3.6/site-packages/blimpy/file_wrapper.py:326: H5pyDeprecationWarning: The default file mode will change to 'r' (read-only) in h5py 3.0. To suppress this warning, pass the mode you need to h5py.File(), or set the global default h5.get_config().default_file_mode, or set the environment variable H5PY_DEFAULT_READONLY=1. Available modes are: 'r', 'r+', 'w', 'w-'/'x', 'a'. See the docs for details.\n",
      "  self.h5 = h5py.File(self.filename)\n"
     ]
    }
   ],
   "source": [
    "# Show Info\n",
    "wf = Waterfall(fri_obs, load_data=False)\n",
    "wf.info()"
   ]
  },
  {
   "cell_type": "code",
   "execution_count": null,
   "metadata": {},
   "outputs": [],
   "source": [
    "wf = Waterfall(fri_obs, f_stop=1070)\n",
    "wf.info()"
   ]
  },
  {
   "cell_type": "code",
   "execution_count": 6,
   "metadata": {},
   "outputs": [
    {
     "data": {
      "text/plain": [
       "1033216"
      ]
     },
     "execution_count": 6,
     "metadata": {},
     "output_type": "execute_result"
    }
   ],
   "source": [
    "coarse_channel_width = np.int(np.round(187.5/64/abs(wf.header[b'foff'])))\n",
    "coarse_channel_width"
   ]
  },
  {
   "cell_type": "code",
   "execution_count": null,
   "metadata": {},
   "outputs": [],
   "source": [
    "freqs, data = wf.grab_data(f_start=0, f_stop=1070)\n",
    "print(data.shape)\n",
    "freqs = freqs[::-1]\n",
    "data = data[:,::-1]"
   ]
  },
  {
   "cell_type": "code",
   "execution_count": null,
   "metadata": {},
   "outputs": [],
   "source": [
    "data = data[:, :15 * coarse_channel_width]\n",
    "freqs = freqs[:15 * coarse_channel_width]\n",
    "\n",
    "integrated = np.sum(data, axis=0)/len(data)\n",
    "for n in np.nonzero(integrated > 10**13):\n",
    "    integrated[n] = (integrated[n-1] + integrated[n+1]) /2\n",
    "plt.figure()\n",
    "plt.plot(freqs[:15*1033216], np.log(integrated))"
   ]
  },
  {
   "cell_type": "code",
   "execution_count": null,
   "metadata": {},
   "outputs": [],
   "source": [
    "channels = np.reshape(integrated, (-1, coarse_channel_width))"
   ]
  },
  {
   "cell_type": "code",
   "execution_count": null,
   "metadata": {},
   "outputs": [],
   "source": [
    "# plot spectrum and selected channel (logged)\n",
    "\n",
    "channel_ind = 4\n",
    "chan_freqs = freqs[coarse_channel_width * channel_ind: coarse_channel_width * (channel_ind+1)]\n",
    "plt.figure()\n",
    "plt.plot(freqs[:15*coarse_channel_width], np.log(integrated))\n",
    "\n",
    "\n",
    "plt.plot(chan_freqs, np.log(channels[channel_ind]))"
   ]
  },
  {
   "cell_type": "code",
   "execution_count": null,
   "metadata": {},
   "outputs": [],
   "source": [
    "plt.figure()\n",
    "plt.plot(chan_freqs, channels[channel_ind])"
   ]
  },
  {
   "cell_type": "code",
   "execution_count": 2,
   "metadata": {},
   "outputs": [
    {
     "name": "stdout",
     "output_type": "stream",
     "text": [
      "Downsampling by a factor of (1, 3531)\n"
     ]
    },
    {
     "data": {
      "image/png": "[encoded data removed]",
      "text/plain": [
       "<Figure size 720x432 with 1 Axes>"
      ]
     },
     "metadata": {
      "needs_background": "light"
     },
     "output_type": "display_data"
    }
   ],
   "source": [
    "orig_block1 = np.load(\"original_a/0.npy\")\n",
    "orig_block1 = orig_block1[:,0,:]\n",
    "plot_segment(orig_block1)"
   ]
  },
  {
   "cell_type": "code",
   "execution_count": 3,
   "metadata": {},
   "outputs": [
    {
     "name": "stdout",
     "output_type": "stream",
     "text": [
      "Downsampling by a factor of (1, 3531)\n",
      "(16, 14465024)\n"
     ]
    },
    {
     "data": {
      "image/png": "[encoded data removed]",
      "text/plain": [
       "<Figure size 720x432 with 1 Axes>"
      ]
     },
     "metadata": {
      "needs_background": "light"
     },
     "output_type": "display_data"
    }
   ],
   "source": [
    "block1 = np.load(\"normalized_a/0.npy\")\n",
    "block2 = np.load(\"normalized_a/1.npy\")\n",
    "\n",
    "block1 = block1[:, 0, :]\n",
    "block2 = block2[:, 0, :]\n",
    "\n",
    "plot_segment(block1)\n",
    "print(block1.shape)"
   ]
  },
  {
   "cell_type": "code",
   "execution_count": 7,
   "metadata": {},
   "outputs": [
    {
     "data": {
      "text/plain": [
       "(14, 1033216)"
      ]
     },
     "execution_count": 7,
     "metadata": {},
     "output_type": "execute_result"
    }
   ],
   "source": [
    "integrated = np.mean(block1, axis=0)\n",
    "for n in np.nonzero(integrated > 800):\n",
    "    integrated[n] = (integrated[n-1] + integrated[n+1]) /2\n",
    "channels = np.reshape(integrated, (-1, coarse_channel_width))\n",
    "channels.shape"
   ]
  },
  {
   "cell_type": "code",
   "execution_count": 8,
   "metadata": {},
   "outputs": [
    {
     "data": {
      "text/plain": [
       "[<matplotlib.lines.Line2D at 0x1d0912d30>]"
      ]
     },
     "execution_count": 8,
     "metadata": {},
     "output_type": "execute_result"
    },
    {
     "data": {
      "image/png": "[encoded data removed]",
      "text/plain": [
       "<Figure size 432x288 with 1 Axes>"
      ]
     },
     "metadata": {
      "needs_background": "light"
     },
     "output_type": "display_data"
    }
   ],
   "source": [
    "order = 16\n",
    "channel_ind = 7\n",
    "x = np.arange(coarse_channel_width)\n",
    "knots = np.arange(0, coarse_channel_width, coarse_channel_width//order+1)\n",
    "spl = interpolate.splrep(x, channels[channel_ind], t=knots[1:])\n",
    "chan_fit = interpolate.splev(x, spl)\n",
    "\n",
    "plt.figure()\n",
    "plt.plot(x, channels[channel_ind])\n",
    "plt.plot(x, chan_fit)"
   ]
  },
  {
   "cell_type": "code",
   "execution_count": 9,
   "metadata": {},
   "outputs": [
    {
     "data": {
      "text/plain": [
       "[<matplotlib.lines.Line2D at 0x12a793710>]"
      ]
     },
     "execution_count": 9,
     "metadata": {},
     "output_type": "execute_result"
    },
    {
     "data": {
      "image/png": "[encoded data removed]",
      "text/plain": [
       "<Figure size 432x288 with 1 Axes>"
      ]
     },
     "metadata": {
      "needs_background": "light"
     },
     "output_type": "display_data"
    }
   ],
   "source": [
    "residuals = channels[channel_ind] - chan_fit\n",
    "plt.figure()\n",
    "plt.plot(x, residuals)"
   ]
  },
  {
   "cell_type": "code",
   "execution_count": null,
   "metadata": {
    "scrolled": false
   },
   "outputs": [],
   "source": [
    "norm_chan0 = block1[:, :coarse_channel_width] - chan_fit\n",
    "\n",
    "norm_chan0[norm_chan0 > 800] = 0\n",
    "    \n",
    "plot_segment(norm_chan0)"
   ]
  },
  {
   "cell_type": "code",
   "execution_count": 10,
   "metadata": {},
   "outputs": [],
   "source": [
    "def fit_channel_bandpass(channel, integrated_channel, channel_width=1033216, spl_order=16):\n",
    "    x = np.arange(channel_width)\n",
    "    knots = np.arange(0, channel_width, channel_width//spl_order+1)\n",
    "    spl = interpolate.splrep(x, integrated_channel, t=knots[1:])\n",
    "    chan_fit = interpolate.splev(x, spl)\n",
    "    return chan_fit\n",
    "\n",
    "def remove_channel_bandpass(channel, integrated_channel, channel_width=1033216, spl_order=16):\n",
    "    fit = fit_channel_bandpass(channel, integrated_channel, channel_width, spl_order)\n",
    "    return channel - fit"
   ]
  },
  {
   "cell_type": "code",
   "execution_count": 11,
   "metadata": {},
   "outputs": [],
   "source": [
    "fit_1 = fit_channel_bandpass(block1[:, :coarse_channel_width], channels[0])"
   ]
  },
  {
   "cell_type": "code",
   "execution_count": null,
   "metadata": {},
   "outputs": [],
   "source": [
    "np.allclose(norm_chan0, block1[:, :coarse_channel_width]-chan_fit)"
   ]
  },
  {
   "cell_type": "code",
   "execution_count": null,
   "metadata": {},
   "outputs": [],
   "source": [
    "np.allclose(norm_chan0, remove_channel_bandpass(block1[:, :coarse_channel_width], channels[0]))"
   ]
  },
  {
   "cell_type": "code",
   "execution_count": 12,
   "metadata": {},
   "outputs": [
    {
     "data": {
      "text/plain": [
       "array([[-0.00036884,  0.00336739, -0.00546233, ...,  0.00022865,\n",
       "        -0.00085654, -0.0014355 ],\n",
       "       [ 0.00284691,  0.00094108,  0.0043758 , ..., -0.00036583,\n",
       "        -0.00020003,  0.00503456],\n",
       "       [-0.00273922, -0.00130346, -0.00122936, ..., -0.00352414,\n",
       "        -0.00675963,  0.00060002],\n",
       "       ...,\n",
       "       [-0.00097871, -0.00216585, -0.00231836, ...,  0.00053974,\n",
       "         0.00341157,  0.00329464],\n",
       "       [-0.00129991, -0.00084771,  0.00093902, ..., -0.00675892,\n",
       "        -0.00471514, -0.00172941],\n",
       "       [-0.0066722 , -0.00050588,  0.00093991, ..., -0.00456432,\n",
       "        -0.00165694,  0.00541405]])"
      ]
     },
     "execution_count": 12,
     "metadata": {},
     "output_type": "execute_result"
    }
   ],
   "source": [
    "remove_channel_bandpass(block1[:, coarse_channel_width*(channel_ind):coarse_channel_width*(channel_ind+1)],\n",
    "                       channels[channel_ind])"
   ]
  },
  {
   "cell_type": "code",
   "execution_count": 14,
   "metadata": {},
   "outputs": [],
   "source": [
    "def clean(channel_ind):\n",
    "        return remove_channel_bandpass(block1[:, coarse_channel_width*(channel_ind):coarse_channel_width*(channel_ind+1)],\n",
    "                       channels[channel_ind], coarse_channel_width)\n",
    "\n",
    "def normalize_block():\n",
    "    from multiprocessing import Pool\n",
    "    with Pool(12) as p:\n",
    "        cleaned = p.map(clean, range(14))\n",
    "    return cleaned"
   ]
  },
  {
   "cell_type": "code",
   "execution_count": 15,
   "metadata": {},
   "outputs": [],
   "source": [
    "normalized = normalize_block()"
   ]
  },
  {
   "cell_type": "code",
   "execution_count": 16,
   "metadata": {},
   "outputs": [
    {
     "ename": "AttributeError",
     "evalue": "'list' object has no attribute 'shape'",
     "output_type": "error",
     "traceback": [
      "\u001b[0;31m---------------------------------------------------------------------------\u001b[0m",
      "\u001b[0;31mAttributeError\u001b[0m                            Traceback (most recent call last)",
      "\u001b[0;32m<ipython-input-16-c02e55229512>\u001b[0m in \u001b[0;36m<module>\u001b[0;34m\u001b[0m\n\u001b[0;32m----> 1\u001b[0;31m \u001b[0mplot_segment\u001b[0m\u001b[0;34m(\u001b[0m\u001b[0mnormalized\u001b[0m\u001b[0;34m)\u001b[0m\u001b[0;34m\u001b[0m\u001b[0m\n\u001b[0m",
      "\u001b[0;32m~/BSRC/seti-ml/utils.py\u001b[0m in \u001b[0;36mplot_segment\u001b[0;34m(plot_data)\u001b[0m\n\u001b[1;32m     29\u001b[0m \u001b[0;32mdef\u001b[0m \u001b[0mplot_segment\u001b[0m\u001b[0;34m(\u001b[0m\u001b[0mplot_data\u001b[0m\u001b[0;34m)\u001b[0m\u001b[0;34m:\u001b[0m\u001b[0;34m\u001b[0m\u001b[0m\n\u001b[1;32m     30\u001b[0m     \u001b[0mdec_fac_x\u001b[0m\u001b[0;34m,\u001b[0m \u001b[0mdec_fac_y\u001b[0m \u001b[0;34m=\u001b[0m \u001b[0;36m1\u001b[0m\u001b[0;34m,\u001b[0m \u001b[0;36m1\u001b[0m\u001b[0;34m\u001b[0m\u001b[0m\n\u001b[0;32m---> 31\u001b[0;31m     \u001b[0;32mif\u001b[0m \u001b[0mplot_data\u001b[0m\u001b[0;34m.\u001b[0m\u001b[0mshape\u001b[0m\u001b[0;34m[\u001b[0m\u001b[0;36m0\u001b[0m\u001b[0;34m]\u001b[0m \u001b[0;34m>\u001b[0m \u001b[0mMAX_IMSHOW_POINTS\u001b[0m\u001b[0;34m[\u001b[0m\u001b[0;36m0\u001b[0m\u001b[0;34m]\u001b[0m\u001b[0;34m:\u001b[0m\u001b[0;34m\u001b[0m\u001b[0m\n\u001b[0m\u001b[1;32m     32\u001b[0m         \u001b[0mdec_fac_x\u001b[0m \u001b[0;34m=\u001b[0m \u001b[0mint\u001b[0m\u001b[0;34m(\u001b[0m\u001b[0mplot_data\u001b[0m\u001b[0;34m.\u001b[0m\u001b[0mshape\u001b[0m\u001b[0;34m[\u001b[0m\u001b[0;36m0\u001b[0m\u001b[0;34m]\u001b[0m \u001b[0;34m/\u001b[0m \u001b[0mMAX_IMSHOW_POINTS\u001b[0m\u001b[0;34m[\u001b[0m\u001b[0;36m0\u001b[0m\u001b[0;34m]\u001b[0m\u001b[0;34m)\u001b[0m\u001b[0;34m\u001b[0m\u001b[0m\n\u001b[1;32m     33\u001b[0m \u001b[0;34m\u001b[0m\u001b[0m\n",
      "\u001b[0;31mAttributeError\u001b[0m: 'list' object has no attribute 'shape'"
     ]
    }
   ],
   "source": [
    "plot_segment(normalized)"
   ]
  },
  {
   "cell_type": "code",
   "execution_count": 17,
   "metadata": {},
   "outputs": [
    {
     "data": {
      "text/plain": [
       "True"
      ]
     },
     "execution_count": 17,
     "metadata": {},
     "output_type": "execute_result"
    }
   ],
   "source": [
    "np.concatenate(normalized, axis=1).shape == block1.shape"
   ]
  },
  {
   "cell_type": "code",
   "execution_count": 19,
   "metadata": {},
   "outputs": [],
   "source": [
    "blocks = [block1]"
   ]
  },
  {
   "cell_type": "code",
   "execution_count": 20,
   "metadata": {},
   "outputs": [],
   "source": [
    "for block in blocks:\n",
    "    def clean(channel_ind):\n",
    "        return remove_channel_bandpass(block1[:, coarse_channel_width*(channel_ind):coarse_channel_width*(channel_ind+1)],\n",
    "                       channels[channel_ind], coarse_channel_width)\n",
    "\n",
    "    def normalize_block():\n",
    "        from multiprocessing import Pool\n",
    "        with Pool(12) as p:\n",
    "            cleaned = p.map(clean, range(14))\n",
    "        return cleaned\n",
    "    normalized = normalize_block()\n",
    "    normalized = np.concatenate(normalized, axis=1)"
   ]
  },
  {
   "cell_type": "code",
   "execution_count": 23,
   "metadata": {},
   "outputs": [
    {
     "name": "stdout",
     "output_type": "stream",
     "text": [
      "Downsampling by a factor of (1, 431)\n"
     ]
    },
    {
     "data": {
      "image/png": "[encoded data removed]",
      "text/plain": [
       "<Figure size 720x432 with 1 Axes>"
      ]
     },
     "metadata": {
      "needs_background": "light"
     },
     "output_type": "display_data"
    }
   ],
   "source": [
    "plot_data = normalized[:, 1500*3531:2000*3531]\n",
    "plot_segment(plot_data)"
   ]
  },
  {
   "cell_type": "code",
   "execution_count": 24,
   "metadata": {},
   "outputs": [
    {
     "name": "stdout",
     "output_type": "stream",
     "text": [
      "Downsampling by a factor of (1, 431)\n"
     ]
    },
    {
     "data": {
      "image/png": "[encoded data removed]",
      "text/plain": [
       "<Figure size 720x432 with 1 Axes>"
      ]
     },
     "metadata": {
      "needs_background": "light"
     },
     "output_type": "display_data"
    }
   ],
   "source": [
    "plot_data = block1[:, 1500*3531:2000*3531]\n",
    "plot_segment(plot_data)"
   ]
  },
  {
   "cell_type": "code",
   "execution_count": null,
   "metadata": {},
   "outputs": [],
   "source": [
    "import os\n",
    "source_dir = \"normalized_a/\"\n",
    "blocks = os.listdir(source_dir)\n",
    "blocks"
   ]
  },
  {
   "cell_type": "code",
   "execution_count": null,
   "metadata": {},
   "outputs": [],
   "source": [
    "for block in blocks:\n",
    "    print(\"loading %s from %s\" % (block, source_dir))\n",
    "    block_data = np.load(source_dir+block)\n",
    "    "
   ]
  },
  {
   "cell_type": "code",
   "execution_count": null,
   "metadata": {},
   "outputs": [],
   "source": []
  }
 ],
 "metadata": {
  "kernelspec": {
   "display_name": "BSRC_Env",
   "language": "python",
   "name": "bsrc_env"
  },
  "language_info": {
   "codemirror_mode": {
    "name": "ipython",
    "version": 3
   },
   "file_extension": ".py",
   "mimetype": "text/x-python",
   "name": "python",
   "nbconvert_exporter": "python",
   "pygments_lexer": "ipython3",
   "version": "3.6.5"
  }
 },
 "nbformat": 4,
 "nbformat_minor": 2
}
